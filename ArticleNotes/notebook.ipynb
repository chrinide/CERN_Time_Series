{
 "metadata": {
  "name": "",
  "signature": "sha256:299222e02ec1ac2cf83c67d9c127a14202497cdc4b0f178e6fd0e307f84eb9c3"
 },
 "nbformat": 3,
 "nbformat_minor": 0,
 "worksheets": [
  {
   "cells": [
    {
     "cell_type": "markdown",
     "metadata": {},
     "source": [
      "N1. http://storageconference.us/2014/Presentations/Wan.pdf\n",
      "\n",
      "###SSD Optimized Workload Placement with Adaptive Learning and Classification in HPC Environments"
     ]
    },
    {
     "cell_type": "markdown",
     "metadata": {},
     "source": [
      "1.1 Terms for Search: Data placement algorithms; Heterogeneous storage system design."
     ]
    },
    {
     "cell_type": "markdown",
     "metadata": {},
     "source": [
      "1.2 Markov chain based prediction. (Inspired by existing work on network traffic prediction)"
     ]
    },
    {
     "cell_type": "markdown",
     "metadata": {},
     "source": [
      "1.3 Evaluation is based on LASR traces"
     ]
    },
    {
     "cell_type": "markdown",
     "metadata": {},
     "source": [
      "Look up the 1.pdf article in DP_Article folder."
     ]
    },
    {
     "cell_type": "markdown",
     "metadata": {},
     "source": [
      "N2. https://cds.cern.ch/record/1670055/files/ATL-SOFT-SLIDE-2014-119.pdf or\n",
      "    https://indico.cern.ch/event/247612/session/0/contribution/2/7/material/slides/0.pdf\n",
      "        \n",
      "        \n",
      "###A Popularity Based Prediction and Data Redistribution Tool for ATLAS Distributed Data Management"
     ]
    },
    {
     "cell_type": "markdown",
     "metadata": {},
     "source": [
      "2.1 Static prediction; Neural Networks prediction; Linear trends."
     ]
    },
    {
     "cell_type": "markdown",
     "metadata": {},
     "source": [
      "2.2 Simulation."
     ]
    },
    {
     "cell_type": "markdown",
     "metadata": {},
     "source": [
      "Look up the 2.1.pdf and 2.2.pdf articles in DP_Article folder."
     ]
    },
    {
     "cell_type": "markdown",
     "metadata": {},
     "source": [
      "N3. http://www.cs.gmu.edu/~hrangwal/sites/default/files/GMU-CS-TR-2009-7.pdf\n",
      "    \n",
      "###Digging Digg: Comment Mining, Popularity Prediction, and Social Network Analysis"
     ]
    },
    {
     "cell_type": "markdown",
     "metadata": {},
     "source": [
      "3.1 Classification problem for stories using comments."
     ]
    },
    {
     "cell_type": "markdown",
     "metadata": {},
     "source": [
      "N4. http://www.dabi.temple.edu/~vucetic/documents/Quan12icc.pdf\n",
      "    \n",
      "###A Connectivity-Based Popularity Prediction Approach for Social Networks"
     ]
    },
    {
     "cell_type": "markdown",
     "metadata": {},
     "source": [
      "4.1 Classification problem for stories. Add claster-based features are significantly improve the results."
     ]
    },
    {
     "cell_type": "markdown",
     "metadata": {},
     "source": [
      "N5. https://www.asis.org/asist2012/proceedings/Submissions/207.pdf\n",
      "    \n",
      "###Predicting Future Popularity Trend of Events in Microblogging Platforms"
     ]
    },
    {
     "cell_type": "markdown",
     "metadata": {},
     "source": [
      "5.1 Classification. Clastering. Regression. Time series analysis. And hybrids."
     ]
    },
    {
     "cell_type": "markdown",
     "metadata": {},
     "source": [
      "N6. http://ojs.academypublisher.com/index.php/jnw/article/viewFile/jnw071220512056/6026\n",
      "    \n",
      "###Neural Network Based Popularity Prediction For IPTV System "
     ]
    },
    {
     "cell_type": "markdown",
     "metadata": {},
     "source": [
      "6.1 Neural Network predictor."
     ]
    },
    {
     "cell_type": "markdown",
     "metadata": {},
     "source": [
      "N7. http://www.cs.sfu.ca/~jcliu/Papers/OnPopularityPrediction.pdf\n",
      "    \n",
      "###On Popularity Prediction of Videos Shared in Online Social Networks"
     ]
    },
    {
     "cell_type": "markdown",
     "metadata": {},
     "source": [
      "7.1 Complicated model."
     ]
    },
    {
     "cell_type": "markdown",
     "metadata": {},
     "source": [
      "7.2 Graph learning, Time series analysis, Propagation model, Regression."
     ]
    },
    {
     "cell_type": "markdown",
     "metadata": {},
     "source": [
      "N8. http://www.cs.ubc.ca/~nando/540-2013/projects/p16.pdf\n",
      "    \n",
      "###Predict the Popularity of YouTube Videos Using Early View Data"
     ]
    },
    {
     "cell_type": "markdown",
     "metadata": {},
     "source": [
      "8.1 Linear models(UL, ML)"
     ]
    },
    {
     "cell_type": "markdown",
     "metadata": {},
     "source": [
      "8.2 Some usefull features to view."
     ]
    },
    {
     "cell_type": "markdown",
     "metadata": {},
     "source": [
      "N9. http://homepages.dcc.ufmg.br/~flaviov/papers/figueiredo2013-wsdmdoc.pdf\n",
      "    \n",
      "###On the Prediction of Popularity of Trends and Hits for User Generated Videos"
     ]
    },
    {
     "cell_type": "markdown",
     "metadata": {},
     "source": [
      "9.1 Time series clustering ( K-Spectral Clustering)"
     ]
    },
    {
     "cell_type": "markdown",
     "metadata": {},
     "source": [
      "9.2 Popularity parttens"
     ]
    },
    {
     "cell_type": "markdown",
     "metadata": {},
     "source": [
      "9.3 Classification problem of trend predicting"
     ]
    },
    {
     "cell_type": "markdown",
     "metadata": {},
     "source": [
      "N10. http://www0.cs.ucl.ac.uk/staff/f.huici/publications/popcorn_wsdm.pdf\n",
      "    \n",
      "###A Peek into the Future: Predicting the Evolution of Popularity in User Generated Content"
     ]
    },
    {
     "cell_type": "markdown",
     "metadata": {},
     "source": [
      "10.1 Clustering"
     ]
    },
    {
     "cell_type": "markdown",
     "metadata": {},
     "source": [
      "10.2 Regression"
     ]
    },
    {
     "cell_type": "markdown",
     "metadata": {},
     "source": [
      "N11. http://cnet.fi.uba.ar/wdn13/present/Jussara_wdn2013.pdf and http://arxiv.org/pdf/1402.2351v3.pdf\n",
      "    \n",
      "###Predicting the Popularity of User Generated Content "
     ]
    },
    {
     "cell_type": "markdown",
     "metadata": {},
     "source": [
      "11.1 Clastering, Classification, Regression."
     ]
    },
    {
     "cell_type": "markdown",
     "metadata": {},
     "source": [
      "11.2 Good presentation"
     ]
    },
    {
     "cell_type": "code",
     "collapsed": false,
     "input": [],
     "language": "python",
     "metadata": {},
     "outputs": []
    },
    {
     "cell_type": "code",
     "collapsed": false,
     "input": [],
     "language": "python",
     "metadata": {},
     "outputs": []
    },
    {
     "cell_type": "code",
     "collapsed": false,
     "input": [
      "import ipykee\n",
      "#ipykee.create_project(\"Articles\", repository=\"git@github.com:hushchyn-mikhail/CERN_Time_Series.git\")\n",
      "session = ipykee.Session(project_name=\"Articles\")"
     ],
     "language": "python",
     "metadata": {},
     "outputs": [
      {
       "output_type": "stream",
       "stream": "stdout",
       "text": [
        "Project Articles has been created\n",
        "Please don't forget to add this ssh key:\n",
        "ssh-rsa AAAAB3NzaC1yc2EAAAADAQABAAABAQDtsqXV+eXGIVOKYip4ypkRWwMoVDgLr3JFOwvhXMlfBE0TW9Xy5FMuyAfp9GF/TayJmMyszqkRdlGujXf4K2G7S13ga3JdZK3UGDGy+mma10zSj1fMAFP9b0bWuoVI46XHlayoES9fy2h0v8vikQ7ioBr6KLyHc6/AdWRWqpjh61slrl2IIDKDxfXhn4mXZ+VBPA/6NQz8irHMMOW/HBndQa8eXjec0DRT5OIj8+eSfNgvHTce7t3mtvoBs2hn237QxGcVx2kUmUr4OSgS9C9qCGPCTbpEk8yFYMVpkC47vN6ELYb6PrZVPv5i4VKJX0V1RlY4UinUgtIQLoPBCnG1 root@22e59f4e4a17\n"
       ]
      },
      {
       "output_type": "stream",
       "stream": "stdout",
       "text": [
        "\n",
        "This notebook has name ArticleNotes\n",
        "Please, save your notebook before commit!\n"
       ]
      }
     ],
     "prompt_number": 1
    },
    {
     "cell_type": "code",
     "collapsed": false,
     "input": [
      "session.commit(\"First commit\")"
     ],
     "language": "python",
     "metadata": {},
     "outputs": []
    }
   ],
   "metadata": {}
  }
 ]
}