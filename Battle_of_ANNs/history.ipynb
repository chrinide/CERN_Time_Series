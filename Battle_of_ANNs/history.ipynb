{
 "metadata": {
  "name": "/ipykee/workdir/tmpyVASYm/Battle_of_ANNs/"
 },
 "nbformat": 3,
 "nbformat_minor": 0,
 "worksheets": [
  {
   "cells": [
    {
     "cell_type": "code",
     "collapsed": false,
     "input": [
      "res = pd.read_csv('Battle results.csv')\n",
      "res"
     ],
     "language": "python",
     "metadata": {},
     "outputs": [],
     "prompt_number": 1
    },
    {
     "cell_type": "code",
     "collapsed": false,
     "input": [
      "import numpy as np\n",
      "import pandas as pd\n",
      "import matplotlib.pylab as plt\n",
      "%matplotlib inline"
     ],
     "language": "python",
     "metadata": {},
     "outputs": [],
     "prompt_number": 2
    },
    {
     "cell_type": "code",
     "collapsed": false,
     "input": [
      "from sklearn.cross_validation import train_test_split\n",
      "from sklearn.datasets import fetch_mldata\n",
      "\n",
      "mnist = fetch_mldata('MNIST original')\n",
      "X_train, X_test, y_train, y_test = train_test_split(\n",
      "    mnist.data / 255.0, mnist.target)"
     ],
     "language": "python",
     "metadata": {},
     "outputs": [],
     "prompt_number": 3
    },
    {
     "cell_type": "code",
     "collapsed": false,
     "input": [
      "res = pd.read_csv('Battle results.csv')\n",
      "res"
     ],
     "language": "python",
     "metadata": {},
     "outputs": [],
     "prompt_number": 4
    },
    {
     "cell_type": "code",
     "collapsed": false,
     "input": [
      "res = pd.read_csv('Battle results.csv')\n",
      "res"
     ],
     "language": "python",
     "metadata": {},
     "outputs": [],
     "prompt_number": 5
    },
    {
     "cell_type": "code",
     "collapsed": false,
     "input": [
      "from rep.utils import train_test_split\n",
      "from sklearn.metrics import roc_auc_score\n",
      "\n",
      "sig_data = pd.read_csv('howto/toy_datasets/toy_datasets/toyMC_sig_mass.csv', sep='\\t')\n",
      "bck_data = pd.read_csv('howto/toy_datasets/toy_datasets/toyMC_bck_mass.csv', sep='\\t')\n",
      "\n",
      "labels = np.array([1] * len(sig_data) + [0] * len(bck_data))\n",
      "data = pd.concat([sig_data, bck_data])"
     ],
     "language": "python",
     "metadata": {},
     "outputs": [],
     "prompt_number": 6
    },
    {
     "cell_type": "code",
     "collapsed": false,
     "input": [
      "from rep.utils import train_test_split\n",
      "from sklearn.metrics import roc_auc_score\n",
      "\n",
      "sig_data = pd.read_csv('howto/toy_datasets/toyMC_sig_mass.csv', sep='\\t')\n",
      "bck_data = pd.read_csv('howto/toy_datasets/toyMC_bck_mass.csv', sep='\\t')\n",
      "\n",
      "labels = np.array([1] * len(sig_data) + [0] * len(bck_data))\n",
      "data = pd.concat([sig_data, bck_data])"
     ],
     "language": "python",
     "metadata": {},
     "outputs": [],
     "prompt_number": 7
    },
    {
     "cell_type": "code",
     "collapsed": false,
     "input": [
      "X_train, X_test, y_train, y_test = train_test_split(data, labels, train_size=0.5)"
     ],
     "language": "python",
     "metadata": {},
     "outputs": [],
     "prompt_number": 8
    },
    {
     "cell_type": "code",
     "collapsed": false,
     "input": [
      "X_train"
     ],
     "language": "python",
     "metadata": {},
     "outputs": [],
     "prompt_number": 9
    },
    {
     "cell_type": "code",
     "collapsed": false,
     "input": [
      "from rep.utils import train_test_split\n",
      "from sklearn.metrics import roc_auc_score\n",
      "\n",
      "sig_data = pd.read_csv('howto/toy_datasets/toyMC_sig_mass.csv', sep='\\t')\n",
      "bck_data = pd.read_csv('howto/toy_datasets/toyMC_bck_mass.csv', sep='\\t')\n",
      "\n",
      "labels = np.array([1] * len(sig_data) + [0] * len(bck_data))\n",
      "data = pd.concat([sig_data, bck_data])\n",
      "variables = [\"FlightDistance\", \"FlightDistanceError\", \"IP\", \"VertexChi2\", \"pt\", \"p0_pt\", \"p1_pt\", \"p2_pt\", 'LifeTime','dira']"
     ],
     "language": "python",
     "metadata": {},
     "outputs": [],
     "prompt_number": 10
    },
    {
     "cell_type": "code",
     "collapsed": false,
     "input": [
      "X_train, X_test, y_train, y_test = train_test_split(data[variables], labels, train_size=0.5)"
     ],
     "language": "python",
     "metadata": {},
     "outputs": [],
     "prompt_number": 11
    },
    {
     "cell_type": "code",
     "collapsed": false,
     "input": [
      "X_train"
     ],
     "language": "python",
     "metadata": {},
     "outputs": [],
     "prompt_number": 12
    },
    {
     "cell_type": "code",
     "collapsed": false,
     "input": [
      "from sklearn.preprocessing import StandardScaler\n",
      "\n",
      "a = StandardScaler()"
     ],
     "language": "python",
     "metadata": {},
     "outputs": [],
     "prompt_number": 13
    },
    {
     "cell_type": "code",
     "collapsed": false,
     "input": [
      "from sklearn.preprocessing import StandardScaler\n",
      "\n",
      "a = StandardScaler().fit_transform(X_train.values)\n",
      "a"
     ],
     "language": "python",
     "metadata": {},
     "outputs": [],
     "prompt_number": 14
    },
    {
     "cell_type": "code",
     "collapsed": false,
     "input": [
      "from sklearn.preprocessing import MinMaxScaler\n",
      "\n",
      "a = MinMaxScaler().fit_transform(X_train.values)\n",
      "a"
     ],
     "language": "python",
     "metadata": {},
     "outputs": [],
     "prompt_number": 15
    },
    {
     "cell_type": "code",
     "collapsed": false,
     "input": [
      "from sklearn.preprocessing import MinMaxScaler\n",
      "\n",
      "a = MinMaxScaler().fit_transform(data.values)\n",
      "data[variables] = a\n",
      "data"
     ],
     "language": "python",
     "metadata": {},
     "outputs": [],
     "prompt_number": 16
    },
    {
     "cell_type": "code",
     "collapsed": false,
     "input": [
      "from sklearn.preprocessing import MinMaxScaler, Imputer\n",
      "\n",
      "a = MinMaxScaler().fit_transform(Imputer().fit_transform(data.values))\n",
      "data[variables] = a\n",
      "data"
     ],
     "language": "python",
     "metadata": {},
     "outputs": [],
     "prompt_number": 17
    },
    {
     "cell_type": "code",
     "collapsed": false,
     "input": [
      "Imputer().fit_transform(data.values)"
     ],
     "language": "python",
     "metadata": {},
     "outputs": [],
     "prompt_number": 18
    },
    {
     "cell_type": "code",
     "collapsed": false,
     "input": [
      "from sklearn.preprocessing import MinMaxScaler, Imputer\n",
      "\n",
      "b = Imputer().fit_transform(data.values)\n",
      "a = MinMaxScaler().fit_transform(b)\n",
      "data[variables] = a\n",
      "data"
     ],
     "language": "python",
     "metadata": {},
     "outputs": [],
     "prompt_number": 19
    },
    {
     "cell_type": "code",
     "collapsed": false,
     "input": [
      "a.shape"
     ],
     "language": "python",
     "metadata": {},
     "outputs": [],
     "prompt_number": 20
    },
    {
     "cell_type": "code",
     "collapsed": false,
     "input": [
      "data.shape"
     ],
     "language": "python",
     "metadata": {},
     "outputs": [],
     "prompt_number": 21
    },
    {
     "cell_type": "code",
     "collapsed": false,
     "input": [
      "a.shape"
     ],
     "language": "python",
     "metadata": {},
     "outputs": [],
     "prompt_number": 22
    },
    {
     "cell_type": "code",
     "collapsed": false,
     "input": [
      "data[variables]"
     ],
     "language": "python",
     "metadata": {},
     "outputs": [],
     "prompt_number": 23
    },
    {
     "cell_type": "code",
     "collapsed": false,
     "input": [
      "from sklearn.preprocessing import MinMaxScaler, Imputer\n",
      "\n",
      "b = Imputer().fit_transform(data.values)\n",
      "a = MinMaxScaler().fit_transform(b)\n",
      "data[variables][variables] = a\n",
      "data"
     ],
     "language": "python",
     "metadata": {},
     "outputs": [],
     "prompt_number": 24
    },
    {
     "cell_type": "code",
     "collapsed": false,
     "input": [
      "from sklearn.preprocessing import MinMaxScaler, Imputer\n",
      "\n",
      "b = Imputer().fit_transform(data[variables].values)\n",
      "a = MinMaxScaler().fit_transform(b)\n",
      "data[variables] = a\n",
      "data"
     ],
     "language": "python",
     "metadata": {},
     "outputs": [],
     "prompt_number": 25
    },
    {
     "cell_type": "code",
     "collapsed": false,
     "input": [
      "from sklearn.preprocessing import MinMaxScaler, Imputer\n",
      "\n",
      "b = Imputer().fit_transform(data[variables].values)\n",
      "a = MinMaxScaler().fit_transform(b)\n",
      "data[variables] = a\n",
      "data[variables]"
     ],
     "language": "python",
     "metadata": {},
     "outputs": [],
     "prompt_number": 26
    },
    {
     "cell_type": "code",
     "collapsed": false,
     "input": [
      "from rep.utils import train_test_split\n",
      "from sklearn.metrics import roc_auc_score\n",
      "\n",
      "sig_data = pd.read_csv('howto/toy_datasets/toyMC_sig_mass.csv', sep='\\t')\n",
      "bck_data = pd.read_csv('howto/toy_datasets/toyMC_bck_mass.csv', sep='\\t')\n",
      "\n",
      "labels = np.array([1] * len(sig_data) + [0] * len(bck_data))\n",
      "data = pd.concat([sig_data, bck_data])\n",
      "variables = [\"FlightDistance\", \"FlightDistanceError\", \"IP\", \"VertexChi2\", \"pt\", \"p0_pt\", \"p1_pt\", \"p2_pt\", 'LifeTime','dira']\n",
      "\n",
      "from sklearn.preprocessing import MinMaxScaler, Imputer\n",
      "\n",
      "data1 = Imputer().fit_transform(data[variables].values)\n",
      "data2 = MinMaxScaler().fit_transform(data1)\n",
      "data[variables] = data2"
     ],
     "language": "python",
     "metadata": {},
     "outputs": [],
     "prompt_number": 27
    },
    {
     "cell_type": "code",
     "collapsed": false,
     "input": [
      "X_train, X_test, y_train, y_test = train_test_split(data[variables], labels, train_size=0.5)"
     ],
     "language": "python",
     "metadata": {},
     "outputs": [],
     "prompt_number": 28
    },
    {
     "cell_type": "code",
     "collapsed": false,
     "input": [
      "X_train"
     ],
     "language": "python",
     "metadata": {},
     "outputs": [],
     "prompt_number": 29
    },
    {
     "cell_type": "code",
     "collapsed": false,
     "input": [
      "y_train"
     ],
     "language": "python",
     "metadata": {},
     "outputs": [],
     "prompt_number": 30
    },
    {
     "cell_type": "code",
     "collapsed": false,
     "input": [
      "#!pip install nolearn"
     ],
     "language": "python",
     "metadata": {},
     "outputs": [],
     "prompt_number": 31
    },
    {
     "cell_type": "code",
     "collapsed": false,
     "input": [
      "from nolearn.dbn import DBN\n",
      "\n",
      "clf = DBN(\n",
      "    [X_train.shape[1], 300, 10],\n",
      "    learn_rates=0.3,\n",
      "    learn_rate_decays=0.9,\n",
      "    epochs=10,\n",
      "    verbose=0,\n",
      "    )"
     ],
     "language": "python",
     "metadata": {},
     "outputs": [],
     "prompt_number": 32
    },
    {
     "cell_type": "code",
     "collapsed": false,
     "input": [
      "!pip install nolearn"
     ],
     "language": "python",
     "metadata": {},
     "outputs": [],
     "prompt_number": 33
    },
    {
     "cell_type": "code",
     "collapsed": false,
     "input": [
      "#!pip install nolearn"
     ],
     "language": "python",
     "metadata": {},
     "outputs": [],
     "prompt_number": 34
    },
    {
     "cell_type": "code",
     "collapsed": false,
     "input": [
      "from nolearn.dbn import DBN\n",
      "\n",
      "clf = DBN(\n",
      "    [X_train.shape[1], 300, 10],\n",
      "    learn_rates=0.3,\n",
      "    learn_rate_decays=0.9,\n",
      "    epochs=10,\n",
      "    verbose=0,\n",
      "    )"
     ],
     "language": "python",
     "metadata": {},
     "outputs": [],
     "prompt_number": 35
    },
    {
     "cell_type": "code",
     "collapsed": false,
     "input": [
      "%time clf.fit(X_train, y_train)"
     ],
     "language": "python",
     "metadata": {},
     "outputs": [],
     "prompt_number": 36
    },
    {
     "cell_type": "code",
     "collapsed": false,
     "input": [
      "from nolearn.dbn import DBN\n",
      "\n",
      "clf = DBN(\n",
      "    [X_train.shape[1], 300, 1],\n",
      "    learn_rates=0.3,\n",
      "    learn_rate_decays=0.9,\n",
      "    epochs=10,\n",
      "    verbose=0,\n",
      "    )"
     ],
     "language": "python",
     "metadata": {},
     "outputs": [],
     "prompt_number": 37
    },
    {
     "cell_type": "code",
     "collapsed": false,
     "input": [
      "%time clf.fit(X_train, y_train)"
     ],
     "language": "python",
     "metadata": {},
     "outputs": [],
     "prompt_number": 38
    },
    {
     "cell_type": "code",
     "collapsed": false,
     "input": [
      "from nolearn.dbn import DBN\n",
      "\n",
      "clf = DBN(\n",
      "    [X_train.shape[1], 300, 2],\n",
      "    learn_rates=0.3,\n",
      "    learn_rate_decays=0.9,\n",
      "    epochs=10,\n",
      "    verbose=0,\n",
      "    )"
     ],
     "language": "python",
     "metadata": {},
     "outputs": [],
     "prompt_number": 39
    },
    {
     "cell_type": "code",
     "collapsed": false,
     "input": [
      "%time clf.fit(X_train, y_train)"
     ],
     "language": "python",
     "metadata": {},
     "outputs": [],
     "prompt_number": 40
    },
    {
     "cell_type": "code",
     "collapsed": false,
     "input": [
      "y_train"
     ],
     "language": "python",
     "metadata": {},
     "outputs": [],
     "prompt_number": 41
    },
    {
     "cell_type": "code",
     "collapsed": false,
     "input": [
      "y_train.min()"
     ],
     "language": "python",
     "metadata": {},
     "outputs": [],
     "prompt_number": 42
    },
    {
     "cell_type": "code",
     "collapsed": false,
     "input": [
      "X_train"
     ],
     "language": "python",
     "metadata": {},
     "outputs": [],
     "prompt_number": 43
    },
    {
     "cell_type": "code",
     "collapsed": false,
     "input": [
      "X_train, X_test, y_train, y_test = train_test_split(data[variables].values, labels, train_size=0.5)"
     ],
     "language": "python",
     "metadata": {},
     "outputs": [],
     "prompt_number": 44
    },
    {
     "cell_type": "code",
     "collapsed": false,
     "input": [
      "X_train"
     ],
     "language": "python",
     "metadata": {},
     "outputs": [],
     "prompt_number": 45
    },
    {
     "cell_type": "code",
     "collapsed": false,
     "input": [
      "#!pip install nolearn"
     ],
     "language": "python",
     "metadata": {},
     "outputs": [],
     "prompt_number": 46
    },
    {
     "cell_type": "code",
     "collapsed": false,
     "input": [
      "from nolearn.dbn import DBN\n",
      "\n",
      "clf = DBN(\n",
      "    [X_train.shape[1], 300, 1],\n",
      "    learn_rates=0.3,\n",
      "    learn_rate_decays=0.9,\n",
      "    epochs=10,\n",
      "    verbose=0,\n",
      "    )"
     ],
     "language": "python",
     "metadata": {},
     "outputs": [],
     "prompt_number": 47
    },
    {
     "cell_type": "code",
     "collapsed": false,
     "input": [
      "%time clf.fit(X_train, y_train)"
     ],
     "language": "python",
     "metadata": {},
     "outputs": [],
     "prompt_number": 48
    },
    {
     "cell_type": "code",
     "collapsed": false,
     "input": [
      "from nolearn.dbn import DBN\n",
      "\n",
      "clf = DBN(\n",
      "    [X_train.shape[1], 300, 2],\n",
      "    learn_rates=0.3,\n",
      "    learn_rate_decays=0.9,\n",
      "    epochs=10,\n",
      "    verbose=0,\n",
      "    )"
     ],
     "language": "python",
     "metadata": {},
     "outputs": [],
     "prompt_number": 49
    },
    {
     "cell_type": "code",
     "collapsed": false,
     "input": [
      "%time clf.fit(X_train, y_train)"
     ],
     "language": "python",
     "metadata": {},
     "outputs": [],
     "prompt_number": 50
    },
    {
     "cell_type": "code",
     "collapsed": false,
     "input": [
      "from sklearn.metrics import classification_report\n",
      "from sklearn.metrics import zero_one_loss\n",
      "\n",
      "y_pred = clf.predict(X_test)\n",
      "print \"Accuracy:\", zero_one_loss(y_test, y_pred)\n",
      "print \"Classification report:\"\n",
      "print classification_report(y_test, y_pred)"
     ],
     "language": "python",
     "metadata": {},
     "outputs": [],
     "prompt_number": 51
    },
    {
     "cell_type": "code",
     "collapsed": false,
     "input": [
      "import neurolab as nl\n",
      "f2 = nl.trans.SoftMax()\n",
      "f = nl.trans.LogSig()\n",
      "init = []\n",
      "for i in range(0, X_train.shape[1]):\n",
      "    init.append([0,1])\n",
      "net = nl.net.newff(init,[X_train.shape[1], 300, 2], [f, f, f])\n",
      "for l in net.layers:\n",
      "    #l.initf = nl.init.init_rand(l, min=0, max=0.05, init_prop='w')\n",
      "    #l.initf = nl.init.midpoint(l)\n",
      "    l.initf = nl.init.init_zeros(l)\n",
      "    net.init()   \n",
      "net.trainf = nl.train.train_rprop"
     ],
     "language": "python",
     "metadata": {},
     "outputs": [],
     "prompt_number": 52
    },
    {
     "cell_type": "code",
     "collapsed": false,
     "input": [
      "from sklearn.preprocessing import OneHotEncoder\n",
      "\n",
      "y = y_train.reshape((len(y_train),1))\n",
      "label_train = np.array(OneHotEncoder(n_values=2).fit_transform(y).todense())"
     ],
     "language": "python",
     "metadata": {},
     "outputs": [],
     "prompt_number": 53
    },
    {
     "cell_type": "code",
     "collapsed": false,
     "input": [
      "%time net.train(X_train, label_train, epochs=10, show=1)"
     ],
     "language": "python",
     "metadata": {},
     "outputs": [],
     "prompt_number": 54
    },
    {
     "cell_type": "code",
     "collapsed": false,
     "input": [
      "predict_labels = net.sim(X_test)"
     ],
     "language": "python",
     "metadata": {},
     "outputs": [],
     "prompt_number": 55
    },
    {
     "cell_type": "code",
     "collapsed": false,
     "input": [
      "predict_labels"
     ],
     "language": "python",
     "metadata": {},
     "outputs": [],
     "prompt_number": 56
    },
    {
     "cell_type": "code",
     "collapsed": false,
     "input": [
      "y_pred = []\n",
      "for l in predict_labels:\n",
      "    y_pred.append(list(l).index(l.max()))\n",
      "y_pred = np.array(y_pred)\n",
      "y_pred"
     ],
     "language": "python",
     "metadata": {},
     "outputs": [],
     "prompt_number": 57
    },
    {
     "cell_type": "code",
     "collapsed": false,
     "input": [
      "from sklearn.metrics import classification_report\n",
      "from sklearn.metrics import zero_one_loss\n",
      "\n",
      "print \"Accuracy:\", zero_one_loss(y_test, y_pred)\n",
      "print \"Classification report:\"\n",
      "print classification_report(y_test, y_pred)"
     ],
     "language": "python",
     "metadata": {},
     "outputs": [],
     "prompt_number": 58
    },
    {
     "cell_type": "code",
     "collapsed": false,
     "input": [
      "#!python setup.py install"
     ],
     "language": "python",
     "metadata": {},
     "outputs": [],
     "prompt_number": 59
    },
    {
     "cell_type": "code",
     "collapsed": false,
     "input": [
      "X_train.shape"
     ],
     "language": "python",
     "metadata": {},
     "outputs": [],
     "prompt_number": 60
    },
    {
     "cell_type": "code",
     "collapsed": false,
     "input": [
      "X_train.shape"
     ],
     "language": "python",
     "metadata": {},
     "outputs": [],
     "prompt_number": 61
    },
    {
     "cell_type": "code",
     "collapsed": false,
     "input": [
      "X_train.shape"
     ],
     "language": "python",
     "metadata": {},
     "outputs": [],
     "prompt_number": 62
    },
    {
     "cell_type": "code",
     "collapsed": false,
     "input": [
      "from pybrain.tools.shortcuts import buildNetwork\n",
      "from pybrain.structure import SoftmaxLayer\n",
      "\n",
      "net = buildNetwork(784, 300, 2, bias=True, outclass=SoftmaxLayer)"
     ],
     "language": "python",
     "metadata": {},
     "outputs": [],
     "prompt_number": 63
    },
    {
     "cell_type": "code",
     "collapsed": false,
     "input": [
      "!python setup.py install"
     ],
     "language": "python",
     "metadata": {},
     "outputs": [],
     "prompt_number": 64
    },
    {
     "cell_type": "code",
     "collapsed": false,
     "input": [
      "ls"
     ],
     "language": "python",
     "metadata": {},
     "outputs": [],
     "prompt_number": 65
    },
    {
     "cell_type": "code",
     "collapsed": false,
     "input": [
      "cd pybrain-master/"
     ],
     "language": "python",
     "metadata": {},
     "outputs": [],
     "prompt_number": 66
    },
    {
     "cell_type": "code",
     "collapsed": false,
     "input": [
      "!python setup.py install"
     ],
     "language": "python",
     "metadata": {},
     "outputs": [],
     "prompt_number": 67
    },
    {
     "cell_type": "code",
     "collapsed": false,
     "input": [
      "#!python setup.py install"
     ],
     "language": "python",
     "metadata": {},
     "outputs": [],
     "prompt_number": 68
    },
    {
     "cell_type": "code",
     "collapsed": false,
     "input": [
      "X_train.shape"
     ],
     "language": "python",
     "metadata": {},
     "outputs": [],
     "prompt_number": 69
    },
    {
     "cell_type": "code",
     "collapsed": false,
     "input": [
      "from pybrain.tools.shortcuts import buildNetwork\n",
      "from pybrain.structure import SoftmaxLayer\n",
      "\n",
      "net = buildNetwork(784, 300, 2, bias=True, outclass=SoftmaxLayer)"
     ],
     "language": "python",
     "metadata": {},
     "outputs": [],
     "prompt_number": 70
    },
    {
     "cell_type": "code",
     "collapsed": false,
     "input": [
      "from pybrain.datasets import SupervisedDataSet\n",
      "from sklearn.preprocessing import OneHotEncoder\n",
      "\n",
      "y = y_train.reshape((len(y_train),1))\n",
      "label = np.array(OneHotEncoder(n_values=2).fit_transform(y).todense())\n",
      "\n",
      "ds = SupervisedDataSet(X_train.shape[1], 2)\n",
      "for i in range(0, len(y_train)):\n",
      "    ds.addSample(tuple(list(X_train[i,:])), tuple(list(label[i])))"
     ],
     "language": "python",
     "metadata": {},
     "outputs": [],
     "prompt_number": 71
    },
    {
     "cell_type": "code",
     "collapsed": false,
     "input": [
      "%%time\n",
      "from pybrain.supervised.trainers import BackpropTrainer\n",
      "trainer = BackpropTrainer(net, ds, learningrate=0.01, lrdecay=1.0)\n",
      "\n",
      "for i in range(10):\n",
      "    error = trainer.train()\n",
      "    print \"Epoch: %d, Error: %7.4f\" % (i, error) "
     ],
     "language": "python",
     "metadata": {},
     "outputs": [],
     "prompt_number": 72
    },
    {
     "cell_type": "code",
     "collapsed": false,
     "input": [
      "ds"
     ],
     "language": "python",
     "metadata": {},
     "outputs": [],
     "prompt_number": 73
    },
    {
     "cell_type": "code",
     "collapsed": false,
     "input": [
      "label"
     ],
     "language": "python",
     "metadata": {},
     "outputs": [],
     "prompt_number": 74
    },
    {
     "cell_type": "code",
     "collapsed": false,
     "input": [
      "%%time\n",
      "from pybrain.supervised.trainers import BackpropTrainer\n",
      "trainer = BackpropTrainer(net, ds, learningrate=0.01, lrdecay=1.0)\n",
      "\n",
      "for i in range(10):\n",
      "    error = trainer.train()\n",
      "    print \"Epoch: %d, Error: %7.4f\" % (i, error) "
     ],
     "language": "python",
     "metadata": {},
     "outputs": [],
     "prompt_number": 75
    },
    {
     "cell_type": "code",
     "collapsed": false,
     "input": [
      "from pybrain.tools.shortcuts import buildNetwork\n",
      "from pybrain.structure import SoftmaxLayer\n",
      "\n",
      "net = buildNetwork(X_train.shape[1], 300, 2, bias=True, outclass=SoftmaxLayer)"
     ],
     "language": "python",
     "metadata": {},
     "outputs": [],
     "prompt_number": 76
    },
    {
     "cell_type": "code",
     "collapsed": false,
     "input": [
      "from pybrain.datasets import SupervisedDataSet\n",
      "from sklearn.preprocessing import OneHotEncoder\n",
      "\n",
      "y = y_train.reshape((len(y_train),1))\n",
      "label = np.array(OneHotEncoder(n_values=2).fit_transform(y).todense())\n",
      "\n",
      "ds = SupervisedDataSet(X_train.shape[1], 2)\n",
      "for i in range(0, len(y_train)):\n",
      "    ds.addSample(tuple(list(X_train[i,:])), tuple(list(label[i])))"
     ],
     "language": "python",
     "metadata": {},
     "outputs": [],
     "prompt_number": 77
    },
    {
     "cell_type": "code",
     "collapsed": false,
     "input": [
      "%%time\n",
      "from pybrain.supervised.trainers import BackpropTrainer\n",
      "trainer = BackpropTrainer(net, ds, learningrate=0.01, lrdecay=1.0)\n",
      "\n",
      "for i in range(10):\n",
      "    error = trainer.train()\n",
      "    print \"Epoch: %d, Error: %7.4f\" % (i, error) "
     ],
     "language": "python",
     "metadata": {},
     "outputs": [],
     "prompt_number": 78
    },
    {
     "cell_type": "code",
     "collapsed": false,
     "input": [
      "y_pred = []\n",
      "for i in X_test:\n",
      "    pred = net.activate(i)\n",
      "    val = list(pred).index(pred.max())\n",
      "    y_pred.append(val)"
     ],
     "language": "python",
     "metadata": {},
     "outputs": [],
     "prompt_number": 79
    },
    {
     "cell_type": "code",
     "collapsed": false,
     "input": [
      "from sklearn.metrics import classification_report\n",
      "from sklearn.metrics import zero_one_loss\n",
      "\n",
      "print \"Accuracy:\", zero_one_loss(y_test, y_pred)\n",
      "print \"Classification report:\"\n",
      "print classification_report(y_test, y_pred)"
     ],
     "language": "python",
     "metadata": {},
     "outputs": [],
     "prompt_number": 80
    },
    {
     "cell_type": "code",
     "collapsed": false,
     "input": [
      "!pip install theanets\n",
      "#!pip install skdata"
     ],
     "language": "python",
     "metadata": {},
     "outputs": [],
     "prompt_number": 81
    },
    {
     "cell_type": "code",
     "collapsed": false,
     "input": [
      "import matplotlib.pyplot as plt\n",
      "import theanets\n",
      "\n",
      "exp = theanets.Experiment(\n",
      "    theanets.Classifier,\n",
      "    layers=(784, 300, 2))"
     ],
     "language": "python",
     "metadata": {},
     "outputs": [],
     "prompt_number": 82
    },
    {
     "cell_type": "code",
     "collapsed": false,
     "input": [
      "import matplotlib.pyplot as plt\n",
      "import theanets\n",
      "\n",
      "exp = theanets.Experiment(\n",
      "    theanets.Classifier,\n",
      "    layers=(X_train.shape[1], 300, 2))"
     ],
     "language": "python",
     "metadata": {},
     "outputs": [],
     "prompt_number": 83
    },
    {
     "cell_type": "code",
     "collapsed": false,
     "input": [
      "train = (X_train.astype(np.float32), y_train.astype(np.uint8))\n",
      "test = (X_test.astype(np.float32), y_test.astype(np.uint8))"
     ],
     "language": "python",
     "metadata": {},
     "outputs": [],
     "prompt_number": 84
    },
    {
     "cell_type": "code",
     "collapsed": false,
     "input": [
      "%%time\n",
      "n = 0\n",
      "for train, valid in exp.itertrain(train, optimize='nag', learning_rate=0.001, momentum=0.9):\n",
      "    print('training loss:', train['loss'])\n",
      "    print('most recent validation loss:', valid['loss'])\n",
      "    n = n+1\n",
      "    if n==10:\n",
      "        break"
     ],
     "language": "python",
     "metadata": {},
     "outputs": [],
     "prompt_number": 85
    },
    {
     "cell_type": "code",
     "collapsed": false,
     "input": [
      "predict_labels = exp.network.predict(X_test.astype(np.float32))"
     ],
     "language": "python",
     "metadata": {},
     "outputs": [],
     "prompt_number": 86
    },
    {
     "cell_type": "code",
     "collapsed": false,
     "input": [
      "y_pred = []\n",
      "for l in predict_labels:\n",
      "    y_pred.append(list(l).index(l.max()))\n",
      "y_pred = np.array(y_pred)\n",
      "y_pred"
     ],
     "language": "python",
     "metadata": {},
     "outputs": [],
     "prompt_number": 87
    },
    {
     "cell_type": "code",
     "collapsed": false,
     "input": [
      "from sklearn.metrics import classification_report\n",
      "from sklearn.metrics import zero_one_loss\n",
      "\n",
      "print \"Accuracy:\", zero_one_loss(y_test, y_pred)\n",
      "print \"Classification report:\"\n",
      "print classification_report(y_test, y_pred)"
     ],
     "language": "python",
     "metadata": {},
     "outputs": [],
     "prompt_number": 88
    },
    {
     "cell_type": "code",
     "collapsed": false,
     "input": [
      "from rep.classifiers import SklearnClassifier\n",
      "from sklearn.ensemble import GradientBoostingClassifier\n",
      "# Using gradient boosting with default settings\n",
      "sk = SklearnClassifier(GradientBoostingClassifier(), features=variables)\n",
      "# Training classifier\n",
      "sk.fit(X_train, y_train)\n",
      "print('training complete')"
     ],
     "language": "python",
     "metadata": {},
     "outputs": [],
     "prompt_number": 89
    },
    {
     "cell_type": "code",
     "collapsed": false,
     "input": [
      "from rep.classifiers import SklearnClassifier\n",
      "from sklearn.ensemble import GradientBoostingClassifier\n",
      "# Using gradient boosting with default settings\n",
      "sk = SklearnClassifier(GradientBoostingClassifier())\n",
      "# Training classifier\n",
      "sk.fit(X_train, y_train)\n",
      "print('training complete')"
     ],
     "language": "python",
     "metadata": {},
     "outputs": [],
     "prompt_number": 90
    },
    {
     "cell_type": "code",
     "collapsed": false,
     "input": [
      "prob = sk.predict_proba(test_data)\n",
      "print prob\n",
      "y_pred = prob[:,1]"
     ],
     "language": "python",
     "metadata": {},
     "outputs": [],
     "prompt_number": 91
    },
    {
     "cell_type": "code",
     "collapsed": false,
     "input": [
      "from rep.classifiers import SklearnClassifier\n",
      "from sklearn.ensemble import GradientBoostingClassifier\n",
      "# Using gradient boosting with default settings\n",
      "sk = SklearnClassifier(GradientBoostingClassifier())\n",
      "# Training classifier"
     ],
     "language": "python",
     "metadata": {},
     "outputs": [],
     "prompt_number": 92
    },
    {
     "cell_type": "code",
     "collapsed": false,
     "input": [
      "%%time\n",
      "sk.fit(X_train, y_train)\n",
      "print('training complete')"
     ],
     "language": "python",
     "metadata": {},
     "outputs": [],
     "prompt_number": 93
    },
    {
     "cell_type": "code",
     "collapsed": false,
     "input": [
      "from rep.classifiers import SklearnClassifier\n",
      "from sklearn.ensemble import GradientBoostingClassifier\n",
      "# Using gradient boosting with default settings\n",
      "sk = SklearnClassifier(GradientBoostingClassifier(n_estimators=10))\n",
      "# Training classifier"
     ],
     "language": "python",
     "metadata": {},
     "outputs": [],
     "prompt_number": 94
    },
    {
     "cell_type": "code",
     "collapsed": false,
     "input": [
      "%%time\n",
      "sk.fit(X_train, y_train)\n",
      "print('training complete')"
     ],
     "language": "python",
     "metadata": {},
     "outputs": [],
     "prompt_number": 95
    },
    {
     "cell_type": "code",
     "collapsed": false,
     "input": [
      "prob = sk.predict_proba(X_test)\n",
      "print prob\n",
      "y_pred = prob[:,1]"
     ],
     "language": "python",
     "metadata": {},
     "outputs": [],
     "prompt_number": 96
    },
    {
     "cell_type": "code",
     "collapsed": false,
     "input": [
      "from sklearn.metrics import classification_report\n",
      "from sklearn.metrics import zero_one_loss\n",
      "\n",
      "print \"Accuracy:\", zero_one_loss(y_test, y_pred)\n",
      "print \"Classification report:\"\n",
      "print classification_report(y_test, y_pred)"
     ],
     "language": "python",
     "metadata": {},
     "outputs": [],
     "prompt_number": 97
    },
    {
     "cell_type": "code",
     "collapsed": false,
     "input": [
      "prob = sk.predict(X_test)\n",
      "print prob"
     ],
     "language": "python",
     "metadata": {},
     "outputs": [],
     "prompt_number": 98
    },
    {
     "cell_type": "code",
     "collapsed": false,
     "input": [
      "y_pred = sk.predict(X_test)\n",
      "print y_pred"
     ],
     "language": "python",
     "metadata": {},
     "outputs": [],
     "prompt_number": 99
    },
    {
     "cell_type": "code",
     "collapsed": false,
     "input": [
      "from sklearn.metrics import classification_report\n",
      "from sklearn.metrics import zero_one_loss\n",
      "\n",
      "print \"Accuracy:\", zero_one_loss(y_test, y_pred)\n",
      "print \"Classification report:\"\n",
      "print classification_report(y_test, y_pred)"
     ],
     "language": "python",
     "metadata": {},
     "outputs": [],
     "prompt_number": 100
    },
    {
     "cell_type": "code",
     "collapsed": false,
     "input": [
      "res = pd.read_csv('Battle results.csv')\n",
      "res"
     ],
     "language": "python",
     "metadata": {},
     "outputs": [],
     "prompt_number": 101
    },
    {
     "cell_type": "code",
     "collapsed": false,
     "input": [
      "ls"
     ],
     "language": "python",
     "metadata": {},
     "outputs": [],
     "prompt_number": 102
    },
    {
     "cell_type": "code",
     "collapsed": false,
     "input": [
      "cd ../"
     ],
     "language": "python",
     "metadata": {},
     "outputs": [],
     "prompt_number": 103
    },
    {
     "cell_type": "code",
     "collapsed": false,
     "input": [
      "res = pd.read_csv('Battle results.csv')\n",
      "res"
     ],
     "language": "python",
     "metadata": {},
     "outputs": [],
     "prompt_number": 104
    },
    {
     "cell_type": "code",
     "collapsed": false,
     "input": [
      "from rep.classifiers import SklearnClassifier\n",
      "from sklearn.ensemble import GradientBoostingClassifier\n",
      "# Using gradient boosting with default settings\n",
      "sk = SklearnClassifier(GradientBoostingClassifier(n_estimators=100))\n",
      "# Training classifier"
     ],
     "language": "python",
     "metadata": {},
     "outputs": [],
     "prompt_number": 105
    },
    {
     "cell_type": "code",
     "collapsed": false,
     "input": [
      "%%time\n",
      "sk.fit(X_train, y_train)\n",
      "print('training complete')"
     ],
     "language": "python",
     "metadata": {},
     "outputs": [],
     "prompt_number": 106
    },
    {
     "cell_type": "code",
     "collapsed": false,
     "input": [
      "y_pred = sk.predict(X_test)\n",
      "print y_pred"
     ],
     "language": "python",
     "metadata": {},
     "outputs": [],
     "prompt_number": 107
    },
    {
     "cell_type": "code",
     "collapsed": false,
     "input": [
      "from sklearn.metrics import classification_report\n",
      "from sklearn.metrics import zero_one_loss\n",
      "\n",
      "print \"Accuracy:\", zero_one_loss(y_test, y_pred)\n",
      "print \"Classification report:\"\n",
      "print classification_report(y_test, y_pred)"
     ],
     "language": "python",
     "metadata": {},
     "outputs": [],
     "prompt_number": 108
    },
    {
     "cell_type": "code",
     "collapsed": false,
     "input": [
      "from rep.classifiers import SklearnClassifier\n",
      "from sklearn.ensemble import GradientBoostingClassifier\n",
      "# Using gradient boosting with default settings\n",
      "sk = SklearnClassifier(GradientBoostingClassifier(n_estimators=500))\n",
      "# Training classifier"
     ],
     "language": "python",
     "metadata": {},
     "outputs": [],
     "prompt_number": 109
    },
    {
     "cell_type": "code",
     "collapsed": false,
     "input": [
      "%%time\n",
      "sk.fit(X_train, y_train)\n",
      "print('training complete')"
     ],
     "language": "python",
     "metadata": {},
     "outputs": [],
     "prompt_number": 110
    },
    {
     "cell_type": "code",
     "collapsed": false,
     "input": [
      "y_pred = sk.predict(X_test)\n",
      "print y_pred"
     ],
     "language": "python",
     "metadata": {},
     "outputs": [],
     "prompt_number": 111
    },
    {
     "cell_type": "code",
     "collapsed": false,
     "input": [
      "from sklearn.metrics import classification_report\n",
      "from sklearn.metrics import zero_one_loss\n",
      "\n",
      "print \"Accuracy:\", zero_one_loss(y_test, y_pred)\n",
      "print \"Classification report:\"\n",
      "print classification_report(y_test, y_pred)"
     ],
     "language": "python",
     "metadata": {},
     "outputs": [],
     "prompt_number": 112
    },
    {
     "cell_type": "code",
     "collapsed": false,
     "input": [
      "from rep.classifiers import SklearnClassifier\n",
      "from sklearn.ensemble import GradientBoostingClassifier\n",
      "# Using gradient boosting with default settings\n",
      "sk = SklearnClassifier(GradientBoostingClassifier(n_estimators=10))\n",
      "# Training classifier"
     ],
     "language": "python",
     "metadata": {},
     "outputs": [],
     "prompt_number": 113
    },
    {
     "cell_type": "code",
     "collapsed": false,
     "input": [
      "%%time\n",
      "sk.fit(X_train, y_train)\n",
      "print('training complete')"
     ],
     "language": "python",
     "metadata": {},
     "outputs": [],
     "prompt_number": 114
    },
    {
     "cell_type": "code",
     "collapsed": false,
     "input": [
      "y_pred = sk.predict(X_test)\n",
      "print y_pred"
     ],
     "language": "python",
     "metadata": {},
     "outputs": [],
     "prompt_number": 115
    },
    {
     "cell_type": "code",
     "collapsed": false,
     "input": [
      "from sklearn.metrics import classification_report\n",
      "from sklearn.metrics import zero_one_loss\n",
      "\n",
      "print \"Accuracy:\", zero_one_loss(y_test, y_pred)\n",
      "print \"Classification report:\"\n",
      "print classification_report(y_test, y_pred)"
     ],
     "language": "python",
     "metadata": {},
     "outputs": [],
     "prompt_number": 116
    },
    {
     "cell_type": "code",
     "collapsed": false,
     "input": [
      "from nolearn.dbn import DBN\n",
      "\n",
      "clf = DBN(\n",
      "    [X_train.shape[1], 300, 2],\n",
      "    learn_rates=0.1,\n",
      "    learn_rate_decays=0.9,\n",
      "    epochs=10,\n",
      "    verbose=0,\n",
      "    )"
     ],
     "language": "python",
     "metadata": {},
     "outputs": [],
     "prompt_number": 117
    },
    {
     "cell_type": "code",
     "collapsed": false,
     "input": [
      "%time clf.fit(X_train, y_train)"
     ],
     "language": "python",
     "metadata": {},
     "outputs": [],
     "prompt_number": 118
    },
    {
     "cell_type": "code",
     "collapsed": false,
     "input": [
      "from sklearn.metrics import classification_report\n",
      "from sklearn.metrics import zero_one_loss\n",
      "\n",
      "y_pred = clf.predict(X_test)\n",
      "print \"Accuracy:\", zero_one_loss(y_test, y_pred)\n",
      "print \"Classification report:\"\n",
      "print classification_report(y_test, y_pred)"
     ],
     "language": "python",
     "metadata": {},
     "outputs": [],
     "prompt_number": 119
    },
    {
     "cell_type": "code",
     "collapsed": false,
     "input": [
      "from nolearn.dbn import DBN\n",
      "\n",
      "clf = DBN(\n",
      "    [X_train.shape[1], 300, 2],\n",
      "    learn_rates=0.01,\n",
      "    learn_rate_decays=0.9,\n",
      "    epochs=10,\n",
      "    verbose=0,\n",
      "    )"
     ],
     "language": "python",
     "metadata": {},
     "outputs": [],
     "prompt_number": 120
    },
    {
     "cell_type": "code",
     "collapsed": false,
     "input": [
      "%time clf.fit(X_train, y_train)"
     ],
     "language": "python",
     "metadata": {},
     "outputs": [],
     "prompt_number": 121
    },
    {
     "cell_type": "code",
     "collapsed": false,
     "input": [
      "from sklearn.metrics import classification_report\n",
      "from sklearn.metrics import zero_one_loss\n",
      "\n",
      "y_pred = clf.predict(X_test)\n",
      "print \"Accuracy:\", zero_one_loss(y_test, y_pred)\n",
      "print \"Classification report:\"\n",
      "print classification_report(y_test, y_pred)"
     ],
     "language": "python",
     "metadata": {},
     "outputs": [],
     "prompt_number": 122
    },
    {
     "cell_type": "code",
     "collapsed": false,
     "input": [
      "from nolearn.dbn import DBN\n",
      "\n",
      "clf = DBN(\n",
      "    [X_train.shape[1], 300, 2],\n",
      "    learn_rates=0.1,\n",
      "    learn_rate_decays=0.9,\n",
      "    epochs=10,\n",
      "    verbose=0,\n",
      "    )"
     ],
     "language": "python",
     "metadata": {},
     "outputs": [],
     "prompt_number": 123
    },
    {
     "cell_type": "code",
     "collapsed": false,
     "input": [
      "%time clf.fit(X_train, y_train)"
     ],
     "language": "python",
     "metadata": {},
     "outputs": [],
     "prompt_number": 124
    },
    {
     "cell_type": "code",
     "collapsed": false,
     "input": [
      "from sklearn.metrics import classification_report\n",
      "from sklearn.metrics import zero_one_loss\n",
      "\n",
      "y_pred = clf.predict(X_test)\n",
      "print \"Accuracy:\", zero_one_loss(y_test, y_pred)\n",
      "print \"Classification report:\"\n",
      "print classification_report(y_test, y_pred)"
     ],
     "language": "python",
     "metadata": {},
     "outputs": [],
     "prompt_number": 125
    },
    {
     "cell_type": "code",
     "collapsed": false,
     "input": [
      "%%time\n",
      "n = 0\n",
      "for train, valid in exp.itertrain(train, optimize='nag', learning_rate=0.1, momentum=0.9):\n",
      "    print('training loss:', train['loss'])\n",
      "    print('most recent validation loss:', valid['loss'])\n",
      "    n = n+1\n",
      "    if n==10:\n",
      "        break"
     ],
     "language": "python",
     "metadata": {},
     "outputs": [],
     "prompt_number": 126
    },
    {
     "cell_type": "code",
     "collapsed": false,
     "input": [
      "#!pip install theanets\n",
      "#!pip install skdata"
     ],
     "language": "python",
     "metadata": {},
     "outputs": [],
     "prompt_number": 127
    },
    {
     "cell_type": "code",
     "collapsed": false,
     "input": [
      "import matplotlib.pyplot as plt\n",
      "import theanets\n",
      "\n",
      "exp = theanets.Experiment(\n",
      "    theanets.Classifier,\n",
      "    layers=(X_train.shape[1], 300, 2))"
     ],
     "language": "python",
     "metadata": {},
     "outputs": [],
     "prompt_number": 128
    },
    {
     "cell_type": "code",
     "collapsed": false,
     "input": [
      "train = (X_train.astype(np.float32), y_train.astype(np.uint8))\n",
      "test = (X_test.astype(np.float32), y_test.astype(np.uint8))"
     ],
     "language": "python",
     "metadata": {},
     "outputs": [],
     "prompt_number": 129
    },
    {
     "cell_type": "code",
     "collapsed": false,
     "input": [
      "%%time\n",
      "n = 0\n",
      "for train, valid in exp.itertrain(train, optimize='nag', learning_rate=0.1, momentum=0.9):\n",
      "    print('training loss:', train['loss'])\n",
      "    print('most recent validation loss:', valid['loss'])\n",
      "    n = n+1\n",
      "    if n==10:\n",
      "        break"
     ],
     "language": "python",
     "metadata": {},
     "outputs": [],
     "prompt_number": 130
    },
    {
     "cell_type": "code",
     "collapsed": false,
     "input": [
      "predict_labels = exp.network.predict(X_test.astype(np.float32))"
     ],
     "language": "python",
     "metadata": {},
     "outputs": [],
     "prompt_number": 131
    },
    {
     "cell_type": "code",
     "collapsed": false,
     "input": [
      "y_pred = []\n",
      "for l in predict_labels:\n",
      "    y_pred.append(list(l).index(l.max()))\n",
      "y_pred = np.array(y_pred)\n",
      "y_pred"
     ],
     "language": "python",
     "metadata": {},
     "outputs": [],
     "prompt_number": 132
    },
    {
     "cell_type": "code",
     "collapsed": false,
     "input": [
      "from sklearn.metrics import classification_report\n",
      "from sklearn.metrics import zero_one_loss\n",
      "\n",
      "print \"Accuracy:\", zero_one_loss(y_test, y_pred)\n",
      "print \"Classification report:\"\n",
      "print classification_report(y_test, y_pred)"
     ],
     "language": "python",
     "metadata": {},
     "outputs": [],
     "prompt_number": 133
    },
    {
     "cell_type": "code",
     "collapsed": false,
     "input": [
      "from rep.classifiers import SklearnClassifier\n",
      "from sklearn.ensemble import GradientBoostingClassifier\n",
      "# Using gradient boosting with default settings\n",
      "sk = SklearnClassifier(GradientBoostingClassifier(n_estimators=100))\n",
      "# Training classifier"
     ],
     "language": "python",
     "metadata": {},
     "outputs": [],
     "prompt_number": 134
    },
    {
     "cell_type": "code",
     "collapsed": false,
     "input": [
      "%%time\n",
      "sk.fit(X_train, y_train)\n",
      "print('training complete')"
     ],
     "language": "python",
     "metadata": {},
     "outputs": [],
     "prompt_number": 135
    },
    {
     "cell_type": "code",
     "collapsed": false,
     "input": [
      "y_pred = sk.predict(X_test)\n",
      "print y_pred"
     ],
     "language": "python",
     "metadata": {},
     "outputs": [],
     "prompt_number": 136
    },
    {
     "cell_type": "code",
     "collapsed": false,
     "input": [
      "from sklearn.metrics import classification_report\n",
      "from sklearn.metrics import zero_one_loss\n",
      "\n",
      "print \"Accuracy:\", zero_one_loss(y_test, y_pred)\n",
      "print \"Classification report:\"\n",
      "print classification_report(y_test, y_pred)"
     ],
     "language": "python",
     "metadata": {},
     "outputs": [],
     "prompt_number": 137
    },
    {
     "cell_type": "code",
     "collapsed": false,
     "input": [
      "res = pd.read_csv('Battle results.csv')\n",
      "res"
     ],
     "language": "python",
     "metadata": {},
     "outputs": [],
     "prompt_number": 138
    },
    {
     "cell_type": "code",
     "collapsed": false,
     "input": [
      "import ipykee\n",
      "ipykee.create_project(project_name=\"Battle_of_ANNs\", repository=\"git@github.com:hushchyn-mikhail/CERN_Time_Series.git\")\n",
      "session = ipykee.Session(project_name=\"Battle_of_ANNs\")"
     ],
     "language": "python",
     "metadata": {},
     "outputs": [],
     "prompt_number": 139
    },
    {
     "cell_type": "code",
     "collapsed": false,
     "input": [
      "session.commit(\"Toy Dataset.\")"
     ],
     "language": "python",
     "metadata": {},
     "outputs": [],
     "prompt_number": 140
    },
    {
     "cell_type": "code",
     "collapsed": false,
     "input": [
      "import ipykee\n",
      "#ipykee.create_project(project_name=\"Battle_of_ANNs\", repository=\"git@github.com:hushchyn-mikhail/CERN_Time_Series.git\")\n",
      "session = ipykee.Session(project_name=\"Battle_of_ANNs\")"
     ],
     "language": "python",
     "metadata": {},
     "outputs": [],
     "prompt_number": 141
    },
    {
     "cell_type": "code",
     "collapsed": false,
     "input": [
      "session.commit(\"Toy Dataset.\")"
     ],
     "language": "python",
     "metadata": {},
     "outputs": [],
     "prompt_number": 142
    },
    {
     "cell_type": "code",
     "collapsed": false,
     "input": [
      "import ipykee\n",
      "ipykee.create_project(project_name=\"Battle_of_ANNs\", repository=\"git@github.com:hushchyn-mikhail/Battle_of_ANNs.git\")\n",
      "session = ipykee.Session(project_name=\"Battle_of_ANNs\")"
     ],
     "language": "python",
     "metadata": {},
     "outputs": [],
     "prompt_number": 143
    }
   ],
   "metadata": {}
  }
 ]
}