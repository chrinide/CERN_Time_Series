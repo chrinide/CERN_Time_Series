{
 "metadata": {
  "name": "/ipykee/workdir/tmp1kGj9f/Overview/"
 },
 "nbformat": 3,
 "nbformat_minor": 0,
 "worksheets": [
  {
   "cells": [
    {
     "cell_type": "code",
     "collapsed": false,
     "input": [
      "%pylab inline\n",
      "from cern_utils import calc_util\n",
      "import ipykee"
     ],
     "language": "python",
     "metadata": {},
     "outputs": [],
     "prompt_number": 1
    },
    {
     "cell_type": "code",
     "collapsed": false,
     "input": [
      "#get variables\n",
      "keeper = ipykee.Keeper(\"A._TimeSeriesAnalysis\")\n",
      "session = keeper[\"A1.3.1._TSA_Cumulative_52weeks\"]\n",
      "vars_a131 = session.get_variables(\"master\")\n",
      "#variables.keys()"
     ],
     "language": "python",
     "metadata": {},
     "outputs": [],
     "prompt_number": 2
    },
    {
     "cell_type": "code",
     "collapsed": false,
     "input": [
      "#get variables\n",
      "keeper = ipykee.Keeper(\"A._TimeSeriesAnalysis\")\n",
      "session = keeper[\"A1.3.2._TSA_Cumulative_78weeks\"]\n",
      "vars_a132 = session.get_variables(\"master\")\n",
      "#variables.keys()"
     ],
     "language": "python",
     "metadata": {},
     "outputs": [],
     "prompt_number": 3
    },
    {
     "cell_type": "code",
     "collapsed": false,
     "input": [
      "#get variables\n",
      "keeper = ipykee.Keeper(\"A._TimeSeriesAnalysis\")\n",
      "session = keeper[\"A2.3.1._TSA_RollingMean26_52weeks\"]\n",
      "vars_a231 = session.get_variables(\"master\")\n",
      "#variables.keys()"
     ],
     "language": "python",
     "metadata": {},
     "outputs": [],
     "prompt_number": 4
    },
    {
     "cell_type": "code",
     "collapsed": false,
     "input": [
      "#get variables\n",
      "keeper = ipykee.Keeper(\"A._TimeSeriesAnalysis\")\n",
      "session = keeper[\"A2.3.2._TSA_RollingMean26_78weeks\"]\n",
      "vars_a232 = session.get_variables(\"master\")\n",
      "#variables.keys()"
     ],
     "language": "python",
     "metadata": {},
     "outputs": [],
     "prompt_number": 5
    },
    {
     "cell_type": "code",
     "collapsed": false,
     "input": [
      "#ROC - curve\n",
      "figure(figsize=(15, 5))\n",
      "subplot(121)\n",
      "vars_a131['report.roc()'].plot()\n",
      "vars_a132['report.roc()'].plot()\n",
      "vars_a231['report.roc()'].plot()\n",
      "vars_a232['report.roc()'].plot()\n",
      "legend(['A1.3.1', 'A1.3.2', 'A2.3.1', 'A2.3.2'], loc='best')\n",
      "subplot(122)\n",
      "vars_a131['report2.roc()'].plot()\n",
      "vars_a132['report2.roc()'].plot()\n",
      "vars_a231['report2.roc()'].plot()\n",
      "vars_a232['report2.roc()'].plot()\n",
      "legend(['A1.3.1', 'A1.3.2', 'A2.3.1', 'A2.3.2'], loc='best')"
     ],
     "language": "python",
     "metadata": {},
     "outputs": [],
     "prompt_number": 6
    },
    {
     "cell_type": "code",
     "collapsed": false,
     "input": [
      "#get variables\n",
      "keeper = ipykee.Keeper(\"B._Classification\")\n",
      "session = keeper[\"B1.1.1._Classifier_Cumulative\"]\n",
      "vars_b111 = session.get_variables(\"master\")\n",
      "#variables.keys()"
     ],
     "language": "python",
     "metadata": {},
     "outputs": [],
     "prompt_number": 7
    },
    {
     "cell_type": "code",
     "collapsed": false,
     "input": [
      "#get variables\n",
      "keeper = ipykee.Keeper(\"B._Classification\")\n",
      "session = keeper[\"B1.2.1._Classifier_and_TSA_Cumulative\"]\n",
      "vars_b121 = session.get_variables(\"master\")\n",
      "#variables.keys()"
     ],
     "language": "python",
     "metadata": {},
     "outputs": [],
     "prompt_number": 8
    },
    {
     "cell_type": "code",
     "collapsed": false,
     "input": [
      "#get variables\n",
      "keeper = ipykee.Keeper(\"B._Classification\")\n",
      "session = keeper[\"B1.2.2._Classifier_and_TSA_Cumulative_Grouped\"]\n",
      "vars_b122 = session.get_variables(\"master\")\n",
      "#variables.keys()"
     ],
     "language": "python",
     "metadata": {},
     "outputs": [],
     "prompt_number": 9
    },
    {
     "cell_type": "code",
     "collapsed": false,
     "input": [
      "#ROC - curve\n",
      "figure(figsize=(8, 5))\n",
      "vars_b111['report2.roc()'].plot()\n",
      "vars_b121['report2.roc()'].plot()\n",
      "vars_b122['report2.roc()'].plot()\n",
      "vars_a131['report.roc()'].plot()\n",
      "vars_a132['report.roc()'].plot()\n",
      "legend(['B1.1.1','B1.2.1', 'B1.2.2', 'B1.3.1(A1.3.1)', 'B1.3.2(A1.3.2)'], loc='best')"
     ],
     "language": "python",
     "metadata": {},
     "outputs": [],
     "prompt_number": 10
    },
    {
     "cell_type": "code",
     "collapsed": false,
     "input": [
      "#get variables\n",
      "keeper = ipykee.Keeper(\"B._Classification\")\n",
      "session = keeper[\"B2.1.1._Classifier_Rolling_Mean\"]\n",
      "vars_b211 = session.get_variables(\"master\")\n",
      "#variables.keys()"
     ],
     "language": "python",
     "metadata": {},
     "outputs": [],
     "prompt_number": 11
    },
    {
     "cell_type": "code",
     "collapsed": false,
     "input": [
      "#get variables\n",
      "keeper = ipykee.Keeper(\"B._Classification\")\n",
      "session = keeper[\"B2.2.1._Classifier_and_TSA_RollingMean\"]\n",
      "vars_b221 = session.get_variables(\"master\")\n",
      "#variables.keys()"
     ],
     "language": "python",
     "metadata": {},
     "outputs": [],
     "prompt_number": 12
    },
    {
     "cell_type": "code",
     "collapsed": false,
     "input": [
      "#get variables\n",
      "keeper = ipykee.Keeper(\"B._Classification\")\n",
      "session = keeper[\"B2.2.2._Classifier_and_TSA_RollinMean_Grouped\"]\n",
      "vars_b222 = session.get_variables(\"master\")\n",
      "#variables.keys()"
     ],
     "language": "python",
     "metadata": {},
     "outputs": [],
     "prompt_number": 13
    },
    {
     "cell_type": "code",
     "collapsed": false,
     "input": [
      "#ROC - curve\n",
      "figure(figsize=(8, 5))\n",
      "vars_b211['report2.roc()'].plot()\n",
      "vars_b221['report2.roc()'].plot()\n",
      "vars_b222['report2.roc()'].plot()\n",
      "vars_a231['report.roc()'].plot()\n",
      "vars_a232['report.roc()'].plot()\n",
      "legend(['B2.1.1','B2.2.1', 'B2.2.2', 'B2.3.1(A2.3.1)', 'B2.3.2(A2.3.2)'], loc='best')"
     ],
     "language": "python",
     "metadata": {},
     "outputs": [],
     "prompt_number": 14
    },
    {
     "cell_type": "code",
     "collapsed": false,
     "input": [
      "#get variables\n",
      "keeper = ipykee.Keeper(\"B._Classification\")\n",
      "session = keeper[\"B3.2.1._NewFeatures_52weeks\"]\n",
      "vars_b321 = session.get_variables(\"master\")\n",
      "#variables.keys()"
     ],
     "language": "python",
     "metadata": {},
     "outputs": [],
     "prompt_number": 15
    },
    {
     "cell_type": "code",
     "collapsed": false,
     "input": [
      "#get variables\n",
      "keeper = ipykee.Keeper(\"B._Classification\")\n",
      "session = keeper[\"B3.2.2._NewFeatures_78weeks\"]\n",
      "vars_b322 = session.get_variables(\"master\")\n",
      "#variables.keys()"
     ],
     "language": "python",
     "metadata": {},
     "outputs": [],
     "prompt_number": 16
    },
    {
     "cell_type": "code",
     "collapsed": false,
     "input": [
      "#ROC - curve\n",
      "figure(figsize=(15, 5))\n",
      "subplot(121)\n",
      "vars_a131['report.roc()'].plot()\n",
      "vars_a132['report.roc()'].plot()\n",
      "vars_a231['report.roc()'].plot()\n",
      "vars_a232['report.roc()'].plot()\n",
      "vars_b321['report.roc()'].plot()\n",
      "vars_b322['report.roc()'].plot()\n",
      "legend(['A1.3.1(B1.3.1)', 'A1.3.2(B1.3.2)', 'A2.3.1(B2.3.2)', 'A2.3.2(B2.3.2)', 'B3.2.1', 'B3.2.2'], loc='best')\n",
      "subplot(122)\n",
      "vars_a131['report2.roc()'].plot()\n",
      "vars_a132['report2.roc()'].plot()\n",
      "vars_a231['report2.roc()'].plot()\n",
      "vars_a232['report2.roc()'].plot()\n",
      "vars_b321['report.roc()'].plot()\n",
      "vars_b322['report2.roc()'].plot()\n",
      "legend(['A1.3.1(B1.3.1)', 'A1.3.2(B1.3.2)', 'A2.3.1(B2.3.2)', 'A2.3.2(B2.3.2)', 'B3.2.1', 'B3.2.2'], loc='best')"
     ],
     "language": "python",
     "metadata": {},
     "outputs": [],
     "prompt_number": 17
    },
    {
     "cell_type": "code",
     "collapsed": false,
     "input": [
      "#get variables\n",
      "keeper = ipykee.Keeper(\"C._NewFeatures\")\n",
      "session = keeper[\"C1.1._NewFeatures_78weeks\"]\n",
      "vars_c11 = session.get_variables(\"master\")\n",
      "#variables.keys()"
     ],
     "language": "python",
     "metadata": {},
     "outputs": [],
     "prompt_number": 18
    },
    {
     "cell_type": "code",
     "collapsed": false,
     "input": [
      "#get variables\n",
      "keeper = ipykee.Keeper(\"C._NewFeatures\")\n",
      "session = keeper[\"C2.1.1._RelativeNewFeatures_78weeks\"]\n",
      "vars_c21 = session.get_variables(\"master\")\n",
      "#variables.keys()"
     ],
     "language": "python",
     "metadata": {},
     "outputs": [],
     "prompt_number": 19
    },
    {
     "cell_type": "code",
     "collapsed": false,
     "input": [
      "#get variables\n",
      "keeper = ipykee.Keeper(\"C._NewFeatures\")\n",
      "session = keeper[\"C3.1.1._RelativeNewFeatures_NormedNbOfUsages_78weeks\"]\n",
      "vars_c311 = session.get_variables(\"master\")\n",
      "#variables.keys()"
     ],
     "language": "python",
     "metadata": {},
     "outputs": [],
     "prompt_number": 20
    },
    {
     "cell_type": "code",
     "collapsed": false,
     "input": [
      "#get variables\n",
      "keeper = ipykee.Keeper(\"C._NewFeatures\")\n",
      "session = keeper[\"C3.1.2._NewFeatures_NormedNbOfUsages_78weeks\"]\n",
      "vars_c312 = session.get_variables(\"master\")\n",
      "#variables.keys()"
     ],
     "language": "python",
     "metadata": {},
     "outputs": [],
     "prompt_number": 21
    },
    {
     "cell_type": "code",
     "collapsed": false,
     "input": [
      "#ROC - curve\n",
      "figure(figsize=(15, 5))\n",
      "subplot(121)\n",
      "vars_c11['report.roc()'].plot()\n",
      "vars_c21['report.roc()'].plot()\n",
      "vars_c311['report.roc()'].plot()\n",
      "vars_c312['report.roc()'].plot()\n",
      "legend(['C1.1(B3.2.2)', 'C2.1.1', 'C3.1.1', 'C3.1.2'], loc='best')\n",
      "subplot(122)\n",
      "vars_c11['report2.roc()'].plot()\n",
      "vars_c21['report2.roc()'].plot()\n",
      "vars_c311['report2.roc()'].plot()\n",
      "vars_c312['report2.roc()'].plot()\n",
      "legend(['C1.1(B3.2.2)', 'C2.1.1', 'C3.1.1', 'C3.1.2'], loc='best')"
     ],
     "language": "python",
     "metadata": {},
     "outputs": [],
     "prompt_number": 22
    },
    {
     "cell_type": "code",
     "collapsed": false,
     "input": [
      "import ipykee\n",
      "ipykee.create_project(\"Overview\", repository=\"git@github.com:hushchyn-mikhail/CERN_Time_Series.git\")\n",
      "session = ipykee.Session(project_name=\"Overview\")"
     ],
     "language": "python",
     "metadata": {},
     "outputs": [],
     "prompt_number": 23
    },
    {
     "cell_type": "code",
     "collapsed": false,
     "input": [
      "import ipykee\n",
      "#ipykee.create_project(\"Overview\", repository=\"git@github.com:hushchyn-mikhail/CERN_Time_Series.git\")\n",
      "session = ipykee.Session(project_name=\"Overview\")"
     ],
     "language": "python",
     "metadata": {},
     "outputs": [],
     "prompt_number": 24
    }
   ],
   "metadata": {}
  }
 ]
}