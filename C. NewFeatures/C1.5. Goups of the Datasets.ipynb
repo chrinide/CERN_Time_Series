{
 "metadata": {
  "name": "",
  "signature": "sha256:fed736f9613b93895f739c0ab7599081c516a448917f7b4cd9be02c68c8300f8"
 },
 "nbformat": 3,
 "nbformat_minor": 0,
 "worksheets": [
  {
   "cells": [
    {
     "cell_type": "heading",
     "level": 1,
     "metadata": {},
     "source": [
      "About"
     ]
    },
    {
     "cell_type": "markdown",
     "metadata": {},
     "source": [
      "Groupes of the datasets are explored in this notebook."
     ]
    },
    {
     "cell_type": "heading",
     "level": 1,
     "metadata": {},
     "source": [
      "Data preparation"
     ]
    },
    {
     "cell_type": "code",
     "collapsed": false,
     "input": [
      "%matplotlib inline\n",
      "%pylab inline\n",
      "import numpy as np\n",
      "import pandas as pd\n",
      "import matplotlib.pyplot as plt\n",
      "\n",
      "#Load original data\n",
      "data = pd.read_excel('/home/mikhail91/Desktop/popularity-728days_my.xls')\n",
      "data.columns"
     ],
     "language": "python",
     "metadata": {},
     "outputs": [
      {
       "output_type": "stream",
       "stream": "stdout",
       "text": [
        "Populating the interactive namespace from numpy and matplotlib\n"
       ]
      },
      {
       "metadata": {},
       "output_type": "pyout",
       "prompt_number": 1,
       "text": [
        "Index([u'Name', u'Configuration', u'ProcessingPass', u'FileType', u'Type', u'Creation-week', u'NbLFN', u'LFNSize', u'NbDisk', u'DiskSize', u'NbTape', u'TapeSize', u'NbArchived', u'ArchivedSize', u'Nb Replicas', u'Nb ArchReps', u'Storage', u'FirstUsage', u'LastUsage', u'Now', 1, 2, 3, 4, 5, 6, 7, 8, 9, 10, 11, 12, 13, 14, 15, 16, 17, 18, 19, 20, 21, 22, 23, 24, 25, 26, 27, 28, 29, 30, 31, 32, 33, 34, 35, 36, 37, 38, 39, 40, 41, 42, 43, 44, 45, 46, 47, 48, 49, 50, 51, 52, 53, 54, 55, 56, 57, 58, 59, 60, 61, 62, 63, 64, 65, 66, 67, 68, 69, 70, 71, 72, 73, 74, 75, 76, 77, 78, 79, 80, ...], dtype='object')"
       ]
      }
     ],
     "prompt_number": 1
    },
    {
     "cell_type": "heading",
     "level": 3,
     "metadata": {},
     "source": [
      "Split the datasets into MC and Real Data."
     ]
    },
    {
     "cell_type": "code",
     "collapsed": false,
     "input": [
      "mc = data[data.Type == 0]\n",
      "real_data = data[data.Type == 1]\n",
      "\n",
      "print 'Total number of the datasets is ', data.shape[0]\n",
      "print 'Number of the MC datasets is ', mc.shape[0]\n",
      "print 'Number of the Real Data datasets is ', real_data.shape[0]"
     ],
     "language": "python",
     "metadata": {},
     "outputs": [
      {
       "output_type": "stream",
       "stream": "stdout",
       "text": [
        "Total number of the datasets is  10368\n",
        "Number of the MC datasets is  9633\n",
        "Number of the Real Data datasets is  735\n"
       ]
      }
     ],
     "prompt_number": 3
    },
    {
     "cell_type": "heading",
     "level": 4,
     "metadata": {},
     "source": [
      "Exploring the real_data"
     ]
    },
    {
     "cell_type": "code",
     "collapsed": false,
     "input": [
      "#Unique values of the ProcessingPass variable.\n",
      "processing_passes = np.unique(real_data.ProcessingPass.values)\n",
      "print len(processing_passes)\n",
      "\n",
      "#Histogramm of the processing passes distribution\n",
      "mapping = dict(zip(processing_passes, range(0, len(processing_passes))))\n",
      "pp_indexes = real_data.replace({'ProcessingPass':mapping}).ProcessingPass.values\n",
      "\n",
      "plt.hist(pp_indexes, bins=len(processing_passes))\n",
      "plt.title('Indexes of the Precessing passes')\n",
      "plt.show()"
     ],
     "language": "python",
     "metadata": {},
     "outputs": [
      {
       "output_type": "stream",
       "stream": "stdout",
       "text": [
        "140\n"
       ]
      },
      {
       "metadata": {},
       "output_type": "display_data",
       "png": "[encoded data removed]",
       "text": [
        "<matplotlib.figure.Figure at 0x7f780bc99310>"
       ]
      }
     ],
     "prompt_number": 68
    },
    {
     "cell_type": "code",
     "collapsed": false,
     "input": [
      "#Stripping\n",
      "import re\n",
      "pattern1 = re.compile('Stripping\\d+')\n",
      "\n",
      "stripping = []\n",
      "for i in range(0, len(real_data.ProcessingPass.values)):\n",
      "    substring = pattern1.findall(real_data.ProcessingPass.values[i])\n",
      "    if substring == []:\n",
      "        stripping.append('None')\n",
      "    else:\n",
      "        stripping.append(substring[0])\n",
      "    \n",
      "real_data['Stripping'] = stripping"
     ],
     "language": "python",
     "metadata": {},
     "outputs": [],
     "prompt_number": 54
    },
    {
     "cell_type": "code",
     "collapsed": false,
     "input": [
      "#Unique stripping values\n",
      "strippings = np.unique(real_data.Stripping.values)\n",
      "print len(strippings)\n",
      "print strippings\n",
      "\n",
      "#Histogramm of the processing passes distribution\n",
      "mapping = dict(zip(strippings, range(0, len(strippings))))\n",
      "st_indexes = real_data.replace({'Stripping':mapping}).Stripping.values\n",
      "\n",
      "plt.hist(st_indexes, bins=len(strippings))\n",
      "plt.title('Indexes of the Strippings')\n",
      "plt.show()"
     ],
     "language": "python",
     "metadata": {},
     "outputs": [
      {
       "output_type": "stream",
       "stream": "stdout",
       "text": [
        "11\n",
        "['None' u'Stripping1' u'Stripping12' u'Stripping13' u'Stripping14'\n",
        " u'Stripping15' u'Stripping16' u'Stripping17' u'Stripping18' u'Stripping19'\n",
        " u'Stripping20']\n"
       ]
      },
      {
       "metadata": {},
       "output_type": "display_data",
       "png": "[encoded data removed]",
       "text": [
        "<matplotlib.figure.Figure at 0x7f780b2f16d0>"
       ]
      }
     ],
     "prompt_number": 69
    },
    {
     "cell_type": "code",
     "collapsed": false,
     "input": [
      "#Configuration\n",
      "configurations = np.unique(real_data.Configuration.values)\n",
      "print len(configurations)\n",
      "print configurations\n",
      "\n",
      "#Histogramm of the processing passes distribution\n",
      "mapping = dict(zip(configurations, range(0, len(configurations))))\n",
      "co_indexes = real_data.replace({'Configuration':mapping}).Configuration.values\n",
      "\n",
      "plt.hist(co_indexes, bins=len(configurations))\n",
      "plt.title('Indexes of the Configurations')\n",
      "plt.show()"
     ],
     "language": "python",
     "metadata": {},
     "outputs": [
      {
       "output_type": "stream",
       "stream": "stdout",
       "text": [
        "9\n",
        "[u'/LHCb/Collision10' u'/LHCb/Collision11' u'/LHCb/Collision12'\n",
        " u'/LHCb/Collision12_25' u'/LHCb/Collision12hl' u'/LHCb/Collision13'\n",
        " u'/LHCb/Ionproton13' u'/LHCb/Protonion12' u'/LHCb/Protonion13']\n"
       ]
      },
      {
       "metadata": {},
       "output_type": "display_data",
       "png": "[encoded data removed]",
       "text": [
        "<matplotlib.figure.Figure at 0x7f780b508890>"
       ]
      }
     ],
     "prompt_number": 70
    },
    {
     "cell_type": "heading",
     "level": 4,
     "metadata": {},
     "source": [
      "Exploring the mc data"
     ]
    },
    {
     "cell_type": "code",
     "collapsed": false,
     "input": [
      "#Unique values of the ProcessingPass variable.\n",
      "processing_passes = np.unique(mc.ProcessingPass.values)\n",
      "print len(processing_passes)\n",
      "#print processing_passes\n",
      "\n",
      "#Histogramm of the processing passes distribution\n",
      "mapping = dict(zip(processing_passes, range(0, len(processing_passes))))\n",
      "pp_indexes = mc.replace({'ProcessingPass':mapping}).ProcessingPass.values\n",
      "\n",
      "plt.hist(pp_indexes, bins=len(processing_passes))\n",
      "plt.title('Indexes of the Precessing passes')\n",
      "plt.show()"
     ],
     "language": "python",
     "metadata": {},
     "outputs": [
      {
       "output_type": "stream",
       "stream": "stdout",
       "text": [
        "175\n"
       ]
      },
      {
       "metadata": {},
       "output_type": "display_data",
       "png": "[encoded data removed]",
       "text": [
        "<matplotlib.figure.Figure at 0x7f780b721350>"
       ]
      }
     ],
     "prompt_number": 71
    },
    {
     "cell_type": "code",
     "collapsed": false,
     "input": [
      "#Stripping\n",
      "import re\n",
      "pattern2 = re.compile('Stripping\\d+')\n",
      "\n",
      "stripping = []\n",
      "for i in range(0, len(mc.ProcessingPass.values)):\n",
      "    substring = pattern2.findall(mc.ProcessingPass.values[i])\n",
      "    if substring == []:\n",
      "        stripping.append('None')\n",
      "    else:\n",
      "        stripping.append(substring[0])\n",
      "    \n",
      "mc['Stripping'] = stripping"
     ],
     "language": "python",
     "metadata": {},
     "outputs": [],
     "prompt_number": 72
    },
    {
     "cell_type": "code",
     "collapsed": false,
     "input": [
      "#Unique stripping values\n",
      "strippings = np.unique(mc.Stripping.values)\n",
      "print len(strippings)\n",
      "print strippings\n",
      "\n",
      "#Histogramm of the processing passes distribution\n",
      "mapping = dict(zip(strippings, range(0, len(strippings))))\n",
      "st_indexes = mc.replace({'Stripping':mapping}).Stripping.values\n",
      "\n",
      "plt.hist(st_indexes, bins=len(strippings))\n",
      "plt.title('Indexes of the Strippings')\n",
      "plt.show()"
     ],
     "language": "python",
     "metadata": {},
     "outputs": [
      {
       "output_type": "stream",
       "stream": "stdout",
       "text": [
        "6\n",
        "['None' u'Stripping12' u'Stripping17' u'Stripping18' u'Stripping19'\n",
        " u'Stripping20']\n"
       ]
      },
      {
       "metadata": {},
       "output_type": "display_data",
       "png": "[encoded data removed]",
       "text": [
        "<matplotlib.figure.Figure at 0x7f780b9de510>"
       ]
      }
     ],
     "prompt_number": 73
    },
    {
     "cell_type": "code",
     "collapsed": false,
     "input": [
      "#Configuration\n",
      "configurations = np.unique(mc.Configuration.values)\n",
      "print len(configurations)\n",
      "print configurations\n",
      "\n",
      "#Histogramm of the processing passes distribution\n",
      "mapping = dict(zip(configurations, range(0, len(configurations))))\n",
      "co_indexes = mc.replace({'Configuration':mapping}).Configuration.values\n",
      "\n",
      "plt.hist(co_indexes, bins=len(configurations))\n",
      "plt.title('Indexes of the Configurations')\n",
      "plt.show()"
     ],
     "language": "python",
     "metadata": {},
     "outputs": [
      {
       "output_type": "stream",
       "stream": "stdout",
       "text": [
        "8\n",
        "[u'/MC/2010' u'/MC/2011' u'/MC/2012' u'/MC/2013' u'/MC/DEV' u'/MC/Dev'\n",
        " u'/MC/UPGRADE' u'/MC/Upgrade']\n"
       ]
      },
      {
       "metadata": {},
       "output_type": "display_data",
       "png": "[encoded data removed]",
       "text": [
        "<matplotlib.figure.Figure at 0x7f780b4aee50>"
       ]
      }
     ],
     "prompt_number": 74
    },
    {
     "cell_type": "code",
     "collapsed": false,
     "input": [],
     "language": "python",
     "metadata": {},
     "outputs": []
    }
   ],
   "metadata": {}
  }
 ]
}