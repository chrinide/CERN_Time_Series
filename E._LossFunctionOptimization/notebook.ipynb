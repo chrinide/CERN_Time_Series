{
 "metadata": {
  "name": "",
  "signature": "sha256:99a9dda6384ab3b8a126af62d2b0817537d165606f681436277938de7b743c80"
 },
 "nbformat": 3,
 "nbformat_minor": 0,
 "worksheets": [
  {
   "cells": [
    {
     "cell_type": "markdown",
     "metadata": {},
     "source": [
      "#About\n",
      "\n",
      "Optimization of the datasets placement."
     ]
    },
    {
     "cell_type": "markdown",
     "metadata": {},
     "source": [
      "#Get Data"
     ]
    },
    {
     "cell_type": "code",
     "collapsed": false,
     "input": [
      "import numpy as np\n",
      "import pandas as pd\n",
      "import matplotlib.pyplot as plt\n",
      "%matplotlib inline\n",
      "\n",
      "data_path = 'popularity-910days.csv'\n",
      "data = pd.read_csv(data_path)\n",
      "data = data[data['Storage']=='Disk']\n",
      "\n",
      "data.irow(range(0,2))"
     ],
     "language": "python",
     "metadata": {},
     "outputs": [
      {
       "html": [
        "<div style=\"max-height:1000px;max-width:1500px;overflow:auto;\">\n",
        "<table border=\"1\" class=\"dataframe\">\n",
        "  <thead>\n",
        "    <tr style=\"text-align: right;\">\n",
        "      <th></th>\n",
        "      <th>Name</th>\n",
        "      <th>Configuration</th>\n",
        "      <th>ProcessingPass</th>\n",
        "      <th>FileType</th>\n",
        "      <th>Type</th>\n",
        "      <th>Creation-week</th>\n",
        "      <th>NbLFN</th>\n",
        "      <th>LFNSize</th>\n",
        "      <th>NbDisk</th>\n",
        "      <th>DiskSize</th>\n",
        "      <th>...</th>\n",
        "      <th>121</th>\n",
        "      <th>122</th>\n",
        "      <th>123</th>\n",
        "      <th>124</th>\n",
        "      <th>125</th>\n",
        "      <th>126</th>\n",
        "      <th>127</th>\n",
        "      <th>128</th>\n",
        "      <th>129</th>\n",
        "      <th>130</th>\n",
        "    </tr>\n",
        "  </thead>\n",
        "  <tbody>\n",
        "    <tr>\n",
        "      <th>20</th>\n",
        "      <td> /LHCb/Collision10/Beam3500GeV-VeloClosed-MagDo...</td>\n",
        "      <td> /LHCb/Collision10</td>\n",
        "      <td> /RealData/Reco08-MINBIAS-FIRST-14-NB/Stripping12d</td>\n",
        "      <td> MINIBIAS.DST</td>\n",
        "      <td> 1</td>\n",
        "      <td> 104591</td>\n",
        "      <td>  67</td>\n",
        "      <td> 0.317900</td>\n",
        "      <td> 134</td>\n",
        "      <td> 0.635799</td>\n",
        "      <td>...</td>\n",
        "      <td> 12888</td>\n",
        "      <td> 12888</td>\n",
        "      <td> 12888</td>\n",
        "      <td> 12888</td>\n",
        "      <td> 12888</td>\n",
        "      <td> 12888</td>\n",
        "      <td> 12888</td>\n",
        "      <td> 12888</td>\n",
        "      <td> 12888</td>\n",
        "      <td> 12888</td>\n",
        "    </tr>\n",
        "    <tr>\n",
        "      <th>23</th>\n",
        "      <td> /LHCb/Collision10/Beam3500GeV-VeloClosed-MagDo...</td>\n",
        "      <td> /LHCb/Collision10</td>\n",
        "      <td>                     /RealData/Reco08/Stripping12b</td>\n",
        "      <td>   DIMUON.DST</td>\n",
        "      <td> 1</td>\n",
        "      <td> 104568</td>\n",
        "      <td> 871</td>\n",
        "      <td> 2.402856</td>\n",
        "      <td>   4</td>\n",
        "      <td> 0.005623</td>\n",
        "      <td>...</td>\n",
        "      <td>    10</td>\n",
        "      <td>    10</td>\n",
        "      <td>    10</td>\n",
        "      <td>    10</td>\n",
        "      <td>    10</td>\n",
        "      <td>   877</td>\n",
        "      <td>  1744</td>\n",
        "      <td>  3498</td>\n",
        "      <td>  3498</td>\n",
        "      <td>  5687</td>\n",
        "    </tr>\n",
        "  </tbody>\n",
        "</table>\n",
        "<p>2 rows \u00d7 157 columns</p>\n",
        "</div>"
       ],
       "metadata": {},
       "output_type": "pyout",
       "prompt_number": 112,
       "text": [
        "                                                 Name      Configuration  \\\n",
        "20  /LHCb/Collision10/Beam3500GeV-VeloClosed-MagDo...  /LHCb/Collision10   \n",
        "23  /LHCb/Collision10/Beam3500GeV-VeloClosed-MagDo...  /LHCb/Collision10   \n",
        "\n",
        "                                       ProcessingPass      FileType  Type  \\\n",
        "20  /RealData/Reco08-MINBIAS-FIRST-14-NB/Stripping12d  MINIBIAS.DST     1   \n",
        "23                      /RealData/Reco08/Stripping12b    DIMUON.DST     1   \n",
        "\n",
        "    Creation-week  NbLFN   LFNSize  NbDisk  DiskSize    ...       121    122  \\\n",
        "20         104591     67  0.317900     134  0.635799    ...     12888  12888   \n",
        "23         104568    871  2.402856       4  0.005623    ...        10     10   \n",
        "\n",
        "      123    124    125    126    127    128    129    130  \n",
        "20  12888  12888  12888  12888  12888  12888  12888  12888  \n",
        "23     10     10     10    877   1744   3498   3498   5687  \n",
        "\n",
        "[2 rows x 157 columns]"
       ]
      }
     ],
     "prompt_number": 112
    },
    {
     "cell_type": "markdown",
     "metadata": {},
     "source": [
      "#Get Data Popularity"
     ]
    },
    {
     "cell_type": "code",
     "collapsed": false,
     "input": [
      "from DataPopularity import DataPopularityEstimator\n",
      "\n",
      "estimator = DataPopularityEstimator(data=data, nb_of_weeks=130)\n",
      "%time estimator.train()\n",
      "estimator.roc_curve()"
     ],
     "language": "python",
     "metadata": {},
     "outputs": [
      {
       "output_type": "stream",
       "stream": "stdout",
       "text": [
        "CPU times: user 5min 40s, sys: 21.9 s, total: 6min 2s\n",
        "Wall time: 4min 11s\n"
       ]
      },
      {
       "metadata": {},
       "output_type": "pyout",
       "prompt_number": 113,
       "text": [
        "0.9760251442103729"
       ]
      },
      {
       "metadata": {},
       "output_type": "display_data",
       "png": "[encoded data removed]",
       "text": [
        "<matplotlib.figure.Figure at 0x7fa4ac3f2810>"
       ]
      }
     ],
     "prompt_number": 113
    },
    {
     "cell_type": "code",
     "collapsed": false,
     "input": [
      "popularity = estimator.get_popularity()\n",
      "popularity.irow(range(0,5))"
     ],
     "language": "python",
     "metadata": {},
     "outputs": [
      {
       "html": [
        "<div style=\"max-height:1000px;max-width:1500px;overflow:auto;\">\n",
        "<table border=\"1\" class=\"dataframe\">\n",
        "  <thead>\n",
        "    <tr style=\"text-align: right;\">\n",
        "      <th></th>\n",
        "      <th>Name</th>\n",
        "      <th>Popularity</th>\n",
        "    </tr>\n",
        "  </thead>\n",
        "  <tbody>\n",
        "    <tr>\n",
        "      <th>0</th>\n",
        "      <td> /MC/2011/Beam3500GeV-2011-MagUp-Nu2-Pythia8/Si...</td>\n",
        "      <td> 0.304341</td>\n",
        "    </tr>\n",
        "    <tr>\n",
        "      <th>1</th>\n",
        "      <td> /MC/2012/Beam4000GeV-2012-MagDown-Nu2.5-Pythia...</td>\n",
        "      <td> 0.166363</td>\n",
        "    </tr>\n",
        "    <tr>\n",
        "      <th>2</th>\n",
        "      <td> /MC/2012/Beam4000GeV-2012-MagDown-Nu2.5-Pythia...</td>\n",
        "      <td> 0.000152</td>\n",
        "    </tr>\n",
        "    <tr>\n",
        "      <th>3</th>\n",
        "      <td> /MC/2012/Beam4000GeV-2012-MagDown-Nu2.5-Pythia...</td>\n",
        "      <td> 0.000152</td>\n",
        "    </tr>\n",
        "    <tr>\n",
        "      <th>4</th>\n",
        "      <td> /MC/2012/Beam4000GeV-2012-MagDown-Nu2.5-Pythia...</td>\n",
        "      <td> 0.000152</td>\n",
        "    </tr>\n",
        "  </tbody>\n",
        "</table>\n",
        "</div>"
       ],
       "metadata": {},
       "output_type": "pyout",
       "prompt_number": 114,
       "text": [
        "                                                Name  Popularity\n",
        "0  /MC/2011/Beam3500GeV-2011-MagUp-Nu2-Pythia8/Si...    0.304341\n",
        "1  /MC/2012/Beam4000GeV-2012-MagDown-Nu2.5-Pythia...    0.166363\n",
        "2  /MC/2012/Beam4000GeV-2012-MagDown-Nu2.5-Pythia...    0.000152\n",
        "3  /MC/2012/Beam4000GeV-2012-MagDown-Nu2.5-Pythia...    0.000152\n",
        "4  /MC/2012/Beam4000GeV-2012-MagDown-Nu2.5-Pythia...    0.000152"
       ]
      }
     ],
     "prompt_number": 114
    },
    {
     "cell_type": "code",
     "collapsed": false,
     "input": [
      "cut = estimator.popularity_cut_fpr(fpr_value=0.05)\n",
      "cut"
     ],
     "language": "python",
     "metadata": {},
     "outputs": [
      {
       "metadata": {},
       "output_type": "pyout",
       "prompt_number": 115,
       "text": [
        "0.081029934506134396"
       ]
      }
     ],
     "prompt_number": 115
    },
    {
     "cell_type": "markdown",
     "metadata": {},
     "source": [
      "#Get Predicted Intensities"
     ]
    },
    {
     "cell_type": "code",
     "collapsed": false,
     "input": [
      "from DataPopularity.DataAccessPredictor import DataAccessPredictor\n",
      "\n",
      "predictor = DataAccessPredictor(data=data, nb_of_weeks=130)\n",
      "%time prediction = predictor.predict(zero_one_scale=False)"
     ],
     "language": "python",
     "metadata": {},
     "outputs": [
      {
       "output_type": "stream",
       "stream": "stdout",
       "text": [
        "CPU times: user 2min 11s, sys: 457 ms, total: 2min 12s\n",
        "Wall time: 2min 12s\n"
       ]
      }
     ],
     "prompt_number": 116
    },
    {
     "cell_type": "markdown",
     "metadata": {},
     "source": [
      "#Get Total Report"
     ]
    },
    {
     "cell_type": "code",
     "collapsed": false,
     "input": [
      "total_report = popularity.sort(columns='Name')\n",
      "total_report['Intensity'] = prediction.sort(columns='Name')['Access']\n",
      "total_report['Label'] = estimator.train_report.sort(columns='Name')['Label']\n",
      "total_report['LFNSize'] = data.sort(columns='Name')['LFNSize'].values#data.sort(columns='Name')['DiskSize'].values#\\\n",
      "#+data.sort(columns='Name')['TapeSize'].values#data.sort(columns='Name')['LFNSize']\n",
      "#total_report"
     ],
     "language": "python",
     "metadata": {},
     "outputs": [],
     "prompt_number": 219
    },
    {
     "cell_type": "markdown",
     "metadata": {},
     "source": [
      "#Additional methods"
     ]
    },
    {
     "cell_type": "code",
     "collapsed": false,
     "input": [
      "def set_disk_tape_marker(total_report, pop_cut=0.5):\n",
      "    pop = total_report['Popularity'].values\n",
      "    total_report['OnDisk'] = (pop<=pop_cut)*1\n",
      "    return total_report\n",
      "\n",
      "def set_nb_replicas(total_report, q=[0.5, 0.75, 0.95]):\n",
      "    marker = total_report['OnDisk'].values\n",
      "    inten = total_report['Intensity']\n",
      "    inten_cut = total_report['Intensity'][(marker==1)*(inten>0.01)]\n",
      "    total_report['NbReplicas'] = 1\n",
      "    for i in q:\n",
      "        total_report['NbReplicas'] = total_report['NbReplicas'].values + (marker==1)*(inten.values>inten_cut.quantile(i))*1\n",
      "    return total_report\n",
      "\n",
      "def set_missing(total_report):\n",
      "    marker = total_report['OnDisk']\n",
      "    label = total_report['Label']\n",
      "    total_report['Missing'] = (label==0)*(marker==0)*1\n",
      "    return total_report\n",
      "\n",
      "def report_upgrade(total_report, pop_cut=0.5, q=[0.5, 0.75, 0.95]):\n",
      "    total_report = set_disk_tape_marker(total_report, pop_cut)\n",
      "    total_report = set_nb_replicas(total_report, q=q)\n",
      "    total_report = set_missing(total_report)\n",
      "    return total_report"
     ],
     "language": "python",
     "metadata": {},
     "outputs": [],
     "prompt_number": 220
    },
    {
     "cell_type": "markdown",
     "metadata": {},
     "source": [
      "#Loss Function #1"
     ]
    },
    {
     "cell_type": "code",
     "collapsed": false,
     "input": [
      "def loss_function(total_report, c_disk=100, c_tape=1, c_miss=10000):\n",
      "    lfn_size = total_report['LFNSize'].values\n",
      "    nb_replicas = total_report['NbReplicas']\n",
      "    marker = total_report['OnDisk'].values\n",
      "    miss = total_report['Missing'].values\n",
      "    \n",
      "    nc_disk = (marker*lfn_size*nb_replicas*c_disk).sum()\n",
      "    nc_tape = ((1-marker)*lfn_size*nb_replicas*c_tape).sum()\n",
      "    nc_miss = (miss*lfn_size*nb_replicas*c_miss).sum()\n",
      "    \n",
      "    loss = (nc_disk + nc_tape + nc_miss)\n",
      "    return loss\n",
      "\n",
      "def get_loss_curve(total_report, q=[0.5, 0.75, 0.95], c_disk=100, c_tape=1, c_miss=10000):\n",
      "    cuts = np.array(arange(0, 1, 0.01))\n",
      "    loss_curve = []\n",
      "    for i in cuts:\n",
      "        report = report_upgrade(total_report=total_report, pop_cut=i,  q=q)\n",
      "        loss = loss_function(report, c_disk, c_tape, c_miss)\n",
      "        loss_curve.append(loss)\n",
      "    loss_curve = np.array(loss_curve)\n",
      "    min_loss = loss_curve.min()\n",
      "    min_cut = cuts[loss_curve==min_loss]\n",
      "    return cuts, loss_curve, min_cut, min_loss"
     ],
     "language": "python",
     "metadata": {},
     "outputs": [],
     "prompt_number": 221
    },
    {
     "cell_type": "code",
     "collapsed": false,
     "input": [
      "a = data['Nb_Replicas'].values\n",
      "plt.hist(a, bins=10, normed=True)\n",
      "plt.show()"
     ],
     "language": "python",
     "metadata": {},
     "outputs": [
      {
       "metadata": {},
       "output_type": "display_data",
       "png": "[encoded data removed]",
       "text": [
        "<matplotlib.figure.Figure at 0x7fa4c5b58d10>"
       ]
      }
     ],
     "prompt_number": 272
    },
    {
     "cell_type": "code",
     "collapsed": false,
     "input": [
      "q = [0.25, 0.5, 0.75]\n",
      "cuts, loss, min_cut, min_loss = get_loss_curve(total_report, q=q, c_disk=100, c_tape=1, c_miss=10000)"
     ],
     "language": "python",
     "metadata": {},
     "outputs": [],
     "prompt_number": 252
    },
    {
     "cell_type": "code",
     "collapsed": false,
     "input": [
      "print 'Min point is ', (min_cut[0], min_loss)\n",
      "plt.plot(cuts, np.log(loss))\n",
      "plt.xlabel('Popularity cuts')\n",
      "plt.ylabel('log(Loss)')\n",
      "plt.title('Loss function1')\n",
      "plt.show()"
     ],
     "language": "python",
     "metadata": {},
     "outputs": [
      {
       "output_type": "stream",
       "stream": "stdout",
       "text": [
        "Min point is  (0.58999999999999997, 578521.52650600008)\n"
       ]
      },
      {
       "metadata": {},
       "output_type": "display_data",
       "png": "[encoded data removed]",
       "text": [
        "<matplotlib.figure.Figure at 0x7fa4c5b7d1d0>"
       ]
      }
     ],
     "prompt_number": 253
    },
    {
     "cell_type": "markdown",
     "metadata": {},
     "source": [
      "#Saved Space"
     ]
    },
    {
     "cell_type": "code",
     "collapsed": false,
     "input": [
      "#total_size = (data['LFNSize'].values*data['Nb_Replicas'].values).sum()\n",
      "total_size = (data['DiskSize'].values+data['TapeSize'].values).sum()\n",
      "total_size_d = (data['DiskSize'].values).sum()\n",
      "print total_size\n",
      "print total_size_d"
     ],
     "language": "python",
     "metadata": {},
     "outputs": [
      {
       "output_type": "stream",
       "stream": "stdout",
       "text": [
        "10445.395938\n",
        "10445.395938\n"
       ]
      }
     ],
     "prompt_number": 254
    },
    {
     "cell_type": "code",
     "collapsed": false,
     "input": [
      "total_report = report_upgrade(total_report, pop_cut=min_cut, q=q)\n",
      "used_size = (total_report['LFNSize'].values*total_report['NbReplicas'].values*total_report['OnDisk'].values).sum()\n",
      "total_size - used_size"
     ],
     "language": "python",
     "metadata": {},
     "outputs": [
      {
       "metadata": {},
       "output_type": "pyout",
       "prompt_number": 257,
       "text": [
        "4696.8013459999993"
       ]
      }
     ],
     "prompt_number": 257
    },
    {
     "cell_type": "code",
     "collapsed": false,
     "input": [],
     "language": "python",
     "metadata": {},
     "outputs": [],
     "prompt_number": 11
    },
    {
     "cell_type": "code",
     "collapsed": false,
     "input": [],
     "language": "python",
     "metadata": {},
     "outputs": [],
     "prompt_number": 11
    },
    {
     "cell_type": "code",
     "collapsed": false,
     "input": [],
     "language": "python",
     "metadata": {},
     "outputs": [],
     "prompt_number": 11
    },
    {
     "cell_type": "markdown",
     "metadata": {},
     "source": [
      "#Upload to the repository"
     ]
    },
    {
     "cell_type": "code",
     "collapsed": false,
     "input": [
      "import ipykee\n",
      "#ipykee.create_project(project_name=\"E._LossFunctionOptimization\", repository=\"git@github.com:hushchyn-mikhail/CERN_Time_Series.git\")\n",
      "session = ipykee.Session(project_name=\"E._LossFunctionOptimization\")"
     ],
     "language": "python",
     "metadata": {},
     "outputs": [
      {
       "output_type": "stream",
       "stream": "stdout",
       "text": [
        "This notebook has name E._LossFunctionOptimization\n",
        "Please, save your notebook before commit!\n"
       ]
      }
     ],
     "prompt_number": 273
    },
    {
     "cell_type": "code",
     "collapsed": false,
     "input": [
      "session.commit(\"Final version 1.\")"
     ],
     "language": "python",
     "metadata": {},
     "outputs": [
      {
       "output_type": "stream",
       "stream": "stdout",
       "text": [
        "Copied last saved state of notebook and dumped kernel history\n",
        "Successfuly commited"
       ]
      },
      {
       "output_type": "stream",
       "stream": "stdout",
       "text": [
        "\n",
        "3e802d8e7341023e9443a527223cee0097d58efd E._LossFunctionOptimization: Loss function 2 added.\n"
       ]
      },
      {
       "output_type": "stream",
       "stream": "stdout",
       "text": [
        "\n"
       ]
      }
     ],
     "prompt_number": 66
    },
    {
     "cell_type": "code",
     "collapsed": false,
     "input": [],
     "language": "python",
     "metadata": {},
     "outputs": []
    }
   ],
   "metadata": {}
  }
 ]
}