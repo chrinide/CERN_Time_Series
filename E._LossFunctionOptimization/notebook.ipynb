{
 "metadata": {
  "name": "",
  "signature": "sha256:ab52f0f081190d442d654d0e0c154bfe100435d7bf21a9df4c35efa882e4b1a6"
 },
 "nbformat": 3,
 "nbformat_minor": 0,
 "worksheets": [
  {
   "cells": [
    {
     "cell_type": "markdown",
     "metadata": {},
     "source": [
      "#About\n",
      "\n",
      "Optimization of the datasets placement."
     ]
    },
    {
     "cell_type": "markdown",
     "metadata": {},
     "source": [
      "#Get Data"
     ]
    },
    {
     "cell_type": "code",
     "collapsed": false,
     "input": [
      "import numpy as np\n",
      "import pandas as pd\n",
      "import matplotlib.pyplot as plt\n",
      "%matplotlib inline\n",
      "\n",
      "data_path = 'popularity-910days.csv'\n",
      "data = pd.read_csv(data_path)\n",
      "\n",
      "data.irow(range(0,2))"
     ],
     "language": "python",
     "metadata": {},
     "outputs": [
      {
       "html": [
        "<div style=\"max-height:1000px;max-width:1500px;overflow:auto;\">\n",
        "<table border=\"1\" class=\"dataframe\">\n",
        "  <thead>\n",
        "    <tr style=\"text-align: right;\">\n",
        "      <th></th>\n",
        "      <th>Name</th>\n",
        "      <th>Configuration</th>\n",
        "      <th>ProcessingPass</th>\n",
        "      <th>FileType</th>\n",
        "      <th>Type</th>\n",
        "      <th>Creation-week</th>\n",
        "      <th>NbLFN</th>\n",
        "      <th>LFNSize</th>\n",
        "      <th>NbDisk</th>\n",
        "      <th>DiskSize</th>\n",
        "      <th>...</th>\n",
        "      <th>121</th>\n",
        "      <th>122</th>\n",
        "      <th>123</th>\n",
        "      <th>124</th>\n",
        "      <th>125</th>\n",
        "      <th>126</th>\n",
        "      <th>127</th>\n",
        "      <th>128</th>\n",
        "      <th>129</th>\n",
        "      <th>130</th>\n",
        "    </tr>\n",
        "  </thead>\n",
        "  <tbody>\n",
        "    <tr>\n",
        "      <th>0</th>\n",
        "      <td> /LHCb/Calibration10/Beam3500GeV-VeloClosed-Mag...</td>\n",
        "      <td> /LHCb/Calibration10</td>\n",
        "      <td> /RealData</td>\n",
        "      <td> RAW</td>\n",
        "      <td> 1</td>\n",
        "      <td> 104788</td>\n",
        "      <td>  381</td>\n",
        "      <td> 0.578732</td>\n",
        "      <td> 0</td>\n",
        "      <td> 0</td>\n",
        "      <td>...</td>\n",
        "      <td>   44</td>\n",
        "      <td>   44</td>\n",
        "      <td>   44</td>\n",
        "      <td>   44</td>\n",
        "      <td>   44</td>\n",
        "      <td>   44</td>\n",
        "      <td>   44</td>\n",
        "      <td>   44</td>\n",
        "      <td>   44</td>\n",
        "      <td>   44</td>\n",
        "    </tr>\n",
        "    <tr>\n",
        "      <th>1</th>\n",
        "      <td> /LHCb/Calibration11/Beam3500GeV-VeloClosed-Mag...</td>\n",
        "      <td> /LHCb/Calibration11</td>\n",
        "      <td> /RealData</td>\n",
        "      <td> RAW</td>\n",
        "      <td> 1</td>\n",
        "      <td> 104788</td>\n",
        "      <td> 1743</td>\n",
        "      <td> 5.141242</td>\n",
        "      <td> 0</td>\n",
        "      <td> 0</td>\n",
        "      <td>...</td>\n",
        "      <td> 6162</td>\n",
        "      <td> 6162</td>\n",
        "      <td> 6162</td>\n",
        "      <td> 6162</td>\n",
        "      <td> 6162</td>\n",
        "      <td> 6162</td>\n",
        "      <td> 6162</td>\n",
        "      <td> 6162</td>\n",
        "      <td> 6162</td>\n",
        "      <td> 6162</td>\n",
        "    </tr>\n",
        "  </tbody>\n",
        "</table>\n",
        "<p>2 rows \u00d7 157 columns</p>\n",
        "</div>"
       ],
       "metadata": {},
       "output_type": "pyout",
       "prompt_number": 1,
       "text": [
        "                                                Name        Configuration  \\\n",
        "0  /LHCb/Calibration10/Beam3500GeV-VeloClosed-Mag...  /LHCb/Calibration10   \n",
        "1  /LHCb/Calibration11/Beam3500GeV-VeloClosed-Mag...  /LHCb/Calibration11   \n",
        "\n",
        "  ProcessingPass FileType  Type  Creation-week  NbLFN   LFNSize  NbDisk  \\\n",
        "0      /RealData      RAW     1         104788    381  0.578732       0   \n",
        "1      /RealData      RAW     1         104788   1743  5.141242       0   \n",
        "\n",
        "   DiskSize    ...      121   122   123   124   125   126   127   128   129  \\\n",
        "0         0    ...       44    44    44    44    44    44    44    44    44   \n",
        "1         0    ...     6162  6162  6162  6162  6162  6162  6162  6162  6162   \n",
        "\n",
        "    130  \n",
        "0    44  \n",
        "1  6162  \n",
        "\n",
        "[2 rows x 157 columns]"
       ]
      }
     ],
     "prompt_number": 1
    },
    {
     "cell_type": "markdown",
     "metadata": {},
     "source": [
      "#Get Data Popularity"
     ]
    },
    {
     "cell_type": "code",
     "collapsed": false,
     "input": [
      "from DataPopularity import DataPopularityEstimator\n",
      "\n",
      "estimator = DataPopularityEstimator(data=data, nb_of_weeks=130)\n",
      "%time estimator.train()\n",
      "estimator.roc_curve()"
     ],
     "language": "python",
     "metadata": {},
     "outputs": [
      {
       "output_type": "stream",
       "stream": "stdout",
       "text": [
        "CPU times: user 6min 59s, sys: 22.3 s, total: 7min 21s\n",
        "Wall time: 5min 21s\n"
       ]
      },
      {
       "output_type": "stream",
       "stream": "stderr",
       "text": [
        "/xgboost/wrapper/xgboost.py:80: FutureWarning: comparison to `None` will result in an elementwise object comparison in the future.\n",
        "  if label != None:\n",
        "/xgboost/wrapper/xgboost.py:82: FutureWarning: comparison to `None` will result in an elementwise object comparison in the future.\n",
        "  if weight !=None:\n"
       ]
      },
      {
       "metadata": {},
       "output_type": "pyout",
       "prompt_number": 2,
       "text": [
        "0.97754231017492177"
       ]
      },
      {
       "metadata": {},
       "output_type": "display_data",
       "png": "[encoded data removed]",
       "text": [
        "<matplotlib.figure.Figure at 0x7f56ca0aead0>"
       ]
      }
     ],
     "prompt_number": 2
    },
    {
     "cell_type": "code",
     "collapsed": false,
     "input": [
      "popularity = estimator.get_popularity()\n",
      "popularity.irow(range(0,5))"
     ],
     "language": "python",
     "metadata": {},
     "outputs": [
      {
       "html": [
        "<div style=\"max-height:1000px;max-width:1500px;overflow:auto;\">\n",
        "<table border=\"1\" class=\"dataframe\">\n",
        "  <thead>\n",
        "    <tr style=\"text-align: right;\">\n",
        "      <th></th>\n",
        "      <th>Name</th>\n",
        "      <th>Popularity</th>\n",
        "    </tr>\n",
        "  </thead>\n",
        "  <tbody>\n",
        "    <tr>\n",
        "      <th>0</th>\n",
        "      <td> /MC/2011/Beam3500GeV-2011-MagDown-Nu2-Pythia8/...</td>\n",
        "      <td> 0.343411</td>\n",
        "    </tr>\n",
        "    <tr>\n",
        "      <th>1</th>\n",
        "      <td> /MC/2012/Beam4000GeV-2012-MagDown-Nu2.5-BcVegP...</td>\n",
        "      <td> 0.630948</td>\n",
        "    </tr>\n",
        "    <tr>\n",
        "      <th>2</th>\n",
        "      <td> /MC/2011/Beam3500GeV-2011-MagUp-Nu2-Pythia6/Si...</td>\n",
        "      <td> 0.823957</td>\n",
        "    </tr>\n",
        "    <tr>\n",
        "      <th>3</th>\n",
        "      <td> /MC/2012/Beam4000GeV-2012-MagDown-Nu2.5-Pythia...</td>\n",
        "      <td> 0.000977</td>\n",
        "    </tr>\n",
        "    <tr>\n",
        "      <th>4</th>\n",
        "      <td> /MC/2012/Beam4000GeV-2012-MagUp-Nu2.5-Pythia6/...</td>\n",
        "      <td> 0.001019</td>\n",
        "    </tr>\n",
        "  </tbody>\n",
        "</table>\n",
        "</div>"
       ],
       "metadata": {},
       "output_type": "pyout",
       "prompt_number": 3,
       "text": [
        "                                                Name  Popularity\n",
        "0  /MC/2011/Beam3500GeV-2011-MagDown-Nu2-Pythia8/...    0.343411\n",
        "1  /MC/2012/Beam4000GeV-2012-MagDown-Nu2.5-BcVegP...    0.630948\n",
        "2  /MC/2011/Beam3500GeV-2011-MagUp-Nu2-Pythia6/Si...    0.823957\n",
        "3  /MC/2012/Beam4000GeV-2012-MagDown-Nu2.5-Pythia...    0.000977\n",
        "4  /MC/2012/Beam4000GeV-2012-MagUp-Nu2.5-Pythia6/...    0.001019"
       ]
      }
     ],
     "prompt_number": 3
    },
    {
     "cell_type": "code",
     "collapsed": false,
     "input": [
      "cut = estimator.popularity_cut_fpr(fpr_value=0.05)\n",
      "cut"
     ],
     "language": "python",
     "metadata": {},
     "outputs": [
      {
       "metadata": {},
       "output_type": "pyout",
       "prompt_number": 4,
       "text": [
        "0.060530574268623141"
       ]
      }
     ],
     "prompt_number": 4
    },
    {
     "cell_type": "markdown",
     "metadata": {},
     "source": [
      "#Get Predicted Intensities"
     ]
    },
    {
     "cell_type": "code",
     "collapsed": false,
     "input": [
      "from DataPopularity.DataAccessPredictor import DataAccessPredictor\n",
      "\n",
      "predictor = DataAccessPredictor(data=data, nb_of_weeks=130)\n",
      "%time prediction = predictor.predict(zero_one_scale=False)"
     ],
     "language": "python",
     "metadata": {},
     "outputs": [
      {
       "output_type": "stream",
       "stream": "stdout",
       "text": [
        "CPU times: user 2min 34s, sys: 654 ms, total: 2min 35s\n",
        "Wall time: 2min 35s\n"
       ]
      }
     ],
     "prompt_number": 5
    },
    {
     "cell_type": "markdown",
     "metadata": {},
     "source": [
      "#Get Total Report"
     ]
    },
    {
     "cell_type": "code",
     "collapsed": false,
     "input": [
      "total_report = popularity.sort(columns='Name')\n",
      "total_report['Intensity'] = prediction.sort(columns='Name')['Access']\n",
      "total_report['Label'] = estimator.train_report.sort(columns='Name')['Label']\n",
      "total_report['LFNSize'] = data.sort(columns='Name')['LFNSize']\n",
      "#total_report"
     ],
     "language": "python",
     "metadata": {},
     "outputs": [],
     "prompt_number": 6
    },
    {
     "cell_type": "markdown",
     "metadata": {},
     "source": [
      "#Additional methods"
     ]
    },
    {
     "cell_type": "code",
     "collapsed": false,
     "input": [
      "def set_disk_tape_marker(total_report, pop_cut=0.5):\n",
      "    pop = total_report['Popularity'].values\n",
      "    total_report['OnDisk'] = (pop<=pop_cut)*1\n",
      "    return total_report\n",
      "\n",
      "def set_nb_replicas(total_report, q=[0.5, 0.75, 0.95]):\n",
      "    marker = total_report['OnDisk']\n",
      "    inten = total_report['Intensity']\n",
      "    inten_cut = total_report['Intensity'][marker==1]\n",
      "    total_report['NbReplicas'] = 1\n",
      "    for i in q:\n",
      "        total_report['NbReplicas'] = total_report['NbReplicas'].values + (marker==1)*(inten.values>inten_cut.quantile(i))*1\n",
      "    return total_report\n",
      "\n",
      "def set_missing(total_report):\n",
      "    marker = total_report['OnDisk']\n",
      "    label = total_report['Label']\n",
      "    total_report['Missing'] = (label==0)*(marker==0)*1\n",
      "    return total_report\n",
      "\n",
      "def report_upgrade(total_report, pop_cut=0.5, q=[0.5, 0.75, 0.95]):\n",
      "    set_disk_tape_marker(total_report, pop_cut)\n",
      "    set_nb_replicas(total_report, q=[0.5, 0.75, 0.95])\n",
      "    set_missing(total_report)\n",
      "    return total_report"
     ],
     "language": "python",
     "metadata": {},
     "outputs": [],
     "prompt_number": 7
    },
    {
     "cell_type": "markdown",
     "metadata": {},
     "source": [
      "#Loss Function #1"
     ]
    },
    {
     "cell_type": "code",
     "collapsed": false,
     "input": [
      "def loss_function(total_report, c_disk=100, c_tape=1, c_miss=10000):\n",
      "    lfn_size = total_report['LFNSize'].values\n",
      "    nb_replicas = total_report['NbReplicas']\n",
      "    marker = total_report['OnDisk'].values\n",
      "    miss = total_report['Missing'].values\n",
      "    \n",
      "    nc_disk = (marker*lfn_size*nb_replicas*c_disk).sum()\n",
      "    nc_tape = ((1-marker)*lfn_size*nb_replicas*c_tape).sum()\n",
      "    nc_miss = (miss*lfn_size*nb_replicas*c_miss).sum()\n",
      "    \n",
      "    loss = (nc_disk + nc_tape + nc_miss)\n",
      "    return loss\n",
      "\n",
      "def get_loss_curve(total_report, q=[0.5, 0.75, 0.95], c_disk=100, c_tape=1, c_miss=10000):\n",
      "    cuts = np.array(arange(0, 1, 0.01))\n",
      "    loss_curve = []\n",
      "    for i in cuts:\n",
      "        report = report_upgrade(total_report=total_report, pop_cut=i,  q=q)\n",
      "        loss = loss_function(report, c_disk, c_tape, c_miss)\n",
      "        loss_curve.append(loss)\n",
      "    loss_curve = np.array(loss_curve)\n",
      "    min_loss = loss_curve.min()\n",
      "    min_cut = cuts[loss_curve==min_loss]\n",
      "    return cuts, loss_curve, min_cut, min_loss"
     ],
     "language": "python",
     "metadata": {},
     "outputs": [],
     "prompt_number": 8
    },
    {
     "cell_type": "code",
     "collapsed": false,
     "input": [
      "cuts, loss, min_cut, min_loss = get_loss_curve(total_report, q=[0.5, 0.75, 0.95], c_disk=100, c_tape=1, c_miss=70000)"
     ],
     "language": "python",
     "metadata": {},
     "outputs": [
      {
       "output_type": "stream",
       "stream": "stderr",
       "text": [
        "/usr/local/lib/python2.7/dist-packages/pandas/computation/expressions.py:184: UserWarning: evaluating in Python space because the '*' operator is not supported by numexpr for the bool dtype, use '&' instead\n",
        "  unsupported[op_str]))\n"
       ]
      }
     ],
     "prompt_number": 9
    },
    {
     "cell_type": "code",
     "collapsed": false,
     "input": [
      "print 'Min point is ', (min_cut[0], min_loss)\n",
      "plt.plot(cuts, np.log(loss))\n",
      "plt.xlabel('Popularity cuts')\n",
      "plt.ylabel('log(Loss)')\n",
      "plt.title('Loss function1')\n",
      "plt.show()"
     ],
     "language": "python",
     "metadata": {},
     "outputs": [
      {
       "output_type": "stream",
       "stream": "stdout",
       "text": [
        "Min point is  (0.52000000000000002, 3472898.2481430001)\n"
       ]
      },
      {
       "metadata": {},
       "output_type": "display_data",
       "png": "[encoded data removed]",
       "text": [
        "<matplotlib.figure.Figure at 0x7f56c8379510>"
       ]
      }
     ],
     "prompt_number": 10
    },
    {
     "cell_type": "markdown",
     "metadata": {},
     "source": [
      "#Loss Function #2"
     ]
    },
    {
     "cell_type": "code",
     "collapsed": false,
     "input": [
      "def loss_function2(total_report, v_disk=1, v_tape=100):\n",
      "    lfn_size = total_report['LFNSize'].values\n",
      "    nb_replicas = total_report['NbReplicas']\n",
      "    marker = total_report['OnDisk'].values\n",
      "    miss = total_report['Missing'].values\n",
      "    inten = total_report['Intensity']\n",
      "    \n",
      "    t_disk = (inten/nb_replicas*lfn_size/v_disk*marker).sum()\n",
      "    t_tape = (inten/nb_replicas*lfn_size/v_tape*(1-marker)).sum()\n",
      "    total_time = t_disk + t_tape\n",
      "    \n",
      "    disk_size = (nb_replicas*lfn_size*marker).sum()\n",
      "    return total_time, disk_size\n",
      "\n",
      "def get_loss_curve2(total_report, q=[0.5, 0.75, 0.95], v_disk=1, v_tape=100):\n",
      "    cuts = np.array(arange(0, 1, 0.01))\n",
      "    total_time = []\n",
      "    disk_size = []\n",
      "    for i in cuts:\n",
      "        report = report_upgrade(total_report=total_report, pop_cut=i,  q=q)\n",
      "        time, size = loss_function2(report, v_disk, v_tape)\n",
      "        total_time.append(time)\n",
      "        disk_size.append(size)\n",
      "    total_time = np.array(total_time)\n",
      "    disk_size = np.array(disk_size)\n",
      "\n",
      "    return cuts, total_time, disk_size"
     ],
     "language": "python",
     "metadata": {},
     "outputs": [],
     "prompt_number": 20
    },
    {
     "cell_type": "code",
     "collapsed": false,
     "input": [
      "cuts, total_time, disk_size = get_loss_curve2(total_report, q=[0.5, 0.75, 0.95], v_disk=100, v_tape=1)"
     ],
     "language": "python",
     "metadata": {},
     "outputs": [],
     "prompt_number": 35
    },
    {
     "cell_type": "code",
     "collapsed": false,
     "input": [
      "plt.figure(figsize=(15,10))\n",
      "plt.subplot(221)\n",
      "plt.plot(cuts, total_time)\n",
      "plt.subplot(222)\n",
      "plt.plot(cuts, disk_size)\n",
      "plt.subplot(223)\n",
      "a = 0.5\n",
      "plt.plot(cuts, (1-a)*total_time/total_time.max() + a*disk_size/disk_size.max())"
     ],
     "language": "python",
     "metadata": {},
     "outputs": [
      {
       "metadata": {},
       "output_type": "pyout",
       "prompt_number": 63,
       "text": [
        "[<matplotlib.lines.Line2D at 0x7f56aaa21050>]"
       ]
      },
      {
       "metadata": {},
       "output_type": "display_data",
       "png": "[encoded data removed]",
       "text": [
        "<matplotlib.figure.Figure at 0x7f56aaddb9d0>"
       ]
      }
     ],
     "prompt_number": 63
    },
    {
     "cell_type": "code",
     "collapsed": false,
     "input": [],
     "language": "python",
     "metadata": {},
     "outputs": [],
     "prompt_number": 11
    },
    {
     "cell_type": "code",
     "collapsed": false,
     "input": [],
     "language": "python",
     "metadata": {},
     "outputs": [],
     "prompt_number": 11
    },
    {
     "cell_type": "code",
     "collapsed": false,
     "input": [],
     "language": "python",
     "metadata": {},
     "outputs": [],
     "prompt_number": 11
    },
    {
     "cell_type": "markdown",
     "metadata": {},
     "source": [
      "#Upload to the repository"
     ]
    },
    {
     "cell_type": "code",
     "collapsed": false,
     "input": [
      "import ipykee\n",
      "#ipykee.create_project(project_name=\"E._LossFunctionOptimization\", repository=\"git@github.com:hushchyn-mikhail/CERN_Time_Series.git\")\n",
      "session = ipykee.Session(project_name=\"E._LossFunctionOptimization\")"
     ],
     "language": "python",
     "metadata": {},
     "outputs": [
      {
       "output_type": "stream",
       "stream": "stdout",
       "text": [
        "This notebook has name E._LossFunctionOptimization\n",
        "Please, save your notebook before commit!\n"
       ]
      }
     ],
     "prompt_number": 64
    },
    {
     "cell_type": "code",
     "collapsed": false,
     "input": [
      "session.commit(\"Loss function 1 added.\")"
     ],
     "language": "python",
     "metadata": {},
     "outputs": []
    },
    {
     "cell_type": "code",
     "collapsed": false,
     "input": [],
     "language": "python",
     "metadata": {},
     "outputs": []
    }
   ],
   "metadata": {}
  }
 ]
}