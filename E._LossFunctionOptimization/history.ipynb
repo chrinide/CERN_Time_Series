{
 "metadata": {
  "name": "/ipykee/workdir/tmp1HppHL/E"
 },
 "nbformat": 3,
 "nbformat_minor": 0,
 "worksheets": [
  {
   "cells": [
    {
     "cell_type": "code",
     "collapsed": false,
     "input": [
      "import numpy as np\n",
      "import pandas as pd\n",
      "import matplotlib.pyplot as plt\n",
      "%matplotlib inline\n",
      "\n",
      "data_path = 'popularity-910days.csv'\n",
      "data = pd.read_csv(data_path)\n",
      "\n",
      "data.irow(range(0,2))"
     ],
     "language": "python",
     "metadata": {},
     "outputs": [],
     "prompt_number": 1
    },
    {
     "cell_type": "code",
     "collapsed": false,
     "input": [
      "from DataPopularity import DataPopularityEstimator\n",
      "\n",
      "estimator = DataPopularityEstimator(data=data, nb_of_weeks=130)\n",
      "%time estimator.train()\n",
      "estimator.roc_curve()"
     ],
     "language": "python",
     "metadata": {},
     "outputs": [],
     "prompt_number": 2
    },
    {
     "cell_type": "code",
     "collapsed": false,
     "input": [
      "cd DataPopularity/Packages/kernel_regression-master/"
     ],
     "language": "python",
     "metadata": {},
     "outputs": [],
     "prompt_number": 3
    },
    {
     "cell_type": "code",
     "collapsed": false,
     "input": [
      "!pip install ."
     ],
     "language": "python",
     "metadata": {},
     "outputs": [],
     "prompt_number": 4
    },
    {
     "cell_type": "code",
     "collapsed": false,
     "input": [
      "cd ../"
     ],
     "language": "python",
     "metadata": {},
     "outputs": [],
     "prompt_number": 5
    },
    {
     "cell_type": "code",
     "collapsed": false,
     "input": [
      "cd ../"
     ],
     "language": "python",
     "metadata": {},
     "outputs": [],
     "prompt_number": 6
    },
    {
     "cell_type": "code",
     "collapsed": false,
     "input": [
      "!pip install ."
     ],
     "language": "python",
     "metadata": {},
     "outputs": [],
     "prompt_number": 7
    },
    {
     "cell_type": "code",
     "collapsed": false,
     "input": [
      "from DataPopularity import DataPopularityEstimator\n",
      "\n",
      "estimator = DataPopularityEstimator(data=data, nb_of_weeks=130)\n",
      "%time estimator.train()\n",
      "estimator.roc_curve()"
     ],
     "language": "python",
     "metadata": {},
     "outputs": [],
     "prompt_number": 8
    },
    {
     "cell_type": "code",
     "collapsed": false,
     "input": [
      "popularity = estimator.get_popularity()\n",
      "popularity.irow(range(0,5))"
     ],
     "language": "python",
     "metadata": {},
     "outputs": [],
     "prompt_number": 9
    },
    {
     "cell_type": "code",
     "collapsed": false,
     "input": [
      "cut = estimator.popularity_cut_fpr(fpr_value=0.05)\n",
      "cut"
     ],
     "language": "python",
     "metadata": {},
     "outputs": [],
     "prompt_number": 10
    },
    {
     "cell_type": "code",
     "collapsed": false,
     "input": [
      "from DataPopularity.DataAccessPredictor import DataAccessPredictor\n",
      "\n",
      "predictor = DataAccessPredictor(data=data, nb_of_weeks=130)\n",
      "%time prediction = predictor.predict(zero_one_scale=False)"
     ],
     "language": "python",
     "metadata": {},
     "outputs": [],
     "prompt_number": 11
    },
    {
     "cell_type": "code",
     "collapsed": false,
     "input": [
      "total_report = popularity.sort(columns='Name')\n",
      "total_report['Intensity'] = prediction.sort(columns='Name')['Access']\n",
      "total_report['Label'] = estimator.train_report.sort(columns='Name')['Label']\n",
      "total_report['LFNSize'] = data.sort(columns='Name')['LFNSize']\n",
      "#total_report"
     ],
     "language": "python",
     "metadata": {},
     "outputs": [],
     "prompt_number": 12
    },
    {
     "cell_type": "code",
     "collapsed": false,
     "input": [
      "def set_disk_tape_marker(total_report, pop_cut=0.5):\n",
      "    pop = total_report['Popularity'].values\n",
      "    total_report['OnDisk'] = (pop<=pop_cut)*1\n",
      "    return total_report\n",
      "\n",
      "def set_nb_replicas(total_report, q=[0.5, 0.75, 0.95]):\n",
      "    marker = total_report['OnDisk']\n",
      "    inten = total_report['Intensity']\n",
      "    inten_cut = total_report['Intensity'][marker==1]\n",
      "    total_report['NbReplicas'] = 1\n",
      "    for i in q:\n",
      "        total_report['NbReplicas'] = total_report['NbReplicas'].values + (marker==1)*(inten.values>inten_cut.quantile(i))*1\n",
      "    return total_report\n",
      "\n",
      "def set_missing(total_report):\n",
      "    marker = total_report['OnDisk']\n",
      "    label = total_report['Label']\n",
      "    total_report['Missing'] = (label==0)*(marker==0)*1\n",
      "    return total_report\n",
      "\n",
      "def report_upgrade(total_report, pop_cut=0.5, q=[0.5, 0.75, 0.95]):\n",
      "    set_disk_tape_marker(total_report, pop_cut)\n",
      "    set_nb_replicas(total_report, q=[0.5, 0.75, 0.95])\n",
      "    set_missing(total_report)\n",
      "    return total_report"
     ],
     "language": "python",
     "metadata": {},
     "outputs": [],
     "prompt_number": 13
    },
    {
     "cell_type": "code",
     "collapsed": false,
     "input": [
      "def loss_function(total_report, c_disk=100, c_tape=1, c_miss=10000):\n",
      "    lfn_size = total_report['LFNSize'].values\n",
      "    nb_replicas = total_report['NbReplicas']\n",
      "    marker = total_report['OnDisk'].values\n",
      "    miss = total_report['Missing'].values\n",
      "    \n",
      "    nc_disk = (marker*lfn_size*nb_replicas*c_disk).sum()\n",
      "    nc_tape = ((1-marker)*lfn_size*nb_replicas*c_tape).sum()\n",
      "    nc_miss = (miss*lfn_size*nb_replicas*c_miss).sum()\n",
      "    \n",
      "    loss = (nc_disk + nc_tape + nc_miss)\n",
      "    return loss\n",
      "\n",
      "def get_loss_curve(total_report, q=[0.5, 0.75, 0.95], c_disk=100, c_tape=1, c_miss=10000):\n",
      "    cuts = np.array(arange(0, 1, 0.01))\n",
      "    loss_curve = []\n",
      "    for i in cuts:\n",
      "        report = report_upgrade(total_report=total_report, pop_cut=i,  q=q)\n",
      "        loss = loss_function(report, c_disk, c_tape, c_miss)\n",
      "        loss_curve.append(loss)\n",
      "    loss_curve = np.array(loss_curve)\n",
      "    min_loss = loss_curve.min()\n",
      "    min_cut = cuts[loss_curve==min_loss]\n",
      "    return cuts, loss_curve, min_cut, min_loss"
     ],
     "language": "python",
     "metadata": {},
     "outputs": [],
     "prompt_number": 14
    },
    {
     "cell_type": "code",
     "collapsed": false,
     "input": [
      "cuts, loss, min_cut, min_loss = get_loss_curve(total_report, q=[0.5, 0.75, 0.95], c_disk=100, c_tape=1, c_miss=70000)"
     ],
     "language": "python",
     "metadata": {},
     "outputs": [],
     "prompt_number": 15
    },
    {
     "cell_type": "code",
     "collapsed": false,
     "input": [
      "print 'Min point is ', (min_cut[0], min_loss)\n",
      "plt.plot(cuts, np.log(loss))\n",
      "plt.xlabel('Popularity cuts')\n",
      "plt.ylabel('log(Loss)')\n",
      "plt.title('Loss function1')\n",
      "plt.show()"
     ],
     "language": "python",
     "metadata": {},
     "outputs": [],
     "prompt_number": 16
    },
    {
     "cell_type": "code",
     "collapsed": false,
     "input": [
      "#total_size = (data['LFNSize'].values*data['Nb_Replicas'].values).sum()\n",
      "total_size = (data['DiskSize'].values+data['TapeSize'].values).sum()\n",
      "#total_size = (data['DiskSize'].values).sum()\n",
      "total_size"
     ],
     "language": "python",
     "metadata": {},
     "outputs": [],
     "prompt_number": 17
    },
    {
     "cell_type": "code",
     "collapsed": false,
     "input": [
      "total_report = report_upgrade(total_report, pop_cut=min_cut, q=[0.5, 0.75, 0.95])\n",
      "used_size = (total_report['LFNSize'].values*total_report['NbReplicas'].values*total_report['OnDisk'].values).sum()\n",
      "used_size"
     ],
     "language": "python",
     "metadata": {},
     "outputs": [],
     "prompt_number": 18
    },
    {
     "cell_type": "code",
     "collapsed": false,
     "input": [
      "x = data.sort(columns='Name')['Nb_Replicas'].values\n",
      "y = total_report['NbReplicas'].values\n",
      "plt.scatter(x,y)\n",
      "plt.show()"
     ],
     "language": "python",
     "metadata": {},
     "outputs": [],
     "prompt_number": 19
    },
    {
     "cell_type": "code",
     "collapsed": false,
     "input": [
      "def loss_function2(total_report, v_disk=1, v_tape=100):\n",
      "    lfn_size = total_report['LFNSize'].values\n",
      "    nb_replicas = total_report['NbReplicas']\n",
      "    marker = total_report['OnDisk'].values\n",
      "    miss = total_report['Missing'].values\n",
      "    inten = total_report['Intensity']\n",
      "    \n",
      "    t_disk = (inten/nb_replicas*lfn_size/v_disk*marker).sum()\n",
      "    t_tape = (inten/nb_replicas*lfn_size/v_tape*(1-marker)).sum()\n",
      "    total_time = t_disk + t_tape\n",
      "    \n",
      "    disk_size = (nb_replicas*lfn_size*marker).sum()\n",
      "    return total_time, disk_size\n",
      "\n",
      "def get_loss_curve2(total_report, q=[0.5, 0.75, 0.95], v_disk=1, v_tape=100):\n",
      "    cuts = np.array(arange(0, 1, 0.01))\n",
      "    total_time = []\n",
      "    disk_size = []\n",
      "    for i in cuts:\n",
      "        report = report_upgrade(total_report=total_report, pop_cut=i,  q=q)\n",
      "        time, size = loss_function2(report, v_disk, v_tape)\n",
      "        total_time.append(time)\n",
      "        disk_size.append(size)\n",
      "    total_time = np.array(total_time)\n",
      "    disk_size = np.array(disk_size)\n",
      "\n",
      "    return cuts, total_time, disk_size"
     ],
     "language": "python",
     "metadata": {},
     "outputs": [],
     "prompt_number": 20
    },
    {
     "cell_type": "code",
     "collapsed": false,
     "input": [
      "cuts, total_time, disk_size = get_loss_curve2(total_report, q=[0.5, 0.75, 0.95], v_disk=100, v_tape=1)"
     ],
     "language": "python",
     "metadata": {},
     "outputs": [],
     "prompt_number": 21
    },
    {
     "cell_type": "code",
     "collapsed": false,
     "input": [
      "plt.figure(figsize=(15,10))\n",
      "plt.subplot(221)\n",
      "plt.plot(cuts, total_time)\n",
      "plt.title('Total time')\n",
      "plt.xlabel('Popularity cut')\n",
      "plt.subplot(222)\n",
      "plt.plot(cuts, disk_size)\n",
      "plt.title('Disk Size')\n",
      "plt.xlabel('Popularity cut')\n",
      "plt.subplot(223)\n",
      "a = 0.5\n",
      "plt.plot(cuts, (1-a)*total_time/total_time.max() + a*disk_size/disk_size.max())\n",
      "plt.title('Diff')\n",
      "plt.xlabel('Popularity cut')"
     ],
     "language": "python",
     "metadata": {},
     "outputs": [],
     "prompt_number": 22
    },
    {
     "cell_type": "code",
     "collapsed": false,
     "input": [
      "total_report = report_upgrade(total_report, pop_cut=min_cut, q=[0.7, 0.8, 0.9])\n",
      "used_size = (total_report['LFNSize'].values*total_report['NbReplicas'].values*total_report['OnDisk'].values).sum()\n",
      "used_size"
     ],
     "language": "python",
     "metadata": {},
     "outputs": [],
     "prompt_number": 23
    },
    {
     "cell_type": "code",
     "collapsed": false,
     "input": [
      "#total_size = (data['LFNSize'].values*data['Nb_Replicas'].values).sum()\n",
      "total_size = (data['DiskSize'].values+data['TapeSize'].values).sum()\n",
      "#total_size = (data['DiskSize'].values).sum()\n",
      "total_size"
     ],
     "language": "python",
     "metadata": {},
     "outputs": [],
     "prompt_number": 24
    },
    {
     "cell_type": "code",
     "collapsed": false,
     "input": [
      "total_report = report_upgrade(total_report, pop_cut=min_cut, q=[0.7, 0.8, 0.9])\n",
      "used_size = (total_report['LFNSize'].values*total_report['NbReplicas'].values*total_report['OnDisk'].values).sum()\n",
      "used_size"
     ],
     "language": "python",
     "metadata": {},
     "outputs": [],
     "prompt_number": 25
    },
    {
     "cell_type": "code",
     "collapsed": false,
     "input": [
      "total_report = report_upgrade(total_report, pop_cut=min_cut, q=[0.9, 0.95, 0.97])\n",
      "used_size = (total_report['LFNSize'].values*total_report['NbReplicas'].values*total_report['OnDisk'].values).sum()\n",
      "used_size"
     ],
     "language": "python",
     "metadata": {},
     "outputs": [],
     "prompt_number": 26
    },
    {
     "cell_type": "code",
     "collapsed": false,
     "input": [
      "total_report = report_upgrade(total_report, pop_cut=min_cut, q=[0.1, 0.2, 0.3])\n",
      "used_size = (total_report['LFNSize'].values*total_report['NbReplicas'].values*total_report['OnDisk'].values).sum()\n",
      "used_size"
     ],
     "language": "python",
     "metadata": {},
     "outputs": [],
     "prompt_number": 27
    },
    {
     "cell_type": "code",
     "collapsed": false,
     "input": [
      "def set_disk_tape_marker(total_report, pop_cut=0.5):\n",
      "    pop = total_report['Popularity'].values\n",
      "    total_report['OnDisk'] = (pop<=pop_cut)*1\n",
      "    return total_report\n",
      "\n",
      "def set_nb_replicas(total_report, q=[0.5, 0.75, 0.95]):\n",
      "    marker = total_report['OnDisk'].values\n",
      "    inten = total_report['Intensity']\n",
      "    inten_cut = total_report['Intensity'][marker==1]\n",
      "    total_report['NbReplicas'] = 1\n",
      "    for i in q:\n",
      "        total_report['NbReplicas'] = total_report['NbReplicas'].values + (marker==1)*(inten.values>inten_cut.quantile(i))*1\n",
      "    return total_report\n",
      "\n",
      "def set_missing(total_report):\n",
      "    marker = total_report['OnDisk']\n",
      "    label = total_report['Label']\n",
      "    total_report['Missing'] = (label==0)*(marker==0)*1\n",
      "    return total_report\n",
      "\n",
      "def report_upgrade(total_report, pop_cut=0.5, q=[0.5, 0.75, 0.95]):\n",
      "    set_disk_tape_marker(total_report, pop_cut)\n",
      "    set_nb_replicas(total_report, q=[0.5, 0.75, 0.95])\n",
      "    set_missing(total_report)\n",
      "    return total_report"
     ],
     "language": "python",
     "metadata": {},
     "outputs": [],
     "prompt_number": 28
    },
    {
     "cell_type": "code",
     "collapsed": false,
     "input": [
      "def loss_function(total_report, c_disk=100, c_tape=1, c_miss=10000):\n",
      "    lfn_size = total_report['LFNSize'].values\n",
      "    nb_replicas = total_report['NbReplicas']\n",
      "    marker = total_report['OnDisk'].values\n",
      "    miss = total_report['Missing'].values\n",
      "    \n",
      "    nc_disk = (marker*lfn_size*nb_replicas*c_disk).sum()\n",
      "    nc_tape = ((1-marker)*lfn_size*nb_replicas*c_tape).sum()\n",
      "    nc_miss = (miss*lfn_size*nb_replicas*c_miss).sum()\n",
      "    \n",
      "    loss = (nc_disk + nc_tape + nc_miss)\n",
      "    return loss\n",
      "\n",
      "def get_loss_curve(total_report, q=[0.5, 0.75, 0.95], c_disk=100, c_tape=1, c_miss=10000):\n",
      "    cuts = np.array(arange(0, 1, 0.01))\n",
      "    loss_curve = []\n",
      "    for i in cuts:\n",
      "        report = report_upgrade(total_report=total_report, pop_cut=i,  q=q)\n",
      "        loss = loss_function(report, c_disk, c_tape, c_miss)\n",
      "        loss_curve.append(loss)\n",
      "    loss_curve = np.array(loss_curve)\n",
      "    min_loss = loss_curve.min()\n",
      "    min_cut = cuts[loss_curve==min_loss]\n",
      "    return cuts, loss_curve, min_cut, min_loss"
     ],
     "language": "python",
     "metadata": {},
     "outputs": [],
     "prompt_number": 29
    },
    {
     "cell_type": "code",
     "collapsed": false,
     "input": [
      "cuts, loss, min_cut, min_loss = get_loss_curve(total_report, q=[0.5, 0.75, 0.95], c_disk=100, c_tape=1, c_miss=70000)"
     ],
     "language": "python",
     "metadata": {},
     "outputs": [],
     "prompt_number": 30
    },
    {
     "cell_type": "code",
     "collapsed": false,
     "input": [
      "print 'Min point is ', (min_cut[0], min_loss)\n",
      "plt.plot(cuts, np.log(loss))\n",
      "plt.xlabel('Popularity cuts')\n",
      "plt.ylabel('log(Loss)')\n",
      "plt.title('Loss function1')\n",
      "plt.show()"
     ],
     "language": "python",
     "metadata": {},
     "outputs": [],
     "prompt_number": 31
    },
    {
     "cell_type": "code",
     "collapsed": false,
     "input": [
      "#total_size = (data['LFNSize'].values*data['Nb_Replicas'].values).sum()\n",
      "total_size = (data['DiskSize'].values+data['TapeSize'].values).sum()\n",
      "#total_size = (data['DiskSize'].values).sum()\n",
      "total_size"
     ],
     "language": "python",
     "metadata": {},
     "outputs": [],
     "prompt_number": 32
    },
    {
     "cell_type": "code",
     "collapsed": false,
     "input": [
      "total_report = report_upgrade(total_report, pop_cut=min_cut, q=[0.1, 0.2, 0.3])\n",
      "used_size = (total_report['LFNSize'].values*total_report['NbReplicas'].values*total_report['OnDisk'].values).sum()\n",
      "used_size"
     ],
     "language": "python",
     "metadata": {},
     "outputs": [],
     "prompt_number": 33
    },
    {
     "cell_type": "code",
     "collapsed": false,
     "input": [
      "x = data.sort(columns='Name')['Nb_Replicas'].values\n",
      "y = total_report['NbReplicas'].values\n",
      "plt.scatter(x,y)\n",
      "plt.show()"
     ],
     "language": "python",
     "metadata": {},
     "outputs": [],
     "prompt_number": 34
    },
    {
     "cell_type": "code",
     "collapsed": false,
     "input": [
      "total_report = report_upgrade(total_report, pop_cut=0.2, q=[0.1, 0.2, 0.3])\n",
      "used_size = (total_report['LFNSize'].values*total_report['NbReplicas'].values*total_report['OnDisk'].values).sum()\n",
      "used_size"
     ],
     "language": "python",
     "metadata": {},
     "outputs": [],
     "prompt_number": 35
    },
    {
     "cell_type": "code",
     "collapsed": false,
     "input": [
      "total_report = report_upgrade(total_report, pop_cut=0.2, q=[0.1, 0.2, 0.5])\n",
      "used_size = (total_report['LFNSize'].values*total_report['NbReplicas'].values*total_report['OnDisk'].values).sum()\n",
      "used_size"
     ],
     "language": "python",
     "metadata": {},
     "outputs": [],
     "prompt_number": 36
    },
    {
     "cell_type": "code",
     "collapsed": false,
     "input": [
      "total_report = report_upgrade(total_report, pop_cut=0.2, q=[0.1, 0.2, 0.1])\n",
      "used_size = (total_report['LFNSize'].values*total_report['NbReplicas'].values*total_report['OnDisk'].values).sum()\n",
      "used_size"
     ],
     "language": "python",
     "metadata": {},
     "outputs": [],
     "prompt_number": 37
    },
    {
     "cell_type": "code",
     "collapsed": false,
     "input": [
      "total_report = report_upgrade(total_report, pop_cut=0.2, q=[0.1, 0.1, 0.1])\n",
      "used_size = (total_report['LFNSize'].values*total_report['NbReplicas'].values*total_report['OnDisk'].values).sum()\n",
      "used_size"
     ],
     "language": "python",
     "metadata": {},
     "outputs": [],
     "prompt_number": 38
    },
    {
     "cell_type": "code",
     "collapsed": false,
     "input": [
      "total_report['NbReplicas']"
     ],
     "language": "python",
     "metadata": {},
     "outputs": [],
     "prompt_number": 39
    },
    {
     "cell_type": "code",
     "collapsed": false,
     "input": [
      "total_report['NbReplicas'].sum()"
     ],
     "language": "python",
     "metadata": {},
     "outputs": [],
     "prompt_number": 40
    },
    {
     "cell_type": "code",
     "collapsed": false,
     "input": [
      "total_report = report_upgrade(total_report, pop_cut=0.2, q=[0.5, 0.7, 0.8])\n",
      "used_size = (total_report['LFNSize'].values*total_report['NbReplicas'].values*total_report['OnDisk'].values).sum()\n",
      "used_size"
     ],
     "language": "python",
     "metadata": {},
     "outputs": [],
     "prompt_number": 41
    },
    {
     "cell_type": "code",
     "collapsed": false,
     "input": [
      "total_report['NbReplicas'].sum()"
     ],
     "language": "python",
     "metadata": {},
     "outputs": [],
     "prompt_number": 42
    },
    {
     "cell_type": "code",
     "collapsed": false,
     "input": [
      "def set_disk_tape_marker(total_report, pop_cut=0.5):\n",
      "    pop = total_report['Popularity'].values\n",
      "    total_report['OnDisk'] = (pop<=pop_cut)*1\n",
      "    return total_report\n",
      "\n",
      "def set_nb_replicas(total_report, q=[0.5, 0.75, 0.95]):\n",
      "    marker = total_report['OnDisk'].values\n",
      "    inten = total_report['Intensity']\n",
      "    inten_cut = total_report['Intensity'][marker==1]\n",
      "    total_report['NbReplicas'] = 1\n",
      "    for i in q:\n",
      "        total_report['NbReplicas'] = total_report['NbReplicas'].values + (marker==1)*(inten.values>inten_cut.quantile(i))*1\n",
      "    return total_report\n",
      "\n",
      "def set_missing(total_report):\n",
      "    marker = total_report['OnDisk']\n",
      "    label = total_report['Label']\n",
      "    total_report['Missing'] = (label==0)*(marker==0)*1\n",
      "    return total_report\n",
      "\n",
      "def report_upgrade(total_report, pop_cut=0.5, q=[0.5, 0.75, 0.95]):\n",
      "    total_report = set_disk_tape_marker(total_report, pop_cut)\n",
      "    total_report = set_nb_replicas(total_report, q=[0.5, 0.75, 0.95])\n",
      "    total_report = set_missing(total_report)\n",
      "    return total_report"
     ],
     "language": "python",
     "metadata": {},
     "outputs": [],
     "prompt_number": 43
    },
    {
     "cell_type": "code",
     "collapsed": false,
     "input": [
      "def loss_function(total_report, c_disk=100, c_tape=1, c_miss=10000):\n",
      "    lfn_size = total_report['LFNSize'].values\n",
      "    nb_replicas = total_report['NbReplicas']\n",
      "    marker = total_report['OnDisk'].values\n",
      "    miss = total_report['Missing'].values\n",
      "    \n",
      "    nc_disk = (marker*lfn_size*nb_replicas*c_disk).sum()\n",
      "    nc_tape = ((1-marker)*lfn_size*nb_replicas*c_tape).sum()\n",
      "    nc_miss = (miss*lfn_size*nb_replicas*c_miss).sum()\n",
      "    \n",
      "    loss = (nc_disk + nc_tape + nc_miss)\n",
      "    return loss\n",
      "\n",
      "def get_loss_curve(total_report, q=[0.5, 0.75, 0.95], c_disk=100, c_tape=1, c_miss=10000):\n",
      "    cuts = np.array(arange(0, 1, 0.01))\n",
      "    loss_curve = []\n",
      "    for i in cuts:\n",
      "        report = report_upgrade(total_report=total_report, pop_cut=i,  q=q)\n",
      "        loss = loss_function(report, c_disk, c_tape, c_miss)\n",
      "        loss_curve.append(loss)\n",
      "    loss_curve = np.array(loss_curve)\n",
      "    min_loss = loss_curve.min()\n",
      "    min_cut = cuts[loss_curve==min_loss]\n",
      "    return cuts, loss_curve, min_cut, min_loss"
     ],
     "language": "python",
     "metadata": {},
     "outputs": [],
     "prompt_number": 44
    },
    {
     "cell_type": "code",
     "collapsed": false,
     "input": [
      "cuts, loss, min_cut, min_loss = get_loss_curve(total_report, q=[0.5, 0.75, 0.95], c_disk=100, c_tape=1, c_miss=70000)"
     ],
     "language": "python",
     "metadata": {},
     "outputs": [],
     "prompt_number": 45
    },
    {
     "cell_type": "code",
     "collapsed": false,
     "input": [
      "print 'Min point is ', (min_cut[0], min_loss)\n",
      "plt.plot(cuts, np.log(loss))\n",
      "plt.xlabel('Popularity cuts')\n",
      "plt.ylabel('log(Loss)')\n",
      "plt.title('Loss function1')\n",
      "plt.show()"
     ],
     "language": "python",
     "metadata": {},
     "outputs": [],
     "prompt_number": 46
    },
    {
     "cell_type": "code",
     "collapsed": false,
     "input": [
      "#total_size = (data['LFNSize'].values*data['Nb_Replicas'].values).sum()\n",
      "total_size = (data['DiskSize'].values+data['TapeSize'].values).sum()\n",
      "#total_size = (data['DiskSize'].values).sum()\n",
      "total_size"
     ],
     "language": "python",
     "metadata": {},
     "outputs": [],
     "prompt_number": 47
    },
    {
     "cell_type": "code",
     "collapsed": false,
     "input": [
      "total_report = report_upgrade(total_report, pop_cut=0.2, q=[0.5, 0.7, 0.8])\n",
      "used_size = (total_report['LFNSize'].values*total_report['NbReplicas'].values*total_report['OnDisk'].values).sum()\n",
      "used_size"
     ],
     "language": "python",
     "metadata": {},
     "outputs": [],
     "prompt_number": 48
    },
    {
     "cell_type": "code",
     "collapsed": false,
     "input": [
      "total_report['NbReplicas'].sum()"
     ],
     "language": "python",
     "metadata": {},
     "outputs": [],
     "prompt_number": 49
    },
    {
     "cell_type": "code",
     "collapsed": false,
     "input": [
      "total_report = report_upgrade(total_report, pop_cut=0.2, q=[0.1, 0.7, 0.8])\n",
      "used_size = (total_report['LFNSize'].values*total_report['NbReplicas'].values*total_report['OnDisk'].values).sum()\n",
      "used_size"
     ],
     "language": "python",
     "metadata": {},
     "outputs": [],
     "prompt_number": 50
    },
    {
     "cell_type": "code",
     "collapsed": false,
     "input": [
      "total_report['NbReplicas'].sum()"
     ],
     "language": "python",
     "metadata": {},
     "outputs": [],
     "prompt_number": 51
    },
    {
     "cell_type": "code",
     "collapsed": false,
     "input": [
      "def set_disk_tape_marker(total_report, pop_cut=0.5):\n",
      "    pop = total_report['Popularity'].values\n",
      "    total_report['OnDisk'] = (pop<=pop_cut)*1\n",
      "    return total_report\n",
      "\n",
      "def set_nb_replicas(total_report, q=[0.5, 0.75, 0.95]):\n",
      "    marker = total_report['OnDisk'].values\n",
      "    inten = total_report['Intensity']\n",
      "    inten_cut = total_report['Intensity'][marker==1]\n",
      "    total_report['NbReplicas'] = 1\n",
      "    for i in q:\n",
      "        total_report['NbReplicas'] = total_report['NbReplicas'].values + (marker==1)*(inten.values>inten_cut.quantile(i))*1\n",
      "    return total_report\n",
      "\n",
      "def set_missing(total_report):\n",
      "    marker = total_report['OnDisk']\n",
      "    label = total_report['Label']\n",
      "    total_report['Missing'] = (label==0)*(marker==0)*1\n",
      "    return total_report\n",
      "\n",
      "def report_upgrade(total_report, pop_cut=0.5, q=[0.5, 0.75, 0.95]):\n",
      "    total_report = set_disk_tape_marker(total_report, pop_cut)\n",
      "    total_report = set_nb_replicas(total_report, q=q)\n",
      "    total_report = set_missing(total_report)\n",
      "    return total_report"
     ],
     "language": "python",
     "metadata": {},
     "outputs": [],
     "prompt_number": 52
    },
    {
     "cell_type": "code",
     "collapsed": false,
     "input": [
      "def loss_function(total_report, c_disk=100, c_tape=1, c_miss=10000):\n",
      "    lfn_size = total_report['LFNSize'].values\n",
      "    nb_replicas = total_report['NbReplicas']\n",
      "    marker = total_report['OnDisk'].values\n",
      "    miss = total_report['Missing'].values\n",
      "    \n",
      "    nc_disk = (marker*lfn_size*nb_replicas*c_disk).sum()\n",
      "    nc_tape = ((1-marker)*lfn_size*nb_replicas*c_tape).sum()\n",
      "    nc_miss = (miss*lfn_size*nb_replicas*c_miss).sum()\n",
      "    \n",
      "    loss = (nc_disk + nc_tape + nc_miss)\n",
      "    return loss\n",
      "\n",
      "def get_loss_curve(total_report, q=[0.5, 0.75, 0.95], c_disk=100, c_tape=1, c_miss=10000):\n",
      "    cuts = np.array(arange(0, 1, 0.01))\n",
      "    loss_curve = []\n",
      "    for i in cuts:\n",
      "        report = report_upgrade(total_report=total_report, pop_cut=i,  q=q)\n",
      "        loss = loss_function(report, c_disk, c_tape, c_miss)\n",
      "        loss_curve.append(loss)\n",
      "    loss_curve = np.array(loss_curve)\n",
      "    min_loss = loss_curve.min()\n",
      "    min_cut = cuts[loss_curve==min_loss]\n",
      "    return cuts, loss_curve, min_cut, min_loss"
     ],
     "language": "python",
     "metadata": {},
     "outputs": [],
     "prompt_number": 53
    },
    {
     "cell_type": "code",
     "collapsed": false,
     "input": [
      "cuts, loss, min_cut, min_loss = get_loss_curve(total_report, q=[0.5, 0.75, 0.95], c_disk=100, c_tape=1, c_miss=70000)"
     ],
     "language": "python",
     "metadata": {},
     "outputs": [],
     "prompt_number": 54
    },
    {
     "cell_type": "code",
     "collapsed": false,
     "input": [
      "print 'Min point is ', (min_cut[0], min_loss)\n",
      "plt.plot(cuts, np.log(loss))\n",
      "plt.xlabel('Popularity cuts')\n",
      "plt.ylabel('log(Loss)')\n",
      "plt.title('Loss function1')\n",
      "plt.show()"
     ],
     "language": "python",
     "metadata": {},
     "outputs": [],
     "prompt_number": 55
    },
    {
     "cell_type": "code",
     "collapsed": false,
     "input": [
      "#total_size = (data['LFNSize'].values*data['Nb_Replicas'].values).sum()\n",
      "total_size = (data['DiskSize'].values+data['TapeSize'].values).sum()\n",
      "#total_size = (data['DiskSize'].values).sum()\n",
      "total_size"
     ],
     "language": "python",
     "metadata": {},
     "outputs": [],
     "prompt_number": 56
    },
    {
     "cell_type": "code",
     "collapsed": false,
     "input": [
      "total_report = report_upgrade(total_report, pop_cut=0.2, q=[0.1, 0.7, 0.8])\n",
      "used_size = (total_report['LFNSize'].values*total_report['NbReplicas'].values*total_report['OnDisk'].values).sum()\n",
      "used_size"
     ],
     "language": "python",
     "metadata": {},
     "outputs": [],
     "prompt_number": 57
    },
    {
     "cell_type": "code",
     "collapsed": false,
     "input": [
      "total_report['NbReplicas'].sum()"
     ],
     "language": "python",
     "metadata": {},
     "outputs": [],
     "prompt_number": 58
    },
    {
     "cell_type": "code",
     "collapsed": false,
     "input": [
      "total_report = report_upgrade(total_report, pop_cut=0.2, q=[0.7, 0.8, 0.9])\n",
      "used_size = (total_report['LFNSize'].values*total_report['NbReplicas'].values*total_report['OnDisk'].values).sum()\n",
      "used_size"
     ],
     "language": "python",
     "metadata": {},
     "outputs": [],
     "prompt_number": 59
    },
    {
     "cell_type": "code",
     "collapsed": false,
     "input": [
      "total_report['NbReplicas'].sum()"
     ],
     "language": "python",
     "metadata": {},
     "outputs": [],
     "prompt_number": 60
    },
    {
     "cell_type": "code",
     "collapsed": false,
     "input": [
      "total_report = report_upgrade(total_report, pop_cut=0.2, q=[0.9, 0.95, 0.99])\n",
      "used_size = (total_report['LFNSize'].values*total_report['NbReplicas'].values*total_report['OnDisk'].values).sum()\n",
      "used_size"
     ],
     "language": "python",
     "metadata": {},
     "outputs": [],
     "prompt_number": 61
    },
    {
     "cell_type": "code",
     "collapsed": false,
     "input": [
      "total_report['NbReplicas'].sum()"
     ],
     "language": "python",
     "metadata": {},
     "outputs": [],
     "prompt_number": 62
    },
    {
     "cell_type": "code",
     "collapsed": false,
     "input": [
      "def set_disk_tape_marker(total_report, pop_cut=0.5):\n",
      "    pop = total_report['Popularity'].values\n",
      "    total_report['OnDisk'] = (pop<=pop_cut)*1\n",
      "    return total_report\n",
      "\n",
      "def set_nb_replicas(total_report, q=[0.5, 0.75, 0.95]):\n",
      "    marker = total_report['OnDisk'].values\n",
      "    inten = total_report['Intensity']\n",
      "    inten_cut = total_report['Intensity'][marker==1]\n",
      "    total_report['NbReplicas'] = 1\n",
      "#     for i in q:\n",
      "#         total_report['NbReplicas'] = total_report['NbReplicas'].values + (marker==1)*(inten.values>inten_cut.quantile(i))*1\n",
      "    return total_report\n",
      "\n",
      "def set_missing(total_report):\n",
      "    marker = total_report['OnDisk']\n",
      "    label = total_report['Label']\n",
      "    total_report['Missing'] = (label==0)*(marker==0)*1\n",
      "    return total_report\n",
      "\n",
      "def report_upgrade(total_report, pop_cut=0.5, q=[0.5, 0.75, 0.95]):\n",
      "    total_report = set_disk_tape_marker(total_report, pop_cut)\n",
      "    total_report = set_nb_replicas(total_report, q=q)\n",
      "    total_report = set_missing(total_report)\n",
      "    return total_report"
     ],
     "language": "python",
     "metadata": {},
     "outputs": [],
     "prompt_number": 63
    },
    {
     "cell_type": "code",
     "collapsed": false,
     "input": [
      "def loss_function(total_report, c_disk=100, c_tape=1, c_miss=10000):\n",
      "    lfn_size = total_report['LFNSize'].values\n",
      "    nb_replicas = total_report['NbReplicas']\n",
      "    marker = total_report['OnDisk'].values\n",
      "    miss = total_report['Missing'].values\n",
      "    \n",
      "    nc_disk = (marker*lfn_size*nb_replicas*c_disk).sum()\n",
      "    nc_tape = ((1-marker)*lfn_size*nb_replicas*c_tape).sum()\n",
      "    nc_miss = (miss*lfn_size*nb_replicas*c_miss).sum()\n",
      "    \n",
      "    loss = (nc_disk + nc_tape + nc_miss)\n",
      "    return loss\n",
      "\n",
      "def get_loss_curve(total_report, q=[0.5, 0.75, 0.95], c_disk=100, c_tape=1, c_miss=10000):\n",
      "    cuts = np.array(arange(0, 1, 0.01))\n",
      "    loss_curve = []\n",
      "    for i in cuts:\n",
      "        report = report_upgrade(total_report=total_report, pop_cut=i,  q=q)\n",
      "        loss = loss_function(report, c_disk, c_tape, c_miss)\n",
      "        loss_curve.append(loss)\n",
      "    loss_curve = np.array(loss_curve)\n",
      "    min_loss = loss_curve.min()\n",
      "    min_cut = cuts[loss_curve==min_loss]\n",
      "    return cuts, loss_curve, min_cut, min_loss"
     ],
     "language": "python",
     "metadata": {},
     "outputs": [],
     "prompt_number": 64
    },
    {
     "cell_type": "code",
     "collapsed": false,
     "input": [
      "cuts, loss, min_cut, min_loss = get_loss_curve(total_report, q=[0.5, 0.75, 0.95], c_disk=100, c_tape=1, c_miss=70000)"
     ],
     "language": "python",
     "metadata": {},
     "outputs": [],
     "prompt_number": 65
    },
    {
     "cell_type": "code",
     "collapsed": false,
     "input": [
      "print 'Min point is ', (min_cut[0], min_loss)\n",
      "plt.plot(cuts, np.log(loss))\n",
      "plt.xlabel('Popularity cuts')\n",
      "plt.ylabel('log(Loss)')\n",
      "plt.title('Loss function1')\n",
      "plt.show()"
     ],
     "language": "python",
     "metadata": {},
     "outputs": [],
     "prompt_number": 66
    },
    {
     "cell_type": "code",
     "collapsed": false,
     "input": [
      "#total_size = (data['LFNSize'].values*data['Nb_Replicas'].values).sum()\n",
      "total_size = (data['DiskSize'].values+data['TapeSize'].values).sum()\n",
      "#total_size = (data['DiskSize'].values).sum()\n",
      "total_size"
     ],
     "language": "python",
     "metadata": {},
     "outputs": [],
     "prompt_number": 67
    },
    {
     "cell_type": "code",
     "collapsed": false,
     "input": [
      "total_report = report_upgrade(total_report, pop_cut=0.2, q=[0.9, 0.95, 0.99])\n",
      "used_size = (total_report['LFNSize'].values*total_report['NbReplicas'].values*total_report['OnDisk'].values).sum()\n",
      "used_size"
     ],
     "language": "python",
     "metadata": {},
     "outputs": [],
     "prompt_number": 68
    },
    {
     "cell_type": "code",
     "collapsed": false,
     "input": [
      "total_report['NbReplicas'].sum()"
     ],
     "language": "python",
     "metadata": {},
     "outputs": [],
     "prompt_number": 69
    },
    {
     "cell_type": "code",
     "collapsed": false,
     "input": [
      "#total_size = (data['LFNSize'].values*data['Nb_Replicas'].values).sum()\n",
      "total_size = (data['DiskSize'].values+data['TapeSize'].values).sum()\n",
      "total_size_d = (data['DiskSize'].values).sum()\n",
      "print total_size\n",
      "print total_size_d"
     ],
     "language": "python",
     "metadata": {},
     "outputs": [],
     "prompt_number": 70
    },
    {
     "cell_type": "code",
     "collapsed": false,
     "input": [
      "total_report = report_upgrade(total_report, pop_cut=0.2, q=[0.9, 0.95, 0.99])\n",
      "used_size = (total_report['LFNSize'].values*total_report['NbReplicas'].values*total_report['OnDisk'].values).sum()\n",
      "used_size"
     ],
     "language": "python",
     "metadata": {},
     "outputs": [],
     "prompt_number": 71
    },
    {
     "cell_type": "code",
     "collapsed": false,
     "input": [
      "total_report = popularity.sort(columns='Name')\n",
      "total_report['Intensity'] = prediction.sort(columns='Name')['Access']\n",
      "total_report['Label'] = estimator.train_report.sort(columns='Name')['Label']\n",
      "total_report['LFNSize'] = data.sort(columns='Name')['DiskSize'].values\\\n",
      "+data.sort(columns='Name')['TapeSize'].values#data.sort(columns='Name')['LFNSize']\n",
      "#total_report"
     ],
     "language": "python",
     "metadata": {},
     "outputs": [],
     "prompt_number": 72
    },
    {
     "cell_type": "code",
     "collapsed": false,
     "input": [
      "def set_disk_tape_marker(total_report, pop_cut=0.5):\n",
      "    pop = total_report['Popularity'].values\n",
      "    total_report['OnDisk'] = (pop<=pop_cut)*1\n",
      "    return total_report\n",
      "\n",
      "def set_nb_replicas(total_report, q=[0.5, 0.75, 0.95]):\n",
      "    marker = total_report['OnDisk'].values\n",
      "    inten = total_report['Intensity']\n",
      "    inten_cut = total_report['Intensity'][marker==1]\n",
      "    total_report['NbReplicas'] = 1\n",
      "#     for i in q:\n",
      "#         total_report['NbReplicas'] = total_report['NbReplicas'].values + (marker==1)*(inten.values>inten_cut.quantile(i))*1\n",
      "    return total_report\n",
      "\n",
      "def set_missing(total_report):\n",
      "    marker = total_report['OnDisk']\n",
      "    label = total_report['Label']\n",
      "    total_report['Missing'] = (label==0)*(marker==0)*1\n",
      "    return total_report\n",
      "\n",
      "def report_upgrade(total_report, pop_cut=0.5, q=[0.5, 0.75, 0.95]):\n",
      "    total_report = set_disk_tape_marker(total_report, pop_cut)\n",
      "    total_report = set_nb_replicas(total_report, q=q)\n",
      "    total_report = set_missing(total_report)\n",
      "    return total_report"
     ],
     "language": "python",
     "metadata": {},
     "outputs": [],
     "prompt_number": 73
    },
    {
     "cell_type": "code",
     "collapsed": false,
     "input": [
      "def loss_function(total_report, c_disk=100, c_tape=1, c_miss=10000):\n",
      "    lfn_size = total_report['LFNSize'].values\n",
      "    nb_replicas = total_report['NbReplicas']\n",
      "    marker = total_report['OnDisk'].values\n",
      "    miss = total_report['Missing'].values\n",
      "    \n",
      "    nc_disk = (marker*lfn_size*nb_replicas*c_disk).sum()\n",
      "    nc_tape = ((1-marker)*lfn_size*nb_replicas*c_tape).sum()\n",
      "    nc_miss = (miss*lfn_size*nb_replicas*c_miss).sum()\n",
      "    \n",
      "    loss = (nc_disk + nc_tape + nc_miss)\n",
      "    return loss\n",
      "\n",
      "def get_loss_curve(total_report, q=[0.5, 0.75, 0.95], c_disk=100, c_tape=1, c_miss=10000):\n",
      "    cuts = np.array(arange(0, 1, 0.01))\n",
      "    loss_curve = []\n",
      "    for i in cuts:\n",
      "        report = report_upgrade(total_report=total_report, pop_cut=i,  q=q)\n",
      "        loss = loss_function(report, c_disk, c_tape, c_miss)\n",
      "        loss_curve.append(loss)\n",
      "    loss_curve = np.array(loss_curve)\n",
      "    min_loss = loss_curve.min()\n",
      "    min_cut = cuts[loss_curve==min_loss]\n",
      "    return cuts, loss_curve, min_cut, min_loss"
     ],
     "language": "python",
     "metadata": {},
     "outputs": [],
     "prompt_number": 74
    },
    {
     "cell_type": "code",
     "collapsed": false,
     "input": [
      "cuts, loss, min_cut, min_loss = get_loss_curve(total_report, q=[0.5, 0.75, 0.95], c_disk=100, c_tape=1, c_miss=70000)"
     ],
     "language": "python",
     "metadata": {},
     "outputs": [],
     "prompt_number": 75
    },
    {
     "cell_type": "code",
     "collapsed": false,
     "input": [
      "print 'Min point is ', (min_cut[0], min_loss)\n",
      "plt.plot(cuts, np.log(loss))\n",
      "plt.xlabel('Popularity cuts')\n",
      "plt.ylabel('log(Loss)')\n",
      "plt.title('Loss function1')\n",
      "plt.show()"
     ],
     "language": "python",
     "metadata": {},
     "outputs": [],
     "prompt_number": 76
    },
    {
     "cell_type": "code",
     "collapsed": false,
     "input": [
      "#total_size = (data['LFNSize'].values*data['Nb_Replicas'].values).sum()\n",
      "total_size = (data['DiskSize'].values+data['TapeSize'].values).sum()\n",
      "total_size_d = (data['DiskSize'].values).sum()\n",
      "print total_size\n",
      "print total_size_d"
     ],
     "language": "python",
     "metadata": {},
     "outputs": [],
     "prompt_number": 77
    },
    {
     "cell_type": "code",
     "collapsed": false,
     "input": [
      "total_report = report_upgrade(total_report, pop_cut=0.2, q=[0.9, 0.95, 0.99])\n",
      "used_size = (total_report['LFNSize'].values*total_report['NbReplicas'].values*total_report['OnDisk'].values).sum()\n",
      "used_size"
     ],
     "language": "python",
     "metadata": {},
     "outputs": [],
     "prompt_number": 78
    },
    {
     "cell_type": "code",
     "collapsed": false,
     "input": [
      "total_report = report_upgrade(total_report, pop_cut=0.2, q=[1, 1, 1])\n",
      "used_size = (total_report['LFNSize'].values*total_report['NbReplicas'].values*total_report['OnDisk'].values).sum()\n",
      "used_size"
     ],
     "language": "python",
     "metadata": {},
     "outputs": [],
     "prompt_number": 79
    },
    {
     "cell_type": "code",
     "collapsed": false,
     "input": [
      "total_report['NbReplicas'].sum()"
     ],
     "language": "python",
     "metadata": {},
     "outputs": [],
     "prompt_number": 80
    },
    {
     "cell_type": "code",
     "collapsed": false,
     "input": [
      "total_report = report_upgrade(total_report, pop_cut=0.5, q=[1, 1, 1])\n",
      "used_size = (total_report['LFNSize'].values*total_report['NbReplicas'].values*total_report['OnDisk'].values).sum()\n",
      "used_size"
     ],
     "language": "python",
     "metadata": {},
     "outputs": [],
     "prompt_number": 81
    },
    {
     "cell_type": "code",
     "collapsed": false,
     "input": [
      "total_report = report_upgrade(total_report, pop_cut=0.9, q=[1, 1, 1])\n",
      "used_size = (total_report['LFNSize'].values*total_report['NbReplicas'].values*total_report['OnDisk'].values).sum()\n",
      "used_size"
     ],
     "language": "python",
     "metadata": {},
     "outputs": [],
     "prompt_number": 82
    },
    {
     "cell_type": "code",
     "collapsed": false,
     "input": [
      "total_report = report_upgrade(total_report, pop_cut=0.1, q=[1, 1, 1])\n",
      "used_size = (total_report['LFNSize'].values*total_report['NbReplicas'].values*total_report['OnDisk'].values).sum()\n",
      "used_size"
     ],
     "language": "python",
     "metadata": {},
     "outputs": [],
     "prompt_number": 83
    },
    {
     "cell_type": "code",
     "collapsed": false,
     "input": [
      "total_report = report_upgrade(total_report, pop_cut=0.01, q=[1, 1, 1])\n",
      "used_size = (total_report['LFNSize'].values*total_report['NbReplicas'].values*total_report['OnDisk'].values).sum()\n",
      "used_size"
     ],
     "language": "python",
     "metadata": {},
     "outputs": [],
     "prompt_number": 84
    },
    {
     "cell_type": "code",
     "collapsed": false,
     "input": [
      "total_report = report_upgrade(total_report, pop_cut=0.001, q=[1, 1, 1])\n",
      "used_size = (total_report['LFNSize'].values*total_report['NbReplicas'].values*total_report['OnDisk'].values).sum()\n",
      "used_size"
     ],
     "language": "python",
     "metadata": {},
     "outputs": [],
     "prompt_number": 85
    },
    {
     "cell_type": "code",
     "collapsed": false,
     "input": [
      "total_report = report_upgrade(total_report, pop_cut=0.01, q=[1, 1, 1])\n",
      "used_size = (total_report['LFNSize'].values*total_report['NbReplicas'].values*total_report['OnDisk'].values).sum()\n",
      "used_size"
     ],
     "language": "python",
     "metadata": {},
     "outputs": [],
     "prompt_number": 86
    },
    {
     "cell_type": "code",
     "collapsed": false,
     "input": [
      "cuts, loss, min_cut, min_loss = get_loss_curve(total_report, q=[0.5, 0.75, 0.95], c_disk=10000, c_tape=1, c_miss=70000)"
     ],
     "language": "python",
     "metadata": {},
     "outputs": [],
     "prompt_number": 87
    },
    {
     "cell_type": "code",
     "collapsed": false,
     "input": [
      "print 'Min point is ', (min_cut[0], min_loss)\n",
      "plt.plot(cuts, np.log(loss))\n",
      "plt.xlabel('Popularity cuts')\n",
      "plt.ylabel('log(Loss)')\n",
      "plt.title('Loss function1')\n",
      "plt.show()"
     ],
     "language": "python",
     "metadata": {},
     "outputs": [],
     "prompt_number": 88
    },
    {
     "cell_type": "code",
     "collapsed": false,
     "input": [
      "cuts, loss, min_cut, min_loss = get_loss_curve(total_report, q=[0.5, 0.75, 0.95], c_disk=100000, c_tape=1, c_miss=70000)"
     ],
     "language": "python",
     "metadata": {},
     "outputs": [],
     "prompt_number": 89
    },
    {
     "cell_type": "code",
     "collapsed": false,
     "input": [
      "print 'Min point is ', (min_cut[0], min_loss)\n",
      "plt.plot(cuts, np.log(loss))\n",
      "plt.xlabel('Popularity cuts')\n",
      "plt.ylabel('log(Loss)')\n",
      "plt.title('Loss function1')\n",
      "plt.show()"
     ],
     "language": "python",
     "metadata": {},
     "outputs": [],
     "prompt_number": 90
    },
    {
     "cell_type": "code",
     "collapsed": false,
     "input": [
      "cuts, loss, min_cut, min_loss = get_loss_curve(total_report, q=[0.5, 0.75, 0.95], c_disk=100000, c_tape=1, c_miss=700000)"
     ],
     "language": "python",
     "metadata": {},
     "outputs": [],
     "prompt_number": 91
    },
    {
     "cell_type": "code",
     "collapsed": false,
     "input": [
      "print 'Min point is ', (min_cut[0], min_loss)\n",
      "plt.plot(cuts, np.log(loss))\n",
      "plt.xlabel('Popularity cuts')\n",
      "plt.ylabel('log(Loss)')\n",
      "plt.title('Loss function1')\n",
      "plt.show()"
     ],
     "language": "python",
     "metadata": {},
     "outputs": [],
     "prompt_number": 92
    },
    {
     "cell_type": "code",
     "collapsed": false,
     "input": [
      "cuts, loss, min_cut, min_loss = get_loss_curve(total_report, q=[0.5, 0.75, 0.95], c_disk=100, c_tape=1, c_miss=70000)"
     ],
     "language": "python",
     "metadata": {},
     "outputs": [],
     "prompt_number": 93
    },
    {
     "cell_type": "code",
     "collapsed": false,
     "input": [
      "print 'Min point is ', (min_cut[0], min_loss)\n",
      "plt.plot(cuts, np.log(loss))\n",
      "plt.xlabel('Popularity cuts')\n",
      "plt.ylabel('log(Loss)')\n",
      "plt.title('Loss function1')\n",
      "plt.show()"
     ],
     "language": "python",
     "metadata": {},
     "outputs": [],
     "prompt_number": 94
    },
    {
     "cell_type": "code",
     "collapsed": false,
     "input": [
      "total_report = popularity.sort(columns='Name')\n",
      "total_report['Intensity'] = prediction.sort(columns='Name')['Access']\n",
      "total_report['Label'] = estimator.train_report.sort(columns='Name')['Label']\n",
      "total_report['LFNSize'] = data.sort(columns='Name')['DiskSize'].values#\\\n",
      "#+data.sort(columns='Name')['TapeSize'].values#data.sort(columns='Name')['LFNSize']\n",
      "#total_report"
     ],
     "language": "python",
     "metadata": {},
     "outputs": [],
     "prompt_number": 95
    },
    {
     "cell_type": "code",
     "collapsed": false,
     "input": [
      "def set_disk_tape_marker(total_report, pop_cut=0.5):\n",
      "    pop = total_report['Popularity'].values\n",
      "    total_report['OnDisk'] = (pop<=pop_cut)*1\n",
      "    return total_report\n",
      "\n",
      "def set_nb_replicas(total_report, q=[0.5, 0.75, 0.95]):\n",
      "    marker = total_report['OnDisk'].values\n",
      "    inten = total_report['Intensity']\n",
      "    inten_cut = total_report['Intensity'][marker==1]\n",
      "    total_report['NbReplicas'] = 1\n",
      "#     for i in q:\n",
      "#         total_report['NbReplicas'] = total_report['NbReplicas'].values + (marker==1)*(inten.values>inten_cut.quantile(i))*1\n",
      "    return total_report\n",
      "\n",
      "def set_missing(total_report):\n",
      "    marker = total_report['OnDisk']\n",
      "    label = total_report['Label']\n",
      "    total_report['Missing'] = (label==0)*(marker==0)*1\n",
      "    return total_report\n",
      "\n",
      "def report_upgrade(total_report, pop_cut=0.5, q=[0.5, 0.75, 0.95]):\n",
      "    total_report = set_disk_tape_marker(total_report, pop_cut)\n",
      "    total_report = set_nb_replicas(total_report, q=q)\n",
      "    total_report = set_missing(total_report)\n",
      "    return total_report"
     ],
     "language": "python",
     "metadata": {},
     "outputs": [],
     "prompt_number": 96
    },
    {
     "cell_type": "code",
     "collapsed": false,
     "input": [
      "def loss_function(total_report, c_disk=100, c_tape=1, c_miss=10000):\n",
      "    lfn_size = total_report['LFNSize'].values\n",
      "    nb_replicas = total_report['NbReplicas']\n",
      "    marker = total_report['OnDisk'].values\n",
      "    miss = total_report['Missing'].values\n",
      "    \n",
      "    nc_disk = (marker*lfn_size*nb_replicas*c_disk).sum()\n",
      "    nc_tape = ((1-marker)*lfn_size*nb_replicas*c_tape).sum()\n",
      "    nc_miss = (miss*lfn_size*nb_replicas*c_miss).sum()\n",
      "    \n",
      "    loss = (nc_disk + nc_tape + nc_miss)\n",
      "    return loss\n",
      "\n",
      "def get_loss_curve(total_report, q=[0.5, 0.75, 0.95], c_disk=100, c_tape=1, c_miss=10000):\n",
      "    cuts = np.array(arange(0, 1, 0.01))\n",
      "    loss_curve = []\n",
      "    for i in cuts:\n",
      "        report = report_upgrade(total_report=total_report, pop_cut=i,  q=q)\n",
      "        loss = loss_function(report, c_disk, c_tape, c_miss)\n",
      "        loss_curve.append(loss)\n",
      "    loss_curve = np.array(loss_curve)\n",
      "    min_loss = loss_curve.min()\n",
      "    min_cut = cuts[loss_curve==min_loss]\n",
      "    return cuts, loss_curve, min_cut, min_loss"
     ],
     "language": "python",
     "metadata": {},
     "outputs": [],
     "prompt_number": 97
    },
    {
     "cell_type": "code",
     "collapsed": false,
     "input": [
      "cuts, loss, min_cut, min_loss = get_loss_curve(total_report, q=[0.5, 0.75, 0.95], c_disk=100, c_tape=1, c_miss=70000)"
     ],
     "language": "python",
     "metadata": {},
     "outputs": [],
     "prompt_number": 98
    },
    {
     "cell_type": "code",
     "collapsed": false,
     "input": [
      "print 'Min point is ', (min_cut[0], min_loss)\n",
      "plt.plot(cuts, np.log(loss))\n",
      "plt.xlabel('Popularity cuts')\n",
      "plt.ylabel('log(Loss)')\n",
      "plt.title('Loss function1')\n",
      "plt.show()"
     ],
     "language": "python",
     "metadata": {},
     "outputs": [],
     "prompt_number": 99
    },
    {
     "cell_type": "code",
     "collapsed": false,
     "input": [
      "#total_size = (data['LFNSize'].values*data['Nb_Replicas'].values).sum()\n",
      "total_size = (data['DiskSize'].values+data['TapeSize'].values).sum()\n",
      "total_size_d = (data['DiskSize'].values).sum()\n",
      "print total_size\n",
      "print total_size_d"
     ],
     "language": "python",
     "metadata": {},
     "outputs": [],
     "prompt_number": 100
    },
    {
     "cell_type": "code",
     "collapsed": false,
     "input": [
      "total_report = report_upgrade(total_report, pop_cut=0.01, q=[1, 1, 1])\n",
      "used_size = (total_report['LFNSize'].values*total_report['NbReplicas'].values*total_report['OnDisk'].values).sum()\n",
      "used_size"
     ],
     "language": "python",
     "metadata": {},
     "outputs": [],
     "prompt_number": 101
    },
    {
     "cell_type": "code",
     "collapsed": false,
     "input": [
      "total_report = popularity.sort(columns='Name')\n",
      "total_report['Intensity'] = prediction.sort(columns='Name')['Access']\n",
      "total_report['Label'] = estimator.train_report.sort(columns='Name')['Label']\n",
      "total_report['LFNSize'] = data.sort(columns='Name')['DiskSize'].values\\\n",
      "+data.sort(columns='Name')['TapeSize'].values#data.sort(columns='Name')['LFNSize']\n",
      "#total_report"
     ],
     "language": "python",
     "metadata": {},
     "outputs": [],
     "prompt_number": 102
    },
    {
     "cell_type": "code",
     "collapsed": false,
     "input": [
      "def set_disk_tape_marker(total_report, pop_cut=0.5):\n",
      "    pop = total_report['Popularity'].values\n",
      "    total_report['OnDisk'] = (pop<=pop_cut)*1\n",
      "    return total_report\n",
      "\n",
      "def set_nb_replicas(total_report, q=[0.5, 0.75, 0.95]):\n",
      "    marker = total_report['OnDisk'].values\n",
      "    inten = total_report['Intensity']\n",
      "    inten_cut = total_report['Intensity'][marker==1]\n",
      "    total_report['NbReplicas'] = 1\n",
      "#     for i in q:\n",
      "#         total_report['NbReplicas'] = total_report['NbReplicas'].values + (marker==1)*(inten.values>inten_cut.quantile(i))*1\n",
      "    return total_report\n",
      "\n",
      "def set_missing(total_report):\n",
      "    marker = total_report['OnDisk']\n",
      "    label = total_report['Label']\n",
      "    total_report['Missing'] = (label==0)*(marker==0)*1\n",
      "    return total_report\n",
      "\n",
      "def report_upgrade(total_report, pop_cut=0.5, q=[0.5, 0.75, 0.95]):\n",
      "    total_report = set_disk_tape_marker(total_report, pop_cut)\n",
      "    total_report = set_nb_replicas(total_report, q=q)\n",
      "    total_report = set_missing(total_report)\n",
      "    return total_report"
     ],
     "language": "python",
     "metadata": {},
     "outputs": [],
     "prompt_number": 103
    },
    {
     "cell_type": "code",
     "collapsed": false,
     "input": [
      "def loss_function(total_report, c_disk=100, c_tape=1, c_miss=10000):\n",
      "    lfn_size = total_report['LFNSize'].values\n",
      "    nb_replicas = total_report['NbReplicas']\n",
      "    marker = total_report['OnDisk'].values\n",
      "    miss = total_report['Missing'].values\n",
      "    \n",
      "    nc_disk = (marker*lfn_size*nb_replicas*c_disk).sum()\n",
      "    nc_tape = ((1-marker)*lfn_size*nb_replicas*c_tape).sum()\n",
      "    nc_miss = (miss*lfn_size*nb_replicas*c_miss).sum()\n",
      "    \n",
      "    loss = (nc_disk + nc_tape + nc_miss)\n",
      "    return loss\n",
      "\n",
      "def get_loss_curve(total_report, q=[0.5, 0.75, 0.95], c_disk=100, c_tape=1, c_miss=10000):\n",
      "    cuts = np.array(arange(0, 1, 0.01))\n",
      "    loss_curve = []\n",
      "    for i in cuts:\n",
      "        report = report_upgrade(total_report=total_report, pop_cut=i,  q=q)\n",
      "        loss = loss_function(report, c_disk, c_tape, c_miss)\n",
      "        loss_curve.append(loss)\n",
      "    loss_curve = np.array(loss_curve)\n",
      "    min_loss = loss_curve.min()\n",
      "    min_cut = cuts[loss_curve==min_loss]\n",
      "    return cuts, loss_curve, min_cut, min_loss"
     ],
     "language": "python",
     "metadata": {},
     "outputs": [],
     "prompt_number": 104
    },
    {
     "cell_type": "code",
     "collapsed": false,
     "input": [
      "cuts, loss, min_cut, min_loss = get_loss_curve(total_report, q=[0.5, 0.75, 0.95], c_disk=100, c_tape=1, c_miss=70000)"
     ],
     "language": "python",
     "metadata": {},
     "outputs": [],
     "prompt_number": 105
    },
    {
     "cell_type": "code",
     "collapsed": false,
     "input": [
      "print 'Min point is ', (min_cut[0], min_loss)\n",
      "plt.plot(cuts, np.log(loss))\n",
      "plt.xlabel('Popularity cuts')\n",
      "plt.ylabel('log(Loss)')\n",
      "plt.title('Loss function1')\n",
      "plt.show()"
     ],
     "language": "python",
     "metadata": {},
     "outputs": [],
     "prompt_number": 106
    },
    {
     "cell_type": "code",
     "collapsed": false,
     "input": [
      "#total_size = (data['LFNSize'].values*data['Nb_Replicas'].values).sum()\n",
      "total_size = (data['DiskSize'].values+data['TapeSize'].values).sum()\n",
      "total_size_d = (data['DiskSize'].values).sum()\n",
      "print total_size\n",
      "print total_size_d"
     ],
     "language": "python",
     "metadata": {},
     "outputs": [],
     "prompt_number": 107
    },
    {
     "cell_type": "code",
     "collapsed": false,
     "input": [
      "total_report = report_upgrade(total_report, pop_cut=0.01, q=[1, 1, 1])\n",
      "used_size = (total_report['LFNSize'].values*total_report['NbReplicas'].values*total_report['OnDisk'].values).sum()\n",
      "used_size"
     ],
     "language": "python",
     "metadata": {},
     "outputs": [],
     "prompt_number": 108
    },
    {
     "cell_type": "code",
     "collapsed": false,
     "input": [
      "total_report = report_upgrade(total_report, pop_cut=0.2, q=[1, 1, 1])\n",
      "used_size = (total_report['LFNSize'].values*total_report['NbReplicas'].values*total_report['OnDisk'].values).sum()\n",
      "used_size"
     ],
     "language": "python",
     "metadata": {},
     "outputs": [],
     "prompt_number": 109
    },
    {
     "cell_type": "code",
     "collapsed": false,
     "input": [
      "import numpy as np\n",
      "import pandas as pd\n",
      "import matplotlib.pyplot as plt\n",
      "%matplotlib inline\n",
      "\n",
      "data_path = 'popularity-910days.csv'\n",
      "data = pd.read_csv(data_path)\n",
      "data = data[data['Storage']=='Disk']\n",
      "\n",
      "data.irow(range(0,2))"
     ],
     "language": "python",
     "metadata": {},
     "outputs": [],
     "prompt_number": 110
    },
    {
     "cell_type": "code",
     "collapsed": false,
     "input": [
      "cd ../"
     ],
     "language": "python",
     "metadata": {},
     "outputs": [],
     "prompt_number": 111
    },
    {
     "cell_type": "code",
     "collapsed": false,
     "input": [
      "import numpy as np\n",
      "import pandas as pd\n",
      "import matplotlib.pyplot as plt\n",
      "%matplotlib inline\n",
      "\n",
      "data_path = 'popularity-910days.csv'\n",
      "data = pd.read_csv(data_path)\n",
      "data = data[data['Storage']=='Disk']\n",
      "\n",
      "data.irow(range(0,2))"
     ],
     "language": "python",
     "metadata": {},
     "outputs": [],
     "prompt_number": 112
    },
    {
     "cell_type": "code",
     "collapsed": false,
     "input": [
      "from DataPopularity import DataPopularityEstimator\n",
      "\n",
      "estimator = DataPopularityEstimator(data=data, nb_of_weeks=130)\n",
      "%time estimator.train()\n",
      "estimator.roc_curve()"
     ],
     "language": "python",
     "metadata": {},
     "outputs": [],
     "prompt_number": 113
    },
    {
     "cell_type": "code",
     "collapsed": false,
     "input": [
      "popularity = estimator.get_popularity()\n",
      "popularity.irow(range(0,5))"
     ],
     "language": "python",
     "metadata": {},
     "outputs": [],
     "prompt_number": 114
    },
    {
     "cell_type": "code",
     "collapsed": false,
     "input": [
      "cut = estimator.popularity_cut_fpr(fpr_value=0.05)\n",
      "cut"
     ],
     "language": "python",
     "metadata": {},
     "outputs": [],
     "prompt_number": 115
    },
    {
     "cell_type": "code",
     "collapsed": false,
     "input": [
      "from DataPopularity.DataAccessPredictor import DataAccessPredictor\n",
      "\n",
      "predictor = DataAccessPredictor(data=data, nb_of_weeks=130)\n",
      "%time prediction = predictor.predict(zero_one_scale=False)"
     ],
     "language": "python",
     "metadata": {},
     "outputs": [],
     "prompt_number": 116
    },
    {
     "cell_type": "code",
     "collapsed": false,
     "input": [
      "total_report = popularity.sort(columns='Name')\n",
      "total_report['Intensity'] = prediction.sort(columns='Name')['Access']\n",
      "total_report['Label'] = estimator.train_report.sort(columns='Name')['Label']\n",
      "total_report['LFNSize'] = data.sort(columns='Name')['DiskSize'].values\\\n",
      "+data.sort(columns='Name')['TapeSize'].values#data.sort(columns='Name')['LFNSize']\n",
      "#total_report"
     ],
     "language": "python",
     "metadata": {},
     "outputs": [],
     "prompt_number": 117
    },
    {
     "cell_type": "code",
     "collapsed": false,
     "input": [
      "pop = estimator.get_popularity()['Popularity'].values\n",
      "label = estimator.train_report['Label'].values\n",
      "\n",
      "plt.hist(pop[label==1], color='b', alpha=0.5, label='1')\n",
      "plt.hist(pop[label==0], color='r', alpha=0.5, label='0')\n",
      "plt.hist(pop[pop>=cut], color='g', alpha=1, label='fpr<=fpr_value', histtype='step', linewidth=3)\n",
      "plt.legend(loc='best')\n",
      "plt.title('Popularity hists')\n",
      "plt.show()"
     ],
     "language": "python",
     "metadata": {},
     "outputs": [],
     "prompt_number": 118
    },
    {
     "cell_type": "code",
     "collapsed": false,
     "input": [
      "data.shape"
     ],
     "language": "python",
     "metadata": {},
     "outputs": [],
     "prompt_number": 119
    },
    {
     "cell_type": "code",
     "collapsed": false,
     "input": [
      "total_report = popularity.sort(columns='Name')\n",
      "total_report['Intensity'] = prediction.sort(columns='Name')['Access']\n",
      "total_report['Label'] = estimator.train_report.sort(columns='Name')['Label']\n",
      "total_report['LFNSize'] = data.sort(columns='Name')['DiskSize'].values#\\\n",
      "#+data.sort(columns='Name')['TapeSize'].values#data.sort(columns='Name')['LFNSize']\n",
      "#total_report"
     ],
     "language": "python",
     "metadata": {},
     "outputs": [],
     "prompt_number": 120
    },
    {
     "cell_type": "code",
     "collapsed": false,
     "input": [
      "def set_disk_tape_marker(total_report, pop_cut=0.5):\n",
      "    pop = total_report['Popularity'].values\n",
      "    total_report['OnDisk'] = (pop<=pop_cut)*1\n",
      "    return total_report\n",
      "\n",
      "def set_nb_replicas(total_report, q=[0.5, 0.75, 0.95]):\n",
      "    marker = total_report['OnDisk'].values\n",
      "    inten = total_report['Intensity']\n",
      "    inten_cut = total_report['Intensity'][marker==1]\n",
      "    total_report['NbReplicas'] = 1\n",
      "#     for i in q:\n",
      "#         total_report['NbReplicas'] = total_report['NbReplicas'].values + (marker==1)*(inten.values>inten_cut.quantile(i))*1\n",
      "    return total_report\n",
      "\n",
      "def set_missing(total_report):\n",
      "    marker = total_report['OnDisk']\n",
      "    label = total_report['Label']\n",
      "    total_report['Missing'] = (label==0)*(marker==0)*1\n",
      "    return total_report\n",
      "\n",
      "def report_upgrade(total_report, pop_cut=0.5, q=[0.5, 0.75, 0.95]):\n",
      "    total_report = set_disk_tape_marker(total_report, pop_cut)\n",
      "    total_report = set_nb_replicas(total_report, q=q)\n",
      "    total_report = set_missing(total_report)\n",
      "    return total_report"
     ],
     "language": "python",
     "metadata": {},
     "outputs": [],
     "prompt_number": 121
    },
    {
     "cell_type": "code",
     "collapsed": false,
     "input": [
      "def loss_function(total_report, c_disk=100, c_tape=1, c_miss=10000):\n",
      "    lfn_size = total_report['LFNSize'].values\n",
      "    nb_replicas = total_report['NbReplicas']\n",
      "    marker = total_report['OnDisk'].values\n",
      "    miss = total_report['Missing'].values\n",
      "    \n",
      "    nc_disk = (marker*lfn_size*nb_replicas*c_disk).sum()\n",
      "    nc_tape = ((1-marker)*lfn_size*nb_replicas*c_tape).sum()\n",
      "    nc_miss = (miss*lfn_size*nb_replicas*c_miss).sum()\n",
      "    \n",
      "    loss = (nc_disk + nc_tape + nc_miss)\n",
      "    return loss\n",
      "\n",
      "def get_loss_curve(total_report, q=[0.5, 0.75, 0.95], c_disk=100, c_tape=1, c_miss=10000):\n",
      "    cuts = np.array(arange(0, 1, 0.01))\n",
      "    loss_curve = []\n",
      "    for i in cuts:\n",
      "        report = report_upgrade(total_report=total_report, pop_cut=i,  q=q)\n",
      "        loss = loss_function(report, c_disk, c_tape, c_miss)\n",
      "        loss_curve.append(loss)\n",
      "    loss_curve = np.array(loss_curve)\n",
      "    min_loss = loss_curve.min()\n",
      "    min_cut = cuts[loss_curve==min_loss]\n",
      "    return cuts, loss_curve, min_cut, min_loss"
     ],
     "language": "python",
     "metadata": {},
     "outputs": [],
     "prompt_number": 122
    },
    {
     "cell_type": "code",
     "collapsed": false,
     "input": [
      "cuts, loss, min_cut, min_loss = get_loss_curve(total_report, q=[0.5, 0.75, 0.95], c_disk=100, c_tape=1, c_miss=70000)"
     ],
     "language": "python",
     "metadata": {},
     "outputs": [],
     "prompt_number": 123
    },
    {
     "cell_type": "code",
     "collapsed": false,
     "input": [
      "print 'Min point is ', (min_cut[0], min_loss)\n",
      "plt.plot(cuts, np.log(loss))\n",
      "plt.xlabel('Popularity cuts')\n",
      "plt.ylabel('log(Loss)')\n",
      "plt.title('Loss function1')\n",
      "plt.show()"
     ],
     "language": "python",
     "metadata": {},
     "outputs": [],
     "prompt_number": 124
    },
    {
     "cell_type": "code",
     "collapsed": false,
     "input": [
      "#total_size = (data['LFNSize'].values*data['Nb_Replicas'].values).sum()\n",
      "total_size = (data['DiskSize'].values+data['TapeSize'].values).sum()\n",
      "total_size_d = (data['DiskSize'].values).sum()\n",
      "print total_size\n",
      "print total_size_d"
     ],
     "language": "python",
     "metadata": {},
     "outputs": [],
     "prompt_number": 125
    },
    {
     "cell_type": "code",
     "collapsed": false,
     "input": [
      "total_report = report_upgrade(total_report, pop_cut=0.2, q=[1, 1, 1])\n",
      "used_size = (total_report['LFNSize'].values*total_report['NbReplicas'].values*total_report['OnDisk'].values).sum()\n",
      "used_size"
     ],
     "language": "python",
     "metadata": {},
     "outputs": [],
     "prompt_number": 126
    },
    {
     "cell_type": "code",
     "collapsed": false,
     "input": [
      "total_report = report_upgrade(total_report, pop_cut=0.6, q=[1, 1, 1])\n",
      "used_size = (total_report['LFNSize'].values*total_report['NbReplicas'].values*total_report['OnDisk'].values).sum()\n",
      "used_size"
     ],
     "language": "python",
     "metadata": {},
     "outputs": [],
     "prompt_number": 127
    },
    {
     "cell_type": "code",
     "collapsed": false,
     "input": [
      "cuts, loss, min_cut, min_loss = get_loss_curve(total_report, q=[0.5, 0.75, 0.95], c_disk=1000, c_tape=1, c_miss=70000)"
     ],
     "language": "python",
     "metadata": {},
     "outputs": [],
     "prompt_number": 128
    },
    {
     "cell_type": "code",
     "collapsed": false,
     "input": [
      "print 'Min point is ', (min_cut[0], min_loss)\n",
      "plt.plot(cuts, np.log(loss))\n",
      "plt.xlabel('Popularity cuts')\n",
      "plt.ylabel('log(Loss)')\n",
      "plt.title('Loss function1')\n",
      "plt.show()"
     ],
     "language": "python",
     "metadata": {},
     "outputs": [],
     "prompt_number": 129
    },
    {
     "cell_type": "code",
     "collapsed": false,
     "input": [
      "cuts, loss, min_cut, min_loss = get_loss_curve(total_report, q=[0.5, 0.75, 0.95], c_disk=10000, c_tape=1, c_miss=70000)"
     ],
     "language": "python",
     "metadata": {},
     "outputs": [],
     "prompt_number": 130
    },
    {
     "cell_type": "code",
     "collapsed": false,
     "input": [
      "print 'Min point is ', (min_cut[0], min_loss)\n",
      "plt.plot(cuts, np.log(loss))\n",
      "plt.xlabel('Popularity cuts')\n",
      "plt.ylabel('log(Loss)')\n",
      "plt.title('Loss function1')\n",
      "plt.show()"
     ],
     "language": "python",
     "metadata": {},
     "outputs": [],
     "prompt_number": 131
    },
    {
     "cell_type": "code",
     "collapsed": false,
     "input": [
      "cuts, loss, min_cut, min_loss = get_loss_curve(total_report, q=[0.5, 0.75, 0.95], c_disk=10000, c_tape=1, c_miss=100000)"
     ],
     "language": "python",
     "metadata": {},
     "outputs": [],
     "prompt_number": 132
    },
    {
     "cell_type": "code",
     "collapsed": false,
     "input": [
      "print 'Min point is ', (min_cut[0], min_loss)\n",
      "plt.plot(cuts, np.log(loss))\n",
      "plt.xlabel('Popularity cuts')\n",
      "plt.ylabel('log(Loss)')\n",
      "plt.title('Loss function1')\n",
      "plt.show()"
     ],
     "language": "python",
     "metadata": {},
     "outputs": [],
     "prompt_number": 133
    },
    {
     "cell_type": "code",
     "collapsed": false,
     "input": [
      "total_report = report_upgrade(total_report, pop_cut=0.14, q=[1, 1, 1])\n",
      "used_size = (total_report['LFNSize'].values*total_report['NbReplicas'].values*total_report['OnDisk'].values).sum()\n",
      "used_size"
     ],
     "language": "python",
     "metadata": {},
     "outputs": [],
     "prompt_number": 134
    },
    {
     "cell_type": "code",
     "collapsed": false,
     "input": [
      "def set_disk_tape_marker(total_report, pop_cut=0.5):\n",
      "    pop = total_report['Popularity'].values\n",
      "    total_report['OnDisk'] = (pop<=pop_cut)*1\n",
      "    return total_report\n",
      "\n",
      "def set_nb_replicas(total_report, q=[0.5, 0.75, 0.95]):\n",
      "    marker = total_report['OnDisk'].values\n",
      "    inten = total_report['Intensity']\n",
      "    inten_cut = total_report['Intensity'][marker==1]\n",
      "    total_report['NbReplicas'] = 1\n",
      "    for i in q:\n",
      "        total_report['NbReplicas'] = total_report['NbReplicas'].values + (marker==1)*(inten.values>inten_cut.quantile(i))*1\n",
      "    return total_report\n",
      "\n",
      "def set_missing(total_report):\n",
      "    marker = total_report['OnDisk']\n",
      "    label = total_report['Label']\n",
      "    total_report['Missing'] = (label==0)*(marker==0)*1\n",
      "    return total_report\n",
      "\n",
      "def report_upgrade(total_report, pop_cut=0.5, q=[0.5, 0.75, 0.95]):\n",
      "    total_report = set_disk_tape_marker(total_report, pop_cut)\n",
      "    total_report = set_nb_replicas(total_report, q=q)\n",
      "    total_report = set_missing(total_report)\n",
      "    return total_report"
     ],
     "language": "python",
     "metadata": {},
     "outputs": [],
     "prompt_number": 135
    },
    {
     "cell_type": "code",
     "collapsed": false,
     "input": [
      "def loss_function(total_report, c_disk=100, c_tape=1, c_miss=10000):\n",
      "    lfn_size = total_report['LFNSize'].values\n",
      "    nb_replicas = total_report['NbReplicas']\n",
      "    marker = total_report['OnDisk'].values\n",
      "    miss = total_report['Missing'].values\n",
      "    \n",
      "    nc_disk = (marker*lfn_size*nb_replicas*c_disk).sum()\n",
      "    nc_tape = ((1-marker)*lfn_size*nb_replicas*c_tape).sum()\n",
      "    nc_miss = (miss*lfn_size*nb_replicas*c_miss).sum()\n",
      "    \n",
      "    loss = (nc_disk + nc_tape + nc_miss)\n",
      "    return loss\n",
      "\n",
      "def get_loss_curve(total_report, q=[0.5, 0.75, 0.95], c_disk=100, c_tape=1, c_miss=10000):\n",
      "    cuts = np.array(arange(0, 1, 0.01))\n",
      "    loss_curve = []\n",
      "    for i in cuts:\n",
      "        report = report_upgrade(total_report=total_report, pop_cut=i,  q=q)\n",
      "        loss = loss_function(report, c_disk, c_tape, c_miss)\n",
      "        loss_curve.append(loss)\n",
      "    loss_curve = np.array(loss_curve)\n",
      "    min_loss = loss_curve.min()\n",
      "    min_cut = cuts[loss_curve==min_loss]\n",
      "    return cuts, loss_curve, min_cut, min_loss"
     ],
     "language": "python",
     "metadata": {},
     "outputs": [],
     "prompt_number": 136
    },
    {
     "cell_type": "code",
     "collapsed": false,
     "input": [
      "cuts, loss, min_cut, min_loss = get_loss_curve(total_report, q=[0.5, 0.75, 0.95], c_disk=10000, c_tape=1, c_miss=100000)"
     ],
     "language": "python",
     "metadata": {},
     "outputs": [],
     "prompt_number": 137
    },
    {
     "cell_type": "code",
     "collapsed": false,
     "input": [
      "print 'Min point is ', (min_cut[0], min_loss)\n",
      "plt.plot(cuts, np.log(loss))\n",
      "plt.xlabel('Popularity cuts')\n",
      "plt.ylabel('log(Loss)')\n",
      "plt.title('Loss function1')\n",
      "plt.show()"
     ],
     "language": "python",
     "metadata": {},
     "outputs": [],
     "prompt_number": 138
    },
    {
     "cell_type": "code",
     "collapsed": false,
     "input": [
      "#total_size = (data['LFNSize'].values*data['Nb_Replicas'].values).sum()\n",
      "total_size = (data['DiskSize'].values+data['TapeSize'].values).sum()\n",
      "total_size_d = (data['DiskSize'].values).sum()\n",
      "print total_size\n",
      "print total_size_d"
     ],
     "language": "python",
     "metadata": {},
     "outputs": [],
     "prompt_number": 139
    },
    {
     "cell_type": "code",
     "collapsed": false,
     "input": [
      "total_report = report_upgrade(total_report, pop_cut=0.14, q=[0.5, 0.75, 0.95])\n",
      "used_size = (total_report['LFNSize'].values*total_report['NbReplicas'].values*total_report['OnDisk'].values).sum()\n",
      "used_size"
     ],
     "language": "python",
     "metadata": {},
     "outputs": [],
     "prompt_number": 140
    },
    {
     "cell_type": "code",
     "collapsed": false,
     "input": [
      "total_report = report_upgrade(total_report, pop_cut=0.14, q=[0.8, 0.9, 0.95])\n",
      "used_size = (total_report['LFNSize'].values*total_report['NbReplicas'].values*total_report['OnDisk'].values).sum()\n",
      "used_size"
     ],
     "language": "python",
     "metadata": {},
     "outputs": [],
     "prompt_number": 141
    },
    {
     "cell_type": "code",
     "collapsed": false,
     "input": [
      "total_report = report_upgrade(total_report, pop_cut=0.14, q=[0.9, 0.95, 0.98])\n",
      "used_size = (total_report['LFNSize'].values*total_report['NbReplicas'].values*total_report['OnDisk'].values).sum()\n",
      "used_size"
     ],
     "language": "python",
     "metadata": {},
     "outputs": [],
     "prompt_number": 142
    },
    {
     "cell_type": "code",
     "collapsed": false,
     "input": [
      "total_report = report_upgrade(total_report, pop_cut=0.5, q=[0.9, 0.95, 0.98])\n",
      "used_size = (total_report['LFNSize'].values*total_report['NbReplicas'].values*total_report['OnDisk'].values).sum()\n",
      "used_size"
     ],
     "language": "python",
     "metadata": {},
     "outputs": [],
     "prompt_number": 143
    },
    {
     "cell_type": "code",
     "collapsed": false,
     "input": [
      "total_report = report_upgrade(total_report, pop_cut=0.4, q=[0.9, 0.95, 0.98])\n",
      "used_size = (total_report['LFNSize'].values*total_report['NbReplicas'].values*total_report['OnDisk'].values).sum()\n",
      "used_size"
     ],
     "language": "python",
     "metadata": {},
     "outputs": [],
     "prompt_number": 144
    },
    {
     "cell_type": "code",
     "collapsed": false,
     "input": [
      "total_report = popularity.sort(columns='Name')\n",
      "total_report['Intensity'] = prediction.sort(columns='Name')['Access']\n",
      "total_report['Label'] = estimator.train_report.sort(columns='Name')['Label']\n",
      "total_report['LFNSize'] = data.sort(columns='Name')['LFNSize']#data.sort(columns='Name')['DiskSize'].values#\\\n",
      "#+data.sort(columns='Name')['TapeSize'].values#data.sort(columns='Name')['LFNSize']\n",
      "#total_report"
     ],
     "language": "python",
     "metadata": {},
     "outputs": [],
     "prompt_number": 145
    },
    {
     "cell_type": "code",
     "collapsed": false,
     "input": [
      "def set_disk_tape_marker(total_report, pop_cut=0.5):\n",
      "    pop = total_report['Popularity'].values\n",
      "    total_report['OnDisk'] = (pop<=pop_cut)*1\n",
      "    return total_report\n",
      "\n",
      "def set_nb_replicas(total_report, q=[0.5, 0.75, 0.95]):\n",
      "    marker = total_report['OnDisk'].values\n",
      "    inten = total_report['Intensity']\n",
      "    inten_cut = total_report['Intensity'][marker==1]\n",
      "    total_report['NbReplicas'] = 1\n",
      "    for i in q:\n",
      "        total_report['NbReplicas'] = total_report['NbReplicas'].values + (marker==1)*(inten.values>inten_cut.quantile(i))*1\n",
      "    return total_report\n",
      "\n",
      "def set_missing(total_report):\n",
      "    marker = total_report['OnDisk']\n",
      "    label = total_report['Label']\n",
      "    total_report['Missing'] = (label==0)*(marker==0)*1\n",
      "    return total_report\n",
      "\n",
      "def report_upgrade(total_report, pop_cut=0.5, q=[0.5, 0.75, 0.95]):\n",
      "    total_report = set_disk_tape_marker(total_report, pop_cut)\n",
      "    total_report = set_nb_replicas(total_report, q=q)\n",
      "    total_report = set_missing(total_report)\n",
      "    return total_report"
     ],
     "language": "python",
     "metadata": {},
     "outputs": [],
     "prompt_number": 146
    },
    {
     "cell_type": "code",
     "collapsed": false,
     "input": [
      "def loss_function(total_report, c_disk=100, c_tape=1, c_miss=10000):\n",
      "    lfn_size = total_report['LFNSize'].values\n",
      "    nb_replicas = total_report['NbReplicas']\n",
      "    marker = total_report['OnDisk'].values\n",
      "    miss = total_report['Missing'].values\n",
      "    \n",
      "    nc_disk = (marker*lfn_size*nb_replicas*c_disk).sum()\n",
      "    nc_tape = ((1-marker)*lfn_size*nb_replicas*c_tape).sum()\n",
      "    nc_miss = (miss*lfn_size*nb_replicas*c_miss).sum()\n",
      "    \n",
      "    loss = (nc_disk + nc_tape + nc_miss)\n",
      "    return loss\n",
      "\n",
      "def get_loss_curve(total_report, q=[0.5, 0.75, 0.95], c_disk=100, c_tape=1, c_miss=10000):\n",
      "    cuts = np.array(arange(0, 1, 0.01))\n",
      "    loss_curve = []\n",
      "    for i in cuts:\n",
      "        report = report_upgrade(total_report=total_report, pop_cut=i,  q=q)\n",
      "        loss = loss_function(report, c_disk, c_tape, c_miss)\n",
      "        loss_curve.append(loss)\n",
      "    loss_curve = np.array(loss_curve)\n",
      "    min_loss = loss_curve.min()\n",
      "    min_cut = cuts[loss_curve==min_loss]\n",
      "    return cuts, loss_curve, min_cut, min_loss"
     ],
     "language": "python",
     "metadata": {},
     "outputs": [],
     "prompt_number": 147
    },
    {
     "cell_type": "code",
     "collapsed": false,
     "input": [
      "cuts, loss, min_cut, min_loss = get_loss_curve(total_report, q=[0.5, 0.75, 0.95], c_disk=10000, c_tape=1, c_miss=100000)"
     ],
     "language": "python",
     "metadata": {},
     "outputs": [],
     "prompt_number": 148
    },
    {
     "cell_type": "code",
     "collapsed": false,
     "input": [
      "print 'Min point is ', (min_cut[0], min_loss)\n",
      "plt.plot(cuts, np.log(loss))\n",
      "plt.xlabel('Popularity cuts')\n",
      "plt.ylabel('log(Loss)')\n",
      "plt.title('Loss function1')\n",
      "plt.show()"
     ],
     "language": "python",
     "metadata": {},
     "outputs": [],
     "prompt_number": 149
    },
    {
     "cell_type": "code",
     "collapsed": false,
     "input": [
      "#total_size = (data['LFNSize'].values*data['Nb_Replicas'].values).sum()\n",
      "total_size = (data['DiskSize'].values+data['TapeSize'].values).sum()\n",
      "total_size_d = (data['DiskSize'].values).sum()\n",
      "print total_size\n",
      "print total_size_d"
     ],
     "language": "python",
     "metadata": {},
     "outputs": [],
     "prompt_number": 150
    },
    {
     "cell_type": "code",
     "collapsed": false,
     "input": [
      "total_report = report_upgrade(total_report, pop_cut=0.4, q=[0.9, 0.95, 0.98])\n",
      "used_size = (total_report['LFNSize'].values*total_report['NbReplicas'].values*total_report['OnDisk'].values).sum()\n",
      "used_size"
     ],
     "language": "python",
     "metadata": {},
     "outputs": [],
     "prompt_number": 151
    },
    {
     "cell_type": "code",
     "collapsed": false,
     "input": [
      "total_report = report_upgrade(total_report, pop_cut=0.4, q=[0.5, 0.75, 0.95])\n",
      "used_size = (total_report['LFNSize'].values*total_report['NbReplicas'].values*total_report['OnDisk'].values).sum()\n",
      "used_size"
     ],
     "language": "python",
     "metadata": {},
     "outputs": [],
     "prompt_number": 152
    },
    {
     "cell_type": "code",
     "collapsed": false,
     "input": [
      "total_report"
     ],
     "language": "python",
     "metadata": {},
     "outputs": [],
     "prompt_number": 153
    },
    {
     "cell_type": "code",
     "collapsed": false,
     "input": [
      "total_report = popularity.sort(columns='Name')\n",
      "total_report['Intensity'] = prediction.sort(columns='Name')['Access']\n",
      "total_report['Label'] = estimator.train_report.sort(columns='Name')['Label']\n",
      "total_report['LFNSize'] = data.sort(columns='Name')['LFNSize']#data.sort(columns='Name')['DiskSize'].values#\\\n",
      "#+data.sort(columns='Name')['TapeSize'].values#data.sort(columns='Name')['LFNSize']\n",
      "#total_report"
     ],
     "language": "python",
     "metadata": {},
     "outputs": [],
     "prompt_number": 154
    },
    {
     "cell_type": "code",
     "collapsed": false,
     "input": [
      "total_report"
     ],
     "language": "python",
     "metadata": {},
     "outputs": [],
     "prompt_number": 155
    },
    {
     "cell_type": "code",
     "collapsed": false,
     "input": [
      "data.sort(columns='Name')"
     ],
     "language": "python",
     "metadata": {},
     "outputs": [],
     "prompt_number": 156
    },
    {
     "cell_type": "code",
     "collapsed": false,
     "input": [
      "data.sort(columns='Name')['LFNSize']"
     ],
     "language": "python",
     "metadata": {},
     "outputs": [],
     "prompt_number": 157
    },
    {
     "cell_type": "code",
     "collapsed": false,
     "input": [
      "total_report = popularity.sort(columns='Name')\n",
      "total_report['Intensity'] = prediction.sort(columns='Name')['Access']\n",
      "total_report['Label'] = estimator.train_report.sort(columns='Name')['Label']\n",
      "total_report['LFNSize'] = data.sort(columns='Name')['LFNSize'].values#data.sort(columns='Name')['DiskSize'].values#\\\n",
      "#+data.sort(columns='Name')['TapeSize'].values#data.sort(columns='Name')['LFNSize']\n",
      "#total_report"
     ],
     "language": "python",
     "metadata": {},
     "outputs": [],
     "prompt_number": 158
    },
    {
     "cell_type": "code",
     "collapsed": false,
     "input": [
      "data.sort(columns='Name')['LFNSize']\n",
      "total_report"
     ],
     "language": "python",
     "metadata": {},
     "outputs": [],
     "prompt_number": 159
    },
    {
     "cell_type": "code",
     "collapsed": false,
     "input": [
      "def set_disk_tape_marker(total_report, pop_cut=0.5):\n",
      "    pop = total_report['Popularity'].values\n",
      "    total_report['OnDisk'] = (pop<=pop_cut)*1\n",
      "    return total_report\n",
      "\n",
      "def set_nb_replicas(total_report, q=[0.5, 0.75, 0.95]):\n",
      "    marker = total_report['OnDisk'].values\n",
      "    inten = total_report['Intensity']\n",
      "    inten_cut = total_report['Intensity'][marker==1]\n",
      "    total_report['NbReplicas'] = 1\n",
      "    for i in q:\n",
      "        total_report['NbReplicas'] = total_report['NbReplicas'].values + (marker==1)*(inten.values>inten_cut.quantile(i))*1\n",
      "    return total_report\n",
      "\n",
      "def set_missing(total_report):\n",
      "    marker = total_report['OnDisk']\n",
      "    label = total_report['Label']\n",
      "    total_report['Missing'] = (label==0)*(marker==0)*1\n",
      "    return total_report\n",
      "\n",
      "def report_upgrade(total_report, pop_cut=0.5, q=[0.5, 0.75, 0.95]):\n",
      "    total_report = set_disk_tape_marker(total_report, pop_cut)\n",
      "    total_report = set_nb_replicas(total_report, q=q)\n",
      "    total_report = set_missing(total_report)\n",
      "    return total_report"
     ],
     "language": "python",
     "metadata": {},
     "outputs": [],
     "prompt_number": 160
    },
    {
     "cell_type": "code",
     "collapsed": false,
     "input": [
      "def loss_function(total_report, c_disk=100, c_tape=1, c_miss=10000):\n",
      "    lfn_size = total_report['LFNSize'].values\n",
      "    nb_replicas = total_report['NbReplicas']\n",
      "    marker = total_report['OnDisk'].values\n",
      "    miss = total_report['Missing'].values\n",
      "    \n",
      "    nc_disk = (marker*lfn_size*nb_replicas*c_disk).sum()\n",
      "    nc_tape = ((1-marker)*lfn_size*nb_replicas*c_tape).sum()\n",
      "    nc_miss = (miss*lfn_size*nb_replicas*c_miss).sum()\n",
      "    \n",
      "    loss = (nc_disk + nc_tape + nc_miss)\n",
      "    return loss\n",
      "\n",
      "def get_loss_curve(total_report, q=[0.5, 0.75, 0.95], c_disk=100, c_tape=1, c_miss=10000):\n",
      "    cuts = np.array(arange(0, 1, 0.01))\n",
      "    loss_curve = []\n",
      "    for i in cuts:\n",
      "        report = report_upgrade(total_report=total_report, pop_cut=i,  q=q)\n",
      "        loss = loss_function(report, c_disk, c_tape, c_miss)\n",
      "        loss_curve.append(loss)\n",
      "    loss_curve = np.array(loss_curve)\n",
      "    min_loss = loss_curve.min()\n",
      "    min_cut = cuts[loss_curve==min_loss]\n",
      "    return cuts, loss_curve, min_cut, min_loss"
     ],
     "language": "python",
     "metadata": {},
     "outputs": [],
     "prompt_number": 161
    },
    {
     "cell_type": "code",
     "collapsed": false,
     "input": [
      "cuts, loss, min_cut, min_loss = get_loss_curve(total_report, q=[0.5, 0.75, 0.95], c_disk=10000, c_tape=1, c_miss=100000)"
     ],
     "language": "python",
     "metadata": {},
     "outputs": [],
     "prompt_number": 162
    },
    {
     "cell_type": "code",
     "collapsed": false,
     "input": [
      "print 'Min point is ', (min_cut[0], min_loss)\n",
      "plt.plot(cuts, np.log(loss))\n",
      "plt.xlabel('Popularity cuts')\n",
      "plt.ylabel('log(Loss)')\n",
      "plt.title('Loss function1')\n",
      "plt.show()"
     ],
     "language": "python",
     "metadata": {},
     "outputs": [],
     "prompt_number": 163
    },
    {
     "cell_type": "code",
     "collapsed": false,
     "input": [
      "#total_size = (data['LFNSize'].values*data['Nb_Replicas'].values).sum()\n",
      "total_size = (data['DiskSize'].values+data['TapeSize'].values).sum()\n",
      "total_size_d = (data['DiskSize'].values).sum()\n",
      "print total_size\n",
      "print total_size_d"
     ],
     "language": "python",
     "metadata": {},
     "outputs": [],
     "prompt_number": 164
    },
    {
     "cell_type": "code",
     "collapsed": false,
     "input": [
      "total_report = report_upgrade(total_report, pop_cut=0.4, q=[0.5, 0.75, 0.95])\n",
      "used_size = (total_report['LFNSize'].values*total_report['NbReplicas'].values*total_report['OnDisk'].values).sum()\n",
      "used_size"
     ],
     "language": "python",
     "metadata": {},
     "outputs": [],
     "prompt_number": 165
    },
    {
     "cell_type": "code",
     "collapsed": false,
     "input": [
      "total_report = report_upgrade(total_report, pop_cut=0.5, q=[0.5, 0.75, 0.95])\n",
      "used_size = (total_report['LFNSize'].values*total_report['NbReplicas'].values*total_report['OnDisk'].values).sum()\n",
      "used_size"
     ],
     "language": "python",
     "metadata": {},
     "outputs": [],
     "prompt_number": 166
    },
    {
     "cell_type": "code",
     "collapsed": false,
     "input": [
      "cuts, loss, min_cut, min_loss = get_loss_curve(total_report, q=[0.5, 0.75, 0.95], c_disk=100, c_tape=1, c_miss=70000)"
     ],
     "language": "python",
     "metadata": {},
     "outputs": [],
     "prompt_number": 167
    },
    {
     "cell_type": "code",
     "collapsed": false,
     "input": [
      "print 'Min point is ', (min_cut[0], min_loss)\n",
      "plt.plot(cuts, np.log(loss))\n",
      "plt.xlabel('Popularity cuts')\n",
      "plt.ylabel('log(Loss)')\n",
      "plt.title('Loss function1')\n",
      "plt.show()"
     ],
     "language": "python",
     "metadata": {},
     "outputs": [],
     "prompt_number": 168
    },
    {
     "cell_type": "code",
     "collapsed": false,
     "input": [
      "total_report = report_upgrade(total_report, pop_cut=0.65, q=[0.5, 0.75, 0.95])\n",
      "used_size = (total_report['LFNSize'].values*total_report['NbReplicas'].values*total_report['OnDisk'].values).sum()\n",
      "used_size"
     ],
     "language": "python",
     "metadata": {},
     "outputs": [],
     "prompt_number": 169
    },
    {
     "cell_type": "code",
     "collapsed": false,
     "input": [
      "plt.hist(prediction)\n",
      "plt.show()"
     ],
     "language": "python",
     "metadata": {},
     "outputs": [],
     "prompt_number": 170
    },
    {
     "cell_type": "code",
     "collapsed": false,
     "input": [
      "plt.hist(prediction['Access'].values)\n",
      "plt.show()"
     ],
     "language": "python",
     "metadata": {},
     "outputs": [],
     "prompt_number": 171
    },
    {
     "cell_type": "code",
     "collapsed": false,
     "input": [
      "plt.hist(np.log(prediction['Access'].values)\n",
      "plt.show()"
     ],
     "language": "python",
     "metadata": {},
     "outputs": [],
     "prompt_number": 172
    },
    {
     "cell_type": "code",
     "collapsed": false,
     "input": [
      "plt.hist(np.log(prediction['Access'].values))\n",
      "plt.show()"
     ],
     "language": "python",
     "metadata": {},
     "outputs": [],
     "prompt_number": 173
    },
    {
     "cell_type": "code",
     "collapsed": false,
     "input": [
      "plt.hist(np.log(prediction['Access'].values+1))\n",
      "plt.show()"
     ],
     "language": "python",
     "metadata": {},
     "outputs": [],
     "prompt_number": 174
    },
    {
     "cell_type": "code",
     "collapsed": false,
     "input": [
      "plt.hist(np.log(prediction['Access'].values+1), bins=20)\n",
      "plt.show()"
     ],
     "language": "python",
     "metadata": {},
     "outputs": [],
     "prompt_number": 175
    },
    {
     "cell_type": "code",
     "collapsed": false,
     "input": [
      "plt.hist(np.log(prediction['Access'].values+1), bins=40)\n",
      "plt.show()"
     ],
     "language": "python",
     "metadata": {},
     "outputs": [],
     "prompt_number": 176
    },
    {
     "cell_type": "code",
     "collapsed": false,
     "input": [
      "p = prediction['Access'].values\n",
      "p[p<1].shape"
     ],
     "language": "python",
     "metadata": {},
     "outputs": [],
     "prompt_number": 177
    },
    {
     "cell_type": "code",
     "collapsed": false,
     "input": [
      "p = prediction['Access'].values\n",
      "p[p>0].shape"
     ],
     "language": "python",
     "metadata": {},
     "outputs": [],
     "prompt_number": 178
    },
    {
     "cell_type": "code",
     "collapsed": false,
     "input": [
      "p = prediction['Access'].values\n",
      "p[p>0].shape"
     ],
     "language": "python",
     "metadata": {},
     "outputs": [],
     "prompt_number": 179
    },
    {
     "cell_type": "code",
     "collapsed": false,
     "input": [
      "p = prediction['Access'].values\n",
      "p[p>0].shape\n",
      "p.shape"
     ],
     "language": "python",
     "metadata": {},
     "outputs": [],
     "prompt_number": 180
    },
    {
     "cell_type": "code",
     "collapsed": false,
     "input": [
      "p = prediction['Access'].values\n",
      "print p.shape\n",
      "p[p>0].shape"
     ],
     "language": "python",
     "metadata": {},
     "outputs": [],
     "prompt_number": 181
    },
    {
     "cell_type": "code",
     "collapsed": false,
     "input": [
      "p = prediction['Access'].values\n",
      "print p.shape\n",
      "p[p>=0].shape"
     ],
     "language": "python",
     "metadata": {},
     "outputs": [],
     "prompt_number": 182
    },
    {
     "cell_type": "code",
     "collapsed": false,
     "input": [
      "p = prediction['Access'].values\n",
      "print p.shape\n",
      "p[p==0].shape"
     ],
     "language": "python",
     "metadata": {},
     "outputs": [],
     "prompt_number": 183
    },
    {
     "cell_type": "code",
     "collapsed": false,
     "input": [
      "p = prediction['Access'].values\n",
      "print p.shape\n",
      "p[p==0].shape\n",
      "p[p==0]"
     ],
     "language": "python",
     "metadata": {},
     "outputs": [],
     "prompt_number": 184
    },
    {
     "cell_type": "code",
     "collapsed": false,
     "input": [
      "p = prediction['Access'].values\n",
      "print p.shape\n",
      "p[p==0].shape"
     ],
     "language": "python",
     "metadata": {},
     "outputs": [],
     "prompt_number": 185
    },
    {
     "cell_type": "code",
     "collapsed": false,
     "input": [
      "p = prediction['Access'].values\n",
      "print p.shape\n",
      "\n",
      "plt.hist(np.log(p[p==0]+1), bins=40)\n",
      "plt.show()\n",
      "p[p==0].shape"
     ],
     "language": "python",
     "metadata": {},
     "outputs": [],
     "prompt_number": 186
    },
    {
     "cell_type": "code",
     "collapsed": false,
     "input": [
      "p = prediction['Access'].values\n",
      "print p.shape\n",
      "\n",
      "plt.hist(np.log(p[p>0]+1), bins=40)\n",
      "plt.show()\n",
      "p[p==0].shape"
     ],
     "language": "python",
     "metadata": {},
     "outputs": [],
     "prompt_number": 187
    },
    {
     "cell_type": "code",
     "collapsed": false,
     "input": [
      "p = prediction['Access'].values\n",
      "print p.shape\n",
      "\n",
      "plt.hist(np.log(p[p>1]+1), bins=40)\n",
      "plt.show()\n",
      "p[p>0].shape"
     ],
     "language": "python",
     "metadata": {},
     "outputs": [],
     "prompt_number": 188
    },
    {
     "cell_type": "code",
     "collapsed": false,
     "input": [
      "p = prediction['Access'].values\n",
      "print p.shape\n",
      "\n",
      "plt.hist(np.log(p[p>0.01]+1), bins=40)\n",
      "plt.show()\n",
      "p[p>0].shape"
     ],
     "language": "python",
     "metadata": {},
     "outputs": [],
     "prompt_number": 189
    },
    {
     "cell_type": "code",
     "collapsed": false,
     "input": [
      "def set_disk_tape_marker(total_report, pop_cut=0.5):\n",
      "    pop = total_report['Popularity'].values\n",
      "    total_report['OnDisk'] = (pop<=pop_cut)*1\n",
      "    return total_report\n",
      "\n",
      "def set_nb_replicas(total_report, q=[0.5, 0.75, 0.95]):\n",
      "    marker = total_report['OnDisk'].values\n",
      "    inten = total_report['Intensity']\n",
      "    inten_cut = total_report['Intensity'][marker==1]\n",
      "    total_report['NbReplicas'] = 1\n",
      "    for i in q:\n",
      "        total_report['NbReplicas'] = total_report['NbReplicas'].values + (marker==1)*(inten.values>inten_cut.quantile(i))*1\n",
      "    return total_report\n",
      "\n",
      "def set_missing(total_report):\n",
      "    marker = total_report['OnDisk']\n",
      "    label = total_report['Label']\n",
      "    total_report['Missing'] = (label==0)*(marker==0)*1\n",
      "    return total_report\n",
      "\n",
      "def report_upgrade(total_report, pop_cut=0.5, q=[0.5, 0.75, 0.95]):\n",
      "    total_report = set_disk_tape_marker(total_report, pop_cut)\n",
      "    total_report = set_nb_replicas(total_report, q=q)\n",
      "    total_report = set_missing(total_report)\n",
      "    return total_report"
     ],
     "language": "python",
     "metadata": {},
     "outputs": [],
     "prompt_number": 190
    },
    {
     "cell_type": "code",
     "collapsed": false,
     "input": [
      "def loss_function(total_report, c_disk=100, c_tape=1, c_miss=10000):\n",
      "    lfn_size = total_report['LFNSize'].values\n",
      "    nb_replicas = total_report['NbReplicas']\n",
      "    marker = total_report['OnDisk'].values\n",
      "    miss = total_report['Missing'].values\n",
      "    \n",
      "    nc_disk = (marker*lfn_size*nb_replicas*c_disk).sum()\n",
      "    nc_tape = ((1-marker)*lfn_size*nb_replicas*c_tape).sum()\n",
      "    nc_miss = (miss*lfn_size*nb_replicas*c_miss).sum()\n",
      "    \n",
      "    loss = (nc_disk + nc_tape + nc_miss)\n",
      "    return loss\n",
      "\n",
      "def get_loss_curve(total_report, q=[0.5, 0.75, 0.95], c_disk=100, c_tape=1, c_miss=10000):\n",
      "    cuts = np.array(arange(0, 1, 0.01))\n",
      "    loss_curve = []\n",
      "    for i in cuts:\n",
      "        report = report_upgrade(total_report=total_report, pop_cut=i,  q=q)\n",
      "        loss = loss_function(report, c_disk, c_tape, c_miss)\n",
      "        loss_curve.append(loss)\n",
      "    loss_curve = np.array(loss_curve)\n",
      "    min_loss = loss_curve.min()\n",
      "    min_cut = cuts[loss_curve==min_loss]\n",
      "    return cuts, loss_curve, min_cut, min_loss"
     ],
     "language": "python",
     "metadata": {},
     "outputs": [],
     "prompt_number": 191
    },
    {
     "cell_type": "code",
     "collapsed": false,
     "input": [
      "cuts, loss, min_cut, min_loss = get_loss_curve(total_report, q=[0.5, 0.75, 0.95], c_disk=100, c_tape=1, c_miss=70000)"
     ],
     "language": "python",
     "metadata": {},
     "outputs": [],
     "prompt_number": 192
    },
    {
     "cell_type": "code",
     "collapsed": false,
     "input": [
      "print 'Min point is ', (min_cut[0], min_loss)\n",
      "plt.plot(cuts, np.log(loss))\n",
      "plt.xlabel('Popularity cuts')\n",
      "plt.ylabel('log(Loss)')\n",
      "plt.title('Loss function1')\n",
      "plt.show()"
     ],
     "language": "python",
     "metadata": {},
     "outputs": [],
     "prompt_number": 193
    },
    {
     "cell_type": "code",
     "collapsed": false,
     "input": [
      "#total_size = (data['LFNSize'].values*data['Nb_Replicas'].values).sum()\n",
      "total_size = (data['DiskSize'].values+data['TapeSize'].values).sum()\n",
      "total_size_d = (data['DiskSize'].values).sum()\n",
      "print total_size\n",
      "print total_size_d"
     ],
     "language": "python",
     "metadata": {},
     "outputs": [],
     "prompt_number": 194
    },
    {
     "cell_type": "code",
     "collapsed": false,
     "input": [
      "total_report = report_upgrade(total_report, pop_cut=0.65, q=[0.5, 0.75, 0.95])\n",
      "used_size = (total_report['LFNSize'].values*total_report['NbReplicas'].values*total_report['OnDisk'].values).sum()\n",
      "used_size"
     ],
     "language": "python",
     "metadata": {},
     "outputs": [],
     "prompt_number": 195
    },
    {
     "cell_type": "code",
     "collapsed": false,
     "input": [
      "total_report"
     ],
     "language": "python",
     "metadata": {},
     "outputs": [],
     "prompt_number": 196
    },
    {
     "cell_type": "code",
     "collapsed": false,
     "input": [
      "total_report = report_upgrade(total_report, pop_cut=0.65, q=[1])\n",
      "used_size = (total_report['LFNSize'].values*total_report['NbReplicas'].values*total_report['OnDisk'].values).sum()\n",
      "used_size"
     ],
     "language": "python",
     "metadata": {},
     "outputs": [],
     "prompt_number": 197
    },
    {
     "cell_type": "code",
     "collapsed": false,
     "input": [
      "total_report = report_upgrade(total_report, pop_cut=0.65, q=[0.5, 0.75, 0.95])\n",
      "used_size = (total_report['LFNSize'].values*total_report['NbReplicas'].values*total_report['OnDisk'].values).sum()\n",
      "used_size"
     ],
     "language": "python",
     "metadata": {},
     "outputs": [],
     "prompt_number": 198
    },
    {
     "cell_type": "code",
     "collapsed": false,
     "input": [
      "p = prediction['Access'].values\n",
      "print p.shape\n",
      "\n",
      "plt.hist(p[p>0.01], bins=40)\n",
      "plt.show()\n",
      "p[p>0].shape"
     ],
     "language": "python",
     "metadata": {},
     "outputs": [],
     "prompt_number": 199
    },
    {
     "cell_type": "code",
     "collapsed": false,
     "input": [
      "p = prediction['Access'].values\n",
      "print p.shape\n",
      "\n",
      "plt.hist(np.log(p[p>0.01]+1), bins=40)\n",
      "plt.show()\n",
      "p[p>0].shape"
     ],
     "language": "python",
     "metadata": {},
     "outputs": [],
     "prompt_number": 200
    },
    {
     "cell_type": "code",
     "collapsed": false,
     "input": [
      "def set_disk_tape_marker(total_report, pop_cut=0.5):\n",
      "    pop = total_report['Popularity'].values\n",
      "    total_report['OnDisk'] = (pop<=pop_cut)*1\n",
      "    return total_report\n",
      "\n",
      "def set_nb_replicas(total_report, q=[0.5, 0.75, 0.95]):\n",
      "    marker = total_report['OnDisk'].values\n",
      "    inten = total_report['Intensity']\n",
      "    inten_cut = total_report['Intensity'][(marker==1)*(inten>0.01)]\n",
      "    total_report['NbReplicas'] = 1\n",
      "    for i in q:\n",
      "        total_report['NbReplicas'] = total_report['NbReplicas'].values + (marker==1)*(inten.values>inten_cut.quantile(i))*1\n",
      "    return total_report\n",
      "\n",
      "def set_missing(total_report):\n",
      "    marker = total_report['OnDisk']\n",
      "    label = total_report['Label']\n",
      "    total_report['Missing'] = (label==0)*(marker==0)*1\n",
      "    return total_report\n",
      "\n",
      "def report_upgrade(total_report, pop_cut=0.5, q=[0.5, 0.75, 0.95]):\n",
      "    total_report = set_disk_tape_marker(total_report, pop_cut)\n",
      "    total_report = set_nb_replicas(total_report, q=q)\n",
      "    total_report = set_missing(total_report)\n",
      "    return total_report"
     ],
     "language": "python",
     "metadata": {},
     "outputs": [],
     "prompt_number": 201
    },
    {
     "cell_type": "code",
     "collapsed": false,
     "input": [
      "def loss_function(total_report, c_disk=100, c_tape=1, c_miss=10000):\n",
      "    lfn_size = total_report['LFNSize'].values\n",
      "    nb_replicas = total_report['NbReplicas']\n",
      "    marker = total_report['OnDisk'].values\n",
      "    miss = total_report['Missing'].values\n",
      "    \n",
      "    nc_disk = (marker*lfn_size*nb_replicas*c_disk).sum()\n",
      "    nc_tape = ((1-marker)*lfn_size*nb_replicas*c_tape).sum()\n",
      "    nc_miss = (miss*lfn_size*nb_replicas*c_miss).sum()\n",
      "    \n",
      "    loss = (nc_disk + nc_tape + nc_miss)\n",
      "    return loss\n",
      "\n",
      "def get_loss_curve(total_report, q=[0.5, 0.75, 0.95], c_disk=100, c_tape=1, c_miss=10000):\n",
      "    cuts = np.array(arange(0, 1, 0.01))\n",
      "    loss_curve = []\n",
      "    for i in cuts:\n",
      "        report = report_upgrade(total_report=total_report, pop_cut=i,  q=q)\n",
      "        loss = loss_function(report, c_disk, c_tape, c_miss)\n",
      "        loss_curve.append(loss)\n",
      "    loss_curve = np.array(loss_curve)\n",
      "    min_loss = loss_curve.min()\n",
      "    min_cut = cuts[loss_curve==min_loss]\n",
      "    return cuts, loss_curve, min_cut, min_loss"
     ],
     "language": "python",
     "metadata": {},
     "outputs": [],
     "prompt_number": 202
    },
    {
     "cell_type": "code",
     "collapsed": false,
     "input": [
      "cuts, loss, min_cut, min_loss = get_loss_curve(total_report, q=[0.5, 0.75, 0.95], c_disk=100, c_tape=1, c_miss=70000)"
     ],
     "language": "python",
     "metadata": {},
     "outputs": [],
     "prompt_number": 203
    },
    {
     "cell_type": "code",
     "collapsed": false,
     "input": [
      "print 'Min point is ', (min_cut[0], min_loss)\n",
      "plt.plot(cuts, np.log(loss))\n",
      "plt.xlabel('Popularity cuts')\n",
      "plt.ylabel('log(Loss)')\n",
      "plt.title('Loss function1')\n",
      "plt.show()"
     ],
     "language": "python",
     "metadata": {},
     "outputs": [],
     "prompt_number": 204
    },
    {
     "cell_type": "code",
     "collapsed": false,
     "input": [
      "#total_size = (data['LFNSize'].values*data['Nb_Replicas'].values).sum()\n",
      "total_size = (data['DiskSize'].values+data['TapeSize'].values).sum()\n",
      "total_size_d = (data['DiskSize'].values).sum()\n",
      "print total_size\n",
      "print total_size_d"
     ],
     "language": "python",
     "metadata": {},
     "outputs": [],
     "prompt_number": 205
    },
    {
     "cell_type": "code",
     "collapsed": false,
     "input": [
      "total_report = report_upgrade(total_report, pop_cut=0.65, q=[0.5, 0.75, 0.95])\n",
      "used_size = (total_report['LFNSize'].values*total_report['NbReplicas'].values*total_report['OnDisk'].values).sum()\n",
      "used_size"
     ],
     "language": "python",
     "metadata": {},
     "outputs": [],
     "prompt_number": 206
    },
    {
     "cell_type": "code",
     "collapsed": false,
     "input": [
      "total_report = popularity.sort(columns='Name')\n",
      "total_report['Intensity'] = prediction.sort(columns='Name')['Access']\n",
      "total_report['Label'] = estimator.train_report.sort(columns='Name')['Label']\n",
      "total_report['LFNSize'] = data.sort(columns='Name')['DiskSize'].values#\\\n",
      "#+data.sort(columns='Name')['TapeSize'].values#data.sort(columns='Name')['LFNSize']\n",
      "#total_report"
     ],
     "language": "python",
     "metadata": {},
     "outputs": [],
     "prompt_number": 207
    },
    {
     "cell_type": "code",
     "collapsed": false,
     "input": [
      "def set_disk_tape_marker(total_report, pop_cut=0.5):\n",
      "    pop = total_report['Popularity'].values\n",
      "    total_report['OnDisk'] = (pop<=pop_cut)*1\n",
      "    return total_report\n",
      "\n",
      "def set_nb_replicas(total_report, q=[0.5, 0.75, 0.95]):\n",
      "    marker = total_report['OnDisk'].values\n",
      "    inten = total_report['Intensity']\n",
      "    inten_cut = total_report['Intensity'][(marker==1)*(inten>0.01)]\n",
      "    total_report['NbReplicas'] = 1\n",
      "#     for i in q:\n",
      "#         total_report['NbReplicas'] = total_report['NbReplicas'].values + (marker==1)*(inten.values>inten_cut.quantile(i))*1\n",
      "    return total_report\n",
      "\n",
      "def set_missing(total_report):\n",
      "    marker = total_report['OnDisk']\n",
      "    label = total_report['Label']\n",
      "    total_report['Missing'] = (label==0)*(marker==0)*1\n",
      "    return total_report\n",
      "\n",
      "def report_upgrade(total_report, pop_cut=0.5, q=[0.5, 0.75, 0.95]):\n",
      "    total_report = set_disk_tape_marker(total_report, pop_cut)\n",
      "    total_report = set_nb_replicas(total_report, q=q)\n",
      "    total_report = set_missing(total_report)\n",
      "    return total_report"
     ],
     "language": "python",
     "metadata": {},
     "outputs": [],
     "prompt_number": 208
    },
    {
     "cell_type": "code",
     "collapsed": false,
     "input": [
      "def loss_function(total_report, c_disk=100, c_tape=1, c_miss=10000):\n",
      "    lfn_size = total_report['LFNSize'].values\n",
      "    nb_replicas = total_report['NbReplicas']\n",
      "    marker = total_report['OnDisk'].values\n",
      "    miss = total_report['Missing'].values\n",
      "    \n",
      "    nc_disk = (marker*lfn_size*nb_replicas*c_disk).sum()\n",
      "    nc_tape = ((1-marker)*lfn_size*nb_replicas*c_tape).sum()\n",
      "    nc_miss = (miss*lfn_size*nb_replicas*c_miss).sum()\n",
      "    \n",
      "    loss = (nc_disk + nc_tape + nc_miss)\n",
      "    return loss\n",
      "\n",
      "def get_loss_curve(total_report, q=[0.5, 0.75, 0.95], c_disk=100, c_tape=1, c_miss=10000):\n",
      "    cuts = np.array(arange(0, 1, 0.01))\n",
      "    loss_curve = []\n",
      "    for i in cuts:\n",
      "        report = report_upgrade(total_report=total_report, pop_cut=i,  q=q)\n",
      "        loss = loss_function(report, c_disk, c_tape, c_miss)\n",
      "        loss_curve.append(loss)\n",
      "    loss_curve = np.array(loss_curve)\n",
      "    min_loss = loss_curve.min()\n",
      "    min_cut = cuts[loss_curve==min_loss]\n",
      "    return cuts, loss_curve, min_cut, min_loss"
     ],
     "language": "python",
     "metadata": {},
     "outputs": [],
     "prompt_number": 209
    },
    {
     "cell_type": "code",
     "collapsed": false,
     "input": [
      "cuts, loss, min_cut, min_loss = get_loss_curve(total_report, q=[0.5, 0.75, 0.95], c_disk=100, c_tape=1, c_miss=70000)"
     ],
     "language": "python",
     "metadata": {},
     "outputs": [],
     "prompt_number": 210
    },
    {
     "cell_type": "code",
     "collapsed": false,
     "input": [
      "print 'Min point is ', (min_cut[0], min_loss)\n",
      "plt.plot(cuts, np.log(loss))\n",
      "plt.xlabel('Popularity cuts')\n",
      "plt.ylabel('log(Loss)')\n",
      "plt.title('Loss function1')\n",
      "plt.show()"
     ],
     "language": "python",
     "metadata": {},
     "outputs": [],
     "prompt_number": 211
    },
    {
     "cell_type": "code",
     "collapsed": false,
     "input": [
      "#total_size = (data['LFNSize'].values*data['Nb_Replicas'].values).sum()\n",
      "total_size = (data['DiskSize'].values+data['TapeSize'].values).sum()\n",
      "total_size_d = (data['DiskSize'].values).sum()\n",
      "print total_size\n",
      "print total_size_d"
     ],
     "language": "python",
     "metadata": {},
     "outputs": [],
     "prompt_number": 212
    },
    {
     "cell_type": "code",
     "collapsed": false,
     "input": [
      "total_report = report_upgrade(total_report, pop_cut=0.65, q=[0.5, 0.75, 0.95])\n",
      "used_size = (total_report['LFNSize'].values*total_report['NbReplicas'].values*total_report['OnDisk'].values).sum()\n",
      "used_size"
     ],
     "language": "python",
     "metadata": {},
     "outputs": [],
     "prompt_number": 213
    },
    {
     "cell_type": "code",
     "collapsed": false,
     "input": [
      "total_report = report_upgrade(total_report, pop_cut=0.65, q=[0.7, 0.75, 0.95])\n",
      "used_size = (total_report['LFNSize'].values*total_report['NbReplicas'].values*total_report['OnDisk'].values).sum()\n",
      "used_size"
     ],
     "language": "python",
     "metadata": {},
     "outputs": [],
     "prompt_number": 214
    },
    {
     "cell_type": "code",
     "collapsed": false,
     "input": [
      "total_report = report_upgrade(total_report, pop_cut=0.65, q=[0.5, 0.75, 0.95])\n",
      "used_size = (total_report['LFNSize'].values*total_report['NbReplicas'].values*total_report['OnDisk'].values).sum()\n",
      "used_size"
     ],
     "language": "python",
     "metadata": {},
     "outputs": [],
     "prompt_number": 215
    },
    {
     "cell_type": "code",
     "collapsed": false,
     "input": [
      "cuts, loss, min_cut, min_loss = get_loss_curve(total_report, q=[0.5, 0.75, 0.95], c_disk=100, c_tape=1, c_miss=10000)"
     ],
     "language": "python",
     "metadata": {},
     "outputs": [],
     "prompt_number": 216
    },
    {
     "cell_type": "code",
     "collapsed": false,
     "input": [
      "print 'Min point is ', (min_cut[0], min_loss)\n",
      "plt.plot(cuts, np.log(loss))\n",
      "plt.xlabel('Popularity cuts')\n",
      "plt.ylabel('log(Loss)')\n",
      "plt.title('Loss function1')\n",
      "plt.show()"
     ],
     "language": "python",
     "metadata": {},
     "outputs": [],
     "prompt_number": 217
    },
    {
     "cell_type": "code",
     "collapsed": false,
     "input": [
      "total_report = report_upgrade(total_report, pop_cut=0.59, q=[0.5, 0.75, 0.95])\n",
      "used_size = (total_report['LFNSize'].values*total_report['NbReplicas'].values*total_report['OnDisk'].values).sum()\n",
      "used_size"
     ],
     "language": "python",
     "metadata": {},
     "outputs": [],
     "prompt_number": 218
    },
    {
     "cell_type": "code",
     "collapsed": false,
     "input": [
      "total_report = popularity.sort(columns='Name')\n",
      "total_report['Intensity'] = prediction.sort(columns='Name')['Access']\n",
      "total_report['Label'] = estimator.train_report.sort(columns='Name')['Label']\n",
      "total_report['LFNSize'] = data.sort(columns='Name')['LFNSize'].values#data.sort(columns='Name')['DiskSize'].values#\\\n",
      "#+data.sort(columns='Name')['TapeSize'].values#data.sort(columns='Name')['LFNSize']\n",
      "#total_report"
     ],
     "language": "python",
     "metadata": {},
     "outputs": [],
     "prompt_number": 219
    },
    {
     "cell_type": "code",
     "collapsed": false,
     "input": [
      "def set_disk_tape_marker(total_report, pop_cut=0.5):\n",
      "    pop = total_report['Popularity'].values\n",
      "    total_report['OnDisk'] = (pop<=pop_cut)*1\n",
      "    return total_report\n",
      "\n",
      "def set_nb_replicas(total_report, q=[0.5, 0.75, 0.95]):\n",
      "    marker = total_report['OnDisk'].values\n",
      "    inten = total_report['Intensity']\n",
      "    inten_cut = total_report['Intensity'][(marker==1)*(inten>0.01)]\n",
      "    total_report['NbReplicas'] = 1\n",
      "    for i in q:\n",
      "        total_report['NbReplicas'] = total_report['NbReplicas'].values + (marker==1)*(inten.values>inten_cut.quantile(i))*1\n",
      "    return total_report\n",
      "\n",
      "def set_missing(total_report):\n",
      "    marker = total_report['OnDisk']\n",
      "    label = total_report['Label']\n",
      "    total_report['Missing'] = (label==0)*(marker==0)*1\n",
      "    return total_report\n",
      "\n",
      "def report_upgrade(total_report, pop_cut=0.5, q=[0.5, 0.75, 0.95]):\n",
      "    total_report = set_disk_tape_marker(total_report, pop_cut)\n",
      "    total_report = set_nb_replicas(total_report, q=q)\n",
      "    total_report = set_missing(total_report)\n",
      "    return total_report"
     ],
     "language": "python",
     "metadata": {},
     "outputs": [],
     "prompt_number": 220
    },
    {
     "cell_type": "code",
     "collapsed": false,
     "input": [
      "def loss_function(total_report, c_disk=100, c_tape=1, c_miss=10000):\n",
      "    lfn_size = total_report['LFNSize'].values\n",
      "    nb_replicas = total_report['NbReplicas']\n",
      "    marker = total_report['OnDisk'].values\n",
      "    miss = total_report['Missing'].values\n",
      "    \n",
      "    nc_disk = (marker*lfn_size*nb_replicas*c_disk).sum()\n",
      "    nc_tape = ((1-marker)*lfn_size*nb_replicas*c_tape).sum()\n",
      "    nc_miss = (miss*lfn_size*nb_replicas*c_miss).sum()\n",
      "    \n",
      "    loss = (nc_disk + nc_tape + nc_miss)\n",
      "    return loss\n",
      "\n",
      "def get_loss_curve(total_report, q=[0.5, 0.75, 0.95], c_disk=100, c_tape=1, c_miss=10000):\n",
      "    cuts = np.array(arange(0, 1, 0.01))\n",
      "    loss_curve = []\n",
      "    for i in cuts:\n",
      "        report = report_upgrade(total_report=total_report, pop_cut=i,  q=q)\n",
      "        loss = loss_function(report, c_disk, c_tape, c_miss)\n",
      "        loss_curve.append(loss)\n",
      "    loss_curve = np.array(loss_curve)\n",
      "    min_loss = loss_curve.min()\n",
      "    min_cut = cuts[loss_curve==min_loss]\n",
      "    return cuts, loss_curve, min_cut, min_loss"
     ],
     "language": "python",
     "metadata": {},
     "outputs": [],
     "prompt_number": 221
    },
    {
     "cell_type": "code",
     "collapsed": false,
     "input": [
      "cuts, loss, min_cut, min_loss = get_loss_curve(total_report, q=[0.5, 0.75, 0.95], c_disk=100, c_tape=1, c_miss=10000)"
     ],
     "language": "python",
     "metadata": {},
     "outputs": [],
     "prompt_number": 222
    },
    {
     "cell_type": "code",
     "collapsed": false,
     "input": [
      "print 'Min point is ', (min_cut[0], min_loss)\n",
      "plt.plot(cuts, np.log(loss))\n",
      "plt.xlabel('Popularity cuts')\n",
      "plt.ylabel('log(Loss)')\n",
      "plt.title('Loss function1')\n",
      "plt.show()"
     ],
     "language": "python",
     "metadata": {},
     "outputs": [],
     "prompt_number": 223
    },
    {
     "cell_type": "code",
     "collapsed": false,
     "input": [
      "cuts, loss, min_cut, min_loss = get_loss_curve(total_report, q=[0.25, 0.5, 0.75], c_disk=100, c_tape=1, c_miss=10000)"
     ],
     "language": "python",
     "metadata": {},
     "outputs": [],
     "prompt_number": 224
    },
    {
     "cell_type": "code",
     "collapsed": false,
     "input": [
      "print 'Min point is ', (min_cut[0], min_loss)\n",
      "plt.plot(cuts, np.log(loss))\n",
      "plt.xlabel('Popularity cuts')\n",
      "plt.ylabel('log(Loss)')\n",
      "plt.title('Loss function1')\n",
      "plt.show()"
     ],
     "language": "python",
     "metadata": {},
     "outputs": [],
     "prompt_number": 225
    },
    {
     "cell_type": "code",
     "collapsed": false,
     "input": [
      "cuts, loss, min_cut, min_loss = get_loss_curve(total_report, q=[0.25, 0.5, 0.75], c_disk=200, c_tape=1, c_miss=10000)"
     ],
     "language": "python",
     "metadata": {},
     "outputs": [],
     "prompt_number": 226
    },
    {
     "cell_type": "code",
     "collapsed": false,
     "input": [
      "print 'Min point is ', (min_cut[0], min_loss)\n",
      "plt.plot(cuts, np.log(loss))\n",
      "plt.xlabel('Popularity cuts')\n",
      "plt.ylabel('log(Loss)')\n",
      "plt.title('Loss function1')\n",
      "plt.show()"
     ],
     "language": "python",
     "metadata": {},
     "outputs": [],
     "prompt_number": 227
    },
    {
     "cell_type": "code",
     "collapsed": false,
     "input": [
      "cuts, loss, min_cut, min_loss = get_loss_curve(total_report, q=[0.25, 0.5, 0.75], c_disk=100, c_tape=1, c_miss=10000)"
     ],
     "language": "python",
     "metadata": {},
     "outputs": [],
     "prompt_number": 228
    },
    {
     "cell_type": "code",
     "collapsed": false,
     "input": [
      "print 'Min point is ', (min_cut[0], min_loss)\n",
      "plt.plot(cuts, np.log(loss))\n",
      "plt.xlabel('Popularity cuts')\n",
      "plt.ylabel('log(Loss)')\n",
      "plt.title('Loss function1')\n",
      "plt.show()"
     ],
     "language": "python",
     "metadata": {},
     "outputs": [],
     "prompt_number": 229
    },
    {
     "cell_type": "code",
     "collapsed": false,
     "input": [
      "q = [0.25, 0.5, 0.75]\n",
      "cuts, loss, min_cut, min_loss = get_loss_curve(total_report, q=q, c_disk=100, c_tape=1, c_miss=10000)"
     ],
     "language": "python",
     "metadata": {},
     "outputs": [],
     "prompt_number": 230
    },
    {
     "cell_type": "code",
     "collapsed": false,
     "input": [
      "print 'Min point is ', (min_cut[0], min_loss)\n",
      "plt.plot(cuts, np.log(loss))\n",
      "plt.xlabel('Popularity cuts')\n",
      "plt.ylabel('log(Loss)')\n",
      "plt.title('Loss function1')\n",
      "plt.show()"
     ],
     "language": "python",
     "metadata": {},
     "outputs": [],
     "prompt_number": 231
    },
    {
     "cell_type": "code",
     "collapsed": false,
     "input": [
      "#total_size = (data['LFNSize'].values*data['Nb_Replicas'].values).sum()\n",
      "total_size = (data['DiskSize'].values+data['TapeSize'].values).sum()\n",
      "total_size_d = (data['DiskSize'].values).sum()\n",
      "print total_size\n",
      "print total_size_d"
     ],
     "language": "python",
     "metadata": {},
     "outputs": [],
     "prompt_number": 232
    },
    {
     "cell_type": "code",
     "collapsed": false,
     "input": [
      "total_report = report_upgrade(total_report, pop_cut=0.59, q=q)\n",
      "used_size = (total_report['LFNSize'].values*total_report['NbReplicas'].values*total_report['OnDisk'].values).sum()\n",
      "used_size"
     ],
     "language": "python",
     "metadata": {},
     "outputs": [],
     "prompt_number": 233
    },
    {
     "cell_type": "code",
     "collapsed": false,
     "input": [
      "x = data.sort(columns='Name')['Nb_Replicas'].values\n",
      "y = total_report['NbReplicas'].values\n",
      "plt.scatter(x,y)\n",
      "plt.show()"
     ],
     "language": "python",
     "metadata": {},
     "outputs": [],
     "prompt_number": 234
    },
    {
     "cell_type": "code",
     "collapsed": false,
     "input": [
      "x = data.sort(columns='Name')['Nb_Replicas'].values\n",
      "y = total_report['NbReplicas'].values\n",
      "plt.scatter(x,y, alpha=0.1)\n",
      "plt.show()"
     ],
     "language": "python",
     "metadata": {},
     "outputs": [],
     "prompt_number": 235
    },
    {
     "cell_type": "code",
     "collapsed": false,
     "input": [
      "def loss_function2(total_report, v_disk=1, v_tape=100):\n",
      "    lfn_size = total_report['LFNSize'].values\n",
      "    nb_replicas = total_report['NbReplicas']\n",
      "    marker = total_report['OnDisk'].values\n",
      "    miss = total_report['Missing'].values\n",
      "    inten = total_report['Intensity']\n",
      "    \n",
      "    t_disk = (inten/nb_replicas*lfn_size/v_disk*marker).sum()\n",
      "    t_tape = (inten/nb_replicas*lfn_size/v_tape*(1-marker)).sum()\n",
      "    total_time = t_disk + t_tape\n",
      "    \n",
      "    disk_size = (nb_replicas*lfn_size*marker).sum()\n",
      "    return total_time, disk_size\n",
      "\n",
      "def get_loss_curve2(total_report, q=[0.5, 0.75, 0.95], v_disk=1, v_tape=100):\n",
      "    cuts = np.array(arange(0, 1, 0.01))\n",
      "    total_time = []\n",
      "    disk_size = []\n",
      "    for i in cuts:\n",
      "        report = report_upgrade(total_report=total_report, pop_cut=i,  q=q)\n",
      "        time, size = loss_function2(report, v_disk, v_tape)\n",
      "        total_time.append(time)\n",
      "        disk_size.append(size)\n",
      "    total_time = np.array(total_time)\n",
      "    disk_size = np.array(disk_size)\n",
      "\n",
      "    return cuts, total_time, disk_size"
     ],
     "language": "python",
     "metadata": {},
     "outputs": [],
     "prompt_number": 236
    },
    {
     "cell_type": "code",
     "collapsed": false,
     "input": [
      "cuts, total_time, disk_size = get_loss_curve2(total_report, q=q, v_disk=100, v_tape=1)"
     ],
     "language": "python",
     "metadata": {},
     "outputs": [],
     "prompt_number": 237
    },
    {
     "cell_type": "code",
     "collapsed": false,
     "input": [
      "plt.figure(figsize=(15,10))\n",
      "plt.subplot(221)\n",
      "plt.plot(cuts, total_time)\n",
      "plt.title('Total time')\n",
      "plt.xlabel('Popularity cut')\n",
      "plt.subplot(222)\n",
      "plt.plot(cuts, disk_size)\n",
      "plt.title('Disk Size')\n",
      "plt.xlabel('Popularity cut')\n",
      "plt.subplot(223)\n",
      "a = 0.5\n",
      "plt.plot(cuts, (1-a)*total_time/total_time.max() + a*disk_size/disk_size.max())\n",
      "plt.title('Diff')\n",
      "plt.xlabel('Popularity cut')"
     ],
     "language": "python",
     "metadata": {},
     "outputs": [],
     "prompt_number": 238
    },
    {
     "cell_type": "code",
     "collapsed": false,
     "input": [
      "data['Storage']"
     ],
     "language": "python",
     "metadata": {},
     "outputs": [],
     "prompt_number": 239
    },
    {
     "cell_type": "code",
     "collapsed": false,
     "input": [
      "plt.figure(figsize=(15,10))\n",
      "plt.subplot(221)\n",
      "plt.plot(cuts, total_time)\n",
      "plt.title('Total time')\n",
      "plt.xlabel('Popularity cut')\n",
      "plt.subplot(222)\n",
      "plt.plot(cuts, disk_size)\n",
      "plt.title('Disk Size')\n",
      "plt.xlabel('Popularity cut')\n",
      "plt.subplot(223)\n",
      "a = 0.8\n",
      "plt.plot(cuts, (1-a)*total_time/total_time.max() + a*disk_size/disk_size.max())\n",
      "plt.title('Diff')\n",
      "plt.xlabel('Popularity cut')"
     ],
     "language": "python",
     "metadata": {},
     "outputs": [],
     "prompt_number": 240
    },
    {
     "cell_type": "code",
     "collapsed": false,
     "input": [
      "plt.figure(figsize=(15,10))\n",
      "plt.subplot(221)\n",
      "plt.plot(cuts, total_time)\n",
      "plt.title('Total time')\n",
      "plt.xlabel('Popularity cut')\n",
      "plt.subplot(222)\n",
      "plt.plot(cuts, disk_size)\n",
      "plt.title('Disk Size')\n",
      "plt.xlabel('Popularity cut')\n",
      "plt.subplot(223)\n",
      "a = 0.3\n",
      "plt.plot(cuts, (1-a)*total_time/total_time.max() + a*disk_size/disk_size.max())\n",
      "plt.title('Diff')\n",
      "plt.xlabel('Popularity cut')"
     ],
     "language": "python",
     "metadata": {},
     "outputs": [],
     "prompt_number": 241
    },
    {
     "cell_type": "code",
     "collapsed": false,
     "input": [
      "plt.figure(figsize=(15,10))\n",
      "plt.subplot(221)\n",
      "plt.plot(cuts, total_time)\n",
      "plt.title('Total time')\n",
      "plt.xlabel('Popularity cut')\n",
      "plt.subplot(222)\n",
      "plt.plot(cuts, disk_size)\n",
      "plt.title('Disk Size')\n",
      "plt.xlabel('Popularity cut')\n",
      "plt.subplot(223)\n",
      "a = 0.4\n",
      "plt.plot(cuts, (1-a)*total_time/total_time.max() + a*disk_size/disk_size.max())\n",
      "plt.title('Diff')\n",
      "plt.xlabel('Popularity cut')"
     ],
     "language": "python",
     "metadata": {},
     "outputs": [],
     "prompt_number": 242
    },
    {
     "cell_type": "code",
     "collapsed": false,
     "input": [
      "plt.figure(figsize=(15,10))\n",
      "plt.subplot(221)\n",
      "plt.plot(cuts, total_time)\n",
      "plt.title('Total time')\n",
      "plt.xlabel('Popularity cut')\n",
      "plt.subplot(222)\n",
      "plt.plot(cuts, disk_size)\n",
      "plt.title('Disk Size')\n",
      "plt.xlabel('Popularity cut')\n",
      "plt.subplot(223)\n",
      "a = 0.6\n",
      "plt.plot(cuts, (1-a)*total_time/total_time.max() + a*disk_size/disk_size.max())\n",
      "plt.title('Diff')\n",
      "plt.xlabel('Popularity cut')"
     ],
     "language": "python",
     "metadata": {},
     "outputs": [],
     "prompt_number": 243
    },
    {
     "cell_type": "code",
     "collapsed": false,
     "input": [
      "q = [0.25, 0.5, 0.75]\n",
      "cuts, loss, min_cut, min_loss = get_loss_curve(total_report, q=q, c_disk=120, c_tape=1, c_miss=10000)"
     ],
     "language": "python",
     "metadata": {},
     "outputs": [],
     "prompt_number": 244
    },
    {
     "cell_type": "code",
     "collapsed": false,
     "input": [
      "print 'Min point is ', (min_cut[0], min_loss)\n",
      "plt.plot(cuts, np.log(loss))\n",
      "plt.xlabel('Popularity cuts')\n",
      "plt.ylabel('log(Loss)')\n",
      "plt.title('Loss function1')\n",
      "plt.show()"
     ],
     "language": "python",
     "metadata": {},
     "outputs": [],
     "prompt_number": 245
    },
    {
     "cell_type": "code",
     "collapsed": false,
     "input": [
      "q = [0.25, 0.5, 0.75]\n",
      "cuts, loss, min_cut, min_loss = get_loss_curve(total_report, q=q, c_disk=150, c_tape=1, c_miss=10000)"
     ],
     "language": "python",
     "metadata": {},
     "outputs": [],
     "prompt_number": 246
    },
    {
     "cell_type": "code",
     "collapsed": false,
     "input": [
      "print 'Min point is ', (min_cut[0], min_loss)\n",
      "plt.plot(cuts, np.log(loss))\n",
      "plt.xlabel('Popularity cuts')\n",
      "plt.ylabel('log(Loss)')\n",
      "plt.title('Loss function1')\n",
      "plt.show()"
     ],
     "language": "python",
     "metadata": {},
     "outputs": [],
     "prompt_number": 247
    },
    {
     "cell_type": "code",
     "collapsed": false,
     "input": [
      "#total_size = (data['LFNSize'].values*data['Nb_Replicas'].values).sum()\n",
      "total_size = (data['DiskSize'].values+data['TapeSize'].values).sum()\n",
      "total_size_d = (data['DiskSize'].values).sum()\n",
      "print total_size\n",
      "print total_size_d"
     ],
     "language": "python",
     "metadata": {},
     "outputs": [],
     "prompt_number": 248
    },
    {
     "cell_type": "code",
     "collapsed": false,
     "input": [
      "total_report = report_upgrade(total_report, pop_cut=0.34, q=q)\n",
      "used_size = (total_report['LFNSize'].values*total_report['NbReplicas'].values*total_report['OnDisk'].values).sum()\n",
      "used_size"
     ],
     "language": "python",
     "metadata": {},
     "outputs": [],
     "prompt_number": 249
    },
    {
     "cell_type": "code",
     "collapsed": false,
     "input": [
      "total_report = report_upgrade(total_report, pop_cut=min_cut, q=q)\n",
      "used_size = (total_report['LFNSize'].values*total_report['NbReplicas'].values*total_report['OnDisk'].values).sum()\n",
      "used_size"
     ],
     "language": "python",
     "metadata": {},
     "outputs": [],
     "prompt_number": 250
    },
    {
     "cell_type": "code",
     "collapsed": false,
     "input": [
      "total_report = report_upgrade(total_report, pop_cut=min_cut, q=q)\n",
      "used_size = (total_report['LFNSize'].values*total_report['NbReplicas'].values*total_report['OnDisk'].values).sum()\n",
      "total_size - used_size"
     ],
     "language": "python",
     "metadata": {},
     "outputs": [],
     "prompt_number": 251
    },
    {
     "cell_type": "code",
     "collapsed": false,
     "input": [
      "q = [0.25, 0.5, 0.75]\n",
      "cuts, loss, min_cut, min_loss = get_loss_curve(total_report, q=q, c_disk=100, c_tape=1, c_miss=10000)"
     ],
     "language": "python",
     "metadata": {},
     "outputs": [],
     "prompt_number": 252
    },
    {
     "cell_type": "code",
     "collapsed": false,
     "input": [
      "print 'Min point is ', (min_cut[0], min_loss)\n",
      "plt.plot(cuts, np.log(loss))\n",
      "plt.xlabel('Popularity cuts')\n",
      "plt.ylabel('log(Loss)')\n",
      "plt.title('Loss function1')\n",
      "plt.show()"
     ],
     "language": "python",
     "metadata": {},
     "outputs": [],
     "prompt_number": 253
    },
    {
     "cell_type": "code",
     "collapsed": false,
     "input": [
      "#total_size = (data['LFNSize'].values*data['Nb_Replicas'].values).sum()\n",
      "total_size = (data['DiskSize'].values+data['TapeSize'].values).sum()\n",
      "total_size_d = (data['DiskSize'].values).sum()\n",
      "print total_size\n",
      "print total_size_d"
     ],
     "language": "python",
     "metadata": {},
     "outputs": [],
     "prompt_number": 254
    },
    {
     "cell_type": "code",
     "collapsed": false,
     "input": [
      "total_report = report_upgrade(total_report, pop_cut=min_cut, q=q)\n",
      "used_size = (total_report['LFNSize'].values*total_report['NbReplicas'].values*total_report['OnDisk'].values).sum()\n",
      "total_size - used_size"
     ],
     "language": "python",
     "metadata": {},
     "outputs": [],
     "prompt_number": 255
    },
    {
     "cell_type": "code",
     "collapsed": false,
     "input": [
      "total_report = report_upgrade(total_report, pop_cut=1, q=q)\n",
      "used_size = (total_report['LFNSize'].values*total_report['NbReplicas'].values*total_report['OnDisk'].values).sum()\n",
      "total_size - used_size"
     ],
     "language": "python",
     "metadata": {},
     "outputs": [],
     "prompt_number": 256
    },
    {
     "cell_type": "code",
     "collapsed": false,
     "input": [
      "total_report = report_upgrade(total_report, pop_cut=min_cut, q=q)\n",
      "used_size = (total_report['LFNSize'].values*total_report['NbReplicas'].values*total_report['OnDisk'].values).sum()\n",
      "total_size - used_size"
     ],
     "language": "python",
     "metadata": {},
     "outputs": [],
     "prompt_number": 257
    },
    {
     "cell_type": "code",
     "collapsed": false,
     "input": [
      "a = data['Nb Replicas']"
     ],
     "language": "python",
     "metadata": {},
     "outputs": [],
     "prompt_number": 258
    },
    {
     "cell_type": "code",
     "collapsed": false,
     "input": [
      "data.columns\n",
      "a = data['Nb Replicas']"
     ],
     "language": "python",
     "metadata": {},
     "outputs": [],
     "prompt_number": 259
    },
    {
     "cell_type": "code",
     "collapsed": false,
     "input": [
      "data.columns\n",
      "#a = data['Nb Replicas']"
     ],
     "language": "python",
     "metadata": {},
     "outputs": [],
     "prompt_number": 260
    },
    {
     "cell_type": "code",
     "collapsed": false,
     "input": [
      "a = data['Nb_Replicas']"
     ],
     "language": "python",
     "metadata": {},
     "outputs": [],
     "prompt_number": 261
    },
    {
     "cell_type": "code",
     "collapsed": false,
     "input": [
      "a = data['Nb_Replicas']\n",
      "a"
     ],
     "language": "python",
     "metadata": {},
     "outputs": [],
     "prompt_number": 262
    },
    {
     "cell_type": "code",
     "collapsed": false,
     "input": [
      "a = data['Nb_Replicas'].values\n",
      "a"
     ],
     "language": "python",
     "metadata": {},
     "outputs": [],
     "prompt_number": 263
    },
    {
     "cell_type": "code",
     "collapsed": false,
     "input": [
      "a = data['Nb_Replicas'].values\n",
      "plt.hisct(a)\n",
      "plt.show"
     ],
     "language": "python",
     "metadata": {},
     "outputs": [],
     "prompt_number": 264
    },
    {
     "cell_type": "code",
     "collapsed": false,
     "input": [
      "a = data['Nb_Replicas'].values\n",
      "plt.hisct(a)\n",
      "plt.show()"
     ],
     "language": "python",
     "metadata": {},
     "outputs": [],
     "prompt_number": 265
    },
    {
     "cell_type": "code",
     "collapsed": false,
     "input": [
      "a = data['Nb_Replicas'].values\n",
      "plt.hist(a)\n",
      "plt.show()"
     ],
     "language": "python",
     "metadata": {},
     "outputs": [],
     "prompt_number": 266
    },
    {
     "cell_type": "code",
     "collapsed": false,
     "input": [
      "a = data['Nb_Replicas'].values\n",
      "plt.hist(a, bins=7)\n",
      "plt.show()"
     ],
     "language": "python",
     "metadata": {},
     "outputs": [],
     "prompt_number": 267
    },
    {
     "cell_type": "code",
     "collapsed": false,
     "input": [
      "a = data['Nb_Replicas'].values\n",
      "plt.hist(a, bins=8)\n",
      "plt.show()"
     ],
     "language": "python",
     "metadata": {},
     "outputs": [],
     "prompt_number": 268
    },
    {
     "cell_type": "code",
     "collapsed": false,
     "input": [
      "a = data['Nb_Replicas'].values\n",
      "plt.hist(a, bins=20)\n",
      "plt.show()"
     ],
     "language": "python",
     "metadata": {},
     "outputs": [],
     "prompt_number": 269
    },
    {
     "cell_type": "code",
     "collapsed": false,
     "input": [
      "a = data['Nb_Replicas'].values\n",
      "plt.hist(a, bins=20, normed=true)\n",
      "plt.show()"
     ],
     "language": "python",
     "metadata": {},
     "outputs": [],
     "prompt_number": 270
    },
    {
     "cell_type": "code",
     "collapsed": false,
     "input": [
      "a = data['Nb_Replicas'].values\n",
      "plt.hist(a, bins=20, normed=True)\n",
      "plt.show()"
     ],
     "language": "python",
     "metadata": {},
     "outputs": [],
     "prompt_number": 271
    },
    {
     "cell_type": "code",
     "collapsed": false,
     "input": [
      "a = data['Nb_Replicas'].values\n",
      "plt.hist(a, bins=10, normed=True)\n",
      "plt.show()"
     ],
     "language": "python",
     "metadata": {},
     "outputs": [],
     "prompt_number": 272
    },
    {
     "cell_type": "code",
     "collapsed": false,
     "input": [
      "import ipykee\n",
      "#ipykee.create_project(project_name=\"E._LossFunctionOptimization\", repository=\"git@github.com:hushchyn-mikhail/CERN_Time_Series.git\")\n",
      "session = ipykee.Session(project_name=\"E._LossFunctionOptimization\")"
     ],
     "language": "python",
     "metadata": {},
     "outputs": [],
     "prompt_number": 273
    }
   ],
   "metadata": {}
  }
 ]
}