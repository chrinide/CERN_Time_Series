{
 "metadata": {
  "name": "/ipykee/workdir/tmpatI8Q9/E"
 },
 "nbformat": 3,
 "nbformat_minor": 0,
 "worksheets": [
  {
   "cells": [
    {
     "cell_type": "code",
     "collapsed": false,
     "input": [
      "import numpy as np\n",
      "import pandas as pd\n",
      "import matplotlib.pyplot as plt\n",
      "%matplotlib inline\n",
      "\n",
      "data_path = 'popularity-910days.csv'\n",
      "data = pd.read_csv(data_path)\n",
      "\n",
      "data.irow(range(0,2))"
     ],
     "language": "python",
     "metadata": {},
     "outputs": [],
     "prompt_number": 1
    },
    {
     "cell_type": "code",
     "collapsed": false,
     "input": [
      "from DataPopularity import DataPopularityEstimator\n",
      "\n",
      "estimator = DataPopularityEstimator(data=data, nb_of_weeks=130)\n",
      "%time estimator.train()\n",
      "estimator.roc_curve()"
     ],
     "language": "python",
     "metadata": {},
     "outputs": [],
     "prompt_number": 2
    },
    {
     "cell_type": "code",
     "collapsed": false,
     "input": [
      "popularity = estimator.get_popularity()\n",
      "popularity.irow(range(0,5))"
     ],
     "language": "python",
     "metadata": {},
     "outputs": [],
     "prompt_number": 3
    },
    {
     "cell_type": "code",
     "collapsed": false,
     "input": [
      "cut = estimator.popularity_cut_fpr(fpr_value=0.05)\n",
      "cut"
     ],
     "language": "python",
     "metadata": {},
     "outputs": [],
     "prompt_number": 4
    },
    {
     "cell_type": "code",
     "collapsed": false,
     "input": [
      "from DataPopularity.DataAccessPredictor import DataAccessPredictor\n",
      "\n",
      "predictor = DataAccessPredictor(data=data, nb_of_weeks=130)\n",
      "%time prediction = predictor.predict(zero_one_scale=False)"
     ],
     "language": "python",
     "metadata": {},
     "outputs": [],
     "prompt_number": 5
    },
    {
     "cell_type": "code",
     "collapsed": false,
     "input": [
      "total_report = popularity.sort(columns='Name')\n",
      "total_report['Intensity'] = prediction.sort(columns='Name')['Access']\n",
      "total_report['Label'] = estimator.train_report.sort(columns='Name')['Label']\n",
      "total_report['LFNSize'] = data.sort(columns='Name')['LFNSize']\n",
      "#total_report"
     ],
     "language": "python",
     "metadata": {},
     "outputs": [],
     "prompt_number": 6
    },
    {
     "cell_type": "code",
     "collapsed": false,
     "input": [
      "def set_disk_tape_marker(total_report, pop_cut=0.5):\n",
      "    pop = total_report['Popularity'].values\n",
      "    total_report['OnDisk'] = (pop<=pop_cut)*1\n",
      "    return total_report\n",
      "\n",
      "def set_nb_replicas(total_report, q=[0.5, 0.75, 0.95]):\n",
      "    marker = total_report['OnDisk']\n",
      "    inten = total_report['Intensity']\n",
      "    inten_cut = total_report['Intensity'][marker==1]\n",
      "    total_report['NbReplicas'] = 1\n",
      "    for i in q:\n",
      "        total_report['NbReplicas'] = total_report['NbReplicas'].values + (marker==1)*(inten.values>inten_cut.quantile(i))*1\n",
      "    return total_report\n",
      "\n",
      "def set_missing(total_report):\n",
      "    marker = total_report['OnDisk']\n",
      "    label = total_report['Label']\n",
      "    total_report['Missing'] = (label==0)*(marker==0)*1\n",
      "    return total_report\n",
      "\n",
      "def report_upgrade(total_report, pop_cut=0.5, q=[0.5, 0.75, 0.95]):\n",
      "    set_disk_tape_marker(total_report, pop_cut)\n",
      "    set_nb_replicas(total_report, q=[0.5, 0.75, 0.95])\n",
      "    set_missing(total_report)\n",
      "    return total_report"
     ],
     "language": "python",
     "metadata": {},
     "outputs": [],
     "prompt_number": 7
    },
    {
     "cell_type": "code",
     "collapsed": false,
     "input": [
      "def loss_function(total_report, c_disk=100, c_tape=1, c_miss=10000):\n",
      "    lfn_size = total_report['LFNSize'].values\n",
      "    nb_replicas = total_report['NbReplicas']\n",
      "    marker = total_report['OnDisk'].values\n",
      "    miss = total_report['Missing'].values\n",
      "    \n",
      "    nc_disk = (marker*lfn_size*nb_replicas*c_disk).sum()\n",
      "    nc_tape = ((1-marker)*lfn_size*nb_replicas*c_tape).sum()\n",
      "    nc_miss = (miss*lfn_size*nb_replicas*c_miss).sum()\n",
      "    \n",
      "    loss = (nc_disk + nc_tape + nc_miss)\n",
      "    return loss\n",
      "\n",
      "def get_loss_curve(total_report, q=[0.5, 0.75, 0.95], c_disk=100, c_tape=1, c_miss=10000):\n",
      "    cuts = np.array(arange(0, 1, 0.01))\n",
      "    loss_curve = []\n",
      "    for i in cuts:\n",
      "        report = report_upgrade(total_report=total_report, pop_cut=i,  q=q)\n",
      "        loss = loss_function(report, c_disk, c_tape, c_miss)\n",
      "        loss_curve.append(loss)\n",
      "    loss_curve = np.array(loss_curve)\n",
      "    min_loss = loss_curve.min()\n",
      "    min_cut = cuts[loss_curve==min_loss]\n",
      "    return cuts, loss_curve, min_cut, min_loss"
     ],
     "language": "python",
     "metadata": {},
     "outputs": [],
     "prompt_number": 8
    },
    {
     "cell_type": "code",
     "collapsed": false,
     "input": [
      "cuts, loss, min_cut, min_loss = get_loss_curve(total_report, q=[0.5, 0.75, 0.95], c_disk=100, c_tape=1, c_miss=70000)"
     ],
     "language": "python",
     "metadata": {},
     "outputs": [],
     "prompt_number": 9
    },
    {
     "cell_type": "code",
     "collapsed": false,
     "input": [
      "print 'Min point is ', (min_cut[0], min_loss)\n",
      "plt.plot(cuts, np.log(loss))\n",
      "plt.xlabel('Popularity cuts')\n",
      "plt.ylabel('log(Loss)')\n",
      "plt.title('Loss function1')\n",
      "plt.show()"
     ],
     "language": "python",
     "metadata": {},
     "outputs": [],
     "prompt_number": 10
    },
    {
     "cell_type": "code",
     "collapsed": false,
     "input": [
      "def loss_function2():\n",
      "    pass"
     ],
     "language": "python",
     "metadata": {},
     "outputs": [],
     "prompt_number": 11
    },
    {
     "cell_type": "code",
     "collapsed": false,
     "input": [
      "import ipykee\n",
      "#ipykee.create_project(project_name=\"E._LossFunctionOptimization\", repository=\"git@github.com:hushchyn-mikhail/CERN_Time_Series.git\")\n",
      "session = ipykee.Session(project_name=\"E._LossFunctionOptimization\")"
     ],
     "language": "python",
     "metadata": {},
     "outputs": [],
     "prompt_number": 12
    },
    {
     "cell_type": "code",
     "collapsed": false,
     "input": [
      "def loss_function2(total_report, v_disk=1, v_tape=100):\n",
      "    lfn_size = total_report['LFNSize'].values\n",
      "    nb_replicas = total_report['NbReplicas']\n",
      "    marker = total_report['OnDisk'].values\n",
      "    miss = total_report['Missing'].values\n",
      "    inten = total_report['Intensity']\n",
      "    \n",
      "    t_disk = (inten/nb_replical*lfn_size/v_disk*marker).sum()\n",
      "    t_tape = (inten/nb_replical*lfn_size/v_tape*(1-marker)).sum()\n",
      "    tota_time = t_disk + t_tape\n",
      "    \n",
      "    disk_size = (nb_replical*lfn_size*marker).sum()\n",
      "    return total_time, disk_size\n",
      "\n",
      "def get_loss_curve2(total_report, q=[0.5, 0.75, 0.95], v_disk=1, v_tape=100):\n",
      "    cuts = np.array(arange(0, 1, 0.01))\n",
      "    total_time = []\n",
      "    disk_size = []\n",
      "    for i in cuts:\n",
      "        report = report_upgrade(total_report=total_report, pop_cut=i,  q=q)\n",
      "        time, size = loss_function2(report, v_disk, v_tape)\n",
      "        total_time.append(time)\n",
      "        disk_size.append(size)\n",
      "    total_time = np.array(total_time)\n",
      "    disk_size = np.array(disk_size)\n",
      "\n",
      "    return total_time, disk_size"
     ],
     "language": "python",
     "metadata": {},
     "outputs": [],
     "prompt_number": 13
    },
    {
     "cell_type": "code",
     "collapsed": false,
     "input": [
      "def loss_function2(total_report, v_disk=1, v_tape=100):\n",
      "    lfn_size = total_report['LFNSize'].values\n",
      "    nb_replicas = total_report['NbReplicas']\n",
      "    marker = total_report['OnDisk'].values\n",
      "    miss = total_report['Missing'].values\n",
      "    inten = total_report['Intensity']\n",
      "    \n",
      "    t_disk = (inten/nb_replical*lfn_size/v_disk*marker).sum()\n",
      "    t_tape = (inten/nb_replical*lfn_size/v_tape*(1-marker)).sum()\n",
      "    tota_time = t_disk + t_tape\n",
      "    \n",
      "    disk_size = (nb_replical*lfn_size*marker).sum()\n",
      "    return total_time, disk_size\n",
      "\n",
      "def get_loss_curve2(total_report, q=[0.5, 0.75, 0.95], v_disk=1, v_tape=100):\n",
      "    cuts = np.array(arange(0, 1, 0.01))\n",
      "    total_time = []\n",
      "    disk_size = []\n",
      "    for i in cuts:\n",
      "        report = report_upgrade(total_report=total_report, pop_cut=i,  q=q)\n",
      "        time, size = loss_function2(report, v_disk, v_tape)\n",
      "        total_time.append(time)\n",
      "        disk_size.append(size)\n",
      "    total_time = np.array(total_time)\n",
      "    disk_size = np.array(disk_size)\n",
      "\n",
      "    return cuts, total_time, disk_size"
     ],
     "language": "python",
     "metadata": {},
     "outputs": [],
     "prompt_number": 14
    },
    {
     "cell_type": "code",
     "collapsed": false,
     "input": [
      "cuts, total_time, disk_size = get_loss_curve2(total_report, q=[0.5, 0.75, 0.95], v_disk=1, v_tape=100)"
     ],
     "language": "python",
     "metadata": {},
     "outputs": [],
     "prompt_number": 15
    },
    {
     "cell_type": "code",
     "collapsed": false,
     "input": [
      "def loss_function2(total_report, v_disk=1, v_tape=100):\n",
      "    lfn_size = total_report['LFNSize'].values\n",
      "    nb_replicas = total_report['NbReplicas']\n",
      "    marker = total_report['OnDisk'].values\n",
      "    miss = total_report['Missing'].values\n",
      "    inten = total_report['Intensity']\n",
      "    \n",
      "    t_disk = (inten/nb_replicas*lfn_size/v_disk*marker).sum()\n",
      "    t_tape = (inten/nb_replicas*lfn_size/v_tape*(1-marker)).sum()\n",
      "    tota_time = t_disk + t_tape\n",
      "    \n",
      "    disk_size = (nb_replical*lfn_size*marker).sum()\n",
      "    return total_time, disk_size\n",
      "\n",
      "def get_loss_curve2(total_report, q=[0.5, 0.75, 0.95], v_disk=1, v_tape=100):\n",
      "    cuts = np.array(arange(0, 1, 0.01))\n",
      "    total_time = []\n",
      "    disk_size = []\n",
      "    for i in cuts:\n",
      "        report = report_upgrade(total_report=total_report, pop_cut=i,  q=q)\n",
      "        time, size = loss_function2(report, v_disk, v_tape)\n",
      "        total_time.append(time)\n",
      "        disk_size.append(size)\n",
      "    total_time = np.array(total_time)\n",
      "    disk_size = np.array(disk_size)\n",
      "\n",
      "    return cuts, total_time, disk_size"
     ],
     "language": "python",
     "metadata": {},
     "outputs": [],
     "prompt_number": 16
    },
    {
     "cell_type": "code",
     "collapsed": false,
     "input": [
      "cuts, total_time, disk_size = get_loss_curve2(total_report, q=[0.5, 0.75, 0.95], v_disk=1, v_tape=100)"
     ],
     "language": "python",
     "metadata": {},
     "outputs": [],
     "prompt_number": 17
    },
    {
     "cell_type": "code",
     "collapsed": false,
     "input": [
      "def loss_function2(total_report, v_disk=1, v_tape=100):\n",
      "    lfn_size = total_report['LFNSize'].values\n",
      "    nb_replicas = total_report['NbReplicas']\n",
      "    marker = total_report['OnDisk'].values\n",
      "    miss = total_report['Missing'].values\n",
      "    inten = total_report['Intensity']\n",
      "    \n",
      "    t_disk = (inten/nb_replicas*lfn_size/v_disk*marker).sum()\n",
      "    t_tape = (inten/nb_replicas*lfn_size/v_tape*(1-marker)).sum()\n",
      "    tota_time = t_disk + t_tape\n",
      "    \n",
      "    disk_size = (nb_replicas*lfn_size*marker).sum()\n",
      "    return total_time, disk_size\n",
      "\n",
      "def get_loss_curve2(total_report, q=[0.5, 0.75, 0.95], v_disk=1, v_tape=100):\n",
      "    cuts = np.array(arange(0, 1, 0.01))\n",
      "    total_time = []\n",
      "    disk_size = []\n",
      "    for i in cuts:\n",
      "        report = report_upgrade(total_report=total_report, pop_cut=i,  q=q)\n",
      "        time, size = loss_function2(report, v_disk, v_tape)\n",
      "        total_time.append(time)\n",
      "        disk_size.append(size)\n",
      "    total_time = np.array(total_time)\n",
      "    disk_size = np.array(disk_size)\n",
      "\n",
      "    return cuts, total_time, disk_size"
     ],
     "language": "python",
     "metadata": {},
     "outputs": [],
     "prompt_number": 18
    },
    {
     "cell_type": "code",
     "collapsed": false,
     "input": [
      "cuts, total_time, disk_size = get_loss_curve2(total_report, q=[0.5, 0.75, 0.95], v_disk=1, v_tape=100)"
     ],
     "language": "python",
     "metadata": {},
     "outputs": [],
     "prompt_number": 19
    },
    {
     "cell_type": "code",
     "collapsed": false,
     "input": [
      "def loss_function2(total_report, v_disk=1, v_tape=100):\n",
      "    lfn_size = total_report['LFNSize'].values\n",
      "    nb_replicas = total_report['NbReplicas']\n",
      "    marker = total_report['OnDisk'].values\n",
      "    miss = total_report['Missing'].values\n",
      "    inten = total_report['Intensity']\n",
      "    \n",
      "    t_disk = (inten/nb_replicas*lfn_size/v_disk*marker).sum()\n",
      "    t_tape = (inten/nb_replicas*lfn_size/v_tape*(1-marker)).sum()\n",
      "    total_time = t_disk + t_tape\n",
      "    \n",
      "    disk_size = (nb_replicas*lfn_size*marker).sum()\n",
      "    return total_time, disk_size\n",
      "\n",
      "def get_loss_curve2(total_report, q=[0.5, 0.75, 0.95], v_disk=1, v_tape=100):\n",
      "    cuts = np.array(arange(0, 1, 0.01))\n",
      "    total_time = []\n",
      "    disk_size = []\n",
      "    for i in cuts:\n",
      "        report = report_upgrade(total_report=total_report, pop_cut=i,  q=q)\n",
      "        time, size = loss_function2(report, v_disk, v_tape)\n",
      "        total_time.append(time)\n",
      "        disk_size.append(size)\n",
      "    total_time = np.array(total_time)\n",
      "    disk_size = np.array(disk_size)\n",
      "\n",
      "    return cuts, total_time, disk_size"
     ],
     "language": "python",
     "metadata": {},
     "outputs": [],
     "prompt_number": 20
    },
    {
     "cell_type": "code",
     "collapsed": false,
     "input": [
      "cuts, total_time, disk_size = get_loss_curve2(total_report, q=[0.5, 0.75, 0.95], v_disk=1, v_tape=100)"
     ],
     "language": "python",
     "metadata": {},
     "outputs": [],
     "prompt_number": 21
    },
    {
     "cell_type": "code",
     "collapsed": false,
     "input": [
      "plt.figure(figsize=(10,5))\n",
      "plt.subplot(121)\n",
      "plt.plot(cuts, total_time)\n",
      "plt.subplot(122)\n",
      "plt.plot(cuts, disk_size)"
     ],
     "language": "python",
     "metadata": {},
     "outputs": [],
     "prompt_number": 22
    },
    {
     "cell_type": "code",
     "collapsed": false,
     "input": [
      "cuts, total_time, disk_size = get_loss_curve2(total_report, q=[0.5, 0.75, 0.95], v_disk=0.1, v_tape=100)"
     ],
     "language": "python",
     "metadata": {},
     "outputs": [],
     "prompt_number": 23
    },
    {
     "cell_type": "code",
     "collapsed": false,
     "input": [
      "plt.figure(figsize=(10,5))\n",
      "plt.subplot(121)\n",
      "plt.plot(cuts, total_time)\n",
      "plt.subplot(122)\n",
      "plt.plot(cuts, disk_size)"
     ],
     "language": "python",
     "metadata": {},
     "outputs": [],
     "prompt_number": 24
    },
    {
     "cell_type": "code",
     "collapsed": false,
     "input": [
      "cuts, total_time, disk_size = get_loss_curve2(total_report, q=[0.5, 0.75, 0.95], v_disk=0.001, v_tape=100)"
     ],
     "language": "python",
     "metadata": {},
     "outputs": [],
     "prompt_number": 25
    },
    {
     "cell_type": "code",
     "collapsed": false,
     "input": [
      "plt.figure(figsize=(10,5))\n",
      "plt.subplot(121)\n",
      "plt.plot(cuts, total_time)\n",
      "plt.subplot(122)\n",
      "plt.plot(cuts, disk_size)"
     ],
     "language": "python",
     "metadata": {},
     "outputs": [],
     "prompt_number": 26
    },
    {
     "cell_type": "code",
     "collapsed": false,
     "input": [
      "cuts, total_time, disk_size = get_loss_curve2(total_report, q=[0.5, 0.75, 0.95], v_disk=1, v_tape=10000)"
     ],
     "language": "python",
     "metadata": {},
     "outputs": [],
     "prompt_number": 27
    },
    {
     "cell_type": "code",
     "collapsed": false,
     "input": [
      "plt.figure(figsize=(10,5))\n",
      "plt.subplot(121)\n",
      "plt.plot(cuts, total_time)\n",
      "plt.subplot(122)\n",
      "plt.plot(cuts, disk_size)"
     ],
     "language": "python",
     "metadata": {},
     "outputs": [],
     "prompt_number": 28
    },
    {
     "cell_type": "code",
     "collapsed": false,
     "input": [
      "cuts, total_time, disk_size = get_loss_curve2(total_report, q=[0.5, 0.75, 0.95], v_disk=1, v_tape=1)"
     ],
     "language": "python",
     "metadata": {},
     "outputs": [],
     "prompt_number": 29
    },
    {
     "cell_type": "code",
     "collapsed": false,
     "input": [
      "plt.figure(figsize=(10,5))\n",
      "plt.subplot(121)\n",
      "plt.plot(cuts, total_time)\n",
      "plt.subplot(122)\n",
      "plt.plot(cuts, disk_size)"
     ],
     "language": "python",
     "metadata": {},
     "outputs": [],
     "prompt_number": 30
    },
    {
     "cell_type": "code",
     "collapsed": false,
     "input": [
      "cuts, total_time, disk_size = get_loss_curve2(total_report, q=[0.5, 0.75, 0.95], v_disk=1, v_tape=10)"
     ],
     "language": "python",
     "metadata": {},
     "outputs": [],
     "prompt_number": 31
    },
    {
     "cell_type": "code",
     "collapsed": false,
     "input": [
      "plt.figure(figsize=(10,5))\n",
      "plt.subplot(121)\n",
      "plt.plot(cuts, total_time)\n",
      "plt.subplot(122)\n",
      "plt.plot(cuts, disk_size)"
     ],
     "language": "python",
     "metadata": {},
     "outputs": [],
     "prompt_number": 32
    },
    {
     "cell_type": "code",
     "collapsed": false,
     "input": [
      "cuts, total_time, disk_size = get_loss_curve2(total_report, q=[0.5, 0.75, 0.95], v_disk=1, v_tape=2)"
     ],
     "language": "python",
     "metadata": {},
     "outputs": [],
     "prompt_number": 33
    },
    {
     "cell_type": "code",
     "collapsed": false,
     "input": [
      "plt.figure(figsize=(10,5))\n",
      "plt.subplot(121)\n",
      "plt.plot(cuts, total_time)\n",
      "plt.subplot(122)\n",
      "plt.plot(cuts, disk_size)"
     ],
     "language": "python",
     "metadata": {},
     "outputs": [],
     "prompt_number": 34
    },
    {
     "cell_type": "code",
     "collapsed": false,
     "input": [
      "cuts, total_time, disk_size = get_loss_curve2(total_report, q=[0.5, 0.75, 0.95], v_disk=100, v_tape=1)"
     ],
     "language": "python",
     "metadata": {},
     "outputs": [],
     "prompt_number": 35
    },
    {
     "cell_type": "code",
     "collapsed": false,
     "input": [
      "plt.figure(figsize=(10,5))\n",
      "plt.subplot(121)\n",
      "plt.plot(cuts, total_time)\n",
      "plt.subplot(122)\n",
      "plt.plot(cuts, disk_size)"
     ],
     "language": "python",
     "metadata": {},
     "outputs": [],
     "prompt_number": 36
    },
    {
     "cell_type": "code",
     "collapsed": false,
     "input": [
      "plt.figure(figsize=(15,5))\n",
      "plt.subplot(121)\n",
      "plt.plot(cuts, total_time)\n",
      "plt.subplot(122)\n",
      "plt.plot(cuts, disk_size)"
     ],
     "language": "python",
     "metadata": {},
     "outputs": [],
     "prompt_number": 37
    },
    {
     "cell_type": "code",
     "collapsed": false,
     "input": [
      "plt.figure(figsize=(15,10))\n",
      "plt.subplot(221)\n",
      "plt.plot(cuts, total_time)\n",
      "plt.subplot(222)\n",
      "plt.plot(cuts, disk_size)\n",
      "plt.subplot(223)\n",
      "plt.plot(cuts, total_time - disk_size)"
     ],
     "language": "python",
     "metadata": {},
     "outputs": [],
     "prompt_number": 38
    },
    {
     "cell_type": "code",
     "collapsed": false,
     "input": [
      "plt.figure(figsize=(15,10))\n",
      "plt.subplot(221)\n",
      "plt.plot(cuts, total_time)\n",
      "plt.subplot(222)\n",
      "plt.plot(cuts, disk_size)\n",
      "plt.subplot(223)\n",
      "plt.plot(cuts, total_time - 10*disk_size)"
     ],
     "language": "python",
     "metadata": {},
     "outputs": [],
     "prompt_number": 39
    },
    {
     "cell_type": "code",
     "collapsed": false,
     "input": [
      "plt.figure(figsize=(15,10))\n",
      "plt.subplot(221)\n",
      "plt.plot(cuts, total_time)\n",
      "plt.subplot(222)\n",
      "plt.plot(cuts, disk_size)\n",
      "plt.subplot(223)\n",
      "plt.plot(cuts, total_time - 100*disk_size)"
     ],
     "language": "python",
     "metadata": {},
     "outputs": [],
     "prompt_number": 40
    },
    {
     "cell_type": "code",
     "collapsed": false,
     "input": [
      "plt.figure(figsize=(15,10))\n",
      "plt.subplot(221)\n",
      "plt.plot(cuts, total_time)\n",
      "plt.subplot(222)\n",
      "plt.plot(cuts, disk_size)\n",
      "plt.subplot(223)\n",
      "plt.plot(cuts, total_time - 1000*disk_size)"
     ],
     "language": "python",
     "metadata": {},
     "outputs": [],
     "prompt_number": 41
    },
    {
     "cell_type": "code",
     "collapsed": false,
     "input": [
      "plt.figure(figsize=(15,10))\n",
      "plt.subplot(221)\n",
      "plt.plot(cuts, total_time)\n",
      "plt.subplot(222)\n",
      "plt.plot(cuts, disk_size)\n",
      "plt.subplot(223)\n",
      "plt.plot(cuts, total_time - 10000*disk_size)"
     ],
     "language": "python",
     "metadata": {},
     "outputs": [],
     "prompt_number": 42
    },
    {
     "cell_type": "code",
     "collapsed": false,
     "input": [
      "plt.figure(figsize=(15,10))\n",
      "plt.subplot(221)\n",
      "plt.plot(cuts, total_time)\n",
      "plt.subplot(222)\n",
      "plt.plot(cuts, disk_size)\n",
      "plt.subplot(223)\n",
      "plt.plot(cuts, total_time + disk_size)"
     ],
     "language": "python",
     "metadata": {},
     "outputs": [],
     "prompt_number": 43
    },
    {
     "cell_type": "code",
     "collapsed": false,
     "input": [
      "plt.figure(figsize=(15,10))\n",
      "plt.subplot(221)\n",
      "plt.plot(cuts, total_time)\n",
      "plt.subplot(222)\n",
      "plt.plot(cuts, disk_size)\n",
      "plt.subplot(223)\n",
      "plt.plot(cuts, total_time + 10*disk_size)"
     ],
     "language": "python",
     "metadata": {},
     "outputs": [],
     "prompt_number": 44
    },
    {
     "cell_type": "code",
     "collapsed": false,
     "input": [
      "plt.figure(figsize=(15,10))\n",
      "plt.subplot(221)\n",
      "plt.plot(cuts, total_time)\n",
      "plt.subplot(222)\n",
      "plt.plot(cuts, disk_size)\n",
      "plt.subplot(223)\n",
      "plt.plot(cuts, total_time + 100*disk_size)"
     ],
     "language": "python",
     "metadata": {},
     "outputs": [],
     "prompt_number": 45
    },
    {
     "cell_type": "code",
     "collapsed": false,
     "input": [
      "plt.figure(figsize=(15,10))\n",
      "plt.subplot(221)\n",
      "plt.plot(cuts, total_time)\n",
      "plt.subplot(222)\n",
      "plt.plot(cuts, disk_size)\n",
      "plt.subplot(223)\n",
      "plt.plot(cuts, total_time + 1000*disk_size)"
     ],
     "language": "python",
     "metadata": {},
     "outputs": [],
     "prompt_number": 46
    },
    {
     "cell_type": "code",
     "collapsed": false,
     "input": [
      "plt.figure(figsize=(15,10))\n",
      "plt.subplot(221)\n",
      "plt.plot(cuts, total_time)\n",
      "plt.subplot(222)\n",
      "plt.plot(cuts, disk_size)\n",
      "plt.subplot(223)\n",
      "plt.plot(cuts, total_time + 200*disk_size)"
     ],
     "language": "python",
     "metadata": {},
     "outputs": [],
     "prompt_number": 47
    },
    {
     "cell_type": "code",
     "collapsed": false,
     "input": [
      "plt.figure(figsize=(15,10))\n",
      "plt.subplot(221)\n",
      "plt.plot(cuts, total_time)\n",
      "plt.subplot(222)\n",
      "plt.plot(cuts, disk_size)\n",
      "plt.subplot(223)\n",
      "plt.plot(cuts, total_time + 110*disk_size)"
     ],
     "language": "python",
     "metadata": {},
     "outputs": [],
     "prompt_number": 48
    },
    {
     "cell_type": "code",
     "collapsed": false,
     "input": [
      "plt.figure(figsize=(15,10))\n",
      "plt.subplot(221)\n",
      "plt.plot(cuts, total_time)\n",
      "plt.subplot(222)\n",
      "plt.plot(cuts, disk_size)\n",
      "plt.subplot(223)\n",
      "plt.plot(cuts, total_time + 120*disk_size)"
     ],
     "language": "python",
     "metadata": {},
     "outputs": [],
     "prompt_number": 49
    },
    {
     "cell_type": "code",
     "collapsed": false,
     "input": [
      "plt.figure(figsize=(15,10))\n",
      "plt.subplot(221)\n",
      "plt.plot(cuts, total_time)\n",
      "plt.subplot(222)\n",
      "plt.plot(cuts, disk_size)\n",
      "plt.subplot(223)\n",
      "plt.plot(cuts, total_time + 130*disk_size)"
     ],
     "language": "python",
     "metadata": {},
     "outputs": [],
     "prompt_number": 50
    },
    {
     "cell_type": "code",
     "collapsed": false,
     "input": [
      "plt.figure(figsize=(15,10))\n",
      "plt.subplot(221)\n",
      "plt.plot(cuts, total_time)\n",
      "plt.subplot(222)\n",
      "plt.plot(cuts, disk_size)\n",
      "plt.subplot(223)\n",
      "plt.plot(cuts, total_time + 140*disk_size)"
     ],
     "language": "python",
     "metadata": {},
     "outputs": [],
     "prompt_number": 51
    },
    {
     "cell_type": "code",
     "collapsed": false,
     "input": [
      "plt.figure(figsize=(15,10))\n",
      "plt.subplot(221)\n",
      "plt.plot(cuts, total_time)\n",
      "plt.subplot(222)\n",
      "plt.plot(cuts, disk_size)\n",
      "plt.subplot(223)\n",
      "plt.plot(cuts, total_time + 150*disk_size)"
     ],
     "language": "python",
     "metadata": {},
     "outputs": [],
     "prompt_number": 52
    },
    {
     "cell_type": "code",
     "collapsed": false,
     "input": [
      "plt.figure(figsize=(15,10))\n",
      "plt.subplot(221)\n",
      "plt.plot(cuts, total_time)\n",
      "plt.subplot(222)\n",
      "plt.plot(cuts, disk_size)\n",
      "plt.subplot(223)\n",
      "plt.plot(cuts, total_time + 160*disk_size)"
     ],
     "language": "python",
     "metadata": {},
     "outputs": [],
     "prompt_number": 53
    },
    {
     "cell_type": "code",
     "collapsed": false,
     "input": [
      "plt.figure(figsize=(15,10))\n",
      "plt.subplot(221)\n",
      "plt.plot(cuts, total_time)\n",
      "plt.subplot(222)\n",
      "plt.plot(cuts, disk_size)\n",
      "plt.subplot(223)\n",
      "plt.plot(cuts, total_time + 190*disk_size)"
     ],
     "language": "python",
     "metadata": {},
     "outputs": [],
     "prompt_number": 54
    },
    {
     "cell_type": "code",
     "collapsed": false,
     "input": [
      "plt.figure(figsize=(15,10))\n",
      "plt.subplot(221)\n",
      "plt.plot(cuts, total_time)\n",
      "plt.subplot(222)\n",
      "plt.plot(cuts, disk_size)\n",
      "plt.subplot(223)\n",
      "plt.plot(cuts, total_time + 200*disk_size)"
     ],
     "language": "python",
     "metadata": {},
     "outputs": [],
     "prompt_number": 55
    },
    {
     "cell_type": "code",
     "collapsed": false,
     "input": [
      "plt.figure(figsize=(15,10))\n",
      "plt.subplot(221)\n",
      "plt.plot(cuts, total_time)\n",
      "plt.subplot(222)\n",
      "plt.plot(cuts, disk_size)\n",
      "plt.subplot(223)\n",
      "plt.plot(cuts, total_time + 300*disk_size)"
     ],
     "language": "python",
     "metadata": {},
     "outputs": [],
     "prompt_number": 56
    },
    {
     "cell_type": "code",
     "collapsed": false,
     "input": [
      "plt.figure(figsize=(15,10))\n",
      "plt.subplot(221)\n",
      "plt.plot(cuts, total_time)\n",
      "plt.subplot(222)\n",
      "plt.plot(cuts, disk_size)\n",
      "plt.subplot(223)\n",
      "plt.plot(cuts, total_time + 500*disk_size)"
     ],
     "language": "python",
     "metadata": {},
     "outputs": [],
     "prompt_number": 57
    },
    {
     "cell_type": "code",
     "collapsed": false,
     "input": [
      "plt.figure(figsize=(15,10))\n",
      "plt.subplot(221)\n",
      "plt.plot(cuts, total_time)\n",
      "plt.subplot(222)\n",
      "plt.plot(cuts, disk_size)\n",
      "plt.subplot(223)\n",
      "plt.plot(cuts, total_time/total_time.max() + disk_size/disk_size.max())"
     ],
     "language": "python",
     "metadata": {},
     "outputs": [],
     "prompt_number": 58
    },
    {
     "cell_type": "code",
     "collapsed": false,
     "input": [
      "plt.figure(figsize=(15,10))\n",
      "plt.subplot(221)\n",
      "plt.plot(cuts, total_time)\n",
      "plt.subplot(222)\n",
      "plt.plot(cuts, disk_size)\n",
      "plt.subplot(223)\n",
      "a = 0.1\n",
      "plt.plot(cuts, (1-a)*total_time/total_time.max() + a*disk_size/disk_size.max())"
     ],
     "language": "python",
     "metadata": {},
     "outputs": [],
     "prompt_number": 59
    },
    {
     "cell_type": "code",
     "collapsed": false,
     "input": [
      "plt.figure(figsize=(15,10))\n",
      "plt.subplot(221)\n",
      "plt.plot(cuts, total_time)\n",
      "plt.subplot(222)\n",
      "plt.plot(cuts, disk_size)\n",
      "plt.subplot(223)\n",
      "a = 0.5\n",
      "plt.plot(cuts, (1-a)*total_time/total_time.max() + a*disk_size/disk_size.max())"
     ],
     "language": "python",
     "metadata": {},
     "outputs": [],
     "prompt_number": 60
    },
    {
     "cell_type": "code",
     "collapsed": false,
     "input": [
      "plt.figure(figsize=(15,10))\n",
      "plt.subplot(221)\n",
      "plt.plot(cuts, total_time)\n",
      "plt.subplot(222)\n",
      "plt.plot(cuts, disk_size)\n",
      "plt.subplot(223)\n",
      "a = 0.7\n",
      "plt.plot(cuts, (1-a)*total_time/total_time.max() + a*disk_size/disk_size.max())"
     ],
     "language": "python",
     "metadata": {},
     "outputs": [],
     "prompt_number": 61
    },
    {
     "cell_type": "code",
     "collapsed": false,
     "input": [
      "plt.figure(figsize=(15,10))\n",
      "plt.subplot(221)\n",
      "plt.plot(cuts, total_time)\n",
      "plt.subplot(222)\n",
      "plt.plot(cuts, disk_size)\n",
      "plt.subplot(223)\n",
      "a = 0.6\n",
      "plt.plot(cuts, (1-a)*total_time/total_time.max() + a*disk_size/disk_size.max())"
     ],
     "language": "python",
     "metadata": {},
     "outputs": [],
     "prompt_number": 62
    },
    {
     "cell_type": "code",
     "collapsed": false,
     "input": [
      "plt.figure(figsize=(15,10))\n",
      "plt.subplot(221)\n",
      "plt.plot(cuts, total_time)\n",
      "plt.subplot(222)\n",
      "plt.plot(cuts, disk_size)\n",
      "plt.subplot(223)\n",
      "a = 0.5\n",
      "plt.plot(cuts, (1-a)*total_time/total_time.max() + a*disk_size/disk_size.max())"
     ],
     "language": "python",
     "metadata": {},
     "outputs": [],
     "prompt_number": 63
    },
    {
     "cell_type": "code",
     "collapsed": false,
     "input": [
      "import ipykee\n",
      "#ipykee.create_project(project_name=\"E._LossFunctionOptimization\", repository=\"git@github.com:hushchyn-mikhail/CERN_Time_Series.git\")\n",
      "session = ipykee.Session(project_name=\"E._LossFunctionOptimization\")"
     ],
     "language": "python",
     "metadata": {},
     "outputs": [],
     "prompt_number": 64
    }
   ],
   "metadata": {}
  }
 ]
}