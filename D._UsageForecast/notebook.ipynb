{
 "metadata": {
  "name": "",
  "signature": "sha256:d5286d2ba66cd9b707176e02f2015ab58031a35eeec3f7ea0d47523e205f398b"
 },
 "nbformat": 3,
 "nbformat_minor": 0,
 "worksheets": [
  {
   "cells": [
    {
     "cell_type": "markdown",
     "metadata": {},
     "source": [
      "#About"
     ]
    },
    {
     "cell_type": "markdown",
     "metadata": {},
     "source": [
      "Short overview of all applied approaches. Commits are used as the names of the approaches."
     ]
    },
    {
     "cell_type": "markdown",
     "metadata": {},
     "source": [
      "#Table of the results"
     ]
    },
    {
     "cell_type": "code",
     "collapsed": false,
     "input": [
      "import pandas as pd\n",
      "res = pd.read_csv('Total report.csv')\n",
      "res"
     ],
     "language": "python",
     "metadata": {},
     "outputs": [
      {
       "html": [
        "<div style=\"max-height:1000px;max-width:1500px;overflow:auto;\">\n",
        "<table border=\"1\" class=\"dataframe\">\n",
        "  <thead>\n",
        "    <tr style=\"text-align: right;\">\n",
        "      <th></th>\n",
        "      <th>Commit_label</th>\n",
        "      <th>ROC_last</th>\n",
        "      <th>ROC_last_score</th>\n",
        "      <th>ROC_avg</th>\n",
        "      <th>ROC_avg_score</th>\n",
        "      <th>Best</th>\n",
        "      <th>Comments</th>\n",
        "    </tr>\n",
        "  </thead>\n",
        "  <tbody>\n",
        "    <tr>\n",
        "      <th>0</th>\n",
        "      <td>        ANN of Neurolab</td>\n",
        "      <td> 0.657</td>\n",
        "      <td> 0.759</td>\n",
        "      <td> 0.350</td>\n",
        "      <td> 0.813</td>\n",
        "      <td>     -</td>\n",
        "      <td>                      -</td>\n",
        "    </tr>\n",
        "    <tr>\n",
        "      <th>1</th>\n",
        "      <td>          Markov Chains</td>\n",
        "      <td>     -</td>\n",
        "      <td>     -</td>\n",
        "      <td> 0.617</td>\n",
        "      <td> 0.732</td>\n",
        "      <td>     -</td>\n",
        "      <td>                      -</td>\n",
        "    </tr>\n",
        "    <tr>\n",
        "      <th>2</th>\n",
        "      <td> Advanced Markov Chains</td>\n",
        "      <td>     -</td>\n",
        "      <td>     -</td>\n",
        "      <td> 0.760</td>\n",
        "      <td> 0.781</td>\n",
        "      <td>     -</td>\n",
        "      <td>       Other selections</td>\n",
        "    </tr>\n",
        "    <tr>\n",
        "      <th>3</th>\n",
        "      <td>                  Trees</td>\n",
        "      <td> 0.683</td>\n",
        "      <td> 0.716</td>\n",
        "      <td> 0.480</td>\n",
        "      <td> 0.772</td>\n",
        "      <td>     -</td>\n",
        "      <td>                      -</td>\n",
        "    </tr>\n",
        "    <tr>\n",
        "      <th>4</th>\n",
        "      <td>            Super Trees</td>\n",
        "      <td> 0.703</td>\n",
        "      <td> 0.787</td>\n",
        "      <td> 0.393</td>\n",
        "      <td> 0.856</td>\n",
        "      <td>     -</td>\n",
        "      <td>                      -</td>\n",
        "    </tr>\n",
        "    <tr>\n",
        "      <th>5</th>\n",
        "      <td>              Super ANN</td>\n",
        "      <td> 0.444</td>\n",
        "      <td> 0.782</td>\n",
        "      <td> 0.162</td>\n",
        "      <td> 0.847</td>\n",
        "      <td>     -</td>\n",
        "      <td>                      -</td>\n",
        "    </tr>\n",
        "    <tr>\n",
        "      <th>6</th>\n",
        "      <td>         Trend Analysis</td>\n",
        "      <td> 0.648</td>\n",
        "      <td>     -</td>\n",
        "      <td> 0.754</td>\n",
        "      <td>     -</td>\n",
        "      <td> 0.823</td>\n",
        "      <td> For special conditions</td>\n",
        "    </tr>\n",
        "    <tr>\n",
        "      <th>7</th>\n",
        "      <td>         Autoregression</td>\n",
        "      <td> 0.545</td>\n",
        "      <td> 0.735</td>\n",
        "      <td> 0.306</td>\n",
        "      <td> 0.808</td>\n",
        "      <td> 0.892</td>\n",
        "      <td> For special conditions</td>\n",
        "    </tr>\n",
        "    <tr>\n",
        "      <th>8</th>\n",
        "      <td>             Regression</td>\n",
        "      <td> 0.481</td>\n",
        "      <td> 0.727</td>\n",
        "      <td> 0.654</td>\n",
        "      <td> 0.823</td>\n",
        "      <td> 0.888</td>\n",
        "      <td> For special conditions</td>\n",
        "    </tr>\n",
        "  </tbody>\n",
        "</table>\n",
        "</div>"
       ],
       "metadata": {},
       "output_type": "pyout",
       "prompt_number": 1,
       "text": [
        "             Commit_label ROC_last ROC_last_score  ROC_avg ROC_avg_score  \\\n",
        "0         ANN of Neurolab    0.657          0.759    0.350         0.813   \n",
        "1           Markov Chains        -              -    0.617         0.732   \n",
        "2  Advanced Markov Chains        -              -    0.760         0.781   \n",
        "3                   Trees    0.683          0.716    0.480         0.772   \n",
        "4             Super Trees    0.703          0.787    0.393         0.856   \n",
        "5               Super ANN    0.444          0.782    0.162         0.847   \n",
        "6          Trend Analysis    0.648              -    0.754             -   \n",
        "7          Autoregression    0.545          0.735    0.306         0.808   \n",
        "8              Regression    0.481          0.727    0.654         0.823   \n",
        "\n",
        "    Best                Comments  \n",
        "0      -                       -  \n",
        "1      -                       -  \n",
        "2      -        Other selections  \n",
        "3      -                       -  \n",
        "4      -                       -  \n",
        "5      -                       -  \n",
        "6  0.823  For special conditions  \n",
        "7  0.892  For special conditions  \n",
        "8  0.888  For special conditions  "
       ]
      }
     ],
     "prompt_number": 1
    },
    {
     "cell_type": "code",
     "collapsed": false,
     "input": [],
     "language": "python",
     "metadata": {},
     "outputs": [],
     "prompt_number": 1
    },
    {
     "cell_type": "markdown",
     "metadata": {},
     "source": [
      "#Upload to the repository"
     ]
    },
    {
     "cell_type": "code",
     "collapsed": false,
     "input": [
      "import ipykee\n",
      "#ipykee.create_project(project_name=\"D._UsageForecast\", repository=\"git@github.com:hushchyn-mikhail/CERN_Time_Series.git\")\n",
      "session = ipykee.Session(project_name=\"D._UsageForecast\")"
     ],
     "language": "python",
     "metadata": {},
     "outputs": [
      {
       "output_type": "stream",
       "stream": "stdout",
       "text": [
        "This notebook has name D._UsageForecast\n",
        "Please, save your notebook before commit!\n"
       ]
      }
     ],
     "prompt_number": 2
    },
    {
     "cell_type": "code",
     "collapsed": false,
     "input": [
      "session.commit(\"TOTAL REPORT 2.\")"
     ],
     "language": "python",
     "metadata": {},
     "outputs": [
      {
       "output_type": "stream",
       "stream": "stdout",
       "text": [
        "Copied last saved state of notebook and dumped kernel history\n",
        "Successfuly commited"
       ]
      },
      {
       "output_type": "stream",
       "stream": "stdout",
       "text": [
        "\n",
        "01c83cefa0bf752984c2e04edf940b6221a18892 D._UsageForecast: Super ANN. Report 1.\n"
       ]
      },
      {
       "output_type": "stream",
       "stream": "stdout",
       "text": [
        "\n"
       ]
      }
     ],
     "prompt_number": 183
    },
    {
     "cell_type": "code",
     "collapsed": false,
     "input": [],
     "language": "python",
     "metadata": {},
     "outputs": [],
     "prompt_number": 228
    }
   ],
   "metadata": {}
  }
 ]
}