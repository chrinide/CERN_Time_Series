{
 "metadata": {
  "name": "",
  "signature": "sha256:e2e4952c8220b366d285115b9f84c6f3d2623c05abff9970ad40db73f5ac6f63"
 },
 "nbformat": 3,
 "nbformat_minor": 0,
 "worksheets": [
  {
   "cells": [
    {
     "cell_type": "markdown",
     "metadata": {},
     "source": [
      "#About"
     ]
    },
    {
     "cell_type": "markdown",
     "metadata": {},
     "source": [
      "Short overview of all applied approaches. Commits are used as the names of the approaches."
     ]
    },
    {
     "cell_type": "markdown",
     "metadata": {},
     "source": [
      "#Table of the results"
     ]
    },
    {
     "cell_type": "code",
     "collapsed": false,
     "input": [
      "import pandas as pd\n",
      "res = pd.read_csv('Total report.csv')\n",
      "res"
     ],
     "language": "python",
     "metadata": {},
     "outputs": [
      {
       "html": [
        "<div style=\"max-height:1000px;max-width:1500px;overflow:auto;\">\n",
        "<table border=\"1\" class=\"dataframe\">\n",
        "  <thead>\n",
        "    <tr style=\"text-align: right;\">\n",
        "      <th></th>\n",
        "      <th>Commit_label</th>\n",
        "      <th>ROC_last</th>\n",
        "      <th>ROC_last_score</th>\n",
        "      <th>ROC_avg</th>\n",
        "      <th>ROC_avg_score</th>\n",
        "      <th>Comments</th>\n",
        "    </tr>\n",
        "  </thead>\n",
        "  <tbody>\n",
        "    <tr>\n",
        "      <th>0</th>\n",
        "      <td>        ANN of Neurolab</td>\n",
        "      <td> 0.657</td>\n",
        "      <td> 0.759</td>\n",
        "      <td> 0.350</td>\n",
        "      <td> 0.813</td>\n",
        "      <td>              NaN</td>\n",
        "    </tr>\n",
        "    <tr>\n",
        "      <th>1</th>\n",
        "      <td>          Markov Chains</td>\n",
        "      <td>   NaN</td>\n",
        "      <td>   NaN</td>\n",
        "      <td> 0.617</td>\n",
        "      <td> 0.732</td>\n",
        "      <td>              NaN</td>\n",
        "    </tr>\n",
        "    <tr>\n",
        "      <th>2</th>\n",
        "      <td> Advanced Markov Chains</td>\n",
        "      <td>   NaN</td>\n",
        "      <td>   NaN</td>\n",
        "      <td> 0.760</td>\n",
        "      <td> 0.781</td>\n",
        "      <td> Other selections</td>\n",
        "    </tr>\n",
        "    <tr>\n",
        "      <th>3</th>\n",
        "      <td>                  Trees</td>\n",
        "      <td> 0.683</td>\n",
        "      <td> 0.716</td>\n",
        "      <td> 0.480</td>\n",
        "      <td> 0.772</td>\n",
        "      <td>              NaN</td>\n",
        "    </tr>\n",
        "    <tr>\n",
        "      <th>4</th>\n",
        "      <td>            Super Trees</td>\n",
        "      <td> 0.703</td>\n",
        "      <td> 0.787</td>\n",
        "      <td> 0.393</td>\n",
        "      <td> 0.856</td>\n",
        "      <td>              NaN</td>\n",
        "    </tr>\n",
        "    <tr>\n",
        "      <th>5</th>\n",
        "      <td>              Super ANN</td>\n",
        "      <td> 0.444</td>\n",
        "      <td> 0.782</td>\n",
        "      <td> 0.162</td>\n",
        "      <td> 0.847</td>\n",
        "      <td>              NaN</td>\n",
        "    </tr>\n",
        "  </tbody>\n",
        "</table>\n",
        "</div>"
       ],
       "metadata": {},
       "output_type": "pyout",
       "prompt_number": 378,
       "text": [
        "             Commit_label  ROC_last  ROC_last_score  ROC_avg  ROC_avg_score  \\\n",
        "0         ANN of Neurolab     0.657           0.759    0.350          0.813   \n",
        "1           Markov Chains       NaN             NaN    0.617          0.732   \n",
        "2  Advanced Markov Chains       NaN             NaN    0.760          0.781   \n",
        "3                   Trees     0.683           0.716    0.480          0.772   \n",
        "4             Super Trees     0.703           0.787    0.393          0.856   \n",
        "5               Super ANN     0.444           0.782    0.162          0.847   \n",
        "\n",
        "           Comments  \n",
        "0               NaN  \n",
        "1               NaN  \n",
        "2  Other selections  \n",
        "3               NaN  \n",
        "4               NaN  \n",
        "5               NaN  "
       ]
      }
     ],
     "prompt_number": 378
    },
    {
     "cell_type": "code",
     "collapsed": false,
     "input": [],
     "language": "python",
     "metadata": {},
     "outputs": []
    },
    {
     "cell_type": "markdown",
     "metadata": {},
     "source": [
      "#Upload to the repository"
     ]
    },
    {
     "cell_type": "code",
     "collapsed": false,
     "input": [
      "import ipykee\n",
      "#ipykee.create_project(project_name=\"D._UsageForecast\", repository=\"git@github.com:hushchyn-mikhail/CERN_Time_Series.git\")\n",
      "session = ipykee.Session(project_name=\"D._UsageForecast\")"
     ],
     "language": "python",
     "metadata": {},
     "outputs": [
      {
       "output_type": "stream",
       "stream": "stdout",
       "text": [
        "This notebook has name D._UsageForecast\n",
        "Please, save your notebook before commit!\n"
       ]
      }
     ],
     "prompt_number": 379
    },
    {
     "cell_type": "code",
     "collapsed": false,
     "input": [
      "session.commit(\"TOTAL REPORT 1.\")"
     ],
     "language": "python",
     "metadata": {},
     "outputs": [
      {
       "output_type": "stream",
       "stream": "stdout",
       "text": [
        "Copied last saved state of notebook and dumped kernel history\n",
        "Successfuly commited"
       ]
      },
      {
       "output_type": "stream",
       "stream": "stdout",
       "text": [
        "\n",
        "01c83cefa0bf752984c2e04edf940b6221a18892 D._UsageForecast: Super ANN. Report 1.\n"
       ]
      },
      {
       "output_type": "stream",
       "stream": "stdout",
       "text": [
        "\n"
       ]
      }
     ],
     "prompt_number": 183
    },
    {
     "cell_type": "code",
     "collapsed": false,
     "input": [],
     "language": "python",
     "metadata": {},
     "outputs": [],
     "prompt_number": 228
    }
   ],
   "metadata": {}
  }
 ]
}