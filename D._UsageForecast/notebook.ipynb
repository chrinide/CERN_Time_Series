{
 "metadata": {
  "name": "",
  "signature": "sha256:e096cc3adad1845bdc48ef2667fa86a4260eee8487469e6a78f36e1f787167ad"
 },
 "nbformat": 3,
 "nbformat_minor": 0,
 "worksheets": [
  {
   "cells": [
    {
     "cell_type": "markdown",
     "metadata": {},
     "source": [
      "#About"
     ]
    },
    {
     "cell_type": "code",
     "collapsed": false,
     "input": [],
     "language": "python",
     "metadata": {},
     "outputs": [],
     "prompt_number": 0
    },
    {
     "cell_type": "markdown",
     "metadata": {},
     "source": [
      "#Data Preparation\n",
      "\n",
      "###Loading data and gettting time series for data sets"
     ]
    },
    {
     "cell_type": "code",
     "collapsed": false,
     "input": [
      "%matplotlib inline\n",
      "import numpy as np\n",
      "import pandas as pd\n",
      "import matplotlib.pyplot as plt\n",
      "\n",
      "#Load original data\n",
      "data = pd.read_excel('popularity-728days_my.xls')\n",
      "data.irow(range(0,2))"
     ],
     "language": "python",
     "metadata": {},
     "outputs": [
      {
       "html": [
        "<div style=\"max-height:1000px;max-width:1500px;overflow:auto;\">\n",
        "<table border=\"1\" class=\"dataframe\">\n",
        "  <thead>\n",
        "    <tr style=\"text-align: right;\">\n",
        "      <th></th>\n",
        "      <th>Name</th>\n",
        "      <th>Configuration</th>\n",
        "      <th>ProcessingPass</th>\n",
        "      <th>FileType</th>\n",
        "      <th>Type</th>\n",
        "      <th>Creation-week</th>\n",
        "      <th>NbLFN</th>\n",
        "      <th>LFNSize</th>\n",
        "      <th>NbDisk</th>\n",
        "      <th>DiskSize</th>\n",
        "      <th>...</th>\n",
        "      <th>95</th>\n",
        "      <th>96</th>\n",
        "      <th>97</th>\n",
        "      <th>98</th>\n",
        "      <th>99</th>\n",
        "      <th>100</th>\n",
        "      <th>101</th>\n",
        "      <th>102</th>\n",
        "      <th>103</th>\n",
        "      <th>104</th>\n",
        "    </tr>\n",
        "  </thead>\n",
        "  <tbody>\n",
        "    <tr>\n",
        "      <th>0</th>\n",
        "      <td> /LHCb/Collision10/Beam3500GeV-VeloClosed-MagDo...</td>\n",
        "      <td> /LHCb/Collision10</td>\n",
        "      <td> /RealData/Reco08-MINBIAS-FIRST-14-NB/Stripping12d</td>\n",
        "      <td> MINIBIAS.DST</td>\n",
        "      <td> 1</td>\n",
        "      <td> 104591</td>\n",
        "      <td>  67</td>\n",
        "      <td> 0.317900</td>\n",
        "      <td> 134</td>\n",
        "      <td> 0.635799</td>\n",
        "      <td>...</td>\n",
        "      <td> 12553</td>\n",
        "      <td> 12553</td>\n",
        "      <td> 12553</td>\n",
        "      <td> 12553</td>\n",
        "      <td> 12553</td>\n",
        "      <td> 12553</td>\n",
        "      <td> 12553</td>\n",
        "      <td> 12553</td>\n",
        "      <td> 12553</td>\n",
        "      <td> 12687</td>\n",
        "    </tr>\n",
        "    <tr>\n",
        "      <th>1</th>\n",
        "      <td> /LHCb/Collision10/Beam3500GeV-VeloClosed-MagDo...</td>\n",
        "      <td> /LHCb/Collision10</td>\n",
        "      <td>                      /RealData/Reco08/Stripping14</td>\n",
        "      <td>  BHADRON.DST</td>\n",
        "      <td> 1</td>\n",
        "      <td> 104607</td>\n",
        "      <td> 227</td>\n",
        "      <td> 0.649204</td>\n",
        "      <td> 980</td>\n",
        "      <td> 2.819260</td>\n",
        "      <td>...</td>\n",
        "      <td>  1631</td>\n",
        "      <td>  1631</td>\n",
        "      <td>  1631</td>\n",
        "      <td>  1631</td>\n",
        "      <td>  1631</td>\n",
        "      <td>  1631</td>\n",
        "      <td>  1631</td>\n",
        "      <td>  1631</td>\n",
        "      <td>  1631</td>\n",
        "      <td>  1631</td>\n",
        "    </tr>\n",
        "  </tbody>\n",
        "</table>\n",
        "<p>2 rows \u00d7 124 columns</p>\n",
        "</div>"
       ],
       "metadata": {},
       "output_type": "pyout",
       "prompt_number": 1,
       "text": [
        "                                                Name      Configuration  \\\n",
        "0  /LHCb/Collision10/Beam3500GeV-VeloClosed-MagDo...  /LHCb/Collision10   \n",
        "1  /LHCb/Collision10/Beam3500GeV-VeloClosed-MagDo...  /LHCb/Collision10   \n",
        "\n",
        "                                      ProcessingPass      FileType  Type  \\\n",
        "0  /RealData/Reco08-MINBIAS-FIRST-14-NB/Stripping12d  MINIBIAS.DST     1   \n",
        "1                       /RealData/Reco08/Stripping14   BHADRON.DST     1   \n",
        "\n",
        "   Creation-week  NbLFN   LFNSize  NbDisk  DiskSize    ...        95     96  \\\n",
        "0         104591     67  0.317900     134  0.635799    ...     12553  12553   \n",
        "1         104607    227  0.649204     980  2.819260    ...      1631   1631   \n",
        "\n",
        "      97     98     99    100    101    102    103    104  \n",
        "0  12553  12553  12553  12553  12553  12553  12553  12687  \n",
        "1   1631   1631   1631   1631   1631   1631   1631   1631  \n",
        "\n",
        "[2 rows x 124 columns]"
       ]
      }
     ],
     "prompt_number": 1
    },
    {
     "cell_type": "code",
     "collapsed": false,
     "input": [
      "data_weeks = data[range(1,105)]\n",
      "data_weeks.irow(range(0,2))"
     ],
     "language": "python",
     "metadata": {},
     "outputs": [
      {
       "html": [
        "<div style=\"max-height:1000px;max-width:1500px;overflow:auto;\">\n",
        "<table border=\"1\" class=\"dataframe\">\n",
        "  <thead>\n",
        "    <tr style=\"text-align: right;\">\n",
        "      <th></th>\n",
        "      <th>1</th>\n",
        "      <th>2</th>\n",
        "      <th>3</th>\n",
        "      <th>4</th>\n",
        "      <th>5</th>\n",
        "      <th>6</th>\n",
        "      <th>7</th>\n",
        "      <th>8</th>\n",
        "      <th>9</th>\n",
        "      <th>10</th>\n",
        "      <th>...</th>\n",
        "      <th>95</th>\n",
        "      <th>96</th>\n",
        "      <th>97</th>\n",
        "      <th>98</th>\n",
        "      <th>99</th>\n",
        "      <th>100</th>\n",
        "      <th>101</th>\n",
        "      <th>102</th>\n",
        "      <th>103</th>\n",
        "      <th>104</th>\n",
        "    </tr>\n",
        "  </thead>\n",
        "  <tbody>\n",
        "    <tr>\n",
        "      <th>0</th>\n",
        "      <td> 0</td>\n",
        "      <td> 0</td>\n",
        "      <td> 0</td>\n",
        "      <td> 0</td>\n",
        "      <td> 0</td>\n",
        "      <td> 0</td>\n",
        "      <td> 0</td>\n",
        "      <td> 0</td>\n",
        "      <td> 0</td>\n",
        "      <td> 468</td>\n",
        "      <td>...</td>\n",
        "      <td> 12553</td>\n",
        "      <td> 12553</td>\n",
        "      <td> 12553</td>\n",
        "      <td> 12553</td>\n",
        "      <td> 12553</td>\n",
        "      <td> 12553</td>\n",
        "      <td> 12553</td>\n",
        "      <td> 12553</td>\n",
        "      <td> 12553</td>\n",
        "      <td> 12687</td>\n",
        "    </tr>\n",
        "    <tr>\n",
        "      <th>1</th>\n",
        "      <td> 0</td>\n",
        "      <td> 0</td>\n",
        "      <td> 0</td>\n",
        "      <td> 0</td>\n",
        "      <td> 0</td>\n",
        "      <td> 0</td>\n",
        "      <td> 0</td>\n",
        "      <td> 0</td>\n",
        "      <td> 0</td>\n",
        "      <td>   0</td>\n",
        "      <td>...</td>\n",
        "      <td>  1631</td>\n",
        "      <td>  1631</td>\n",
        "      <td>  1631</td>\n",
        "      <td>  1631</td>\n",
        "      <td>  1631</td>\n",
        "      <td>  1631</td>\n",
        "      <td>  1631</td>\n",
        "      <td>  1631</td>\n",
        "      <td>  1631</td>\n",
        "      <td>  1631</td>\n",
        "    </tr>\n",
        "  </tbody>\n",
        "</table>\n",
        "<p>2 rows \u00d7 104 columns</p>\n",
        "</div>"
       ],
       "metadata": {},
       "output_type": "pyout",
       "prompt_number": 2,
       "text": [
        "   1    2    3    4    5    6    7    8    9    10  ...     95     96     97   \\\n",
        "0    0    0    0    0    0    0    0    0    0  468 ...   12553  12553  12553   \n",
        "1    0    0    0    0    0    0    0    0    0    0 ...    1631   1631   1631   \n",
        "\n",
        "     98     99     100    101    102    103    104  \n",
        "0  12553  12553  12553  12553  12553  12553  12687  \n",
        "1   1631   1631   1631   1631   1631   1631   1631  \n",
        "\n",
        "[2 rows x 104 columns]"
       ]
      }
     ],
     "prompt_number": 2
    },
    {
     "cell_type": "code",
     "collapsed": false,
     "input": [
      "df_time_series = data_weeks.copy()\n",
      "for i in range(1,105):\n",
      "    if i!=1:\n",
      "        df_time_series[i] = data_weeks[i]-data_weeks[i-1]\n",
      "df_time_series.irow(range(0,2))"
     ],
     "language": "python",
     "metadata": {},
     "outputs": [
      {
       "html": [
        "<div style=\"max-height:1000px;max-width:1500px;overflow:auto;\">\n",
        "<table border=\"1\" class=\"dataframe\">\n",
        "  <thead>\n",
        "    <tr style=\"text-align: right;\">\n",
        "      <th></th>\n",
        "      <th>1</th>\n",
        "      <th>2</th>\n",
        "      <th>3</th>\n",
        "      <th>4</th>\n",
        "      <th>5</th>\n",
        "      <th>6</th>\n",
        "      <th>7</th>\n",
        "      <th>8</th>\n",
        "      <th>9</th>\n",
        "      <th>10</th>\n",
        "      <th>...</th>\n",
        "      <th>95</th>\n",
        "      <th>96</th>\n",
        "      <th>97</th>\n",
        "      <th>98</th>\n",
        "      <th>99</th>\n",
        "      <th>100</th>\n",
        "      <th>101</th>\n",
        "      <th>102</th>\n",
        "      <th>103</th>\n",
        "      <th>104</th>\n",
        "    </tr>\n",
        "  </thead>\n",
        "  <tbody>\n",
        "    <tr>\n",
        "      <th>0</th>\n",
        "      <td> 0</td>\n",
        "      <td> 0</td>\n",
        "      <td> 0</td>\n",
        "      <td> 0</td>\n",
        "      <td> 0</td>\n",
        "      <td> 0</td>\n",
        "      <td> 0</td>\n",
        "      <td> 0</td>\n",
        "      <td> 0</td>\n",
        "      <td> 468</td>\n",
        "      <td>...</td>\n",
        "      <td> 0</td>\n",
        "      <td> 0</td>\n",
        "      <td> 0</td>\n",
        "      <td> 0</td>\n",
        "      <td> 0</td>\n",
        "      <td> 0</td>\n",
        "      <td> 0</td>\n",
        "      <td> 0</td>\n",
        "      <td> 0</td>\n",
        "      <td> 134</td>\n",
        "    </tr>\n",
        "    <tr>\n",
        "      <th>1</th>\n",
        "      <td> 0</td>\n",
        "      <td> 0</td>\n",
        "      <td> 0</td>\n",
        "      <td> 0</td>\n",
        "      <td> 0</td>\n",
        "      <td> 0</td>\n",
        "      <td> 0</td>\n",
        "      <td> 0</td>\n",
        "      <td> 0</td>\n",
        "      <td>   0</td>\n",
        "      <td>...</td>\n",
        "      <td> 0</td>\n",
        "      <td> 0</td>\n",
        "      <td> 0</td>\n",
        "      <td> 0</td>\n",
        "      <td> 0</td>\n",
        "      <td> 0</td>\n",
        "      <td> 0</td>\n",
        "      <td> 0</td>\n",
        "      <td> 0</td>\n",
        "      <td>   0</td>\n",
        "    </tr>\n",
        "  </tbody>\n",
        "</table>\n",
        "<p>2 rows \u00d7 104 columns</p>\n",
        "</div>"
       ],
       "metadata": {},
       "output_type": "pyout",
       "prompt_number": 3,
       "text": [
        "   1    2    3    4    5    6    7    8    9    10  ...   95   96   97   98   \\\n",
        "0    0    0    0    0    0    0    0    0    0  468 ...     0    0    0    0   \n",
        "1    0    0    0    0    0    0    0    0    0    0 ...     0    0    0    0   \n",
        "\n",
        "   99   100  101  102  103  104  \n",
        "0    0    0    0    0    0  134  \n",
        "1    0    0    0    0    0    0  \n",
        "\n",
        "[2 rows x 104 columns]"
       ]
      }
     ],
     "prompt_number": 3
    },
    {
     "cell_type": "markdown",
     "metadata": {},
     "source": [
      "###Get a time serie to make forecast"
     ]
    },
    {
     "cell_type": "code",
     "collapsed": false,
     "input": [
      "time_serie = df_time_series.irow(63).values\n",
      "for i in range(0,time_serie.shape[0]):\n",
      "    time_serie[i] = (i+1)**2"
     ],
     "language": "python",
     "metadata": {},
     "outputs": [],
     "prompt_number": 4
    },
    {
     "cell_type": "code",
     "collapsed": false,
     "input": [
      "plt.bar(range(1,105), time_serie, width=1, bottom=0)\n",
      "plt.xlim(1,104)\n",
      "plt.xlabel('Weeks')\n",
      "plt.ylabel('Nb of usages')\n",
      "plt.show()"
     ],
     "language": "python",
     "metadata": {},
     "outputs": [
      {
       "metadata": {},
       "output_type": "display_data",
       "png": "[encoded data removed]",
       "text": [
        "<matplotlib.figure.Figure at 0x7fc51fff7750>"
       ]
      }
     ],
     "prompt_number": 5
    },
    {
     "cell_type": "markdown",
     "metadata": {},
     "source": [
      "###Preparing data frame for trainig using the time serie"
     ]
    },
    {
     "cell_type": "code",
     "collapsed": false,
     "input": [
      "window_size = 52\n",
      "forecast_horizont = 1\n",
      "x_cols = ['x'+str(i) for i in range(1,window_size+1)]\n",
      "time_serie_table = pd.DataFrame(columns=x_cols+['y'])\n",
      "for row_num in range(0, 105-forecast_horizont-window_size):\n",
      "    time_serie_table.loc[row_num] = list(time_serie[range(row_num+1, row_num+window_size+1)])\\\n",
      "    +list([time_serie[row_num+window_size-1+forecast_horizont]])\n",
      "time_serie_table.irow(range(0,5))"
     ],
     "language": "python",
     "metadata": {},
     "outputs": [
      {
       "html": [
        "<div style=\"max-height:1000px;max-width:1500px;overflow:auto;\">\n",
        "<table border=\"1\" class=\"dataframe\">\n",
        "  <thead>\n",
        "    <tr style=\"text-align: right;\">\n",
        "      <th></th>\n",
        "      <th>x1</th>\n",
        "      <th>x2</th>\n",
        "      <th>x3</th>\n",
        "      <th>x4</th>\n",
        "      <th>x5</th>\n",
        "      <th>x6</th>\n",
        "      <th>x7</th>\n",
        "      <th>x8</th>\n",
        "      <th>x9</th>\n",
        "      <th>x10</th>\n",
        "      <th>...</th>\n",
        "      <th>x44</th>\n",
        "      <th>x45</th>\n",
        "      <th>x46</th>\n",
        "      <th>x47</th>\n",
        "      <th>x48</th>\n",
        "      <th>x49</th>\n",
        "      <th>x50</th>\n",
        "      <th>x51</th>\n",
        "      <th>x52</th>\n",
        "      <th>y</th>\n",
        "    </tr>\n",
        "  </thead>\n",
        "  <tbody>\n",
        "    <tr>\n",
        "      <th>0</th>\n",
        "      <td>  4</td>\n",
        "      <td>  9</td>\n",
        "      <td> 16</td>\n",
        "      <td> 25</td>\n",
        "      <td>  36</td>\n",
        "      <td>  49</td>\n",
        "      <td>  64</td>\n",
        "      <td>  81</td>\n",
        "      <td> 100</td>\n",
        "      <td> 121</td>\n",
        "      <td>...</td>\n",
        "      <td> 2025</td>\n",
        "      <td> 2116</td>\n",
        "      <td> 2209</td>\n",
        "      <td> 2304</td>\n",
        "      <td> 2401</td>\n",
        "      <td> 2500</td>\n",
        "      <td> 2601</td>\n",
        "      <td> 2704</td>\n",
        "      <td> 2809</td>\n",
        "      <td> 2809</td>\n",
        "    </tr>\n",
        "    <tr>\n",
        "      <th>1</th>\n",
        "      <td>  9</td>\n",
        "      <td> 16</td>\n",
        "      <td> 25</td>\n",
        "      <td> 36</td>\n",
        "      <td>  49</td>\n",
        "      <td>  64</td>\n",
        "      <td>  81</td>\n",
        "      <td> 100</td>\n",
        "      <td> 121</td>\n",
        "      <td> 144</td>\n",
        "      <td>...</td>\n",
        "      <td> 2116</td>\n",
        "      <td> 2209</td>\n",
        "      <td> 2304</td>\n",
        "      <td> 2401</td>\n",
        "      <td> 2500</td>\n",
        "      <td> 2601</td>\n",
        "      <td> 2704</td>\n",
        "      <td> 2809</td>\n",
        "      <td> 2916</td>\n",
        "      <td> 2916</td>\n",
        "    </tr>\n",
        "    <tr>\n",
        "      <th>2</th>\n",
        "      <td> 16</td>\n",
        "      <td> 25</td>\n",
        "      <td> 36</td>\n",
        "      <td> 49</td>\n",
        "      <td>  64</td>\n",
        "      <td>  81</td>\n",
        "      <td> 100</td>\n",
        "      <td> 121</td>\n",
        "      <td> 144</td>\n",
        "      <td> 169</td>\n",
        "      <td>...</td>\n",
        "      <td> 2209</td>\n",
        "      <td> 2304</td>\n",
        "      <td> 2401</td>\n",
        "      <td> 2500</td>\n",
        "      <td> 2601</td>\n",
        "      <td> 2704</td>\n",
        "      <td> 2809</td>\n",
        "      <td> 2916</td>\n",
        "      <td> 3025</td>\n",
        "      <td> 3025</td>\n",
        "    </tr>\n",
        "    <tr>\n",
        "      <th>3</th>\n",
        "      <td> 25</td>\n",
        "      <td> 36</td>\n",
        "      <td> 49</td>\n",
        "      <td> 64</td>\n",
        "      <td>  81</td>\n",
        "      <td> 100</td>\n",
        "      <td> 121</td>\n",
        "      <td> 144</td>\n",
        "      <td> 169</td>\n",
        "      <td> 196</td>\n",
        "      <td>...</td>\n",
        "      <td> 2304</td>\n",
        "      <td> 2401</td>\n",
        "      <td> 2500</td>\n",
        "      <td> 2601</td>\n",
        "      <td> 2704</td>\n",
        "      <td> 2809</td>\n",
        "      <td> 2916</td>\n",
        "      <td> 3025</td>\n",
        "      <td> 3136</td>\n",
        "      <td> 3136</td>\n",
        "    </tr>\n",
        "    <tr>\n",
        "      <th>4</th>\n",
        "      <td> 36</td>\n",
        "      <td> 49</td>\n",
        "      <td> 64</td>\n",
        "      <td> 81</td>\n",
        "      <td> 100</td>\n",
        "      <td> 121</td>\n",
        "      <td> 144</td>\n",
        "      <td> 169</td>\n",
        "      <td> 196</td>\n",
        "      <td> 225</td>\n",
        "      <td>...</td>\n",
        "      <td> 2401</td>\n",
        "      <td> 2500</td>\n",
        "      <td> 2601</td>\n",
        "      <td> 2704</td>\n",
        "      <td> 2809</td>\n",
        "      <td> 2916</td>\n",
        "      <td> 3025</td>\n",
        "      <td> 3136</td>\n",
        "      <td> 3249</td>\n",
        "      <td> 3249</td>\n",
        "    </tr>\n",
        "  </tbody>\n",
        "</table>\n",
        "<p>5 rows \u00d7 53 columns</p>\n",
        "</div>"
       ],
       "metadata": {},
       "output_type": "pyout",
       "prompt_number": 6,
       "text": [
        "   x1  x2  x3  x4   x5   x6   x7   x8   x9  x10 ...    x44   x45   x46   x47  \\\n",
        "0   4   9  16  25   36   49   64   81  100  121 ...   2025  2116  2209  2304   \n",
        "1   9  16  25  36   49   64   81  100  121  144 ...   2116  2209  2304  2401   \n",
        "2  16  25  36  49   64   81  100  121  144  169 ...   2209  2304  2401  2500   \n",
        "3  25  36  49  64   81  100  121  144  169  196 ...   2304  2401  2500  2601   \n",
        "4  36  49  64  81  100  121  144  169  196  225 ...   2401  2500  2601  2704   \n",
        "\n",
        "    x48   x49   x50   x51   x52     y  \n",
        "0  2401  2500  2601  2704  2809  2809  \n",
        "1  2500  2601  2704  2809  2916  2916  \n",
        "2  2601  2704  2809  2916  3025  3025  \n",
        "3  2704  2809  2916  3025  3136  3136  \n",
        "4  2809  2916  3025  3136  3249  3249  \n",
        "\n",
        "[5 rows x 53 columns]"
       ]
      }
     ],
     "prompt_number": 6
    },
    {
     "cell_type": "code",
     "collapsed": false,
     "input": [
      "time_serie_table.icol(range(1,20)).irow(range(0,26))\n",
      "print x_cols[1:51]"
     ],
     "language": "python",
     "metadata": {},
     "outputs": [
      {
       "output_type": "stream",
       "stream": "stdout",
       "text": [
        "['x2', 'x3', 'x4', 'x5', 'x6', 'x7', 'x8', 'x9', 'x10', 'x11', 'x12', 'x13', 'x14', 'x15', 'x16', 'x17', 'x18', 'x19', 'x20', 'x21', 'x22', 'x23', 'x24', 'x25', 'x26', 'x27', 'x28', 'x29', 'x30', 'x31', 'x32', 'x33', 'x34', 'x35', 'x36', 'x37', 'x38', 'x39', 'x40', 'x41', 'x42', 'x43', 'x44', 'x45', 'x46', 'x47', 'x48', 'x49', 'x50', 'x51']\n"
       ]
      }
     ],
     "prompt_number": 7
    },
    {
     "cell_type": "markdown",
     "metadata": {},
     "source": [
      "#TMVA Regression"
     ]
    },
    {
     "cell_type": "code",
     "collapsed": false,
     "input": [
      "from TMVAANN import ANN_MLP\n",
      "\n",
      "\n",
      "params = \"!H:\"+\\\n",
      "                    \"!V:\"+\\\n",
      "                    \"NeuronType=tanh:\"+\\\n",
      "                    \"NCycles=200:\"+\\\n",
      "                    \"HiddenLayers=N+100:\"+\\\n",
      "                    \"TestRate=1:\"+\\\n",
      "                    \"TrainingMethod=BFGS:\"+\\\n",
      "                    \"LearningRate=0.02:\"+\\\n",
      "                    \"DecayRate=0.01:\"+\\\n",
      "                    \"Sampling=0.8:\"+\\\n",
      "                    \"SamplingEpoch=0.8:\"+\\\n",
      "                    \"ConvergenceImprove=-1:\"+\\\n",
      "                    \"ConvergenceTests=-1:\"+\\\n",
      "                    \"!UseRegulator\"\n",
      "\n",
      "\n",
      "ann = ANN_MLP(params)\n",
      "ann.fit(time_serie_table.irow(range(0,52)))"
     ],
     "language": "python",
     "metadata": {},
     "outputs": [],
     "prompt_number": 30
    },
    {
     "cell_type": "code",
     "collapsed": false,
     "input": [
      "prediction = ann.predict(time_serie_table.irow(range(0,52)))\n",
      "prediction"
     ],
     "language": "python",
     "metadata": {},
     "outputs": [
      {
       "metadata": {},
       "output_type": "pyout",
       "prompt_number": 31,
       "text": [
        "array([  3111.10864258,   3111.10864258,   3111.10864258,   3111.10864258,\n",
        "         3221.87939453,   3319.53857422,   3423.17895508,   3423.17895508,\n",
        "         3924.47583008,   3924.47583008,   3924.47583008,   4266.39208984,\n",
        "         4266.39208984,   4266.39208984,   4266.39208984,   4266.39208984,\n",
        "         4732.74023438,   4862.89550781,   5246.81542969,   5246.81542969,\n",
        "         5246.81542969,   5548.15576172,   5850.52441406,   5850.52441406,\n",
        "         5850.52441406,   6237.59619141,   6428.34033203,   6428.34033203,\n",
        "         6428.34033203,   6428.34033203,   6906.21289062,   6906.21289062,\n",
        "         7388.17089844,   7388.17089844,   7874.40869141,   7874.40869141,\n",
        "         7874.40869141,   7874.40869141,   7874.40869141,   8644.92773438,\n",
        "         8644.92773438,   8644.92773438,   8644.92773438,   9422.78808594,\n",
        "        10194.10839844,  10194.10839844,  10194.10839844,  10194.10839844,\n",
        "        10194.10839844,  10194.10839844,  10804.24707031,  10804.24707031])"
       ]
      }
     ],
     "prompt_number": 31
    },
    {
     "cell_type": "markdown",
     "metadata": {},
     "source": [
      "###Test regressor. Plotting results"
     ]
    },
    {
     "cell_type": "code",
     "collapsed": false,
     "input": [
      "plt.subplot(111)\n",
      "plt.bar(range(0, prediction.shape[0]), time_serie_table.irow(range(0,52))[\"y\"].values, color='b', width=1)\n",
      "plt.xlim(0,52)\n",
      "plt.show()\n",
      "plt.subplot(111)\n",
      "plt.bar(range(0, prediction.shape[0]), prediction, color='r', width=1)\n",
      "plt.xlim(0,52)\n",
      "plt.show()\n",
      "plt.subplot(111)\n",
      "plt.bar(range(0, prediction.shape[0]), prediction-time_serie_table.irow(range(0,52))[\"y\"].values, color='r', width=1)\n",
      "plt.xlim(0,52)\n",
      "plt.show()"
     ],
     "language": "python",
     "metadata": {},
     "outputs": [
      {
       "metadata": {},
       "output_type": "display_data",
       "png": "[encoded data removed]",
       "text": [
        "<matplotlib.figure.Figure at 0x7fc504044810>"
       ]
      },
      {
       "metadata": {},
       "output_type": "display_data",
       "png": "[encoded data removed]",
       "text": [
        "<matplotlib.figure.Figure at 0x7fc51633b350>"
       ]
      },
      {
       "metadata": {},
       "output_type": "display_data",
       "png": "[encoded data removed]",
       "text": [
        "<matplotlib.figure.Figure at 0x7fc4f80fbf90>"
       ]
      }
     ],
     "prompt_number": 32
    },
    {
     "cell_type": "code",
     "collapsed": false,
     "input": [],
     "language": "python",
     "metadata": {},
     "outputs": [],
     "prompt_number": 10
    },
    {
     "cell_type": "markdown",
     "metadata": {},
     "source": [
      "#Test"
     ]
    },
    {
     "cell_type": "code",
     "collapsed": false,
     "input": [
      "a = time_serie_table.copy()"
     ],
     "language": "python",
     "metadata": {},
     "outputs": [],
     "prompt_number": 11
    },
    {
     "cell_type": "code",
     "collapsed": false,
     "input": [
      "for i in range(0,a.shape[0]):\n",
      "    a.irow(i)[a.columns] = a.irow(i).values*0 + i\n",
      "    a.irow(i)['y'] = (i+1)**2"
     ],
     "language": "python",
     "metadata": {},
     "outputs": [],
     "prompt_number": 12
    },
    {
     "cell_type": "code",
     "collapsed": false,
     "input": [
      "from TMVAANN import ANN_MLP\n",
      "params = \"!H:\"+\\\n",
      "                    \"!V:\"+\\\n",
      "                    \"VarTransform=Norm:\"+\\\n",
      "                    \"NeuronType=tanh:\"+\\\n",
      "            \"NeuronInputType=sum:\"+\\\n",
      "                    \"NCycles=20000:\"+\\\n",
      "                    \"HiddenLayers=20:\"+\\\n",
      "                    \"TestRate=1:\"+\\\n",
      "                    \"TrainingMethod=BFGS:\"+\\\n",
      "                    \"LearningRate=0.02:\"+\\\n",
      "                    \"DecayRate=0,01:\"+\\\n",
      "                    \"Sampling=0.3:\"+\\\n",
      "                    \"SamplingEpoch=0.8:\"+\\\n",
      "                    \"ConvergenceImprove=-1:\"+\\\n",
      "                    \"ConvergenceTests=-1:\"+\\\n",
      "                    \"!UseRegulator\"\n",
      "\n",
      "ann = ANN_MLP()\n",
      "ann.fit(a[['x1','y']])"
     ],
     "language": "python",
     "metadata": {},
     "outputs": [],
     "prompt_number": 13
    },
    {
     "cell_type": "code",
     "collapsed": false,
     "input": [
      "prediction = ann.predict(a[['x1','y']])"
     ],
     "language": "python",
     "metadata": {},
     "outputs": [],
     "prompt_number": 14
    },
    {
     "cell_type": "code",
     "collapsed": false,
     "input": [
      "plt.subplot(111)\n",
      "plt.bar(range(0, prediction.shape[0]), a[\"y\"].values, color='b', width=1)\n",
      "plt.xlim(0,52)\n",
      "plt.show()\n",
      "plt.subplot(111)\n",
      "plt.bar(range(0, prediction.shape[0]), prediction, color='r', width=1)\n",
      "plt.xlim(0,52)\n",
      "plt.show()\n",
      "plt.subplot(111)\n",
      "plt.bar(range(0, prediction.shape[0]), prediction - a[\"y\"].values, color='r', width=1)\n",
      "plt.xlim(0,52)\n",
      "plt.show()"
     ],
     "language": "python",
     "metadata": {},
     "outputs": [
      {
       "metadata": {},
       "output_type": "display_data",
       "png": "[encoded data removed]",
       "text": [
        "<matplotlib.figure.Figure at 0x7fc504053250>"
       ]
      },
      {
       "metadata": {},
       "output_type": "display_data",
       "png": "[encoded data removed]",
       "text": [
        "<matplotlib.figure.Figure at 0x7fc514126790>"
       ]
      },
      {
       "metadata": {},
       "output_type": "display_data",
       "png": "[encoded data removed]",
       "text": [
        "<matplotlib.figure.Figure at 0x7fc51651aad0>"
       ]
      }
     ],
     "prompt_number": 15
    },
    {
     "cell_type": "code",
     "collapsed": false,
     "input": [],
     "language": "python",
     "metadata": {},
     "outputs": [],
     "prompt_number": 15
    },
    {
     "cell_type": "markdown",
     "metadata": {},
     "source": [
      "#Upload to the repository"
     ]
    },
    {
     "cell_type": "code",
     "collapsed": false,
     "input": [
      "import ipykee\n",
      "#ipykee.create_project(project_name=\"D._UsageForecast\", repository=\"git@github.com:hushchyn-mikhail/CERN_Time_Series.git\")\n",
      "session = ipykee.Session(project_name=\"D._UsageForecast\")"
     ],
     "language": "python",
     "metadata": {},
     "outputs": [
      {
       "output_type": "stream",
       "stream": "stdout",
       "text": [
        "Project D._UsageForecast has been created\n",
        "Please don't forget to add this ssh key:\n",
        "ssh-rsa AAAAB3NzaC1yc2EAAAADAQABAAABAQCitXGpn5icLD8ettkEGUpCFFN1WxBV7/TqhsWJRii/Hf40Du8oXJWej54pRHkIrzjN1wx58W7sajIs+XC15pprtWYUglyw1FdDkbMvUBiJ8O1AJAvJj7CXGuMwBeUa6xj7dIXIneKgMI3173vs8oM62h+dH+gg2YnCi+YAiotuJtj+o6tM+1joNuSlebGrPyyeqztavL/SCj45Vjz99z+9A1t5YZmSVSpKyFIyJB77VUH2GXWAK9CuSf8Oj46mTfXx5UtnwanexvkbiMZ2TmOTzrizSXHnc0YYFn2ukz2evQ6jtBDAGklrJw8Jgh1puIJ/U2rD/oogRkjCX5U3f7hB root@4157cc7d07cb\n"
       ]
      },
      {
       "output_type": "stream",
       "stream": "stdout",
       "text": [
        "\n",
        "This notebook has name D._UsageForecast\n",
        "Please, save your notebook before commit!\n"
       ]
      }
     ],
     "prompt_number": 1
    },
    {
     "cell_type": "code",
     "collapsed": false,
     "input": [
      "session.commit(\"Just TMVA MLP test. Not ready!\")"
     ],
     "language": "python",
     "metadata": {},
     "outputs": [],
     "prompt_number": 17
    },
    {
     "cell_type": "code",
     "collapsed": false,
     "input": [],
     "language": "python",
     "metadata": {},
     "outputs": [],
     "prompt_number": 17
    }
   ],
   "metadata": {}
  }
 ]
}