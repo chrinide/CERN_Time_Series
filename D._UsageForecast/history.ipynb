{
 "metadata": {
  "name": "/ipykee/workdir/tmp_HPQUK/D"
 },
 "nbformat": 3,
 "nbformat_minor": 0,
 "worksheets": [
  {
   "cells": [
    {
     "cell_type": "code",
     "collapsed": false,
     "input": [
      "# from IPython import parallel\n",
      "# clients = parallel.Client(profile='ssh-ipy2.0')\n",
      "# clients.block = True  # use synchronous computations\n",
      "# print clients.ids"
     ],
     "language": "python",
     "metadata": {},
     "outputs": [],
     "prompt_number": 1
    },
    {
     "cell_type": "code",
     "collapsed": false,
     "input": [
      "#%%px\n",
      "%matplotlib inline\n",
      "import numpy as np\n",
      "import pandas as pd\n",
      "import matplotlib.pyplot as plt\n",
      "\n",
      "#Load original data\n",
      "data = pd.read_csv('popularity-728days_my.csv')\n",
      "\n",
      "head = list(data.columns[:21]) + range(1,105)\n",
      "data = pd.DataFrame(columns=head, data=data.values)"
     ],
     "language": "python",
     "metadata": {},
     "outputs": [],
     "prompt_number": 2
    },
    {
     "cell_type": "code",
     "collapsed": false,
     "input": [
      "#%%px\n",
      "#Select data\n",
      "selection = ((data['Now'] - data['Creation-week']) > 26)&((data['Now'] - data['FirstUsage']) > 26)&((data[78] - data[1]) != 0)\n",
      "data_sel = data[selection].copy()\n",
      "#data_sel = data.copy()\n",
      "print data_sel.shape"
     ],
     "language": "python",
     "metadata": {},
     "outputs": [],
     "prompt_number": 3
    },
    {
     "cell_type": "code",
     "collapsed": false,
     "input": [
      "#%%px\n",
      "periods = range(1,105)\n",
      "\n",
      "#------------------------------------------------------\n",
      "#Get maximum intervals and last weeks with zeros usages\n",
      "def InterMax(data_sel, periods):\n",
      "    #Get binary vector representation of the selected data\n",
      "    data_bv = data_sel.copy()\n",
      "    #Get week's usages\n",
      "    for i in periods:\n",
      "        if i!=1:\n",
      "            data_bv[i] = data_sel[i] - data_sel[i-1]\n",
      "            \n",
      "    #Get binary representation\n",
      "    data_bv[periods] = (data_bv[periods] != 0)*1\n",
      "    \n",
      "    inter_max = []\n",
      "    last_zeros = []\n",
      "    nb_peaks = []\n",
      "    inter_mean = []\n",
      "    inter_std = []\n",
      "    inter_rel = []\n",
      "    \n",
      "    for i in range(0,data_bv.shape[0]):\n",
      "        ds = data_bv[periods].irow(i)\n",
      "        nz = ds.nonzero()[0]\n",
      "        inter = []\n",
      "        \n",
      "        nb_peaks.append(len(nz))\n",
      "        if len(nz)==0:\n",
      "            nz = [0]\n",
      "        if len(nz)<2:\n",
      "            inter = [0]\n",
      "            #nz = [0]\n",
      "        else:\n",
      "            for k in range(0, len(nz)-1):\n",
      "                val = nz[k+1]-nz[k]\n",
      "                inter.append(val)\n",
      "        \n",
      "        inter = np.array(inter)\n",
      "        inter_mean.append(inter.mean())\n",
      "        inter_std.append(inter.std())\n",
      "        if inter.mean()!=0:\n",
      "            inter_rel.append(inter.std()/inter.mean())\n",
      "        else:\n",
      "            inter_rel.append(0)\n",
      "                \n",
      "        last_zeros.append(periods[-1] - nz[-1] + 1)\n",
      "        inter_max.append(max(inter))\n",
      "    \n",
      "    return np.array(inter_max), np.array(last_zeros), np.array(nb_peaks), np.array(inter_mean), np.array(inter_std), np.array(inter_rel)"
     ],
     "language": "python",
     "metadata": {},
     "outputs": [],
     "prompt_number": 4
    },
    {
     "cell_type": "code",
     "collapsed": false,
     "input": [
      "#%%px\n",
      "#Add features\n",
      "inter_max, last_zeros, nb_peaks, inter_mean, inter_std, inter_rel = InterMax(data_sel, periods)\n",
      "data_sel['last-zeros'] = last_zeros\n",
      "data_sel['inter_max'] = inter_max\n",
      "data_sel['nb_peaks'] = nb_peaks\n",
      "data_sel['inter_mean'] = inter_mean\n",
      "data_sel['inter_std'] = inter_std\n",
      "data_sel['inter_rel'] = inter_rel"
     ],
     "language": "python",
     "metadata": {},
     "outputs": [],
     "prompt_number": 5
    },
    {
     "cell_type": "code",
     "collapsed": false,
     "input": [
      "#%%px\n",
      "data = data_sel[data_sel['nb_peaks']>=0]"
     ],
     "language": "python",
     "metadata": {},
     "outputs": [],
     "prompt_number": 6
    },
    {
     "cell_type": "code",
     "collapsed": false,
     "input": [
      "#%%px\n",
      "data_weeks = data[range(1,105)]"
     ],
     "language": "python",
     "metadata": {},
     "outputs": [],
     "prompt_number": 7
    },
    {
     "cell_type": "code",
     "collapsed": false,
     "input": [
      "#%%px\n",
      "df_time_series = data_weeks.copy()\n",
      "for i in range(1,105):\n",
      "    if i!=1:\n",
      "        df_time_series[i] = data_weeks[i]-data_weeks[i-1]"
     ],
     "language": "python",
     "metadata": {},
     "outputs": [],
     "prompt_number": 8
    },
    {
     "cell_type": "code",
     "collapsed": false,
     "input": [
      "max_accesses = df_time_series.max(axis=1)\n",
      "df_ts_states = df_time_series.copy()\n",
      "for col in df_ts_states.columns:\n",
      "    df_ts_states[col] = 0 + (df_time_series[col]>0)*(df_time_series[col]<=0.5*max_accesses)*1 + \\\n",
      "    (df_time_series[col]>0.5*max_accesses)*(df_time_series[col]<=max_accesses)*2"
     ],
     "language": "python",
     "metadata": {},
     "outputs": [],
     "prompt_number": 9
    },
    {
     "cell_type": "code",
     "collapsed": false,
     "input": [
      "#Example\n",
      "row = 48\n",
      "figure(figsize=(15, 5))\n",
      "subplot(121)\n",
      "plt.plot(df_time_series.irow([row]).values[0])\n",
      "subplot(122)\n",
      "plt.plot(df_ts_states.irow([row]).values[0])"
     ],
     "language": "python",
     "metadata": {},
     "outputs": [],
     "prompt_number": 10
    },
    {
     "cell_type": "code",
     "collapsed": false,
     "input": [
      "def TransitionMatrix(train):\n",
      "    data = ts_train\n",
      "    distinct = set(data)\n",
      "    coding = {j:i for i, j in enumerate(distinct)}\n",
      "    coded_data = np.fromiter((coding[i] for i in data), dtype=np.uint8)\n",
      "    n = len(distinct)\n",
      "    pairs = n * coded_data[:-1] + coded_data[1:]\n",
      "    counts = np.bincount(pairs, minlength=n*n).reshape(n, n)\n",
      "    counts = counts/counts.sum(axis=1, dtype=float).reshape(n,1)\n",
      "    return np.mat(counts)\n",
      "\n",
      "def StatDist(matrix):\n",
      "    return np.array((matrix**100)[0,:])[0]"
     ],
     "language": "python",
     "metadata": {},
     "outputs": [],
     "prompt_number": 11
    },
    {
     "cell_type": "code",
     "collapsed": false,
     "input": [
      "#Example\n",
      "row = 49\n",
      "figure(figsize=(15, 5))\n",
      "subplot(121)\n",
      "plt.plot(df_time_series.irow([row]).values[0])\n",
      "subplot(122)\n",
      "plt.plot(df_ts_states.irow([row]).values[0])"
     ],
     "language": "python",
     "metadata": {},
     "outputs": [],
     "prompt_number": 12
    },
    {
     "cell_type": "code",
     "collapsed": false,
     "input": [
      "train1 = df_ts_states.irow([row]).values[0][:70]\n",
      "test1 = df_ts_states.irow([row]).values[0][70:]\n",
      "\n",
      "transition_matrix1 = TransitionMatrix(train1)\n",
      "stationary_dist1 = StatDist(transition_matrix1)\n",
      "\n",
      "print 'Transition matrix:\\n', transition_matrix1\n",
      "print 'Stationary distribution:\\n', stationary_dist1"
     ],
     "language": "python",
     "metadata": {},
     "outputs": [],
     "prompt_number": 13
    },
    {
     "cell_type": "code",
     "collapsed": false,
     "input": [
      "def TransitionMatrix(train):\n",
      "    data = train\n",
      "    distinct = set(data)\n",
      "    coding = {j:i for i, j in enumerate(distinct)}\n",
      "    coded_data = np.fromiter((coding[i] for i in data), dtype=np.uint8)\n",
      "    n = len(distinct)\n",
      "    pairs = n * coded_data[:-1] + coded_data[1:]\n",
      "    counts = np.bincount(pairs, minlength=n*n).reshape(n, n)\n",
      "    counts = counts/counts.sum(axis=1, dtype=float).reshape(n,1)\n",
      "    return np.mat(counts)\n",
      "\n",
      "def StatDist(matrix):\n",
      "    return np.array((matrix**100)[0,:])[0]"
     ],
     "language": "python",
     "metadata": {},
     "outputs": [],
     "prompt_number": 14
    },
    {
     "cell_type": "code",
     "collapsed": false,
     "input": [
      "train1 = df_ts_states.irow([row]).values[0][:70]\n",
      "test1 = df_ts_states.irow([row]).values[0][70:]\n",
      "\n",
      "transition_matrix1 = TransitionMatrix(train1)\n",
      "stationary_dist1 = StatDist(transition_matrix1)\n",
      "\n",
      "print 'Transition matrix:\\n', transition_matrix1\n",
      "print 'Stationary distribution:\\n', stationary_dist1"
     ],
     "language": "python",
     "metadata": {},
     "outputs": [],
     "prompt_number": 15
    },
    {
     "cell_type": "code",
     "collapsed": false,
     "input": [
      "#Example\n",
      "row = 41\n",
      "figure(figsize=(15, 5))\n",
      "subplot(121)\n",
      "plt.plot(df_time_series.irow([row]).values[0])\n",
      "subplot(122)\n",
      "plt.plot(df_ts_states.irow([row]).values[0])"
     ],
     "language": "python",
     "metadata": {},
     "outputs": [],
     "prompt_number": 16
    },
    {
     "cell_type": "code",
     "collapsed": false,
     "input": [
      "train1 = df_ts_states.irow([row]).values[0][:70]\n",
      "test1 = df_ts_states.irow([row]).values[0][70:]\n",
      "\n",
      "transition_matrix1 = TransitionMatrix(train1)\n",
      "stationary_dist1 = StatDist(transition_matrix1)\n",
      "\n",
      "print 'Transition matrix:\\n', transition_matrix1\n",
      "print 'Stationary distribution:\\n', stationary_dist1"
     ],
     "language": "python",
     "metadata": {},
     "outputs": [],
     "prompt_number": 17
    },
    {
     "cell_type": "code",
     "collapsed": false,
     "input": [
      "#Example\n",
      "row = 42\n",
      "figure(figsize=(15, 5))\n",
      "subplot(121)\n",
      "plt.plot(df_time_series.irow([row]).values[0])\n",
      "subplot(122)\n",
      "plt.plot(df_ts_states.irow([row]).values[0])"
     ],
     "language": "python",
     "metadata": {},
     "outputs": [],
     "prompt_number": 18
    },
    {
     "cell_type": "code",
     "collapsed": false,
     "input": [
      "train1 = df_ts_states.irow([row]).values[0][:70]\n",
      "test1 = df_ts_states.irow([row]).values[0][70:]\n",
      "\n",
      "transition_matrix1 = TransitionMatrix(train1)\n",
      "stationary_dist1 = StatDist(transition_matrix1)\n",
      "\n",
      "print 'Transition matrix:\\n', transition_matrix1\n",
      "print 'Stationary distribution:\\n', stationary_dist1"
     ],
     "language": "python",
     "metadata": {},
     "outputs": [],
     "prompt_number": 19
    },
    {
     "cell_type": "code",
     "collapsed": false,
     "input": [
      "#Example\n",
      "row = 33\n",
      "figure(figsize=(15, 5))\n",
      "subplot(121)\n",
      "plt.plot(df_time_series.irow([row]).values[0])\n",
      "subplot(122)\n",
      "plt.plot(df_ts_states.irow([row]).values[0])"
     ],
     "language": "python",
     "metadata": {},
     "outputs": [],
     "prompt_number": 20
    },
    {
     "cell_type": "code",
     "collapsed": false,
     "input": [
      "train1 = df_ts_states.irow([row]).values[0][:70]\n",
      "test1 = df_ts_states.irow([row]).values[0][70:]\n",
      "\n",
      "transition_matrix1 = TransitionMatrix(train1)\n",
      "stationary_dist1 = StatDist(transition_matrix1)\n",
      "\n",
      "print 'Transition matrix:\\n', transition_matrix1\n",
      "print 'Stationary distribution:\\n', stationary_dist1"
     ],
     "language": "python",
     "metadata": {},
     "outputs": [],
     "prompt_number": 21
    },
    {
     "cell_type": "code",
     "collapsed": false,
     "input": [
      "#Example\n",
      "row = 10\n",
      "figure(figsize=(15, 5))\n",
      "subplot(121)\n",
      "plt.plot(df_time_series.irow([row]).values[0])\n",
      "subplot(122)\n",
      "plt.plot(df_ts_states.irow([row]).values[0])"
     ],
     "language": "python",
     "metadata": {},
     "outputs": [],
     "prompt_number": 22
    },
    {
     "cell_type": "code",
     "collapsed": false,
     "input": [
      "#Example\n",
      "row = 11\n",
      "figure(figsize=(15, 5))\n",
      "subplot(121)\n",
      "plt.plot(df_time_series.irow([row]).values[0])\n",
      "subplot(122)\n",
      "plt.plot(df_ts_states.irow([row]).values[0])"
     ],
     "language": "python",
     "metadata": {},
     "outputs": [],
     "prompt_number": 23
    },
    {
     "cell_type": "code",
     "collapsed": false,
     "input": [
      "#Example\n",
      "row = 12\n",
      "figure(figsize=(15, 5))\n",
      "subplot(121)\n",
      "plt.plot(df_time_series.irow([row]).values[0])\n",
      "subplot(122)\n",
      "plt.plot(df_ts_states.irow([row]).values[0])"
     ],
     "language": "python",
     "metadata": {},
     "outputs": [],
     "prompt_number": 24
    },
    {
     "cell_type": "code",
     "collapsed": false,
     "input": [
      "#Example\n",
      "row = 13\n",
      "figure(figsize=(15, 5))\n",
      "subplot(121)\n",
      "plt.plot(df_time_series.irow([row]).values[0])\n",
      "subplot(122)\n",
      "plt.plot(df_ts_states.irow([row]).values[0])"
     ],
     "language": "python",
     "metadata": {},
     "outputs": [],
     "prompt_number": 25
    },
    {
     "cell_type": "code",
     "collapsed": false,
     "input": [
      "#Example\n",
      "row = 14\n",
      "figure(figsize=(15, 5))\n",
      "subplot(121)\n",
      "plt.plot(df_time_series.irow([row]).values[0])\n",
      "subplot(122)\n",
      "plt.plot(df_ts_states.irow([row]).values[0])"
     ],
     "language": "python",
     "metadata": {},
     "outputs": [],
     "prompt_number": 26
    },
    {
     "cell_type": "code",
     "collapsed": false,
     "input": [
      "#Example\n",
      "row = 15\n",
      "figure(figsize=(15, 5))\n",
      "subplot(121)\n",
      "plt.plot(df_time_series.irow([row]).values[0])\n",
      "subplot(122)\n",
      "plt.plot(df_ts_states.irow([row]).values[0])"
     ],
     "language": "python",
     "metadata": {},
     "outputs": [],
     "prompt_number": 27
    },
    {
     "cell_type": "code",
     "collapsed": false,
     "input": [
      "for i in range(0,60):\n",
      "    figure(figsize=(15, 5))\n",
      "    subplot(121)\n",
      "    plt.plot(df_time_series.irow([row]).values[0])\n",
      "    plt.title(str(i))\n",
      "    subplot(122)\n",
      "    plt.plot(df_ts_states.irow([row]).values[0])"
     ],
     "language": "python",
     "metadata": {},
     "outputs": [],
     "prompt_number": 28
    },
    {
     "cell_type": "code",
     "collapsed": false,
     "input": [
      "for i in range(0,60):\n",
      "    figure(figsize=(15, 5))\n",
      "    subplot(121)\n",
      "    plt.plot(df_time_series.irow([i]).values[0])\n",
      "    plt.title(str(i))\n",
      "    subplot(122)\n",
      "    plt.plot(df_ts_states.irow([i]).values[0])"
     ],
     "language": "python",
     "metadata": {},
     "outputs": [],
     "prompt_number": 29
    },
    {
     "cell_type": "code",
     "collapsed": false,
     "input": [
      "#Example\n",
      "row = 32\n",
      "figure(figsize=(15, 5))\n",
      "subplot(121)\n",
      "plt.plot(df_time_series.irow([row]).values[0])\n",
      "subplot(122)\n",
      "plt.plot(df_ts_states.irow([row]).values[0])"
     ],
     "language": "python",
     "metadata": {},
     "outputs": [],
     "prompt_number": 30
    },
    {
     "cell_type": "code",
     "collapsed": false,
     "input": [
      "train1 = df_ts_states.irow([row]).values[0][:70]\n",
      "test1 = df_ts_states.irow([row]).values[0][70:]\n",
      "\n",
      "transition_matrix1 = TransitionMatrix(train1)\n",
      "stationary_dist1 = StatDist(transition_matrix1)\n",
      "\n",
      "print 'Transition matrix:\\n', transition_matrix1\n",
      "print 'Stationary distribution:\\n', stationary_dist1"
     ],
     "language": "python",
     "metadata": {},
     "outputs": [],
     "prompt_number": 31
    },
    {
     "cell_type": "code",
     "collapsed": false,
     "input": [
      "#Example\n",
      "row = 40\n",
      "figure(figsize=(15, 5))\n",
      "subplot(121)\n",
      "plt.plot(df_time_series.irow([row]).values[0])\n",
      "subplot(122)\n",
      "plt.plot(df_ts_states.irow([row]).values[0])"
     ],
     "language": "python",
     "metadata": {},
     "outputs": [],
     "prompt_number": 32
    },
    {
     "cell_type": "code",
     "collapsed": false,
     "input": [
      "train1 = df_ts_states.irow([row]).values[0][:70]\n",
      "test1 = df_ts_states.irow([row]).values[0][70:]\n",
      "\n",
      "transition_matrix1 = TransitionMatrix(train1)\n",
      "stationary_dist1 = StatDist(transition_matrix1)\n",
      "\n",
      "print 'Transition matrix:\\n', transition_matrix1\n",
      "print 'Stationary distribution:\\n', stationary_dist1"
     ],
     "language": "python",
     "metadata": {},
     "outputs": [],
     "prompt_number": 33
    },
    {
     "cell_type": "code",
     "collapsed": false,
     "input": [
      "#Example\n",
      "row = 44\n",
      "figure(figsize=(15, 5))\n",
      "subplot(121)\n",
      "plt.plot(df_time_series.irow([row]).values[0])\n",
      "subplot(122)\n",
      "plt.plot(df_ts_states.irow([row]).values[0])"
     ],
     "language": "python",
     "metadata": {},
     "outputs": [],
     "prompt_number": 34
    },
    {
     "cell_type": "code",
     "collapsed": false,
     "input": [
      "train1 = df_ts_states.irow([row]).values[0][:70]\n",
      "test1 = df_ts_states.irow([row]).values[0][70:]\n",
      "\n",
      "transition_matrix1 = TransitionMatrix(train1)\n",
      "stationary_dist1 = StatDist(transition_matrix1)\n",
      "\n",
      "print 'Transition matrix:\\n', transition_matrix1\n",
      "print 'Stationary distribution:\\n', stationary_dist1"
     ],
     "language": "python",
     "metadata": {},
     "outputs": [],
     "prompt_number": 35
    },
    {
     "cell_type": "code",
     "collapsed": false,
     "input": [
      "#Example\n",
      "row = 53\n",
      "figure(figsize=(15, 5))\n",
      "subplot(121)\n",
      "plt.plot(df_time_series.irow([row]).values[0])\n",
      "subplot(122)\n",
      "plt.plot(df_ts_states.irow([row]).values[0])"
     ],
     "language": "python",
     "metadata": {},
     "outputs": [],
     "prompt_number": 36
    },
    {
     "cell_type": "code",
     "collapsed": false,
     "input": [
      "train1 = df_ts_states.irow([row]).values[0][:70]\n",
      "test1 = df_ts_states.irow([row]).values[0][70:]\n",
      "\n",
      "transition_matrix1 = TransitionMatrix(train1)\n",
      "stationary_dist1 = StatDist(transition_matrix1)\n",
      "\n",
      "print 'Transition matrix:\\n', transition_matrix1\n",
      "print 'Stationary distribution:\\n', stationary_dist1"
     ],
     "language": "python",
     "metadata": {},
     "outputs": [],
     "prompt_number": 37
    },
    {
     "cell_type": "code",
     "collapsed": false,
     "input": [
      "#Example\n",
      "row = 54\n",
      "figure(figsize=(15, 5))\n",
      "subplot(121)\n",
      "plt.plot(df_time_series.irow([row]).values[0])\n",
      "subplot(122)\n",
      "plt.plot(df_ts_states.irow([row]).values[0])"
     ],
     "language": "python",
     "metadata": {},
     "outputs": [],
     "prompt_number": 38
    },
    {
     "cell_type": "code",
     "collapsed": false,
     "input": [
      "train1 = df_ts_states.irow([row]).values[0][:70]\n",
      "test1 = df_ts_states.irow([row]).values[0][70:]\n",
      "\n",
      "transition_matrix1 = TransitionMatrix(train1)\n",
      "stationary_dist1 = StatDist(transition_matrix1)\n",
      "\n",
      "print 'Transition matrix:\\n', transition_matrix1\n",
      "print 'Stationary distribution:\\n', stationary_dist1"
     ],
     "language": "python",
     "metadata": {},
     "outputs": [],
     "prompt_number": 39
    },
    {
     "cell_type": "code",
     "collapsed": false,
     "input": [
      "#Example\n",
      "row = 56\n",
      "figure(figsize=(15, 5))\n",
      "subplot(121)\n",
      "plt.plot(df_time_series.irow([row]).values[0])\n",
      "subplot(122)\n",
      "plt.plot(df_ts_states.irow([row]).values[0])"
     ],
     "language": "python",
     "metadata": {},
     "outputs": [],
     "prompt_number": 40
    },
    {
     "cell_type": "code",
     "collapsed": false,
     "input": [
      "train1 = df_ts_states.irow([row]).values[0][:70]\n",
      "test1 = df_ts_states.irow([row]).values[0][70:]\n",
      "\n",
      "transition_matrix1 = TransitionMatrix(train1)\n",
      "stationary_dist1 = StatDist(transition_matrix1)\n",
      "\n",
      "print 'Transition matrix:\\n', transition_matrix1\n",
      "print 'Stationary distribution:\\n', stationary_dist1"
     ],
     "language": "python",
     "metadata": {},
     "outputs": [],
     "prompt_number": 41
    },
    {
     "cell_type": "code",
     "collapsed": false,
     "input": [
      "#Example\n",
      "row = 59\n",
      "figure(figsize=(15, 5))\n",
      "subplot(121)\n",
      "plt.plot(df_time_series.irow([row]).values[0])\n",
      "subplot(122)\n",
      "plt.plot(df_ts_states.irow([row]).values[0])"
     ],
     "language": "python",
     "metadata": {},
     "outputs": [],
     "prompt_number": 42
    },
    {
     "cell_type": "code",
     "collapsed": false,
     "input": [
      "train1 = df_ts_states.irow([row]).values[0][:70]\n",
      "test1 = df_ts_states.irow([row]).values[0][70:]\n",
      "\n",
      "transition_matrix1 = TransitionMatrix(train1)\n",
      "stationary_dist1 = StatDist(transition_matrix1)\n",
      "\n",
      "print 'Transition matrix:\\n', transition_matrix1\n",
      "print 'Stationary distribution:\\n', stationary_dist1"
     ],
     "language": "python",
     "metadata": {},
     "outputs": [],
     "prompt_number": 43
    },
    {
     "cell_type": "code",
     "collapsed": false,
     "input": [
      "#Example\n",
      "row = 58\n",
      "figure(figsize=(15, 5))\n",
      "subplot(121)\n",
      "plt.plot(df_time_series.irow([row]).values[0])\n",
      "subplot(122)\n",
      "plt.plot(df_ts_states.irow([row]).values[0])"
     ],
     "language": "python",
     "metadata": {},
     "outputs": [],
     "prompt_number": 44
    },
    {
     "cell_type": "code",
     "collapsed": false,
     "input": [
      "train1 = df_ts_states.irow([row]).values[0][:70]\n",
      "test1 = df_ts_states.irow([row]).values[0][70:]\n",
      "\n",
      "transition_matrix1 = TransitionMatrix(train1)\n",
      "stationary_dist1 = StatDist(transition_matrix1)\n",
      "\n",
      "print 'Transition matrix:\\n', transition_matrix1\n",
      "print 'Stationary distribution:\\n', stationary_dist1"
     ],
     "language": "python",
     "metadata": {},
     "outputs": [],
     "prompt_number": 45
    },
    {
     "cell_type": "code",
     "collapsed": false,
     "input": [
      "#Example\n",
      "row = 32\n",
      "figure(figsize=(15, 5))\n",
      "subplot(121)\n",
      "plt.plot(df_time_series.irow([row]).values[0])\n",
      "subplot(122)\n",
      "plt.plot(df_ts_states.irow([row]).values[0])"
     ],
     "language": "python",
     "metadata": {},
     "outputs": [],
     "prompt_number": 46
    },
    {
     "cell_type": "code",
     "collapsed": false,
     "input": [
      "train1 = df_ts_states.irow([row]).values[0][:70]\n",
      "test1 = df_ts_states.irow([row]).values[0][70:]\n",
      "\n",
      "transition_matrix1 = TransitionMatrix(train1)\n",
      "stationary_dist1 = StatDist(transition_matrix1)\n",
      "\n",
      "print 'Transition matrix:\\n', transition_matrix1\n",
      "print 'Stationary distribution:\\n', stationary_dist1"
     ],
     "language": "python",
     "metadata": {},
     "outputs": [],
     "prompt_number": 47
    },
    {
     "cell_type": "code",
     "collapsed": false,
     "input": [
      "train = df_ts_states.irow([row]).values[0][:70]\n",
      "test = df_ts_states.irow([row]).values[0][70:]\n",
      "\n",
      "transition_matrix = TransitionMatrix(train)\n",
      "stationary_dist = StatDist(transition_matrix)\n",
      "\n",
      "print 'Transition matrix:\\n', transition_matrix\n",
      "print 'Stationary distribution:\\n', stationary_dist"
     ],
     "language": "python",
     "metadata": {},
     "outputs": [],
     "prompt_number": 48
    },
    {
     "cell_type": "code",
     "collapsed": false,
     "input": [
      "c = np.array(transition_matrix)\n",
      "c"
     ],
     "language": "python",
     "metadata": {},
     "outputs": [],
     "prompt_number": 49
    },
    {
     "cell_type": "code",
     "collapsed": false,
     "input": [
      "c = np.array(transition_matrix).reshape(transition_matrix.shape[0]*transition_matrix.shape[1],)\n",
      "c"
     ],
     "language": "python",
     "metadata": {},
     "outputs": [],
     "prompt_number": 50
    },
    {
     "cell_type": "code",
     "collapsed": false,
     "input": [
      "d = {1:2, 2:3}\n",
      "d"
     ],
     "language": "python",
     "metadata": {},
     "outputs": [],
     "prompt_number": 51
    },
    {
     "cell_type": "code",
     "collapsed": false,
     "input": [
      "d[1]"
     ],
     "language": "python",
     "metadata": {},
     "outputs": [],
     "prompt_number": 52
    },
    {
     "cell_type": "code",
     "collapsed": false,
     "input": [
      "print 3**100"
     ],
     "language": "python",
     "metadata": {},
     "outputs": [],
     "prompt_number": 53
    },
    {
     "cell_type": "code",
     "collapsed": false,
     "input": [
      "%time print 3**100"
     ],
     "language": "python",
     "metadata": {},
     "outputs": [],
     "prompt_number": 54
    },
    {
     "cell_type": "code",
     "collapsed": false,
     "input": [
      "%%time \n",
      "print 3**100"
     ],
     "language": "python",
     "metadata": {},
     "outputs": [],
     "prompt_number": 55
    },
    {
     "cell_type": "code",
     "collapsed": false,
     "input": [
      "%time \n",
      "print 3**100"
     ],
     "language": "python",
     "metadata": {},
     "outputs": [],
     "prompt_number": 56
    },
    {
     "cell_type": "code",
     "collapsed": false,
     "input": [
      "print 60//10"
     ],
     "language": "python",
     "metadata": {},
     "outputs": [],
     "prompt_number": 57
    },
    {
     "cell_type": "code",
     "collapsed": false,
     "input": [
      "print 61//10"
     ],
     "language": "python",
     "metadata": {},
     "outputs": [],
     "prompt_number": 58
    },
    {
     "cell_type": "code",
     "collapsed": false,
     "input": [
      "print 61%10"
     ],
     "language": "python",
     "metadata": {},
     "outputs": [],
     "prompt_number": 59
    },
    {
     "cell_type": "code",
     "collapsed": false,
     "input": [
      "print 60%10"
     ],
     "language": "python",
     "metadata": {},
     "outputs": [],
     "prompt_number": 60
    },
    {
     "cell_type": "code",
     "collapsed": false,
     "input": [
      "%%time\n",
      "dict_matrixes = {}\n",
      "dict_dists = {}\n",
      "\n",
      "for row in range(0, df_ts_states):\n",
      "    train = df_ts_states.irow([row]).values[0][:70]\n",
      "    test = df_ts_states.irow([row]).values[0][70:]\n",
      "\n",
      "    transition_matrix = TransitionMatrix(train)\n",
      "    stationary_dist = StatDist(transition_matrix)\n",
      "    \n",
      "    dict_matrixes[row] = transition_matrix\n",
      "    dict_dists[row] = stationary_dist\n",
      "    \n",
      "    if row%100==0:\n",
      "        print row"
     ],
     "language": "python",
     "metadata": {},
     "outputs": [],
     "prompt_number": 61
    },
    {
     "cell_type": "code",
     "collapsed": false,
     "input": [
      "%%time\n",
      "dict_matrixes = {}\n",
      "dict_dists = {}\n",
      "\n",
      "for row in range(0, df_ts_states.shape[0]):\n",
      "    train = df_ts_states.irow([row]).values[0][:70]\n",
      "    test = df_ts_states.irow([row]).values[0][70:]\n",
      "\n",
      "    transition_matrix = TransitionMatrix(train)\n",
      "    stationary_dist = StatDist(transition_matrix)\n",
      "    \n",
      "    dict_matrixes[row] = transition_matrix\n",
      "    dict_dists[row] = stationary_dist\n",
      "    \n",
      "    if row%100==0:\n",
      "        print row"
     ],
     "language": "python",
     "metadata": {},
     "outputs": [],
     "prompt_number": 62
    },
    {
     "cell_type": "code",
     "collapsed": false,
     "input": [
      "%%time\n",
      "dict_matrixes = {}\n",
      "dict_dists = {}\n",
      "\n",
      "for row in range(0, df_ts_states.shape[0]):\n",
      "    train = df_ts_states.irow([row]).values[0][:70]\n",
      "    test = df_ts_states.irow([row]).values[0][70:]\n",
      "\n",
      "    transition_matrix = TransitionMatrix(train)\n",
      "    stationary_dist = StatDist(transition_matrix)\n",
      "    \n",
      "    dict_matrixes[row] = transition_matrix\n",
      "    dict_dists[row] = stationary_dist"
     ],
     "language": "python",
     "metadata": {},
     "outputs": [],
     "prompt_number": 63
    },
    {
     "cell_type": "code",
     "collapsed": false,
     "input": [
      "dict_dists"
     ],
     "language": "python",
     "metadata": {},
     "outputs": [],
     "prompt_number": 64
    },
    {
     "cell_type": "code",
     "collapsed": false,
     "input": [
      "dict_matrixes"
     ],
     "language": "python",
     "metadata": {},
     "outputs": [],
     "prompt_number": 65
    },
    {
     "cell_type": "code",
     "collapsed": false,
     "input": [
      "#Example\n",
      "row = 2\n",
      "figure(figsize=(15, 5))\n",
      "subplot(121)\n",
      "plt.plot(df_time_series.irow([row]).values[0])\n",
      "subplot(122)\n",
      "plt.plot(df_ts_states.irow([row]).values[0])"
     ],
     "language": "python",
     "metadata": {},
     "outputs": [],
     "prompt_number": 66
    },
    {
     "cell_type": "code",
     "collapsed": false,
     "input": [
      "#Example\n",
      "ts_train = df_ts_states.irow([row]).values[0]\n",
      "transition_matrix = TransitionMatrix(ts_train)\n",
      "stationary_dist = StatDist(transition_matrix)\n",
      "\n",
      "print 'Transition matrix:\\n', transition_matrix\n",
      "print 'Stationary distribution:\\n', stationary_dist"
     ],
     "language": "python",
     "metadata": {},
     "outputs": [],
     "prompt_number": 67
    },
    {
     "cell_type": "code",
     "collapsed": false,
     "input": [
      "#Example\n",
      "row = 2\n",
      "figure(figsize=(15, 5))\n",
      "subplot(121)\n",
      "plt.plot(df_time_series.irow([row]).values[0])\n",
      "subplot(122)\n",
      "plt.plot(df_ts_states.irow([row]).values[0])"
     ],
     "language": "python",
     "metadata": {},
     "outputs": [],
     "prompt_number": 68
    },
    {
     "cell_type": "code",
     "collapsed": false,
     "input": [
      "def TransitionMatrix(train):\n",
      "    data = train\n",
      "    distinct = set(data)\n",
      "    coding = {j:i for i, j in enumerate(distinct)}\n",
      "    coded_data = np.fromiter((coding[i] for i in data), dtype=np.uint8)\n",
      "    n = len(distinct)\n",
      "    pairs = n * coded_data[:-1] + coded_data[1:]\n",
      "    counts = np.bincount(pairs, minlength=n*n).reshape(n, n)\n",
      "    counts = counts/counts.sum(axis=1, dtype=float).reshape(n,1)\n",
      "    return np.mat(counts)\n",
      "\n",
      "def StatDist(matrix):\n",
      "    return np.array((matrix**100)[0,:])[0]"
     ],
     "language": "python",
     "metadata": {},
     "outputs": [],
     "prompt_number": 69
    },
    {
     "cell_type": "code",
     "collapsed": false,
     "input": [
      "#Example\n",
      "ts_train = df_ts_states.irow([row]).values[0]\n",
      "transition_matrix = TransitionMatrix(ts_train)\n",
      "stationary_dist = StatDist(transition_matrix)\n",
      "\n",
      "print 'Transition matrix:\\n', transition_matrix\n",
      "print 'Stationary distribution:\\n', stationary_dist"
     ],
     "language": "python",
     "metadata": {},
     "outputs": [],
     "prompt_number": 70
    },
    {
     "cell_type": "code",
     "collapsed": false,
     "input": [
      "def TransitionMatrix(train):\n",
      "    data = train\n",
      "    distinct = set(data)\n",
      "    coding = {j:i for i, j in enumerate(distinct)}\n",
      "    coded_data = np.fromiter((coding[i] for i in data), dtype=np.uint8)\n",
      "    n = len(distinct)\n",
      "    pairs = n * coded_data[:-1] + coded_data[1:]\n",
      "    counts = np.bincount(pairs, minlength=n*n).reshape(n, n)\n",
      "    #counts = counts/counts.sum(axis=1, dtype=float).reshape(n,1)\n",
      "    return np.mat(counts)\n",
      "\n",
      "def StatDist(matrix):\n",
      "    return np.array((matrix**100)[0,:])[0]"
     ],
     "language": "python",
     "metadata": {},
     "outputs": [],
     "prompt_number": 71
    },
    {
     "cell_type": "code",
     "collapsed": false,
     "input": [
      "#Example\n",
      "ts_train = df_ts_states.irow([row]).values[0]\n",
      "transition_matrix = TransitionMatrix(ts_train)\n",
      "stationary_dist = StatDist(transition_matrix)\n",
      "\n",
      "print 'Transition matrix:\\n', transition_matrix\n",
      "print 'Stationary distribution:\\n', stationary_dist"
     ],
     "language": "python",
     "metadata": {},
     "outputs": [],
     "prompt_number": 72
    },
    {
     "cell_type": "code",
     "collapsed": false,
     "input": [
      "def TransitionMatrix(train):\n",
      "    data = train\n",
      "    distinct = set(data)\n",
      "    coding = {j:i for i, j in enumerate(distinct)}\n",
      "    coded_data = np.fromiter((coding[i] for i in data), dtype=np.uint8)\n",
      "    n = len(distinct)\n",
      "    pairs = n * coded_data[:-1] + coded_data[1:]\n",
      "    counts = np.bincount(pairs, minlength=n*n).reshape(n, n)\n",
      "    counts = counts/counts.sum(axis=1, dtype=float).reshape(n,1)\n",
      "    return np.mat(counts)\n",
      "\n",
      "def StatDist(matrix):\n",
      "    return np.array((matrix**100)[0,:])[0]"
     ],
     "language": "python",
     "metadata": {},
     "outputs": [],
     "prompt_number": 73
    },
    {
     "cell_type": "code",
     "collapsed": false,
     "input": [
      "#Example\n",
      "ts_train = df_ts_states.irow([row]).values[0]\n",
      "transition_matrix = TransitionMatrix(ts_train)\n",
      "stationary_dist = StatDist(transition_matrix)\n",
      "\n",
      "print 'Transition matrix:\\n', transition_matrix\n",
      "print 'Stationary distribution:\\n', stationary_dist"
     ],
     "language": "python",
     "metadata": {},
     "outputs": [],
     "prompt_number": 74
    },
    {
     "cell_type": "code",
     "collapsed": false,
     "input": [
      "#Example\n",
      "row = 3\n",
      "figure(figsize=(15, 5))\n",
      "subplot(121)\n",
      "plt.plot(df_time_series.irow([row]).values[0])\n",
      "subplot(122)\n",
      "plt.plot(df_ts_states.irow([row]).values[0])"
     ],
     "language": "python",
     "metadata": {},
     "outputs": [],
     "prompt_number": 75
    },
    {
     "cell_type": "code",
     "collapsed": false,
     "input": [
      "def TransitionMatrix(train):\n",
      "    data = train\n",
      "    distinct = set(data)\n",
      "    coding = {j:i for i, j in enumerate(distinct)}\n",
      "    coded_data = np.fromiter((coding[i] for i in data), dtype=np.uint8)\n",
      "    n = len(distinct)\n",
      "    pairs = n * coded_data[:-1] + coded_data[1:]\n",
      "    counts = np.bincount(pairs, minlength=n*n).reshape(n, n)\n",
      "    counts = counts/counts.sum(axis=1, dtype=float).reshape(n,1)\n",
      "    return np.mat(counts)\n",
      "\n",
      "def StatDist(matrix):\n",
      "    return np.array((matrix**100)[0,:])[0]"
     ],
     "language": "python",
     "metadata": {},
     "outputs": [],
     "prompt_number": 76
    },
    {
     "cell_type": "code",
     "collapsed": false,
     "input": [
      "#Example\n",
      "ts_train = df_ts_states.irow([row]).values[0]\n",
      "transition_matrix = TransitionMatrix(ts_train)\n",
      "stationary_dist = StatDist(transition_matrix)\n",
      "\n",
      "print 'Transition matrix:\\n', transition_matrix\n",
      "print 'Stationary distribution:\\n', stationary_dist"
     ],
     "language": "python",
     "metadata": {},
     "outputs": [],
     "prompt_number": 77
    },
    {
     "cell_type": "code",
     "collapsed": false,
     "input": [
      "def TransitionMatrix(train):\n",
      "    data = train\n",
      "    distinct = set(data)\n",
      "    coding = {j:i for i, j in enumerate(distinct)}\n",
      "    coded_data = np.fromiter((coding[i] for i in data), dtype=np.uint8)\n",
      "    n = len(distinct)\n",
      "    pairs = n * coded_data[:-1] + coded_data[1:]\n",
      "    counts = np.bincount(pairs, minlength=n*n).reshape(n, n)\n",
      "    #counts = counts/counts.sum(axis=1, dtype=float).reshape(n,1)\n",
      "    return np.mat(counts)\n",
      "\n",
      "def StatDist(matrix):\n",
      "    return np.array((matrix**100)[0,:])[0]"
     ],
     "language": "python",
     "metadata": {},
     "outputs": [],
     "prompt_number": 78
    },
    {
     "cell_type": "code",
     "collapsed": false,
     "input": [
      "#Example\n",
      "ts_train = df_ts_states.irow([row]).values[0]\n",
      "transition_matrix = TransitionMatrix(ts_train)\n",
      "stationary_dist = StatDist(transition_matrix)\n",
      "\n",
      "print 'Transition matrix:\\n', transition_matrix\n",
      "print 'Stationary distribution:\\n', stationary_dist"
     ],
     "language": "python",
     "metadata": {},
     "outputs": [],
     "prompt_number": 79
    },
    {
     "cell_type": "code",
     "collapsed": false,
     "input": [
      "def TransitionMatrix(train):\n",
      "    data = train\n",
      "    distinct = set(data)\n",
      "    coding = {j:i for i, j in enumerate(distinct)}\n",
      "    coded_data = np.fromiter((coding[i] for i in data), dtype=np.uint8)\n",
      "    n = len(distinct)\n",
      "    pairs = n * coded_data[:-1] + coded_data[1:]\n",
      "    counts = np.bincount(pairs, minlength=n*n).reshape(n, n)\n",
      "    counts = counts/counts.sum(axis=1, dtype=float).reshape(n,1)\n",
      "    return np.mat(counts)\n",
      "\n",
      "def StatDist(matrix):\n",
      "    return np.array((matrix**100)[0,:])[0]"
     ],
     "language": "python",
     "metadata": {},
     "outputs": [],
     "prompt_number": 80
    },
    {
     "cell_type": "code",
     "collapsed": false,
     "input": [
      "#Example\n",
      "ts_train = df_ts_states.irow([row]).values[0]\n",
      "transition_matrix = TransitionMatrix(ts_train)\n",
      "stationary_dist = StatDist(transition_matrix)\n",
      "\n",
      "print 'Transition matrix:\\n', transition_matrix\n",
      "print 'Stationary distribution:\\n', stationary_dist"
     ],
     "language": "python",
     "metadata": {},
     "outputs": [],
     "prompt_number": 81
    },
    {
     "cell_type": "code",
     "collapsed": false,
     "input": [
      "def TransitionMatrix(train):\n",
      "    data = train\n",
      "    distinct = set(data)\n",
      "    coding = {j:i for i, j in enumerate(distinct)}\n",
      "    coded_data = np.fromiter((coding[i] for i in data), dtype=np.uint8)\n",
      "    n = len(distinct)\n",
      "    pairs = n * coded_data[:-1] + coded_data[1:]\n",
      "    mask_data = np.array(range(0,n*n))\n",
      "    pairs = np.concatenate((pairs, mask_data))\n",
      "    print pairs\n",
      "    counts = np.bincount(pairs, minlength=n*n).reshape(n, n)\n",
      "    counts = counts/counts.sum(axis=1, dtype=float).reshape(n,1)\n",
      "    return np.mat(counts)\n",
      "\n",
      "def StatDist(matrix):\n",
      "    return np.array((matrix**100)[0,:])[0]"
     ],
     "language": "python",
     "metadata": {},
     "outputs": [],
     "prompt_number": 82
    },
    {
     "cell_type": "code",
     "collapsed": false,
     "input": [
      "#Example\n",
      "ts_train = df_ts_states.irow([row]).values[0]\n",
      "transition_matrix = TransitionMatrix(ts_train)\n",
      "stationary_dist = StatDist(transition_matrix)\n",
      "\n",
      "print 'Transition matrix:\\n', transition_matrix\n",
      "print 'Stationary distribution:\\n', stationary_dist"
     ],
     "language": "python",
     "metadata": {},
     "outputs": [],
     "prompt_number": 83
    },
    {
     "cell_type": "code",
     "collapsed": false,
     "input": [
      "def TransitionMatrix(train):\n",
      "    data = train\n",
      "    distinct = set(data)\n",
      "    coding = {j:i for i, j in enumerate(distinct)}\n",
      "    coded_data = np.fromiter((coding[i] for i in data), dtype=np.uint8)\n",
      "    n = len(distinct)\n",
      "    pairs = n * coded_data[:-1] + coded_data[1:]\n",
      "    mask_data = np.array(range(0,n*n))\n",
      "    #pairs = np.concatenate((pairs, mask_data))\n",
      "    print pairs\n",
      "    counts = np.bincount(pairs, minlength=n*n).reshape(n, n)\n",
      "    counts = counts/counts.sum(axis=1, dtype=float).reshape(n,1)\n",
      "    return np.mat(counts)\n",
      "\n",
      "def StatDist(matrix):\n",
      "    return np.array((matrix**100)[0,:])[0]"
     ],
     "language": "python",
     "metadata": {},
     "outputs": [],
     "prompt_number": 84
    },
    {
     "cell_type": "code",
     "collapsed": false,
     "input": [
      "#Example\n",
      "ts_train = df_ts_states.irow([row]).values[0]\n",
      "transition_matrix = TransitionMatrix(ts_train)\n",
      "stationary_dist = StatDist(transition_matrix)\n",
      "\n",
      "print 'Transition matrix:\\n', transition_matrix\n",
      "print 'Stationary distribution:\\n', stationary_dist"
     ],
     "language": "python",
     "metadata": {},
     "outputs": [],
     "prompt_number": 85
    },
    {
     "cell_type": "code",
     "collapsed": false,
     "input": [
      "def TransitionMatrix(train):\n",
      "    data = train\n",
      "    distinct = set(data)\n",
      "    coding = {j:i for i, j in enumerate(distinct)}\n",
      "    coded_data = np.fromiter((coding[i] for i in data), dtype=np.uint8)\n",
      "    n = len(distinct)\n",
      "    pairs = n * coded_data[:-1] + coded_data[1:]\n",
      "    mask_data = np.array(range(0,n*n))\n",
      "    #pairs = np.concatenate((pairs, mask_data))\n",
      "    print n\n",
      "    counts = np.bincount(pairs, minlength=n*n).reshape(n, n)\n",
      "    counts = counts/counts.sum(axis=1, dtype=float).reshape(n,1)\n",
      "    return np.mat(counts)\n",
      "\n",
      "def StatDist(matrix):\n",
      "    return np.array((matrix**100)[0,:])[0]"
     ],
     "language": "python",
     "metadata": {},
     "outputs": [],
     "prompt_number": 86
    },
    {
     "cell_type": "code",
     "collapsed": false,
     "input": [
      "#Example\n",
      "ts_train = df_ts_states.irow([row]).values[0]\n",
      "transition_matrix = TransitionMatrix(ts_train)\n",
      "stationary_dist = StatDist(transition_matrix)\n",
      "\n",
      "print 'Transition matrix:\\n', transition_matrix\n",
      "print 'Stationary distribution:\\n', stationary_dist"
     ],
     "language": "python",
     "metadata": {},
     "outputs": [],
     "prompt_number": 87
    },
    {
     "cell_type": "code",
     "collapsed": false,
     "input": [
      "def TransitionMatrix(train):\n",
      "    data = train\n",
      "    distinct = set(data)\n",
      "    coding = {j:i for i, j in enumerate(distinct)}\n",
      "    coded_data = np.fromiter((coding[i] for i in data), dtype=np.uint8)\n",
      "    n = len(distinct)\n",
      "    pairs = n * coded_data[:-1] + coded_data[1:]\n",
      "    mask_data = np.array(range(0,n*n))\n",
      "    #pairs = np.concatenate((pairs, mask_data))\n",
      "    print distinct\n",
      "    counts = np.bincount(pairs, minlength=n*n).reshape(n, n)\n",
      "    counts = counts/counts.sum(axis=1, dtype=float).reshape(n,1)\n",
      "    return np.mat(counts)\n",
      "\n",
      "def StatDist(matrix):\n",
      "    return np.array((matrix**100)[0,:])[0]"
     ],
     "language": "python",
     "metadata": {},
     "outputs": [],
     "prompt_number": 88
    },
    {
     "cell_type": "code",
     "collapsed": false,
     "input": [
      "#Example\n",
      "ts_train = df_ts_states.irow([row]).values[0]\n",
      "transition_matrix = TransitionMatrix(ts_train)\n",
      "stationary_dist = StatDist(transition_matrix)\n",
      "\n",
      "print 'Transition matrix:\\n', transition_matrix\n",
      "print 'Stationary distribution:\\n', stationary_dist"
     ],
     "language": "python",
     "metadata": {},
     "outputs": [],
     "prompt_number": 89
    },
    {
     "cell_type": "code",
     "collapsed": false,
     "input": [
      "def TransitionMatrix(train, n_states=3):\n",
      "    data = train\n",
      "    distinct = set(data)\n",
      "    coding = {j:i for i, j in enumerate(distinct)}\n",
      "    coded_data = np.fromiter((coding[i] for i in data), dtype=np.uint8)\n",
      "    n = n_states\n",
      "    pairs = n * coded_data[:-1] + coded_data[1:]\n",
      "    mask_data = np.array(range(0,n*n))\n",
      "    counts = np.bincount(pairs, minlength=n*n).reshape(n, n)\n",
      "    counts = counts/counts.sum(axis=1, dtype=float).reshape(n,1)\n",
      "    return np.mat(counts)\n",
      "\n",
      "def StatDist(matrix):\n",
      "    return np.array((matrix**100)[0,:])[0]"
     ],
     "language": "python",
     "metadata": {},
     "outputs": [],
     "prompt_number": 90
    },
    {
     "cell_type": "code",
     "collapsed": false,
     "input": [
      "#Example\n",
      "ts_train = df_ts_states.irow([row]).values[0]\n",
      "transition_matrix = TransitionMatrix(ts_train)\n",
      "stationary_dist = StatDist(transition_matrix)\n",
      "\n",
      "print 'Transition matrix:\\n', transition_matrix\n",
      "print 'Stationary distribution:\\n', stationary_dist"
     ],
     "language": "python",
     "metadata": {},
     "outputs": [],
     "prompt_number": 91
    },
    {
     "cell_type": "code",
     "collapsed": false,
     "input": [
      "ts_train"
     ],
     "language": "python",
     "metadata": {},
     "outputs": [],
     "prompt_number": 92
    },
    {
     "cell_type": "code",
     "collapsed": false,
     "input": [
      "def TransitionMatrix(train, n_states=3):\n",
      "    data = train\n",
      "    distinct = set(data)\n",
      "    coding = {j:i for i, j in enumerate(distinct)}\n",
      "    coded_data = np.fromiter((coding[i] for i in data), dtype=np.uint8)\n",
      "    n = n_states\n",
      "    pairs = n * coded_data[:-1] + coded_data[1:]\n",
      "    mask_data = np.array(range(0,n*n))\n",
      "    pairs = np.concatenate((pairs, mask_data))\n",
      "    counts = np.bincount(pairs, minlength=n*n).reshape(n, n)\n",
      "    counts = counts/counts.sum(axis=1, dtype=float).reshape(n,1)\n",
      "    return np.mat(counts)\n",
      "\n",
      "def StatDist(matrix):\n",
      "    return np.array((matrix**100)[0,:])[0]"
     ],
     "language": "python",
     "metadata": {},
     "outputs": [],
     "prompt_number": 93
    },
    {
     "cell_type": "code",
     "collapsed": false,
     "input": [
      "#Example\n",
      "ts_train = df_ts_states.irow([row]).values[0]\n",
      "transition_matrix = TransitionMatrix(ts_train)\n",
      "stationary_dist = StatDist(transition_matrix)\n",
      "\n",
      "print 'Transition matrix:\\n', transition_matrix\n",
      "print 'Stationary distribution:\\n', stationary_dist"
     ],
     "language": "python",
     "metadata": {},
     "outputs": [],
     "prompt_number": 94
    },
    {
     "cell_type": "code",
     "collapsed": false,
     "input": [
      "def TransitionMatrix(train, n_states=3):\n",
      "    data = train\n",
      "    distinct = set(data)\n",
      "    coding = {j:i for i, j in enumerate(distinct)}\n",
      "    coded_data = np.fromiter((coding[i] for i in data), dtype=np.uint8)\n",
      "    n = n_states\n",
      "    pairs = n * coded_data[:-1] + coded_data[1:]\n",
      "    mask_data = np.array(range(0,n*n))\n",
      "    pairs = np.concatenate((pairs, mask_data))\n",
      "    counts = np.bincount(pairs, minlength=n*n).reshape(n, n) - np.ones((n,n))\n",
      "    counts = counts/counts.sum(axis=1, dtype=float).reshape(n,1)\n",
      "    return np.mat(counts)\n",
      "\n",
      "def StatDist(matrix):\n",
      "    return np.array((matrix**100)[0,:])[0]"
     ],
     "language": "python",
     "metadata": {},
     "outputs": [],
     "prompt_number": 95
    },
    {
     "cell_type": "code",
     "collapsed": false,
     "input": [
      "#Example\n",
      "ts_train = df_ts_states.irow([row]).values[0]\n",
      "transition_matrix = TransitionMatrix(ts_train)\n",
      "stationary_dist = StatDist(transition_matrix)\n",
      "\n",
      "print 'Transition matrix:\\n', transition_matrix\n",
      "print 'Stationary distribution:\\n', stationary_dist"
     ],
     "language": "python",
     "metadata": {},
     "outputs": [],
     "prompt_number": 96
    },
    {
     "cell_type": "code",
     "collapsed": false,
     "input": [
      "def TransitionMatrix(train, n_states=3):\n",
      "    data = train\n",
      "    distinct = set(data)\n",
      "    coding = {j:i for i, j in enumerate(distinct)}\n",
      "    coded_data = np.fromiter((coding[i] for i in data), dtype=np.uint8)\n",
      "    n = n_states\n",
      "    pairs = n * coded_data[:-1] + coded_data[1:]\n",
      "    mask_data = np.array(range(0,n*n))\n",
      "    pairs = np.concatenate((pairs, mask_data))\n",
      "    counts = np.bincount(pairs, minlength=n*n).reshape(n, n) - np.ones((n,n))\n",
      "    #counts = counts/counts.sum(axis=1, dtype=float).reshape(n,1)\n",
      "    return np.mat(counts)\n",
      "\n",
      "def StatDist(matrix):\n",
      "    return np.array((matrix**100)[0,:])[0]"
     ],
     "language": "python",
     "metadata": {},
     "outputs": [],
     "prompt_number": 97
    },
    {
     "cell_type": "code",
     "collapsed": false,
     "input": [
      "#Example\n",
      "ts_train = df_ts_states.irow([row]).values[0]\n",
      "transition_matrix = TransitionMatrix(ts_train)\n",
      "stationary_dist = StatDist(transition_matrix)\n",
      "\n",
      "print 'Transition matrix:\\n', transition_matrix\n",
      "print 'Stationary distribution:\\n', stationary_dist"
     ],
     "language": "python",
     "metadata": {},
     "outputs": [],
     "prompt_number": 98
    },
    {
     "cell_type": "code",
     "collapsed": false,
     "input": [
      "def TransitionMatrix(train, n_states=3):\n",
      "    data = train\n",
      "    distinct = set(data)\n",
      "    coding = {j:i for i, j in enumerate(distinct)}\n",
      "    coded_data = np.fromiter((coding[i] for i in data), dtype=np.uint8)\n",
      "    n = n_states\n",
      "    pairs = n * coded_data[:-1] + coded_data[1:]\n",
      "    mask_data = np.array(range(0,n*n))\n",
      "    pairs = np.concatenate((pairs, mask_data))\n",
      "    counts = np.bincount(pairs, minlength=n*n).reshape(n, n) - 1\n",
      "    #counts = counts/counts.sum(axis=1, dtype=float).reshape(n,1)\n",
      "    return np.mat(counts)\n",
      "\n",
      "def StatDist(matrix):\n",
      "    return np.array((matrix**100)[0,:])[0]"
     ],
     "language": "python",
     "metadata": {},
     "outputs": [],
     "prompt_number": 99
    },
    {
     "cell_type": "code",
     "collapsed": false,
     "input": [
      "#Example\n",
      "ts_train = df_ts_states.irow([row]).values[0]\n",
      "transition_matrix = TransitionMatrix(ts_train)\n",
      "stationary_dist = StatDist(transition_matrix)\n",
      "\n",
      "print 'Transition matrix:\\n', transition_matrix\n",
      "print 'Stationary distribution:\\n', stationary_dist"
     ],
     "language": "python",
     "metadata": {},
     "outputs": [],
     "prompt_number": 100
    },
    {
     "cell_type": "code",
     "collapsed": false,
     "input": [
      "def TransitionMatrix(train, n_states=3):\n",
      "    data = train\n",
      "    distinct = set(data)\n",
      "    coding = {j:i for i, j in enumerate(distinct)}\n",
      "    coded_data = np.fromiter((coding[i] for i in data), dtype=np.uint8)\n",
      "    n = n_states\n",
      "    pairs = n * coded_data[:-1] + coded_data[1:]\n",
      "    mask_data = np.array(range(0,n*n))\n",
      "    pairs = np.concatenate((pairs, mask_data))\n",
      "    counts = np.bincount(pairs, minlength=n*n).reshape(n, n)\n",
      "    #counts = counts/counts.sum(axis=1, dtype=float).reshape(n,1)\n",
      "    return np.mat(counts)\n",
      "\n",
      "def StatDist(matrix):\n",
      "    return np.array((matrix**100)[0,:])[0]"
     ],
     "language": "python",
     "metadata": {},
     "outputs": [],
     "prompt_number": 101
    },
    {
     "cell_type": "code",
     "collapsed": false,
     "input": [
      "#Example\n",
      "ts_train = df_ts_states.irow([row]).values[0]\n",
      "transition_matrix = TransitionMatrix(ts_train)\n",
      "stationary_dist = StatDist(transition_matrix)\n",
      "\n",
      "print 'Transition matrix:\\n', transition_matrix\n",
      "print 'Stationary distribution:\\n', stationary_dist"
     ],
     "language": "python",
     "metadata": {},
     "outputs": [],
     "prompt_number": 102
    },
    {
     "cell_type": "code",
     "collapsed": false,
     "input": [
      "def TransitionMatrix(train, n_states=3):\n",
      "    data = train\n",
      "    distinct = set(data)\n",
      "    coding = {j:i for i, j in enumerate(distinct)}\n",
      "    coded_data = np.fromiter((coding[i] for i in data), dtype=np.uint8)\n",
      "    n = n_states\n",
      "    pairs = n * coded_data[:-1] + coded_data[1:]\n",
      "    mask_data = np.array(range(0,n*n))\n",
      "    #pairs = np.concatenate((pairs, mask_data))\n",
      "    counts = np.bincount(pairs, minlength=n*n).reshape(n, n)\n",
      "    #counts = counts/counts.sum(axis=1, dtype=float).reshape(n,1)\n",
      "    return np.mat(counts)\n",
      "\n",
      "def StatDist(matrix):\n",
      "    return np.array((matrix**100)[0,:])[0]"
     ],
     "language": "python",
     "metadata": {},
     "outputs": [],
     "prompt_number": 103
    },
    {
     "cell_type": "code",
     "collapsed": false,
     "input": [
      "#Example\n",
      "ts_train = df_ts_states.irow([row]).values[0]\n",
      "transition_matrix = TransitionMatrix(ts_train)\n",
      "stationary_dist = StatDist(transition_matrix)\n",
      "\n",
      "print 'Transition matrix:\\n', transition_matrix\n",
      "print 'Stationary distribution:\\n', stationary_dist"
     ],
     "language": "python",
     "metadata": {},
     "outputs": [],
     "prompt_number": 104
    },
    {
     "cell_type": "code",
     "collapsed": false,
     "input": [
      "def TransitionMatrix(train, n_states=3):\n",
      "    data = train\n",
      "    distinct = set(data)\n",
      "    coding = {j:i for i, j in enumerate(distinct)}\n",
      "    coded_data = np.fromiter((coding[i] for i in data), dtype=np.uint8)\n",
      "    n = n_states\n",
      "    pairs = n * coded_data[:-1] + coded_data[1:]\n",
      "    mask_data = np.array(range(0,n*n))\n",
      "    #pairs = np.concatenate((pairs, mask_data))\n",
      "    print pairs\n",
      "    counts = np.bincount(pairs, minlength=n*n).reshape(n, n)\n",
      "    #counts = counts/counts.sum(axis=1, dtype=float).reshape(n,1)\n",
      "    return np.mat(counts)\n",
      "\n",
      "def StatDist(matrix):\n",
      "    return np.array((matrix**100)[0,:])[0]"
     ],
     "language": "python",
     "metadata": {},
     "outputs": [],
     "prompt_number": 105
    },
    {
     "cell_type": "code",
     "collapsed": false,
     "input": [
      "#Example\n",
      "ts_train = df_ts_states.irow([row]).values[0]\n",
      "transition_matrix = TransitionMatrix(ts_train)\n",
      "stationary_dist = StatDist(transition_matrix)\n",
      "\n",
      "print 'Transition matrix:\\n', transition_matrix\n",
      "print 'Stationary distribution:\\n', stationary_dist"
     ],
     "language": "python",
     "metadata": {},
     "outputs": [],
     "prompt_number": 106
    },
    {
     "cell_type": "code",
     "collapsed": false,
     "input": [
      "def TransitionMatrix(train, n_states=3):\n",
      "    data = train\n",
      "    distinct = set(data)\n",
      "    coding = {j:i for i, j in enumerate(distinct)}\n",
      "    coded_data = np.fromiter((coding[i] for i in data), dtype=np.uint8)\n",
      "    n = n_states\n",
      "    pairs = n * coded_data[:-1] + coded_data[1:]\n",
      "    mask_data = np.array(range(0,n*n))\n",
      "    pairs = np.concatenate((pairs, mask_data))\n",
      "    print pairs\n",
      "    counts = np.bincount(pairs, minlength=n*n).reshape(n, n)\n",
      "    #counts = counts/counts.sum(axis=1, dtype=float).reshape(n,1)\n",
      "    return np.mat(counts)\n",
      "\n",
      "def StatDist(matrix):\n",
      "    return np.array((matrix**100)[0,:])[0]"
     ],
     "language": "python",
     "metadata": {},
     "outputs": [],
     "prompt_number": 107
    },
    {
     "cell_type": "code",
     "collapsed": false,
     "input": [
      "#Example\n",
      "ts_train = df_ts_states.irow([row]).values[0]\n",
      "transition_matrix = TransitionMatrix(ts_train)\n",
      "stationary_dist = StatDist(transition_matrix)\n",
      "\n",
      "print 'Transition matrix:\\n', transition_matrix\n",
      "print 'Stationary distribution:\\n', stationary_dist"
     ],
     "language": "python",
     "metadata": {},
     "outputs": [],
     "prompt_number": 108
    },
    {
     "cell_type": "code",
     "collapsed": false,
     "input": [
      "def TransitionMatrix(train, n_states=3):\n",
      "    data = train\n",
      "    distinct = set(data)\n",
      "    coding = {j:i for i, j in enumerate(distinct)}\n",
      "    coded_data = np.fromiter((coding[i] for i in data), dtype=np.uint8)\n",
      "    n = n_states\n",
      "    pairs = n * coded_data[:-1] + coded_data[1:]\n",
      "    mask_data = np.array(range(0,n*n))\n",
      "    #pairs = np.concatenate((pairs, mask_data))\n",
      "    print pairs\n",
      "    counts = np.bincount(pairs, minlength=n*n).reshape(n, n)\n",
      "    #counts = counts/counts.sum(axis=1, dtype=float).reshape(n,1)\n",
      "    return np.mat(counts)\n",
      "\n",
      "def StatDist(matrix):\n",
      "    return np.array((matrix**100)[0,:])[0]"
     ],
     "language": "python",
     "metadata": {},
     "outputs": [],
     "prompt_number": 109
    },
    {
     "cell_type": "code",
     "collapsed": false,
     "input": [
      "#Example\n",
      "ts_train = df_ts_states.irow([row]).values[0]\n",
      "transition_matrix = TransitionMatrix(ts_train)\n",
      "stationary_dist = StatDist(transition_matrix)\n",
      "\n",
      "print 'Transition matrix:\\n', transition_matrix\n",
      "print 'Stationary distribution:\\n', stationary_dist"
     ],
     "language": "python",
     "metadata": {},
     "outputs": [],
     "prompt_number": 110
    },
    {
     "cell_type": "code",
     "collapsed": false,
     "input": [
      "def TransitionMatrix(train, n_states=3):\n",
      "    data = train\n",
      "    distinct = set(data)\n",
      "    coding = {j:i for i, j in enumerate(distinct)}\n",
      "    coded_data = np.fromiter((coding[i] for i in data), dtype=np.uint8)\n",
      "    n = n_states\n",
      "    pairs = 1 * coded_data[:-1] + n * coded_data[1:]\n",
      "    mask_data = np.array(range(0,n*n))\n",
      "    #pairs = np.concatenate((pairs, mask_data))\n",
      "    print pairs\n",
      "    counts = np.bincount(pairs, minlength=n*n).reshape(n, n)\n",
      "    #counts = counts/counts.sum(axis=1, dtype=float).reshape(n,1)\n",
      "    return np.mat(counts)\n",
      "\n",
      "def StatDist(matrix):\n",
      "    return np.array((matrix**100)[0,:])[0]"
     ],
     "language": "python",
     "metadata": {},
     "outputs": [],
     "prompt_number": 111
    },
    {
     "cell_type": "code",
     "collapsed": false,
     "input": [
      "#Example\n",
      "ts_train = df_ts_states.irow([row]).values[0]\n",
      "transition_matrix = TransitionMatrix(ts_train)\n",
      "stationary_dist = StatDist(transition_matrix)\n",
      "\n",
      "print 'Transition matrix:\\n', transition_matrix\n",
      "print 'Stationary distribution:\\n', stationary_dist"
     ],
     "language": "python",
     "metadata": {},
     "outputs": [],
     "prompt_number": 112
    },
    {
     "cell_type": "code",
     "collapsed": false,
     "input": [
      "def TransitionMatrix(train, n_states=3):\n",
      "    data = train\n",
      "    distinct = set(data)\n",
      "    coding = {j:i for i, j in enumerate(distinct)}\n",
      "    coded_data = np.fromiter((coding[i] for i in data), dtype=np.uint8)\n",
      "    n = n_states\n",
      "    pairs = n * coded_data[:-1] + coded_data[1:]\n",
      "    mask_data = np.array(range(0,n*n))\n",
      "    #pairs = np.concatenate((pairs, mask_data))\n",
      "    print pairs\n",
      "    counts = np.bincount(pairs, minlength=n*n).reshape(n, n)\n",
      "    #counts = counts/counts.sum(axis=1, dtype=float).reshape(n,1)\n",
      "    return np.mat(counts)\n",
      "\n",
      "def StatDist(matrix):\n",
      "    return np.array((matrix**100)[0,:])[0]"
     ],
     "language": "python",
     "metadata": {},
     "outputs": [],
     "prompt_number": 113
    },
    {
     "cell_type": "code",
     "collapsed": false,
     "input": [
      "#Example\n",
      "ts_train = df_ts_states.irow([row]).values[0]\n",
      "transition_matrix = TransitionMatrix(ts_train)\n",
      "stationary_dist = StatDist(transition_matrix)\n",
      "\n",
      "print 'Transition matrix:\\n', transition_matrix\n",
      "print 'Stationary distribution:\\n', stationary_dist"
     ],
     "language": "python",
     "metadata": {},
     "outputs": [],
     "prompt_number": 114
    },
    {
     "cell_type": "code",
     "collapsed": false,
     "input": [
      "ts_train"
     ],
     "language": "python",
     "metadata": {},
     "outputs": [],
     "prompt_number": 115
    },
    {
     "cell_type": "code",
     "collapsed": false,
     "input": [
      "#Example\n",
      "row = 48\n",
      "figure(figsize=(15, 5))\n",
      "subplot(121)\n",
      "plt.plot(df_time_series.irow([row]).values[0])\n",
      "subplot(122)\n",
      "plt.plot(df_ts_states.irow([row]).values[0])"
     ],
     "language": "python",
     "metadata": {},
     "outputs": [],
     "prompt_number": 116
    },
    {
     "cell_type": "code",
     "collapsed": false,
     "input": [
      "def TransitionMatrix(train):\n",
      "    data = train\n",
      "    distinct = set(data)\n",
      "    coding = {j:i for i, j in enumerate(distinct)}\n",
      "    coded_data = np.fromiter((coding[i] for i in data), dtype=np.uint8)\n",
      "    n = len(distinct)\n",
      "    pairs = n * coded_data[:-1] + coded_data[1:]\n",
      "    counts = np.bincount(pairs, minlength=n*n).reshape(n, n)\n",
      "    counts = counts/counts.sum(axis=1, dtype=float).reshape(n,1)\n",
      "    return np.mat(counts)\n",
      "\n",
      "def StatDist(matrix):\n",
      "    return np.array((matrix**100)[0,:])[0]"
     ],
     "language": "python",
     "metadata": {},
     "outputs": [],
     "prompt_number": 117
    },
    {
     "cell_type": "code",
     "collapsed": false,
     "input": [
      "#Example\n",
      "ts_train = df_ts_states.irow([row]).values[0]\n",
      "transition_matrix = TransitionMatrix(ts_train)\n",
      "stationary_dist = StatDist(transition_matrix)\n",
      "\n",
      "print 'Transition matrix:\\n', transition_matrix\n",
      "print 'Stationary distribution:\\n', stationary_dist"
     ],
     "language": "python",
     "metadata": {},
     "outputs": [],
     "prompt_number": 118
    },
    {
     "cell_type": "code",
     "collapsed": false,
     "input": [
      "#Example\n",
      "row = 4\n",
      "figure(figsize=(15, 5))\n",
      "subplot(121)\n",
      "plt.plot(df_time_series.irow([row]).values[0])\n",
      "subplot(122)\n",
      "plt.plot(df_ts_states.irow([row]).values[0])"
     ],
     "language": "python",
     "metadata": {},
     "outputs": [],
     "prompt_number": 119
    },
    {
     "cell_type": "code",
     "collapsed": false,
     "input": [
      "#Example\n",
      "ts_train = df_ts_states.irow([row]).values[0]\n",
      "transition_matrix = TransitionMatrix(ts_train)\n",
      "stationary_dist = StatDist(transition_matrix)\n",
      "\n",
      "print 'Transition matrix:\\n', transition_matrix\n",
      "print 'Stationary distribution:\\n', stationary_dist"
     ],
     "language": "python",
     "metadata": {},
     "outputs": [],
     "prompt_number": 120
    },
    {
     "cell_type": "code",
     "collapsed": false,
     "input": [
      "def TransitionMatrix(train):\n",
      "    data = train\n",
      "    distinct = set(data)\n",
      "    print distinct\n",
      "    coding = {j:i for i, j in enumerate(distinct)}\n",
      "    coded_data = np.fromiter((coding[i] for i in data), dtype=np.uint8)\n",
      "    n = len(distinct)\n",
      "    pairs = n * coded_data[:-1] + coded_data[1:]\n",
      "    counts = np.bincount(pairs, minlength=n*n).reshape(n, n)\n",
      "    counts = counts/counts.sum(axis=1, dtype=float).reshape(n,1)\n",
      "    return np.mat(counts)\n",
      "\n",
      "def StatDist(matrix):\n",
      "    return np.array((matrix**100)[0,:])[0]"
     ],
     "language": "python",
     "metadata": {},
     "outputs": [],
     "prompt_number": 121
    },
    {
     "cell_type": "code",
     "collapsed": false,
     "input": [
      "#Example\n",
      "ts_train = df_ts_states.irow([row]).values[0]\n",
      "transition_matrix = TransitionMatrix(ts_train)\n",
      "stationary_dist = StatDist(transition_matrix)\n",
      "\n",
      "print 'Transition matrix:\\n', transition_matrix\n",
      "print 'Stationary distribution:\\n', stationary_dist"
     ],
     "language": "python",
     "metadata": {},
     "outputs": [],
     "prompt_number": 122
    },
    {
     "cell_type": "code",
     "collapsed": false,
     "input": [
      "def TransitionMatrix(train):\n",
      "    data = train\n",
      "    distinct = set(data)\n",
      "    \n",
      "    coding = {j:i for i, j in enumerate(distinct)}\n",
      "    coded_data = np.fromiter((coding[i] for i in data), dtype=np.uint8)\n",
      "    n = len(distinct)\n",
      "    pairs = n * coded_data[:-1] + coded_data[1:]\n",
      "    counts = np.bincount(pairs, minlength=n*n).reshape(n, n)\n",
      "    #counts = counts/counts.sum(axis=1, dtype=float).reshape(n,1)\n",
      "    return np.mat(counts)\n",
      "\n",
      "def StatDist(matrix):\n",
      "    return np.array((matrix**100)[0,:])[0]"
     ],
     "language": "python",
     "metadata": {},
     "outputs": [],
     "prompt_number": 123
    },
    {
     "cell_type": "code",
     "collapsed": false,
     "input": [
      "#Example\n",
      "ts_train = df_ts_states.irow([row]).values[0]\n",
      "transition_matrix = TransitionMatrix(ts_train)\n",
      "stationary_dist = StatDist(transition_matrix)\n",
      "\n",
      "print 'Transition matrix:\\n', transition_matrix\n",
      "print 'Stationary distribution:\\n', stationary_dist"
     ],
     "language": "python",
     "metadata": {},
     "outputs": [],
     "prompt_number": 124
    },
    {
     "cell_type": "code",
     "collapsed": false,
     "input": [
      "def TransitionMatrix(train):\n",
      "    data = train\n",
      "    distinct = set(data)\n",
      "    #distinct = []\n",
      "    coding = {j:i for i, j in enumerate(distinct)}\n",
      "    coded_data = np.fromiter((coding[i] for i in data), dtype=np.uint8)\n",
      "    n = len(distinct)\n",
      "    pairs = n * coded_data[:-1] + coded_data[1:]\n",
      "    counts = np.bincount(pairs, minlength=n*n).reshape(n, n)\n",
      "    #counts = counts/counts.sum(axis=1, dtype=float).reshape(n,1)\n",
      "    return np.mat(counts)\n",
      "\n",
      "def StatDist(matrix):\n",
      "    return np.array((matrix**100)[0,:])[0]"
     ],
     "language": "python",
     "metadata": {},
     "outputs": [],
     "prompt_number": 125
    },
    {
     "cell_type": "code",
     "collapsed": false,
     "input": [
      "#Example\n",
      "ts_train = df_ts_states.irow([row]).values[0]\n",
      "transition_matrix = TransitionMatrix(ts_train)\n",
      "stationary_dist = StatDist(transition_matrix)\n",
      "\n",
      "print 'Transition matrix:\\n', transition_matrix\n",
      "print 'Stationary distribution:\\n', stationary_dist"
     ],
     "language": "python",
     "metadata": {},
     "outputs": [],
     "prompt_number": 126
    },
    {
     "cell_type": "code",
     "collapsed": false,
     "input": [
      "def TransitionMatrix(train):\n",
      "    data = train\n",
      "    distinct = set(data)\n",
      "    #distinct = []\n",
      "    print distinct\n",
      "    coding = {j:i for i, j in enumerate(distinct)}\n",
      "    coded_data = np.fromiter((coding[i] for i in data), dtype=np.uint8)\n",
      "    n = len(distinct)\n",
      "    pairs = n * coded_data[:-1] + coded_data[1:]\n",
      "    counts = np.bincount(pairs, minlength=n*n).reshape(n, n)\n",
      "    #counts = counts/counts.sum(axis=1, dtype=float).reshape(n,1)\n",
      "    return np.mat(counts)\n",
      "\n",
      "def StatDist(matrix):\n",
      "    return np.array((matrix**100)[0,:])[0]"
     ],
     "language": "python",
     "metadata": {},
     "outputs": [],
     "prompt_number": 127
    },
    {
     "cell_type": "code",
     "collapsed": false,
     "input": [
      "#Example\n",
      "ts_train = df_ts_states.irow([row]).values[0]\n",
      "transition_matrix = TransitionMatrix(ts_train)\n",
      "stationary_dist = StatDist(transition_matrix)\n",
      "\n",
      "print 'Transition matrix:\\n', transition_matrix\n",
      "print 'Stationary distribution:\\n', stationary_dist"
     ],
     "language": "python",
     "metadata": {},
     "outputs": [],
     "prompt_number": 128
    },
    {
     "cell_type": "code",
     "collapsed": false,
     "input": [
      "def TransitionMatrix(train):\n",
      "    data = train\n",
      "    distinct = set(data)\n",
      "    #distinct = []\n",
      "    print type(distinct)\n",
      "    coding = {j:i for i, j in enumerate(distinct)}\n",
      "    coded_data = np.fromiter((coding[i] for i in data), dtype=np.uint8)\n",
      "    n = len(distinct)\n",
      "    pairs = n * coded_data[:-1] + coded_data[1:]\n",
      "    counts = np.bincount(pairs, minlength=n*n).reshape(n, n)\n",
      "    #counts = counts/counts.sum(axis=1, dtype=float).reshape(n,1)\n",
      "    return np.mat(counts)\n",
      "\n",
      "def StatDist(matrix):\n",
      "    return np.array((matrix**100)[0,:])[0]"
     ],
     "language": "python",
     "metadata": {},
     "outputs": [],
     "prompt_number": 129
    },
    {
     "cell_type": "code",
     "collapsed": false,
     "input": [
      "#Example\n",
      "ts_train = df_ts_states.irow([row]).values[0]\n",
      "transition_matrix = TransitionMatrix(ts_train)\n",
      "stationary_dist = StatDist(transition_matrix)\n",
      "\n",
      "print 'Transition matrix:\\n', transition_matrix\n",
      "print 'Stationary distribution:\\n', stationary_dist"
     ],
     "language": "python",
     "metadata": {},
     "outputs": [],
     "prompt_number": 130
    },
    {
     "cell_type": "code",
     "collapsed": false,
     "input": [
      "def TransitionMatrix(train):\n",
      "    data = train\n",
      "    distinct = set(data)\n",
      "    distinct = set([0,1,2])\n",
      "    print type(distinct)\n",
      "    coding = {j:i for i, j in enumerate(distinct)}\n",
      "    coded_data = np.fromiter((coding[i] for i in data), dtype=np.uint8)\n",
      "    n = len(distinct)\n",
      "    pairs = n * coded_data[:-1] + coded_data[1:]\n",
      "    counts = np.bincount(pairs, minlength=n*n).reshape(n, n)\n",
      "    #counts = counts/counts.sum(axis=1, dtype=float).reshape(n,1)\n",
      "    return np.mat(counts)\n",
      "\n",
      "def StatDist(matrix):\n",
      "    return np.array((matrix**100)[0,:])[0]"
     ],
     "language": "python",
     "metadata": {},
     "outputs": [],
     "prompt_number": 131
    },
    {
     "cell_type": "code",
     "collapsed": false,
     "input": [
      "#Example\n",
      "ts_train = df_ts_states.irow([row]).values[0]\n",
      "transition_matrix = TransitionMatrix(ts_train)\n",
      "stationary_dist = StatDist(transition_matrix)\n",
      "\n",
      "print 'Transition matrix:\\n', transition_matrix\n",
      "print 'Stationary distribution:\\n', stationary_dist"
     ],
     "language": "python",
     "metadata": {},
     "outputs": [],
     "prompt_number": 132
    },
    {
     "cell_type": "code",
     "collapsed": false,
     "input": [
      "def TransitionMatrix(train):\n",
      "    data = train\n",
      "    distinct = set(data)\n",
      "    distinct = set([0,1,2])\n",
      "    print type(distinct)\n",
      "    coding = {j:i for i, j in enumerate(distinct)}\n",
      "    coded_data = np.fromiter((coding[i] for i in data), dtype=np.uint8)\n",
      "    n = len(distinct)\n",
      "    pairs = n * coded_data[:-1] + coded_data[1:]\n",
      "    counts = np.bincount(pairs, minlength=n*n).reshape(n, n)\n",
      "    counts = counts/counts.sum(axis=1, dtype=float).reshape(n,1)\n",
      "    return np.mat(counts)\n",
      "\n",
      "def StatDist(matrix):\n",
      "    return np.array((matrix**100)[0,:])[0]"
     ],
     "language": "python",
     "metadata": {},
     "outputs": [],
     "prompt_number": 133
    },
    {
     "cell_type": "code",
     "collapsed": false,
     "input": [
      "#Example\n",
      "ts_train = df_ts_states.irow([row]).values[0]\n",
      "transition_matrix = TransitionMatrix(ts_train)\n",
      "stationary_dist = StatDist(transition_matrix)\n",
      "\n",
      "print 'Transition matrix:\\n', transition_matrix\n",
      "print 'Stationary distribution:\\n', stationary_dist"
     ],
     "language": "python",
     "metadata": {},
     "outputs": [],
     "prompt_number": 134
    },
    {
     "cell_type": "code",
     "collapsed": false,
     "input": [
      "def TransitionMatrix(train):\n",
      "    data = train\n",
      "    #distinct = set(data)\n",
      "    distinct = set([0,1,2])\n",
      "    coding = {j:i for i, j in enumerate(distinct)}\n",
      "    coded_data = np.fromiter((coding[i] for i in data), dtype=np.uint8)\n",
      "    n = len(distinct)\n",
      "    pairs = n * coded_data[:-1] + coded_data[1:]\n",
      "    counts = np.bincount(pairs, minlength=n*n).reshape(n, n)\n",
      "    print counts.sum(axis=1, dtype=float).reshape(n,1)\n",
      "    #counts = counts/counts.sum(axis=1, dtype=float).reshape(n,1)\n",
      "    return np.mat(counts)\n",
      "\n",
      "def StatDist(matrix):\n",
      "    return np.array((matrix**100)[0,:])[0]"
     ],
     "language": "python",
     "metadata": {},
     "outputs": [],
     "prompt_number": 135
    },
    {
     "cell_type": "code",
     "collapsed": false,
     "input": [
      "#Example\n",
      "ts_train = df_ts_states.irow([row]).values[0]\n",
      "transition_matrix = TransitionMatrix(ts_train)\n",
      "stationary_dist = StatDist(transition_matrix)\n",
      "\n",
      "print 'Transition matrix:\\n', transition_matrix\n",
      "print 'Stationary distribution:\\n', stationary_dist"
     ],
     "language": "python",
     "metadata": {},
     "outputs": [],
     "prompt_number": 136
    },
    {
     "cell_type": "code",
     "collapsed": false,
     "input": [
      "def TransitionMatrix(train):\n",
      "    data = train\n",
      "    #distinct = set(data)\n",
      "    distinct = set([0,1,2])\n",
      "    coding = {j:i for i, j in enumerate(distinct)}\n",
      "    coded_data = np.fromiter((coding[i] for i in data), dtype=np.uint8)\n",
      "    n = len(distinct)\n",
      "    pairs = n * coded_data[:-1] + coded_data[1:]\n",
      "    counts = np.bincount(pairs, minlength=n*n).reshape(n, n)\n",
      "    print counts.sum(axis=1, dtype=float).reshape(n,1) + counts.sum(axis=1, dtype=float).reshape(n,1)\n",
      "    #counts = counts/counts.sum(axis=1, dtype=float).reshape(n,1)\n",
      "    return np.mat(counts)\n",
      "\n",
      "def StatDist(matrix):\n",
      "    return np.array((matrix**100)[0,:])[0]"
     ],
     "language": "python",
     "metadata": {},
     "outputs": [],
     "prompt_number": 137
    },
    {
     "cell_type": "code",
     "collapsed": false,
     "input": [
      "#Example\n",
      "ts_train = df_ts_states.irow([row]).values[0]\n",
      "transition_matrix = TransitionMatrix(ts_train)\n",
      "stationary_dist = StatDist(transition_matrix)\n",
      "\n",
      "print 'Transition matrix:\\n', transition_matrix\n",
      "print 'Stationary distribution:\\n', stationary_dist"
     ],
     "language": "python",
     "metadata": {},
     "outputs": [],
     "prompt_number": 138
    },
    {
     "cell_type": "code",
     "collapsed": false,
     "input": [
      "def TransitionMatrix(train):\n",
      "    data = train\n",
      "    #distinct = set(data)\n",
      "    distinct = set([0,1,2])\n",
      "    coding = {j:i for i, j in enumerate(distinct)}\n",
      "    coded_data = np.fromiter((coding[i] for i in data), dtype=np.uint8)\n",
      "    n = len(distinct)\n",
      "    pairs = n * coded_data[:-1] + coded_data[1:]\n",
      "    counts = np.bincount(pairs, minlength=n*n).reshape(n, n)\n",
      "    print counts.sum(axis=1, dtype=float).reshape(n,1) + (counts.sum(axis=1, dtype=float).reshape(n,1)==0)*1\n",
      "    #counts = counts/counts.sum(axis=1, dtype=float).reshape(n,1)\n",
      "    return np.mat(counts)\n",
      "\n",
      "def StatDist(matrix):\n",
      "    return np.array((matrix**100)[0,:])[0]"
     ],
     "language": "python",
     "metadata": {},
     "outputs": [],
     "prompt_number": 139
    },
    {
     "cell_type": "code",
     "collapsed": false,
     "input": [
      "#Example\n",
      "ts_train = df_ts_states.irow([row]).values[0]\n",
      "transition_matrix = TransitionMatrix(ts_train)\n",
      "stationary_dist = StatDist(transition_matrix)\n",
      "\n",
      "print 'Transition matrix:\\n', transition_matrix\n",
      "print 'Stationary distribution:\\n', stationary_dist"
     ],
     "language": "python",
     "metadata": {},
     "outputs": [],
     "prompt_number": 140
    },
    {
     "cell_type": "code",
     "collapsed": false,
     "input": [
      "def TransitionMatrix(train):\n",
      "    data = train\n",
      "    #distinct = set(data)\n",
      "    distinct = set([0,1,2])\n",
      "    coding = {j:i for i, j in enumerate(distinct)}\n",
      "    coded_data = np.fromiter((coding[i] for i in data), dtype=np.uint8)\n",
      "    n = len(distinct)\n",
      "    pairs = n * coded_data[:-1] + coded_data[1:]\n",
      "    counts = np.bincount(pairs, minlength=n*n).reshape(n, n)\n",
      "    row_sums = counts.sum(axis=1, dtype=float).reshape(n,1) + (counts.sum(axis=1, dtype=float).reshape(n,1)==0)*1\n",
      "    counts = counts/row_sums\n",
      "    return np.mat(counts)\n",
      "\n",
      "def StatDist(matrix):\n",
      "    return np.array((matrix**100)[0,:])[0]"
     ],
     "language": "python",
     "metadata": {},
     "outputs": [],
     "prompt_number": 141
    },
    {
     "cell_type": "code",
     "collapsed": false,
     "input": [
      "#Example\n",
      "ts_train = df_ts_states.irow([row]).values[0]\n",
      "transition_matrix = TransitionMatrix(ts_train)\n",
      "stationary_dist = StatDist(transition_matrix)\n",
      "\n",
      "print 'Transition matrix:\\n', transition_matrix\n",
      "print 'Stationary distribution:\\n', stationary_dist"
     ],
     "language": "python",
     "metadata": {},
     "outputs": [],
     "prompt_number": 142
    },
    {
     "cell_type": "code",
     "collapsed": false,
     "input": [
      "%%time\n",
      "dict_matrixes = {}\n",
      "dict_dists = {}\n",
      "\n",
      "for row in range(0, df_ts_states.shape[0]):\n",
      "    train = df_ts_states.irow([row]).values[0][:70]\n",
      "    test = df_ts_states.irow([row]).values[0][70:]\n",
      "\n",
      "    transition_matrix = TransitionMatrix(train)\n",
      "    stationary_dist = StatDist(transition_matrix)\n",
      "    \n",
      "    dict_matrixes[row] = transition_matrix\n",
      "    dict_dists[row] = stationary_dist"
     ],
     "language": "python",
     "metadata": {},
     "outputs": [],
     "prompt_number": 143
    },
    {
     "cell_type": "code",
     "collapsed": false,
     "input": [
      "#Example\n",
      "row = 1\n",
      "figure(figsize=(15, 5))\n",
      "subplot(121)\n",
      "plt.plot(df_time_series.irow([row]).values[0])\n",
      "subplot(122)\n",
      "plt.plot(df_ts_states.irow([row]).values[0])"
     ],
     "language": "python",
     "metadata": {},
     "outputs": [],
     "prompt_number": 144
    },
    {
     "cell_type": "code",
     "collapsed": false,
     "input": [
      "#Example\n",
      "ts_train = df_ts_states.irow([row]).values[0]\n",
      "transition_matrix = TransitionMatrix(ts_train)\n",
      "stationary_dist = StatDist(transition_matrix)\n",
      "\n",
      "print 'Transition matrix:\\n', transition_matrix\n",
      "print 'Stationary distribution:\\n', stationary_dist"
     ],
     "language": "python",
     "metadata": {},
     "outputs": [],
     "prompt_number": 145
    },
    {
     "cell_type": "code",
     "collapsed": false,
     "input": [
      "test.sum(axis=0)"
     ],
     "language": "python",
     "metadata": {},
     "outputs": [],
     "prompt_number": 146
    },
    {
     "cell_type": "code",
     "collapsed": false,
     "input": [
      "test.sum(axis=1)"
     ],
     "language": "python",
     "metadata": {},
     "outputs": [],
     "prompt_number": 147
    },
    {
     "cell_type": "code",
     "collapsed": false,
     "input": [
      "test.sum()"
     ],
     "language": "python",
     "metadata": {},
     "outputs": [],
     "prompt_number": 148
    },
    {
     "cell_type": "code",
     "collapsed": false,
     "input": [
      "%%time\n",
      "dict_matrixes = {}\n",
      "dict_dists = {}\n",
      "\n",
      "for row in range(0, df_ts_states.shape[0]):\n",
      "    train = df_ts_states.irow([row]).values[0][:70]\n",
      "    test = df_ts_states.irow([row]).values[0][70:]\n",
      "\n",
      "    transition_matrix = TransitionMatrix(train)\n",
      "    stationary_dist = StatDist(transition_matrix)\n",
      "    \n",
      "    dict_matrixes[row] = transition_matrix\n",
      "    dict_dists[row] = stationary_dist\n",
      "    \n",
      "    dict_test_sum = test.sum(axis=0)"
     ],
     "language": "python",
     "metadata": {},
     "outputs": [],
     "prompt_number": 149
    },
    {
     "cell_type": "code",
     "collapsed": false,
     "input": [
      "figure(figsize=(15, 5))\n",
      "subplot(121)\n",
      "plt.hist(dict_test_sum.itemes())"
     ],
     "language": "python",
     "metadata": {},
     "outputs": [],
     "prompt_number": 150
    },
    {
     "cell_type": "code",
     "collapsed": false,
     "input": [
      "figure(figsize=(15, 5))\n",
      "subplot(121)\n",
      "plt.hist(dict_test_sum.items())"
     ],
     "language": "python",
     "metadata": {},
     "outputs": [],
     "prompt_number": 151
    },
    {
     "cell_type": "code",
     "collapsed": false,
     "input": [
      "%%time\n",
      "dict_matrixes = {}\n",
      "dict_dists = {}\n",
      "\n",
      "for row in range(0, df_ts_states.shape[0]):\n",
      "    train = df_ts_states.irow([row]).values[0][:70]\n",
      "    test = df_ts_states.irow([row]).values[0][70:]\n",
      "\n",
      "    transition_matrix = TransitionMatrix(train)\n",
      "    stationary_dist = StatDist(transition_matrix)\n",
      "    \n",
      "    dict_matrixes[row] = transition_matrix\n",
      "    dict_dists[row] = stationary_dist\n",
      "    \n",
      "    dict_test_sum[row] = test.sum(axis=0)"
     ],
     "language": "python",
     "metadata": {},
     "outputs": [],
     "prompt_number": 152
    },
    {
     "cell_type": "code",
     "collapsed": false,
     "input": [
      "test"
     ],
     "language": "python",
     "metadata": {},
     "outputs": [],
     "prompt_number": 153
    },
    {
     "cell_type": "code",
     "collapsed": false,
     "input": [
      "test.sum()"
     ],
     "language": "python",
     "metadata": {},
     "outputs": [],
     "prompt_number": 154
    },
    {
     "cell_type": "code",
     "collapsed": false,
     "input": [
      "%%time\n",
      "dict_matrixes = {}\n",
      "dict_dists = {}\n",
      "\n",
      "for row in range(0, df_ts_states.shape[0]):\n",
      "    train = df_ts_states.irow([row]).values[0][:70]\n",
      "    test = df_ts_states.irow([row]).values[0][70:]\n",
      "\n",
      "    transition_matrix = TransitionMatrix(train)\n",
      "    stationary_dist = StatDist(transition_matrix)\n",
      "    \n",
      "    dict_matrixes[row] = transition_matrix\n",
      "    dict_dists[row] = stationary_dist\n",
      "    \n",
      "    dict_test_sum[row] = test.sum()"
     ],
     "language": "python",
     "metadata": {},
     "outputs": [],
     "prompt_number": 155
    },
    {
     "cell_type": "code",
     "collapsed": false,
     "input": [
      "%%time\n",
      "dict_matrixes = {}\n",
      "dict_dists = {}\n",
      "dict_test_sum = {}\n",
      "\n",
      "for row in range(0, df_ts_states.shape[0]):\n",
      "    train = df_ts_states.irow([row]).values[0][:70]\n",
      "    test = df_ts_states.irow([row]).values[0][70:]\n",
      "\n",
      "    transition_matrix = TransitionMatrix(train)\n",
      "    stationary_dist = StatDist(transition_matrix)\n",
      "    \n",
      "    dict_matrixes[row] = transition_matrix\n",
      "    dict_dists[row] = stationary_dist\n",
      "    \n",
      "    dict_test_sum[row] = test.sum()"
     ],
     "language": "python",
     "metadata": {},
     "outputs": [],
     "prompt_number": 156
    },
    {
     "cell_type": "code",
     "collapsed": false,
     "input": [
      "figure(figsize=(15, 5))\n",
      "subplot(121)\n",
      "plt.hist(dict_test_sum.items())"
     ],
     "language": "python",
     "metadata": {},
     "outputs": [],
     "prompt_number": 157
    },
    {
     "cell_type": "code",
     "collapsed": false,
     "input": [
      "test = df_ts_states.irow([row]).values[0][70:]\n",
      "test"
     ],
     "language": "python",
     "metadata": {},
     "outputs": [],
     "prompt_number": 158
    },
    {
     "cell_type": "code",
     "collapsed": false,
     "input": [
      "test = df_ts_states.irow([row]).values[0][70:]\n",
      "test.sum()"
     ],
     "language": "python",
     "metadata": {},
     "outputs": [],
     "prompt_number": 159
    },
    {
     "cell_type": "code",
     "collapsed": false,
     "input": [
      "test = df_ts_states.irow([0]).values[0][70:]\n",
      "test.sum()"
     ],
     "language": "python",
     "metadata": {},
     "outputs": [],
     "prompt_number": 160
    },
    {
     "cell_type": "code",
     "collapsed": false,
     "input": [
      "test = df_ts_states.irow([0]).values[0][70:]\n",
      "test.sum()"
     ],
     "language": "python",
     "metadata": {},
     "outputs": [],
     "prompt_number": 161
    },
    {
     "cell_type": "code",
     "collapsed": false,
     "input": [
      "test = df_ts_states.irow([0]).values[0][70:]\n",
      "test.sum()"
     ],
     "language": "python",
     "metadata": {},
     "outputs": [],
     "prompt_number": 162
    },
    {
     "cell_type": "code",
     "collapsed": false,
     "input": [
      "dict_test_sum[1]"
     ],
     "language": "python",
     "metadata": {},
     "outputs": [],
     "prompt_number": 163
    },
    {
     "cell_type": "code",
     "collapsed": false,
     "input": [
      "dict_test_sum[0]"
     ],
     "language": "python",
     "metadata": {},
     "outputs": [],
     "prompt_number": 164
    },
    {
     "cell_type": "code",
     "collapsed": false,
     "input": [
      "dict_test_sum"
     ],
     "language": "python",
     "metadata": {},
     "outputs": [],
     "prompt_number": 165
    },
    {
     "cell_type": "code",
     "collapsed": false,
     "input": [
      "figure(figsize=(15, 5))\n",
      "subplot(121)\n",
      "plt.hist(dict_test_sum.items())"
     ],
     "language": "python",
     "metadata": {},
     "outputs": [],
     "prompt_number": 166
    },
    {
     "cell_type": "code",
     "collapsed": false,
     "input": [
      "%%time\n",
      "dict_matrixes = {}\n",
      "dict_dists = {}\n",
      "test_sum = []\n",
      "\n",
      "for row in range(0, df_ts_states.shape[0]):\n",
      "    train = df_ts_states.irow([row]).values[0][:70]\n",
      "    test = df_ts_states.irow([row]).values[0][70:]\n",
      "\n",
      "    transition_matrix = TransitionMatrix(train)\n",
      "    stationary_dist = StatDist(transition_matrix)\n",
      "    \n",
      "    dict_matrixes[row] = transition_matrix\n",
      "    dict_dists[row] = stationary_dist\n",
      "    \n",
      "    test_sum.append(test.sum())"
     ],
     "language": "python",
     "metadata": {},
     "outputs": [],
     "prompt_number": 167
    },
    {
     "cell_type": "code",
     "collapsed": false,
     "input": [
      "test_sum"
     ],
     "language": "python",
     "metadata": {},
     "outputs": [],
     "prompt_number": 168
    },
    {
     "cell_type": "code",
     "collapsed": false,
     "input": [
      "figure(figsize=(15, 5))\n",
      "subplot(121)\n",
      "plt.hist(test_sum)"
     ],
     "language": "python",
     "metadata": {},
     "outputs": [],
     "prompt_number": 169
    },
    {
     "cell_type": "code",
     "collapsed": false,
     "input": [
      "%%time\n",
      "dict_matrixes = {}\n",
      "dict_dists = {}\n",
      "test_sum = []\n",
      "\n",
      "for row in range(0, df_ts_states.shape[0]):\n",
      "    train = df_ts_states.irow([row]).values[0][:70]\n",
      "    test = df_ts_states.irow([row]).values[0][70:]\n",
      "\n",
      "    transition_matrix = TransitionMatrix(train)\n",
      "    stationary_dist = StatDist(transition_matrix)\n",
      "    \n",
      "    dict_matrixes[row] = transition_matrix\n",
      "    dict_dists[row] = stationary_dist\n",
      "    \n",
      "    test_sum.append(((test>0)*1).sum())"
     ],
     "language": "python",
     "metadata": {},
     "outputs": [],
     "prompt_number": 170
    },
    {
     "cell_type": "code",
     "collapsed": false,
     "input": [
      "figure(figsize=(15, 5))\n",
      "subplot(121)\n",
      "plt.hist(test_sum)"
     ],
     "language": "python",
     "metadata": {},
     "outputs": [],
     "prompt_number": 171
    },
    {
     "cell_type": "code",
     "collapsed": false,
     "input": [
      "figure(figsize=(15, 5))\n",
      "subplot(121)\n",
      "plt.hist(test_sum, bins=20)"
     ],
     "language": "python",
     "metadata": {},
     "outputs": [],
     "prompt_number": 172
    },
    {
     "cell_type": "code",
     "collapsed": false,
     "input": [
      "figure(figsize=(15, 5))\n",
      "subplot(121)\n",
      "plt.hist(test_sum, bins=10)"
     ],
     "language": "python",
     "metadata": {},
     "outputs": [],
     "prompt_number": 173
    },
    {
     "cell_type": "code",
     "collapsed": false,
     "input": [
      "figure(figsize=(15, 5))\n",
      "subplot(121)\n",
      "plt.hist(test_sum, bins=10)\n",
      "plt.title('Number of the non zero values in test')"
     ],
     "language": "python",
     "metadata": {},
     "outputs": [],
     "prompt_number": 174
    },
    {
     "cell_type": "code",
     "collapsed": false,
     "input": [
      "%%time\n",
      "dict_matrixes = {}\n",
      "stat_dists = []\n",
      "test_sum = []\n",
      "\n",
      "for row in range(0, df_ts_states.shape[0]):\n",
      "    train = df_ts_states.irow([row]).values[0][:70]\n",
      "    test = df_ts_states.irow([row]).values[0][70:]\n",
      "\n",
      "    transition_matrix = TransitionMatrix(train)\n",
      "    stationary_dist = StatDist(transition_matrix)\n",
      "    \n",
      "    dict_matrixes[row] = transition_matrix\n",
      "    stat_dists.append(stationary_dist)\n",
      "    \n",
      "    test_sum.append(((test>0)*1).sum())\n",
      "    \n",
      "stat_dists = np.array(stat_dists)\n",
      "test_sum = np.array(test_sum)"
     ],
     "language": "python",
     "metadata": {},
     "outputs": [],
     "prompt_number": 175
    },
    {
     "cell_type": "code",
     "collapsed": false,
     "input": [
      "stat_dists"
     ],
     "language": "python",
     "metadata": {},
     "outputs": [],
     "prompt_number": 176
    },
    {
     "cell_type": "code",
     "collapsed": false,
     "input": [
      "stat_dists[1,:]"
     ],
     "language": "python",
     "metadata": {},
     "outputs": [],
     "prompt_number": 177
    },
    {
     "cell_type": "code",
     "collapsed": false,
     "input": [
      "figure(figsize=(15, 5))\n",
      "subplot(121)\n",
      "plt.hist(test_sum, bins=10)\n",
      "plt.title('Number of the non zero values in test')\n",
      "\n",
      "subplot(121)\n",
      "plt.hist(stat_dists[1,:], bins=10)\n",
      "plt.title('Stationary distribution of the state 1')"
     ],
     "language": "python",
     "metadata": {},
     "outputs": [],
     "prompt_number": 178
    },
    {
     "cell_type": "code",
     "collapsed": false,
     "input": [
      "figure(figsize=(15, 5))\n",
      "subplot(121)\n",
      "plt.hist(test_sum, bins=10)\n",
      "plt.title('Number of the non zero values in test')\n",
      "\n",
      "subplot(122)\n",
      "plt.hist(stat_dists[1,:], bins=10)\n",
      "plt.title('Stationary distribution of the state 1')"
     ],
     "language": "python",
     "metadata": {},
     "outputs": [],
     "prompt_number": 179
    },
    {
     "cell_type": "code",
     "collapsed": false,
     "input": [
      "stat_dists[1,:]"
     ],
     "language": "python",
     "metadata": {},
     "outputs": [],
     "prompt_number": 180
    },
    {
     "cell_type": "code",
     "collapsed": false,
     "input": [
      "figure(figsize=(15, 5))\n",
      "subplot(121)\n",
      "plt.hist(test_sum, bins=10)\n",
      "plt.title('Number of the non zero values in test')\n",
      "\n",
      "subplot(122)\n",
      "plt.hist(stat_dists[:,1], bins=10)\n",
      "plt.title('Stationary distribution of the state 1')"
     ],
     "language": "python",
     "metadata": {},
     "outputs": [],
     "prompt_number": 181
    },
    {
     "cell_type": "code",
     "collapsed": false,
     "input": [
      "figure(figsize=(15, 5))\n",
      "subplot(221)\n",
      "plt.hist(test_sum, bins=10)\n",
      "plt.title('Number of the non zero values in test')\n",
      "\n",
      "subplot(222)\n",
      "plt.hist(stat_dists[:,1], bins=10)\n",
      "plt.title('Stationary distribution of the state 1')\n",
      "\n",
      "subplot(223)\n",
      "plt.scatter(test_sum, stat_dists[:,1])"
     ],
     "language": "python",
     "metadata": {},
     "outputs": [],
     "prompt_number": 182
    },
    {
     "cell_type": "code",
     "collapsed": false,
     "input": [
      "figure(figsize=(15, 10))\n",
      "subplot(221)\n",
      "plt.hist(test_sum, bins=10)\n",
      "plt.title('Number of the non zero values in test')\n",
      "\n",
      "subplot(222)\n",
      "plt.hist(stat_dists[:,1], bins=10)\n",
      "plt.title('Stationary distribution of the state 1')\n",
      "\n",
      "subplot(223)\n",
      "plt.scatter(test_sum, stat_dists[:,1])"
     ],
     "language": "python",
     "metadata": {},
     "outputs": [],
     "prompt_number": 183
    },
    {
     "cell_type": "code",
     "collapsed": false,
     "input": [
      "figure(figsize=(15, 10))\n",
      "subplot(221)\n",
      "plt.hist(test_sum, bins=10)\n",
      "plt.title('Number of the non zero values in test')\n",
      "\n",
      "subplot(222)\n",
      "plt.hist(stat_dists[:,1], bins=10)\n",
      "plt.title('Stationary distribution of the state 1')\n",
      "\n",
      "subplot(223)\n",
      "plt.scatter(test_sum, stat_dists[:,1], alpha=0.1)"
     ],
     "language": "python",
     "metadata": {},
     "outputs": [],
     "prompt_number": 184
    },
    {
     "cell_type": "code",
     "collapsed": false,
     "input": [
      "figure(figsize=(15, 10))\n",
      "subplot(221)\n",
      "plt.hist(test_sum, bins=10)\n",
      "plt.title('Number of the non zero values in test')\n",
      "\n",
      "subplot(222)\n",
      "plt.hist(stat_dists[:,1], bins=10)\n",
      "plt.title('Stationary distribution of the state 1')\n",
      "\n",
      "subplot(223)\n",
      "plt.scatter(test_sum, stat_dists[:,1], alpha=0.01)"
     ],
     "language": "python",
     "metadata": {},
     "outputs": [],
     "prompt_number": 185
    },
    {
     "cell_type": "code",
     "collapsed": false,
     "input": [
      "figure(figsize=(15, 10))\n",
      "subplot(221)\n",
      "plt.hist(test_sum, bins=10)\n",
      "plt.title('Number of the non zero values in test')\n",
      "\n",
      "subplot(222)\n",
      "plt.hist(stat_dists[:,1], bins=10)\n",
      "plt.title('Stationary distribution of the state 1')\n",
      "\n",
      "subplot(223)\n",
      "plt.scatter(test_sum, stat_dists[:,1], alpha=0.02)"
     ],
     "language": "python",
     "metadata": {},
     "outputs": [],
     "prompt_number": 186
    },
    {
     "cell_type": "code",
     "collapsed": false,
     "input": [
      "figure(figsize=(15, 10))\n",
      "subplot(221)\n",
      "plt.hist(test_sum, bins=10)\n",
      "plt.title('Number of the non zero values in test')\n",
      "\n",
      "subplot(222)\n",
      "plt.hist(stat_dists[:,1], bins=10)\n",
      "plt.title('Stationary distribution of the state 1')\n",
      "\n",
      "subplot(223)\n",
      "plt.scatter(test_sum, stat_dists[:,1], alpha=0.02)\n",
      "plt.xlabel('Number of the non zero values in test')\n",
      "plt.ylabel('Stationary distribution of the state 1')"
     ],
     "language": "python",
     "metadata": {},
     "outputs": [],
     "prompt_number": 187
    },
    {
     "cell_type": "code",
     "collapsed": false,
     "input": [
      "figure(figsize=(15, 10))\n",
      "subplot(221)\n",
      "plt.hist(test_sum, bins=10)\n",
      "plt.title('Number of the non zero values in test')\n",
      "\n",
      "subplot(222)\n",
      "plt.hist(stat_dists[:,2], bins=10)\n",
      "plt.title('Stationary distribution of the state 1')\n",
      "\n",
      "subplot(223)\n",
      "plt.scatter(test_sum, stat_dists[:,2], alpha=0.02)\n",
      "plt.xlabel('Number of the non zero values in test')\n",
      "plt.ylabel('Stationary distribution of the state 1')"
     ],
     "language": "python",
     "metadata": {},
     "outputs": [],
     "prompt_number": 188
    },
    {
     "cell_type": "code",
     "collapsed": false,
     "input": [
      "figure(figsize=(15, 10))\n",
      "subplot(221)\n",
      "plt.hist(test_sum, bins=10)\n",
      "plt.title('Number of the non zero values in test')\n",
      "\n",
      "subplot(222)\n",
      "plt.hist(stat_dists[:,0], bins=10)\n",
      "plt.title('Stationary distribution of the state 1')\n",
      "\n",
      "subplot(223)\n",
      "plt.scatter(test_sum, stat_dists[:,0], alpha=0.02)\n",
      "plt.xlabel('Number of the non zero values in test')\n",
      "plt.ylabel('Stationary distribution of the state 1')"
     ],
     "language": "python",
     "metadata": {},
     "outputs": [],
     "prompt_number": 189
    },
    {
     "cell_type": "code",
     "collapsed": false,
     "input": [
      "figure(figsize=(15, 10))\n",
      "subplot(221)\n",
      "plt.hist(test_sum, bins=10)\n",
      "plt.title('Number of the non zero values in test')\n",
      "\n",
      "subplot(222)\n",
      "plt.hist(1-stat_dists[:,0], bins=10)\n",
      "plt.title('Stationary distribution of the state 1')\n",
      "\n",
      "subplot(223)\n",
      "plt.scatter(test_sum, 1-stat_dists[:,0], alpha=0.02)\n",
      "plt.xlabel('Number of the non zero values in test')\n",
      "plt.ylabel('Stationary distribution of the state 1')"
     ],
     "language": "python",
     "metadata": {},
     "outputs": [],
     "prompt_number": 190
    },
    {
     "cell_type": "code",
     "collapsed": false,
     "input": [
      "figure(figsize=(15, 10))\n",
      "subplot(221)\n",
      "plt.hist(test_sum, bins=10)\n",
      "plt.title('Number of the non zero values in test')\n",
      "\n",
      "subplot(222)\n",
      "plt.hist(1-stat_dists[:,0], bins=10)\n",
      "plt.title('Stationary distribution of the state 1')\n",
      "\n",
      "subplot(223)\n",
      "plt.scatter(test_sum, 1-stat_dists[:,0], alpha=0.01)\n",
      "plt.xlabel('Number of the non zero values in test')\n",
      "plt.ylabel('Stationary distribution of the state 1')"
     ],
     "language": "python",
     "metadata": {},
     "outputs": [],
     "prompt_number": 191
    },
    {
     "cell_type": "code",
     "collapsed": false,
     "input": [
      "figure(figsize=(15, 10))\n",
      "subplot(221)\n",
      "plt.hist(test_sum, bins=10)\n",
      "plt.title('Number of the non zero values in test')\n",
      "\n",
      "subplot(222)\n",
      "plt.hist(1-stat_dists[:,0], bins=10)\n",
      "plt.title('Stationary distribution of the state 1')\n",
      "\n",
      "subplot(223)\n",
      "plt.scatter(test_sum, 1-stat_dists[:,0], alpha=0.005)\n",
      "plt.xlabel('Number of the non zero values in test')\n",
      "plt.ylabel('Stationary distribution of the state 1')"
     ],
     "language": "python",
     "metadata": {},
     "outputs": [],
     "prompt_number": 192
    },
    {
     "cell_type": "code",
     "collapsed": false,
     "input": [
      "figure(figsize=(15, 10))\n",
      "subplot(221)\n",
      "plt.hist(test_sum, bins=10)\n",
      "plt.title('Number of the non zero values in test')\n",
      "\n",
      "subplot(222)\n",
      "plt.hist(1-stat_dists[:,0], bins=10)\n",
      "plt.title('Stationary distribution of the state 1')\n",
      "\n",
      "subplot(223)\n",
      "plt.scatter(test_sum, 1-stat_dists[:,0], alpha=0.01)\n",
      "plt.xlabel('Number of the non zero values in test')\n",
      "plt.ylabel('Stationary distribution of the state 1')"
     ],
     "language": "python",
     "metadata": {},
     "outputs": [],
     "prompt_number": 193
    },
    {
     "cell_type": "code",
     "collapsed": false,
     "input": [
      "figure(figsize=(15, 10))\n",
      "subplot(221)\n",
      "plt.hist(test_sum, bins=10)\n",
      "plt.title('Number of the non zero values in test')\n",
      "\n",
      "subplot(222)\n",
      "plt.hist(stat_dists[:,1], bins=10)\n",
      "plt.title('Stationary distribution of the state 1')\n",
      "\n",
      "subplot(223)\n",
      "plt.scatter(test_sum, stat_dists[:,1], alpha=0.01)\n",
      "plt.xlabel('Number of the non zero values in test')\n",
      "plt.ylabel('Stationary distribution of the state 1')"
     ],
     "language": "python",
     "metadata": {},
     "outputs": [],
     "prompt_number": 194
    },
    {
     "cell_type": "code",
     "collapsed": false,
     "input": [
      "figure(figsize=(15, 10))\n",
      "subplot(221)\n",
      "plt.hist(test_sum, bins=10)\n",
      "plt.title('Number of the non zero values in test')\n",
      "\n",
      "subplot(222)\n",
      "plt.hist(stat_dists[:,1], bins=10)\n",
      "plt.title('Stationary distribution of the state 1')\n",
      "\n",
      "subplot(223)\n",
      "plt.scatter(test_sum, stat_dists[:,1], alpha=0.01)\n",
      "plt.xlabel('Number of the non zero values in test')\n",
      "plt.ylabel('Stationary distribution of the state 1')\n",
      "\n",
      "subplot(224)\n",
      "plt.hist2d(test_sum, stat_dists[:,1], alpha=0.01)\n",
      "plt.xlabel('Number of the non zero values in test')\n",
      "plt.ylabel('Stationary distribution of the state 1')"
     ],
     "language": "python",
     "metadata": {},
     "outputs": [],
     "prompt_number": 195
    },
    {
     "cell_type": "code",
     "collapsed": false,
     "input": [
      "figure(figsize=(15, 10))\n",
      "subplot(221)\n",
      "plt.hist(test_sum, bins=10)\n",
      "plt.title('Number of the non zero values in test')\n",
      "\n",
      "subplot(222)\n",
      "plt.hist(stat_dists[:,1], bins=10)\n",
      "plt.title('Stationary distribution of the state 1')\n",
      "\n",
      "subplot(223)\n",
      "plt.scatter(test_sum, stat_dists[:,1], alpha=0.01)\n",
      "plt.xlabel('Number of the non zero values in test')\n",
      "plt.ylabel('Stationary distribution of the state 1')\n",
      "\n",
      "subplot(224)\n",
      "plt.hist2d(test_sum, stat_dists[:,1], alpha=1)\n",
      "plt.xlabel('Number of the non zero values in test')\n",
      "plt.ylabel('Stationary distribution of the state 1')"
     ],
     "language": "python",
     "metadata": {},
     "outputs": [],
     "prompt_number": 196
    },
    {
     "cell_type": "code",
     "collapsed": false,
     "input": [
      "figure(figsize=(15, 10))\n",
      "subplot(221)\n",
      "plt.hist(test_sum, bins=10)\n",
      "plt.title('Number of the non zero values in test')\n",
      "\n",
      "subplot(222)\n",
      "plt.hist(stat_dists[:,1], bins=10)\n",
      "plt.title('Stationary distribution of the state 1')\n",
      "\n",
      "subplot(223)\n",
      "plt.scatter(test_sum, stat_dists[:,1], alpha=0.01)\n",
      "plt.xlabel('Number of the non zero values in test')\n",
      "plt.ylabel('Stationary distribution of the state 1')\n",
      "\n",
      "subplot(224)\n",
      "plt.hist2d(test_sum, stat_dists[:,1], alpha=1, bins=100)\n",
      "plt.xlabel('Number of the non zero values in test')\n",
      "plt.ylabel('Stationary distribution of the state 1')"
     ],
     "language": "python",
     "metadata": {},
     "outputs": [],
     "prompt_number": 197
    },
    {
     "cell_type": "code",
     "collapsed": false,
     "input": [
      "figure(figsize=(15, 10))\n",
      "subplot(221)\n",
      "plt.hist(test_sum, bins=10)\n",
      "plt.title('Number of the non zero values in test')\n",
      "\n",
      "subplot(222)\n",
      "plt.hist(stat_dists[:,1], bins=10)\n",
      "plt.title('Stationary distribution of the state 1')\n",
      "\n",
      "subplot(223)\n",
      "plt.scatter(test_sum, stat_dists[:,1], alpha=0.01)\n",
      "plt.xlabel('Number of the non zero values in test')\n",
      "plt.ylabel('Stationary distribution of the state 1')\n",
      "\n",
      "subplot(224)\n",
      "plt.hist2d(test_sum, stat_dists[:,1], alpha=1, bins=100)\n",
      "colorbar()\n",
      "plt.xlabel('Number of the non zero values in test')\n",
      "plt.ylabel('Stationary distribution of the state 1')"
     ],
     "language": "python",
     "metadata": {},
     "outputs": [],
     "prompt_number": 198
    },
    {
     "cell_type": "code",
     "collapsed": false,
     "input": [
      "figure(figsize=(15, 10))\n",
      "subplot(221)\n",
      "plt.hist(test_sum, bins=10)\n",
      "plt.title('Number of the non zero values in test')\n",
      "\n",
      "subplot(222)\n",
      "plt.hist(stat_dists[:,1], bins=10)\n",
      "plt.title('Stationary distribution of the state 1')\n",
      "\n",
      "subplot(223)\n",
      "plt.scatter(test_sum, stat_dists[:,1], alpha=0.01)\n",
      "plt.xlabel('Number of the non zero values in test')\n",
      "plt.ylabel('Stationary distribution of the state 1')\n",
      "\n",
      "subplot(224)\n",
      "plt.hist2d(test_sum, stat_dists[:,1], alpha=1, bins=35)\n",
      "colorbar()\n",
      "plt.xlabel('Number of the non zero values in test')\n",
      "plt.ylabel('Stationary distribution of the state 1')"
     ],
     "language": "python",
     "metadata": {},
     "outputs": [],
     "prompt_number": 199
    },
    {
     "cell_type": "code",
     "collapsed": false,
     "input": [
      "figure(figsize=(15, 10))\n",
      "subplot(221)\n",
      "plt.hist(test_sum, bins=10)\n",
      "plt.title('Number of the non zero values in test')\n",
      "\n",
      "subplot(222)\n",
      "plt.hist(stat_dists[:,1], bins=10)\n",
      "plt.title('Stationary distribution of the state 1')\n",
      "\n",
      "subplot(223)\n",
      "plt.scatter(test_sum, stat_dists[:,1], alpha=0.01)\n",
      "plt.xlabel('Number of the non zero values in test')\n",
      "plt.ylabel('Stationary distribution of the state 1')\n",
      "\n",
      "subplot(224)\n",
      "plt.hist2d(test_sum, stat_dists[:,1], alpha=1, bins=35, norm=LogNorm())\n",
      "colorbar()\n",
      "plt.xlabel('Number of the non zero values in test')\n",
      "plt.ylabel('Stationary distribution of the state 1')"
     ],
     "language": "python",
     "metadata": {},
     "outputs": [],
     "prompt_number": 200
    },
    {
     "cell_type": "code",
     "collapsed": false,
     "input": [
      "from matplotlib.colors import LogNorm\n",
      "\n",
      "figure(figsize=(15, 10))\n",
      "subplot(221)\n",
      "plt.hist(test_sum, bins=10)\n",
      "plt.title('Number of the non zero values in test')\n",
      "\n",
      "subplot(222)\n",
      "plt.hist(stat_dists[:,1], bins=10)\n",
      "plt.title('Stationary distribution of the state 1')\n",
      "\n",
      "subplot(223)\n",
      "plt.scatter(test_sum, stat_dists[:,1], alpha=0.01)\n",
      "plt.xlabel('Number of the non zero values in test')\n",
      "plt.ylabel('Stationary distribution of the state 1')\n",
      "\n",
      "subplot(224)\n",
      "plt.hist2d(test_sum, stat_dists[:,1], alpha=1, bins=35, norm=LogNorm())\n",
      "colorbar()\n",
      "plt.xlabel('Number of the non zero values in test')\n",
      "plt.ylabel('Stationary distribution of the state 1')"
     ],
     "language": "python",
     "metadata": {},
     "outputs": [],
     "prompt_number": 201
    },
    {
     "cell_type": "code",
     "collapsed": false,
     "input": [
      "from matplotlib.colors import LogNorm\n",
      "\n",
      "figure(figsize=(15, 10))\n",
      "subplot(221)\n",
      "plt.hist(test_sum, bins=10)\n",
      "plt.title('Number of the non zero values in test')\n",
      "\n",
      "subplot(222)\n",
      "plt.hist(stat_dists[:,1], bins=10)\n",
      "plt.title('Stationary distribution of the state 1')\n",
      "\n",
      "subplot(223)\n",
      "plt.scatter(test_sum, stat_dists[:,1], alpha=0.01)\n",
      "plt.xlabel('Number of the non zero values in test')\n",
      "plt.ylabel('Stationary distribution of the state 1')\n",
      "\n",
      "subplot(224)\n",
      "plt.hist2d(test_sum, stat_dists[:,1], alpha=1, bins=35, norm=LogNorm())\n",
      "colorbar()\n",
      "plt.xlabel('Number of the non zero values in test')\n",
      "plt.ylabel('Stationary distribution of the state 1')\n",
      "plt.title('LogNormed histogram')"
     ],
     "language": "python",
     "metadata": {},
     "outputs": [],
     "prompt_number": 202
    },
    {
     "cell_type": "code",
     "collapsed": false,
     "input": [
      "from matplotlib.colors import LogNorm\n",
      "\n",
      "figure(figsize=(15, 10))\n",
      "subplot(221)\n",
      "plt.hist(test_sum, bins=10)\n",
      "plt.title('Number of the non zero values in test')\n",
      "\n",
      "subplot(222)\n",
      "plt.hist(stat_dists[:,1], bins=10)\n",
      "plt.title('Stationary distribution of the state 1')\n",
      "\n",
      "subplot(223)\n",
      "plt.scatter(test_sum, stat_dists[:,1], alpha=0.01)\n",
      "plt.xlabel('Number of the non zero values in test')\n",
      "plt.ylabel('Stationary distribution of the state 1')\n",
      "\n",
      "subplot(224)\n",
      "plt.hist2d(test_sum, stat_dists[:,2], alpha=1, bins=35, norm=LogNorm())\n",
      "colorbar()\n",
      "plt.xlabel('Number of the non zero values in test')\n",
      "plt.ylabel('Stationary distribution of the state 1')\n",
      "plt.title('LogNormed histogram')"
     ],
     "language": "python",
     "metadata": {},
     "outputs": [],
     "prompt_number": 203
    },
    {
     "cell_type": "code",
     "collapsed": false,
     "input": [
      "from matplotlib.colors import LogNorm\n",
      "\n",
      "figure(figsize=(15, 10))\n",
      "subplot(221)\n",
      "plt.hist(test_sum, bins=10)\n",
      "plt.title('Number of the non zero values in test')\n",
      "\n",
      "subplot(222)\n",
      "plt.hist(stat_dists[:,1], bins=10)\n",
      "plt.title('Stationary distribution of the state 1')\n",
      "\n",
      "subplot(223)\n",
      "plt.scatter(test_sum, stat_dists[:,1], alpha=0.01)\n",
      "plt.xlabel('Number of the non zero values in test')\n",
      "plt.ylabel('Stationary distribution of the state 1')\n",
      "\n",
      "subplot(224)\n",
      "plt.hist2d(test_sum, stat_dists[:,0], alpha=1, bins=35, norm=LogNorm())\n",
      "colorbar()\n",
      "plt.xlabel('Number of the non zero values in test')\n",
      "plt.ylabel('Stationary distribution of the state 1')\n",
      "plt.title('LogNormed histogram')"
     ],
     "language": "python",
     "metadata": {},
     "outputs": [],
     "prompt_number": 204
    },
    {
     "cell_type": "code",
     "collapsed": false,
     "input": [
      "from matplotlib.colors import LogNorm\n",
      "\n",
      "figure(figsize=(15, 10))\n",
      "subplot(221)\n",
      "plt.hist(test_sum, bins=10)\n",
      "plt.title('Number of the non zero values in test')\n",
      "\n",
      "subplot(222)\n",
      "plt.hist(stat_dists[:,1], bins=10)\n",
      "plt.title('Stationary distribution of the state 1')\n",
      "\n",
      "subplot(223)\n",
      "plt.scatter(test_sum, stat_dists[:,1], alpha=0.01)\n",
      "plt.xlabel('Number of the non zero values in test')\n",
      "plt.ylabel('Stationary distribution of the state 1')\n",
      "\n",
      "subplot(224)\n",
      "plt.hist2d(test_sum, 1-stat_dists[:,0], alpha=1, bins=35, norm=LogNorm())\n",
      "colorbar()\n",
      "plt.xlabel('Number of the non zero values in test')\n",
      "plt.ylabel('Stationary distribution of the state 1')\n",
      "plt.title('LogNormed histogram')"
     ],
     "language": "python",
     "metadata": {},
     "outputs": [],
     "prompt_number": 205
    },
    {
     "cell_type": "code",
     "collapsed": false,
     "input": [
      "from matplotlib.colors import LogNorm\n",
      "\n",
      "figure(figsize=(15, 10))\n",
      "subplot(231)\n",
      "plt.hist(test_sum, bins=10)\n",
      "plt.title('Number of the non zero values in test')\n",
      "\n",
      "subplot(232)\n",
      "plt.hist(stat_dists[:,1], bins=10)\n",
      "plt.title('Stationary distribution of the state 1')\n",
      "\n",
      "subplot(233)\n",
      "plt.hist2d(test_sum, 1-stat_dists[:,0], alpha=1, bins=35, norm=LogNorm())\n",
      "colorbar()\n",
      "plt.xlabel('Number of the non zero values in test')\n",
      "plt.ylabel('Stationary distribution of the state 1')\n",
      "plt.title('LogNormed histogram')"
     ],
     "language": "python",
     "metadata": {},
     "outputs": [],
     "prompt_number": 206
    },
    {
     "cell_type": "code",
     "collapsed": false,
     "input": [
      "from matplotlib.colors import LogNorm\n",
      "\n",
      "figure(figsize=(20, 10))\n",
      "subplot(231)\n",
      "plt.hist(test_sum, bins=10)\n",
      "plt.title('Number of the non zero values in test')\n",
      "\n",
      "subplot(232)\n",
      "plt.hist(stat_dists[:,1], bins=10)\n",
      "plt.title('Stationary distribution of the state 1')\n",
      "\n",
      "subplot(233)\n",
      "plt.hist2d(test_sum, 1-stat_dists[:,0], alpha=1, bins=35, norm=LogNorm())\n",
      "colorbar()\n",
      "plt.xlabel('Number of the non zero values in test')\n",
      "plt.ylabel('Stationary distribution of the state 1')\n",
      "plt.title('LogNormed histogram')"
     ],
     "language": "python",
     "metadata": {},
     "outputs": [],
     "prompt_number": 207
    },
    {
     "cell_type": "code",
     "collapsed": false,
     "input": [
      "from matplotlib.colors import LogNorm\n",
      "\n",
      "figure(figsize=(20, 15))\n",
      "\n",
      "subplot(331)\n",
      "plt.hist(test_sum, bins=10)\n",
      "plt.title('Number of the non zero values in test')\n",
      "\n",
      "subplot(332)\n",
      "plt.hist(stat_dists[:,1], bins=10)\n",
      "plt.title('Stationary probability of the state 1')\n",
      "\n",
      "subplot(333)\n",
      "plt.hist2d(test_sum, stat_dists[:,1], alpha=1, bins=35, norm=LogNorm())\n",
      "colorbar()\n",
      "plt.xlabel('Number of the non zero values in test')\n",
      "plt.ylabel('Stationary probability of the state 1')\n",
      "plt.title('LogNormed histogram')\n",
      "\n",
      "subplot(334)\n",
      "plt.hist(test_sum, bins=10)\n",
      "plt.title('Number of the non zero values in test')\n",
      "\n",
      "subplot(335)\n",
      "plt.hist(stat_dists[:,2], bins=10)\n",
      "plt.title('Stationary probability of the state 2')\n",
      "\n",
      "subplot(336)\n",
      "plt.hist2d(test_sum, stat_dists[:,2], alpha=1, bins=35, norm=LogNorm())\n",
      "colorbar()\n",
      "plt.xlabel('Number of the non zero values in test')\n",
      "plt.ylabel('Stationary probability of the state 2')\n",
      "plt.title('LogNormed histogram')\n",
      "\n",
      "subplot(337)\n",
      "plt.hist(test_sum, bins=10)\n",
      "plt.title('Number of the non zero values in test')\n",
      "\n",
      "subplot(338)\n",
      "plt.hist(1-stat_dists[:,0], bins=10)\n",
      "plt.title('1-Stationary probability of the state 1')\n",
      "\n",
      "subplot(339)\n",
      "plt.hist2d(test_sum, 1-stat_dists[:,0], alpha=1, bins=35, norm=LogNorm())\n",
      "colorbar()\n",
      "plt.xlabel('Number of the non zero values in test')\n",
      "plt.ylabel('1-Stationary probability of the state 1')\n",
      "plt.title('LogNormed histogram')"
     ],
     "language": "python",
     "metadata": {},
     "outputs": [],
     "prompt_number": 208
    },
    {
     "cell_type": "code",
     "collapsed": false,
     "input": [
      "import ipykee\n",
      "#ipykee.create_project(project_name=\"D._UsageForecast\", repository=\"git@github.com:hushchyn-mikhail/CERN_Time_Series.git\")\n",
      "session = ipykee.Session(project_name=\"D._UsageForecast\")"
     ],
     "language": "python",
     "metadata": {},
     "outputs": [],
     "prompt_number": 209
    }
   ],
   "metadata": {}
  }
 ]
}