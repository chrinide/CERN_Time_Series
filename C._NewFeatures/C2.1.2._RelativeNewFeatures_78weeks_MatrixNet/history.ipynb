{
 "metadata": {
  "name": "/ipykee/workdir/tmpVohFS5/C"
 },
 "nbformat": 3,
 "nbformat_minor": 0,
 "worksheets": [
  {
   "cells": [
    {
     "cell_type": "code",
     "collapsed": false,
     "input": [
      "import ipykee\n",
      "ipykee.create_project(\"C._NewFeatures\", internal_path=\"C._NewFeatures\", repository=\"git@github.com:hushchyn-mikhail/CERN_Time_Series.git\")\n",
      "session = ipykee.Session(project_name=\"C._NewFeatures\")"
     ],
     "language": "python",
     "metadata": {},
     "outputs": [],
     "prompt_number": 1
    },
    {
     "cell_type": "code",
     "collapsed": false,
     "input": [
      "session.commit(\"Upload by ipykee. Using MatrixNet to compatre results with C.2.1.1 results\")"
     ],
     "language": "python",
     "metadata": {},
     "outputs": [],
     "prompt_number": 2
    }
   ],
   "metadata": {}
  }
 ]
}