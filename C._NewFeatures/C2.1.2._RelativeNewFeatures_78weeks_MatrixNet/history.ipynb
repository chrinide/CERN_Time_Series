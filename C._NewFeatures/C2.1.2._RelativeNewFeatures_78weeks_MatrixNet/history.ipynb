{
 "metadata": {
  "name": "/ipykee/workdir/tmp0KKDaq/C"
 },
 "nbformat": 3,
 "nbformat_minor": 0,
 "worksheets": [
  {
   "cells": [
    {
     "cell_type": "code",
     "collapsed": false,
     "input": [
      "import ipykee\n",
      "#ipykee.create_project(\"C._NewFeatures\", internal_path=\"C._NewFeatures\", repository=\"git@github.com:hushchyn-mikhail/CERN_Time_Series.git\")\n",
      "session = ipykee.Session(project_name=\"C._NewFeatures\")"
     ],
     "language": "python",
     "metadata": {},
     "outputs": [],
     "prompt_number": 1
    },
    {
     "cell_type": "code",
     "collapsed": false,
     "input": [
      "session.commit(\"Upload by ipykee. Second commit.\")"
     ],
     "language": "python",
     "metadata": {},
     "outputs": [],
     "prompt_number": 2
    }
   ],
   "metadata": {}
  }
 ]
}