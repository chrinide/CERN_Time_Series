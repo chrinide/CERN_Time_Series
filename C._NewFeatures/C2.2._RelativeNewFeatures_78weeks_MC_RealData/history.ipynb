{
 "metadata": {
  "name": "/ipykee/workdir/tmpzsKvN5/C"
 },
 "nbformat": 3,
 "nbformat_minor": 0,
 "worksheets": [
  {
   "cells": [
    {
     "cell_type": "code",
     "collapsed": false,
     "input": [
      "import ipykee\n",
      "session = ipykee.Session(project_name=\"C._NewFeatures\")"
     ],
     "language": "python",
     "metadata": {},
     "outputs": [],
     "prompt_number": 1
    }
   ],
   "metadata": {}
  }
 ]
}