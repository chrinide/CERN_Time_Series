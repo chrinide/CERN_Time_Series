{
 "metadata": {
  "name": "/ipykee/workdir/tmpzsKvN5/C"
 },
 "nbformat": 3,
 "nbformat_minor": 0,
 "worksheets": [
  {
   "cells": [
    {
     "cell_type": "code",
     "collapsed": false,
     "input": [
      "import ipykee\n",
      "session = ipykee.Session(project_name=\"C._NewFeatures\")"
     ],
     "language": "python",
     "metadata": {},
     "outputs": [],
     "prompt_number": 1
    },
    {
     "cell_type": "code",
     "collapsed": false,
     "input": [
      "session.commit(\"Upload by ipykee. This is C1.2 notebook.\")"
     ],
     "language": "python",
     "metadata": {},
     "outputs": [],
     "prompt_number": 2
    }
   ],
   "metadata": {}
  }
 ]
}