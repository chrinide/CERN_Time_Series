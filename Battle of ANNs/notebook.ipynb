{
 "metadata": {
  "name": "",
  "signature": "sha256:b5664e44f8e154d25d54981029352fd00d4c9e03c4318fc4f99c1ee8c5ad4440"
 },
 "nbformat": 3,
 "nbformat_minor": 0,
 "worksheets": [
  {
   "cells": [
    {
     "cell_type": "markdown",
     "metadata": {},
     "source": [
      "#Data Preparation"
     ]
    },
    {
     "cell_type": "code",
     "collapsed": false,
     "input": [
      "import numpy as np\n",
      "import pandas as pd\n",
      "import matplotlib.pylab as plt\n",
      "%matplotlib inline"
     ],
     "language": "python",
     "metadata": {},
     "outputs": [],
     "prompt_number": 2
    },
    {
     "cell_type": "markdown",
     "metadata": {},
     "source": [
      "##MNIST"
     ]
    },
    {
     "cell_type": "code",
     "collapsed": false,
     "input": [
      "# from sklearn.cross_validation import train_test_split\n",
      "# from sklearn.datasets import fetch_mldata\n",
      "\n",
      "# mnist = fetch_mldata('MNIST original')\n",
      "# X_train, X_test, y_train, y_test = train_test_split(\n",
      "#     mnist.data / 255.0, mnist.target)"
     ],
     "language": "python",
     "metadata": {},
     "outputs": [],
     "prompt_number": 3
    },
    {
     "cell_type": "markdown",
     "metadata": {},
     "source": [
      "#Toy datasets"
     ]
    },
    {
     "cell_type": "code",
     "collapsed": false,
     "input": [
      "from rep.utils import train_test_split\n",
      "from sklearn.metrics import roc_auc_score\n",
      "\n",
      "sig_data = pd.read_csv('howto/toy_datasets/toyMC_sig_mass.csv', sep='\\t')\n",
      "bck_data = pd.read_csv('howto/toy_datasets/toyMC_bck_mass.csv', sep='\\t')\n",
      "\n",
      "labels = np.array([1] * len(sig_data) + [0] * len(bck_data))\n",
      "data = pd.concat([sig_data, bck_data])\n",
      "variables = [\"FlightDistance\", \"FlightDistanceError\", \"IP\", \"VertexChi2\", \"pt\", \"p0_pt\", \"p1_pt\", \"p2_pt\", 'LifeTime','dira']\n",
      "\n",
      "from sklearn.preprocessing import MinMaxScaler, Imputer\n",
      "\n",
      "data1 = Imputer().fit_transform(data[variables].values)\n",
      "data2 = MinMaxScaler().fit_transform(data1)\n",
      "data[variables] = data2"
     ],
     "language": "python",
     "metadata": {},
     "outputs": [],
     "prompt_number": 27
    },
    {
     "cell_type": "code",
     "collapsed": false,
     "input": [
      "X_train, X_test, y_train, y_test = train_test_split(data[variables].values, labels, train_size=0.5)"
     ],
     "language": "python",
     "metadata": {},
     "outputs": [],
     "prompt_number": 44
    },
    {
     "cell_type": "code",
     "collapsed": false,
     "input": [
      "X_train.shape"
     ],
     "language": "python",
     "metadata": {},
     "outputs": [
      {
       "metadata": {},
       "output_type": "pyout",
       "prompt_number": 62,
       "text": [
        "(72449, 10)"
       ]
      }
     ],
     "prompt_number": 62
    },
    {
     "cell_type": "markdown",
     "metadata": {},
     "source": [
      "#Nolearn"
     ]
    },
    {
     "cell_type": "code",
     "collapsed": false,
     "input": [
      "#!pip install nolearn"
     ],
     "language": "python",
     "metadata": {},
     "outputs": [],
     "prompt_number": 46
    },
    {
     "cell_type": "code",
     "collapsed": false,
     "input": [
      "from nolearn.dbn import DBN\n",
      "\n",
      "clf = DBN(\n",
      "    [X_train.shape[1], 300, 2],\n",
      "    learn_rates=0.1,\n",
      "    learn_rate_decays=0.9,\n",
      "    epochs=10,\n",
      "    verbose=0,\n",
      "    )"
     ],
     "language": "python",
     "metadata": {},
     "outputs": [],
     "prompt_number": 123
    },
    {
     "cell_type": "code",
     "collapsed": false,
     "input": [
      "%time clf.fit(X_train, y_train)"
     ],
     "language": "python",
     "metadata": {},
     "outputs": [
      {
       "output_type": "stream",
       "stream": "stdout",
       "text": [
        "CPU times: user 42.3 s, sys: 119 ms, total: 42.4 s\n",
        "Wall time: 42.6 s\n"
       ]
      }
     ],
     "prompt_number": 124
    },
    {
     "cell_type": "code",
     "collapsed": false,
     "input": [
      "from sklearn.metrics import classification_report\n",
      "from sklearn.metrics import zero_one_loss\n",
      "\n",
      "y_pred = clf.predict(X_test)\n",
      "print \"Accuracy:\", zero_one_loss(y_test, y_pred)\n",
      "print \"Classification report:\"\n",
      "print classification_report(y_test, y_pred)"
     ],
     "language": "python",
     "metadata": {},
     "outputs": [
      {
       "output_type": "stream",
       "stream": "stdout",
       "text": [
        "Accuracy: 0.100538302277\n",
        "Classification report:\n",
        "             precision    recall  f1-score   support\n",
        "\n",
        "          0       0.71      0.49      0.58     10284\n",
        "          1       0.92      0.97      0.94     62166\n",
        "\n",
        "avg / total       0.89      0.90      0.89     72450\n",
        "\n"
       ]
      }
     ],
     "prompt_number": 125
    },
    {
     "cell_type": "markdown",
     "metadata": {},
     "source": [
      "#Neurolab"
     ]
    },
    {
     "cell_type": "code",
     "collapsed": false,
     "input": [
      "#!pip install neurolab"
     ],
     "language": "python",
     "metadata": {},
     "outputs": [],
     "prompt_number": 5
    },
    {
     "cell_type": "code",
     "collapsed": false,
     "input": [
      "import neurolab as nl\n",
      "f2 = nl.trans.SoftMax()\n",
      "f = nl.trans.LogSig()\n",
      "init = []\n",
      "for i in range(0, X_train.shape[1]):\n",
      "    init.append([0,1])\n",
      "net = nl.net.newff(init,[X_train.shape[1], 300, 2], [f, f, f])\n",
      "for l in net.layers:\n",
      "    #l.initf = nl.init.init_rand(l, min=0, max=0.05, init_prop='w')\n",
      "    #l.initf = nl.init.midpoint(l)\n",
      "    l.initf = nl.init.init_zeros(l)\n",
      "    net.init()   \n",
      "net.trainf = nl.train.train_rprop"
     ],
     "language": "python",
     "metadata": {},
     "outputs": [],
     "prompt_number": 52
    },
    {
     "cell_type": "code",
     "collapsed": false,
     "input": [
      "from sklearn.preprocessing import OneHotEncoder\n",
      "\n",
      "y = y_train.reshape((len(y_train),1))\n",
      "label_train = np.array(OneHotEncoder(n_values=2).fit_transform(y).todense())"
     ],
     "language": "python",
     "metadata": {},
     "outputs": [],
     "prompt_number": 53
    },
    {
     "cell_type": "code",
     "collapsed": false,
     "input": [
      "%time net.train(X_train, label_train, epochs=10, show=1)"
     ],
     "language": "python",
     "metadata": {},
     "outputs": [
      {
       "output_type": "stream",
       "stream": "stdout",
       "text": [
        "Epoch: 1; Error: 18112.25;\n",
        "Epoch: 2; Error: 10176.477476;"
       ]
      },
      {
       "output_type": "stream",
       "stream": "stdout",
       "text": [
        "\n",
        "Epoch: 3; Error: 9891.68535436;"
       ]
      },
      {
       "output_type": "stream",
       "stream": "stdout",
       "text": [
        "\n",
        "Epoch: 4; Error: 26768.9386612;"
       ]
      },
      {
       "output_type": "stream",
       "stream": "stdout",
       "text": [
        "\n",
        "Epoch: 5; Error: 11974.6915261;"
       ]
      },
      {
       "output_type": "stream",
       "stream": "stdout",
       "text": [
        "\n",
        "Epoch: 6; Error: 8952.59504378;"
       ]
      },
      {
       "output_type": "stream",
       "stream": "stdout",
       "text": [
        "\n",
        "Epoch: 7; Error: 8980.45286648;"
       ]
      },
      {
       "output_type": "stream",
       "stream": "stdout",
       "text": [
        "\n",
        "Epoch: 8; Error: 8703.00024271;"
       ]
      },
      {
       "output_type": "stream",
       "stream": "stdout",
       "text": [
        "\n",
        "Epoch: 9; Error: 8747.41498854;"
       ]
      },
      {
       "output_type": "stream",
       "stream": "stdout",
       "text": [
        "\n",
        "Epoch: 10; Error: 8689.91837969;"
       ]
      },
      {
       "output_type": "stream",
       "stream": "stdout",
       "text": [
        "\n",
        "The maximum number of train epochs is reached\n",
        "CPU times: user 2min 11s, sys: 468 ms, total: 2min 12s\n",
        "Wall time: 2min 12s\n"
       ]
      },
      {
       "metadata": {},
       "output_type": "pyout",
       "prompt_number": 54,
       "text": [
        "[18112.25,\n",
        " 10176.477475984088,\n",
        " 9891.6853543582693,\n",
        " 26768.938661231892,\n",
        " 11974.691526142065,\n",
        " 8952.595043784062,\n",
        " 8980.4528664809313,\n",
        " 8703.0002427111067,\n",
        " 8747.4149885394618,\n",
        " 8689.9183796860762]"
       ]
      }
     ],
     "prompt_number": 54
    },
    {
     "cell_type": "code",
     "collapsed": false,
     "input": [
      "predict_labels = net.sim(X_test)"
     ],
     "language": "python",
     "metadata": {},
     "outputs": [],
     "prompt_number": 55
    },
    {
     "cell_type": "code",
     "collapsed": false,
     "input": [
      "predict_labels"
     ],
     "language": "python",
     "metadata": {},
     "outputs": [
      {
       "metadata": {},
       "output_type": "pyout",
       "prompt_number": 56,
       "text": [
        "array([[ 0.14524358,  0.85475642],\n",
        "       [ 0.16629035,  0.83370965],\n",
        "       [ 0.16679086,  0.83320914],\n",
        "       ..., \n",
        "       [ 0.16439377,  0.83560623],\n",
        "       [ 0.14865713,  0.85134287],\n",
        "       [ 0.14887722,  0.85112278]])"
       ]
      }
     ],
     "prompt_number": 56
    },
    {
     "cell_type": "code",
     "collapsed": false,
     "input": [
      "y_pred = []\n",
      "for l in predict_labels:\n",
      "    y_pred.append(list(l).index(l.max()))\n",
      "y_pred = np.array(y_pred)\n",
      "y_pred"
     ],
     "language": "python",
     "metadata": {},
     "outputs": [
      {
       "metadata": {},
       "output_type": "pyout",
       "prompt_number": 57,
       "text": [
        "array([1, 1, 1, ..., 1, 1, 1])"
       ]
      }
     ],
     "prompt_number": 57
    },
    {
     "cell_type": "code",
     "collapsed": false,
     "input": [
      "from sklearn.metrics import classification_report\n",
      "from sklearn.metrics import zero_one_loss\n",
      "\n",
      "print \"Accuracy:\", zero_one_loss(y_test, y_pred)\n",
      "print \"Classification report:\"\n",
      "print classification_report(y_test, y_pred)"
     ],
     "language": "python",
     "metadata": {},
     "outputs": [
      {
       "output_type": "stream",
       "stream": "stdout",
       "text": [
        "Accuracy: 0.141946169772\n",
        "Classification report:\n",
        "             precision    recall  f1-score   support\n",
        "\n",
        "          0       0.00      0.00      0.00     10284\n",
        "          1       0.86      1.00      0.92     62166\n",
        "\n",
        "avg / total       0.74      0.86      0.79     72450\n"
       ]
      },
      {
       "output_type": "stream",
       "stream": "stdout",
       "text": [
        "\n"
       ]
      },
      {
       "output_type": "stream",
       "stream": "stderr",
       "text": [
        "/usr/local/lib/python2.7/dist-packages/sklearn/metrics/metrics.py:1771: UndefinedMetricWarning: Precision and F-score are ill-defined and being set to 0.0 in labels with no predicted samples.\n",
        "  'precision', 'predicted', average, warn_for)\n"
       ]
      }
     ],
     "prompt_number": 58
    },
    {
     "cell_type": "markdown",
     "metadata": {},
     "source": [
      "#PyBrain"
     ]
    },
    {
     "cell_type": "code",
     "collapsed": false,
     "input": [
      "#!python setup.py install"
     ],
     "language": "python",
     "metadata": {},
     "outputs": [],
     "prompt_number": 68
    },
    {
     "cell_type": "code",
     "collapsed": false,
     "input": [
      "X_train.shape"
     ],
     "language": "python",
     "metadata": {},
     "outputs": [
      {
       "metadata": {},
       "output_type": "pyout",
       "prompt_number": 69,
       "text": [
        "(72449, 10)"
       ]
      }
     ],
     "prompt_number": 69
    },
    {
     "cell_type": "code",
     "collapsed": false,
     "input": [
      "from pybrain.tools.shortcuts import buildNetwork\n",
      "from pybrain.structure import SoftmaxLayer\n",
      "\n",
      "net = buildNetwork(X_train.shape[1], 300, 2, bias=True, outclass=SoftmaxLayer)"
     ],
     "language": "python",
     "metadata": {},
     "outputs": [],
     "prompt_number": 76
    },
    {
     "cell_type": "code",
     "collapsed": false,
     "input": [
      "from pybrain.datasets import SupervisedDataSet\n",
      "from sklearn.preprocessing import OneHotEncoder\n",
      "\n",
      "y = y_train.reshape((len(y_train),1))\n",
      "label = np.array(OneHotEncoder(n_values=2).fit_transform(y).todense())\n",
      "\n",
      "ds = SupervisedDataSet(X_train.shape[1], 2)\n",
      "for i in range(0, len(y_train)):\n",
      "    ds.addSample(tuple(list(X_train[i,:])), tuple(list(label[i])))"
     ],
     "language": "python",
     "metadata": {},
     "outputs": [],
     "prompt_number": 77
    },
    {
     "cell_type": "code",
     "collapsed": false,
     "input": [
      "%%time\n",
      "from pybrain.supervised.trainers import BackpropTrainer\n",
      "trainer = BackpropTrainer(net, ds, learningrate=0.01, lrdecay=1.0)\n",
      "\n",
      "for i in range(10):\n",
      "    error = trainer.train()\n",
      "    print \"Epoch: %d, Error: %7.4f\" % (i, error) "
     ],
     "language": "python",
     "metadata": {},
     "outputs": [
      {
       "output_type": "stream",
       "stream": "stdout",
       "text": [
        "Epoch: 0, Error:  0.0543\n",
        "Epoch: 1, Error:  0.0496"
       ]
      },
      {
       "output_type": "stream",
       "stream": "stdout",
       "text": [
        "\n",
        "Epoch: 2, Error:  0.0484"
       ]
      },
      {
       "output_type": "stream",
       "stream": "stdout",
       "text": [
        "\n",
        "Epoch: 3, Error:  0.0475"
       ]
      },
      {
       "output_type": "stream",
       "stream": "stdout",
       "text": [
        "\n",
        "Epoch: 4, Error:  0.0469"
       ]
      },
      {
       "output_type": "stream",
       "stream": "stdout",
       "text": [
        "\n",
        "Epoch: 5, Error:  0.0462"
       ]
      },
      {
       "output_type": "stream",
       "stream": "stdout",
       "text": [
        "\n",
        "Epoch: 6, Error:  0.0457"
       ]
      },
      {
       "output_type": "stream",
       "stream": "stdout",
       "text": [
        "\n",
        "Epoch: 7, Error:  0.0452"
       ]
      },
      {
       "output_type": "stream",
       "stream": "stdout",
       "text": [
        "\n",
        "Epoch: 8, Error:  0.0448"
       ]
      },
      {
       "output_type": "stream",
       "stream": "stdout",
       "text": [
        "\n",
        "Epoch: 9, Error:  0.0445"
       ]
      },
      {
       "output_type": "stream",
       "stream": "stdout",
       "text": [
        "\n",
        "CPU times: user 7min 7s, sys: 1.05 s, total: 7min 8s\n",
        "Wall time: 7min 10s\n"
       ]
      }
     ],
     "prompt_number": 78
    },
    {
     "cell_type": "code",
     "collapsed": false,
     "input": [
      "y_pred = []\n",
      "for i in X_test:\n",
      "    pred = net.activate(i)\n",
      "    val = list(pred).index(pred.max())\n",
      "    y_pred.append(val)"
     ],
     "language": "python",
     "metadata": {},
     "outputs": [],
     "prompt_number": 79
    },
    {
     "cell_type": "code",
     "collapsed": false,
     "input": [
      "from sklearn.metrics import classification_report\n",
      "from sklearn.metrics import zero_one_loss\n",
      "\n",
      "print \"Accuracy:\", zero_one_loss(y_test, y_pred)\n",
      "print \"Classification report:\"\n",
      "print classification_report(y_test, y_pred)"
     ],
     "language": "python",
     "metadata": {},
     "outputs": [
      {
       "output_type": "stream",
       "stream": "stdout",
       "text": [
        "Accuracy: 0.117336093858\n",
        "Classification report:\n",
        "             precision    recall  f1-score   support\n",
        "\n",
        "          0       0.59      0.56      0.58     10284\n",
        "          1       0.93      0.94      0.93     62166\n",
        "\n",
        "avg / total       0.88      0.88      0.88     72450\n",
        "\n"
       ]
      }
     ],
     "prompt_number": 80
    },
    {
     "cell_type": "markdown",
     "metadata": {},
     "source": [
      "#Theanets"
     ]
    },
    {
     "cell_type": "markdown",
     "metadata": {},
     "source": [
      "https://github.com/lmjohns3/theanets"
     ]
    },
    {
     "cell_type": "code",
     "collapsed": false,
     "input": [
      "#!pip install theanets\n",
      "#!pip install skdata"
     ],
     "language": "python",
     "metadata": {},
     "outputs": [],
     "prompt_number": 127
    },
    {
     "cell_type": "code",
     "collapsed": false,
     "input": [
      "import matplotlib.pyplot as plt\n",
      "import theanets\n",
      "\n",
      "exp = theanets.Experiment(\n",
      "    theanets.Classifier,\n",
      "    layers=(X_train.shape[1], 300, 2))"
     ],
     "language": "python",
     "metadata": {},
     "outputs": [],
     "prompt_number": 128
    },
    {
     "cell_type": "code",
     "collapsed": false,
     "input": [
      "train = (X_train.astype(np.float32), y_train.astype(np.uint8))\n",
      "test = (X_test.astype(np.float32), y_test.astype(np.uint8))"
     ],
     "language": "python",
     "metadata": {},
     "outputs": [],
     "prompt_number": 129
    },
    {
     "cell_type": "code",
     "collapsed": false,
     "input": [
      "%%time\n",
      "n = 0\n",
      "for train, valid in exp.itertrain(train, optimize='nag', learning_rate=0.1, momentum=0.9):\n",
      "    print('training loss:', train['loss'])\n",
      "    print('most recent validation loss:', valid['loss'])\n",
      "    n = n+1\n",
      "    if n==10:\n",
      "        break"
     ],
     "language": "python",
     "metadata": {},
     "outputs": [
      {
       "output_type": "stream",
       "stream": "stdout",
       "text": [
        "('training loss:', 0.54812848643001988)\n",
        "('most recent validation loss:', 0.50281412697824457)\n",
        "('training loss:', 0.34088378992380081)"
       ]
      },
      {
       "output_type": "stream",
       "stream": "stdout",
       "text": [
        "\n",
        "('most recent validation loss:', 0.50281412697824457)\n",
        "('training loss:', 0.3136165643169066)"
       ]
      },
      {
       "output_type": "stream",
       "stream": "stdout",
       "text": [
        "\n",
        "('most recent validation loss:', 0.50281412697824457)\n",
        "('training loss:', 0.30479277457328524)"
       ]
      },
      {
       "output_type": "stream",
       "stream": "stdout",
       "text": [
        "\n",
        "('most recent validation loss:', 0.50281412697824457)\n",
        "('training loss:', 0.30066992321257641)"
       ]
      },
      {
       "output_type": "stream",
       "stream": "stdout",
       "text": [
        "\n",
        "('most recent validation loss:', 0.50281412697824457)\n",
        "('training loss:', 0.29951405946345128)"
       ]
      },
      {
       "output_type": "stream",
       "stream": "stdout",
       "text": [
        "\n",
        "('most recent validation loss:', 0.50281412697824457)\n",
        "('training loss:', 0.29805190071510484)"
       ]
      },
      {
       "output_type": "stream",
       "stream": "stdout",
       "text": [
        "\n",
        "('most recent validation loss:', 0.50281412697824457)\n",
        "('training loss:', 0.29693898125835827)"
       ]
      },
      {
       "output_type": "stream",
       "stream": "stdout",
       "text": [
        "\n",
        "('most recent validation loss:', 0.50281412697824457)\n",
        "('training loss:', 0.29623517074039857)"
       ]
      },
      {
       "output_type": "stream",
       "stream": "stdout",
       "text": [
        "\n",
        "('most recent validation loss:', 0.50281412697824457)\n",
        "('training loss:', 0.29512649912387756)"
       ]
      },
      {
       "output_type": "stream",
       "stream": "stdout",
       "text": [
        "\n",
        "('most recent validation loss:', 0.50281412697824457)\n",
        "CPU times: user 15.3 s, sys: 371 ms, total: 15.7 s\n",
        "Wall time: 15.7 s\n"
       ]
      }
     ],
     "prompt_number": 130
    },
    {
     "cell_type": "code",
     "collapsed": false,
     "input": [
      "predict_labels = exp.network.predict(X_test.astype(np.float32))"
     ],
     "language": "python",
     "metadata": {},
     "outputs": [],
     "prompt_number": 131
    },
    {
     "cell_type": "code",
     "collapsed": false,
     "input": [
      "y_pred = []\n",
      "for l in predict_labels:\n",
      "    y_pred.append(list(l).index(l.max()))\n",
      "y_pred = np.array(y_pred)\n",
      "y_pred"
     ],
     "language": "python",
     "metadata": {},
     "outputs": [
      {
       "metadata": {},
       "output_type": "pyout",
       "prompt_number": 132,
       "text": [
        "array([1, 1, 0, ..., 1, 1, 1])"
       ]
      }
     ],
     "prompt_number": 132
    },
    {
     "cell_type": "code",
     "collapsed": false,
     "input": [
      "from sklearn.metrics import classification_report\n",
      "from sklearn.metrics import zero_one_loss\n",
      "\n",
      "print \"Accuracy:\", zero_one_loss(y_test, y_pred)\n",
      "print \"Classification report:\"\n",
      "print classification_report(y_test, y_pred)"
     ],
     "language": "python",
     "metadata": {},
     "outputs": [
      {
       "output_type": "stream",
       "stream": "stdout",
       "text": [
        "Accuracy: 0.116369910283\n",
        "Classification report:\n",
        "             precision    recall  f1-score   support\n",
        "\n",
        "          0       0.69      0.33      0.44     10284\n",
        "          1       0.90      0.98      0.94     62166\n",
        "\n",
        "avg / total       0.87      0.88      0.87     72450\n",
        "\n"
       ]
      }
     ],
     "prompt_number": 133
    },
    {
     "cell_type": "markdown",
     "metadata": {},
     "source": [
      "#Gradietn Boosting Classifier"
     ]
    },
    {
     "cell_type": "code",
     "collapsed": false,
     "input": [
      "from rep.classifiers import SklearnClassifier\n",
      "from sklearn.ensemble import GradientBoostingClassifier\n",
      "# Using gradient boosting with default settings\n",
      "sk = SklearnClassifier(GradientBoostingClassifier(n_estimators=100))\n",
      "# Training classifier"
     ],
     "language": "python",
     "metadata": {},
     "outputs": [],
     "prompt_number": 134
    },
    {
     "cell_type": "code",
     "collapsed": false,
     "input": [
      "%%time\n",
      "sk.fit(X_train, y_train)\n",
      "print('training complete')"
     ],
     "language": "python",
     "metadata": {},
     "outputs": [
      {
       "output_type": "stream",
       "stream": "stdout",
       "text": [
        "training complete\n",
        "CPU times: user 22.2 s, sys: 84 ms, total: 22.2 s\n",
        "Wall time: 22.3 s\n"
       ]
      }
     ],
     "prompt_number": 135
    },
    {
     "cell_type": "code",
     "collapsed": false,
     "input": [
      "y_pred = sk.predict(X_test)\n",
      "print y_pred"
     ],
     "language": "python",
     "metadata": {},
     "outputs": [
      {
       "output_type": "stream",
       "stream": "stdout",
       "text": [
        "[1 1 0 ..., 1 1 1]\n"
       ]
      }
     ],
     "prompt_number": 136
    },
    {
     "cell_type": "code",
     "collapsed": false,
     "input": [
      "from sklearn.metrics import classification_report\n",
      "from sklearn.metrics import zero_one_loss\n",
      "\n",
      "print \"Accuracy:\", zero_one_loss(y_test, y_pred)\n",
      "print \"Classification report:\"\n",
      "print classification_report(y_test, y_pred)"
     ],
     "language": "python",
     "metadata": {},
     "outputs": [
      {
       "output_type": "stream",
       "stream": "stdout",
       "text": [
        "Accuracy: 0.0946583850932\n",
        "Classification report:\n",
        "             precision    recall  f1-score   support\n",
        "\n",
        "          0       0.76      0.49      0.59     10284\n",
        "          1       0.92      0.97      0.95     62166\n",
        "\n",
        "avg / total       0.90      0.91      0.90     72450\n",
        "\n"
       ]
      }
     ],
     "prompt_number": 137
    },
    {
     "cell_type": "code",
     "collapsed": false,
     "input": [],
     "language": "python",
     "metadata": {},
     "outputs": []
    },
    {
     "cell_type": "markdown",
     "metadata": {},
     "source": [
      "#Results"
     ]
    },
    {
     "cell_type": "code",
     "collapsed": false,
     "input": [
      "res = pd.read_csv('Battle results.csv')\n",
      "res"
     ],
     "language": "python",
     "metadata": {},
     "outputs": [
      {
       "html": [
        "<div style=\"max-height:1000px;max-width:1500px;overflow:auto;\">\n",
        "<table border=\"1\" class=\"dataframe\">\n",
        "  <thead>\n",
        "    <tr style=\"text-align: right;\">\n",
        "      <th></th>\n",
        "      <th>-</th>\n",
        "      <th>MNIST</th>\n",
        "      <th>MNIST.1</th>\n",
        "      <th>Toy</th>\n",
        "      <th>Toy.1</th>\n",
        "    </tr>\n",
        "  </thead>\n",
        "  <tbody>\n",
        "    <tr>\n",
        "      <th>0</th>\n",
        "      <td>        -</td>\n",
        "      <td> time, min</td>\n",
        "      <td> f1-score</td>\n",
        "      <td> time, min</td>\n",
        "      <td> f1-score</td>\n",
        "    </tr>\n",
        "    <tr>\n",
        "      <th>1</th>\n",
        "      <td>  Nolearn</td>\n",
        "      <td>       1.5</td>\n",
        "      <td>     0.98</td>\n",
        "      <td>      0.75</td>\n",
        "      <td>     0.89</td>\n",
        "    </tr>\n",
        "    <tr>\n",
        "      <th>2</th>\n",
        "      <td> Neurolab</td>\n",
        "      <td>        49</td>\n",
        "      <td>     0.02</td>\n",
        "      <td>         2</td>\n",
        "      <td>     0.79</td>\n",
        "    </tr>\n",
        "    <tr>\n",
        "      <th>3</th>\n",
        "      <td>  PyBrain</td>\n",
        "      <td>        43</td>\n",
        "      <td>     0.94</td>\n",
        "      <td>         7</td>\n",
        "      <td>     0.88</td>\n",
        "    </tr>\n",
        "    <tr>\n",
        "      <th>4</th>\n",
        "      <td> Theanets</td>\n",
        "      <td>         2</td>\n",
        "      <td>     0.89</td>\n",
        "      <td>      0.25</td>\n",
        "      <td>     0.87</td>\n",
        "    </tr>\n",
        "    <tr>\n",
        "      <th>5</th>\n",
        "      <td>      GBC</td>\n",
        "      <td>         -</td>\n",
        "      <td>        -</td>\n",
        "      <td>       0.3</td>\n",
        "      <td>      0.9</td>\n",
        "    </tr>\n",
        "  </tbody>\n",
        "</table>\n",
        "</div>"
       ],
       "metadata": {},
       "output_type": "pyout",
       "prompt_number": 138,
       "text": [
        "          -      MNIST   MNIST.1        Toy     Toy.1\n",
        "0         -  time, min  f1-score  time, min  f1-score\n",
        "1   Nolearn        1.5      0.98       0.75      0.89\n",
        "2  Neurolab         49      0.02          2      0.79\n",
        "3   PyBrain         43      0.94          7      0.88\n",
        "4  Theanets          2      0.89       0.25      0.87\n",
        "5       GBC          -         -        0.3       0.9"
       ]
      }
     ],
     "prompt_number": 138
    },
    {
     "cell_type": "code",
     "collapsed": false,
     "input": [],
     "language": "python",
     "metadata": {},
     "outputs": []
    },
    {
     "cell_type": "markdown",
     "metadata": {},
     "source": [
      "#Upload"
     ]
    },
    {
     "cell_type": "code",
     "collapsed": false,
     "input": [
      "import ipykee\n",
      "ipykee.create_project(project_name=\"Battle_of_ANNs\", repository=\"git@github.com:hushchyn-mikhail/CERN_Time_Series.git\")\n",
      "session = ipykee.Session(project_name=\"Battle_of_ANNs\")"
     ],
     "language": "python",
     "metadata": {},
     "outputs": [
      {
       "output_type": "stream",
       "stream": "stdout",
       "text": [
        "Project Battle_of_ANNs has been created\n",
        "Please don't forget to add this ssh key:\n",
        "ssh-rsa AAAAB3NzaC1yc2EAAAADAQABAAABAQCqQItxbrAsZgaRrho2ikH26/W41GbwLYdAAALP52T7gaK4nCfzOk/ZfOK9vcwBn7CuGcEUEb09IIGJ3VHdJ7oBqPdL8//zHTq9Znb6V2nX8WXeg9OoWSvqetog1IApXU35YSJdv66ej6wc2rGiUqRlFWOu0G8hr9DPDgADyy8ZzeE6cL4xekmXm4Bug+2AxJGGtN/Yh8Al6Q3TFhou2AnYvr12Tp/MyxlYRs6PnOaVrPN+fOQ2DveVHFGyMQGcbfYxYNW2/pD925K4wR8QbCtBGqRznnUTpjcAvfe15o/b0on8yGkqVgp4+FPyeDP5SooXC+f4oYvKiJFup9QPPcLR root@7ce40acb8efa\n"
       ]
      },
      {
       "output_type": "stream",
       "stream": "stdout",
       "text": [
        "\n",
        "This notebook has name Battle of ANNs\n",
        "Please, save your notebook before commit!\n"
       ]
      }
     ],
     "prompt_number": 139
    },
    {
     "cell_type": "code",
     "collapsed": false,
     "input": [
      "session.commit(\"Toy Dataset.\")"
     ],
     "language": "python",
     "metadata": {},
     "outputs": []
    }
   ],
   "metadata": {}
  }
 ]
}